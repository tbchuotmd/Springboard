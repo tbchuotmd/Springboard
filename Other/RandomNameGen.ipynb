{
 "cells": [
  {
   "cell_type": "code",
   "execution_count": 1,
   "id": "c9e329e9-314d-48bd-a359-abad6d53d915",
   "metadata": {},
   "outputs": [
    {
     "name": "stdout",
     "output_type": "stream",
     "text": [
      "Cahmid Lemcargid Hindes\n",
      "Goggilmab Cuccoc Sasled\n",
      "Sirrad Moldosnah Cernad\n",
      "Rollec Dorbohrah Gegmahleb\n",
      "Hadcibhum Hadbar Miscibgib\n"
     ]
    }
   ],
   "source": [
    "import random\n",
    "\n",
    "# Define character groups with weights\n",
    "vowels = [('a', 0.3), ('e', 0.3), ('i', 0.2), ('o', 0.1), ('u', 0.1)]\n",
    "consonants = [('b', 0.1), ('c', 0.1), ('d', 0.1), ('g', 0.1), ('h', 0.1),\n",
    "              ('l', 0.1), ('m', 0.1), ('n', 0.1), ('r', 0.1), ('s', 0.1)]\n",
    "\n",
    "# Helper function to pick a character based on weights\n",
    "def weighted_choice(options):\n",
    "    letters, weights = zip(*options)\n",
    "    return random.choices(letters, weights=weights, k=1)[0]\n",
    "\n",
    "# Generate a random name\n",
    "def generate_name(length=3, syllable_structure=\"CVC\"):\n",
    "    name = []\n",
    "    for _ in range(length):\n",
    "        for char in syllable_structure:\n",
    "            if char == 'C':\n",
    "                name.append(weighted_choice(consonants))\n",
    "            elif char == 'V':\n",
    "                name.append(weighted_choice(vowels))\n",
    "    return ''.join(name).capitalize()\n",
    "\n",
    "# Generate first, middle, and last names\n",
    "def generate_full_name():\n",
    "    first_name = generate_name(length=random.randint(2, 3))\n",
    "    middle_name = generate_name(length=random.randint(2, 3))\n",
    "    last_name = generate_name(length=random.randint(2, 4))\n",
    "    return f\"{first_name} {middle_name} {last_name}\"\n",
    "\n",
    "# Generate examples\n",
    "for _ in range(5):\n",
    "    print(generate_full_name())\n"
   ]
  },
  {
   "cell_type": "code",
   "execution_count": 2,
   "id": "a6c02391-4698-490f-a710-b00f65e9c56f",
   "metadata": {},
   "outputs": [
    {
     "data": {
      "text/plain": [
       "'Bebmelseb Noggim Sihgecliblod'"
      ]
     },
     "execution_count": 2,
     "metadata": {},
     "output_type": "execute_result"
    }
   ],
   "source": [
    "generate_full_name()"
   ]
  },
  {
   "cell_type": "code",
   "execution_count": 7,
   "id": "06a3d90f-fa29-45d9-bc91-529f80e58664",
   "metadata": {},
   "outputs": [],
   "source": [
    "import random\n",
    "\n",
    "# Define character groups with initial weights\n",
    "vowel_weights = {'a': 0.3, 'e': 0.3, 'i': 0.2, 'o': 0.1, 'u': 0.1}\n",
    "consonant_weights = {'b': 0.1, 'c': 0.1, 'd': 0.1, 'g': 0.1, 'h': 0.1,\n",
    "                     'l': 0.1, 'm': 0.1, 'n': 0.1, 'r': 0.1, 's': 0.1}\n",
    "\n",
    "# Helper function to pick a character based on weights\n",
    "def weighted_choice(weights):\n",
    "    letters, probabilities = zip(*weights.items())\n",
    "    return random.choices(letters, weights=probabilities, k=1)[0]\n",
    "\n",
    "# Generate a random name\n",
    "def generate_name(length=3, syllable_structure=\"CVC\"):\n",
    "    name = []\n",
    "    for _ in range(length):\n",
    "        for char in syllable_structure:\n",
    "            if char == 'C':\n",
    "                name.append(weighted_choice(consonant_weights))\n",
    "            elif char == 'V':\n",
    "                name.append(weighted_choice(vowel_weights))\n",
    "    return ''.join(name).capitalize()\n",
    "\n",
    "# Adjust weights based on feedback\n",
    "def adjust_weights(name, rating, is_vowel=True):\n",
    "    weights = vowel_weights if is_vowel else consonant_weights\n",
    "    for char in name.lower():\n",
    "        if char in weights:\n",
    "            # Adjust weight: higher rating increases weight, lower rating decreases it\n",
    "            weights[char] += 0.01 * rating\n",
    "    normalize_weights(weights)\n",
    "\n",
    "# Normalize weights to ensure they sum to 1\n",
    "def normalize_weights(weights):\n",
    "    total = sum(weights.values())\n",
    "    for key in weights:\n",
    "        weights[key] /= total\n",
    "\n",
    "# Rate names and adjust weights\n",
    "def rate_and_adjust(names, ratings):\n",
    "    for name, rating in zip(names, ratings):\n",
    "        for char in name.lower():\n",
    "            if char in vowel_weights:\n",
    "                adjust_weights(char, rating, is_vowel=True)\n",
    "            elif char in consonant_weights:\n",
    "                adjust_weights(char, rating, is_vowel=False)\n",
    "\n",
    "# Generate and rate names\n",
    "def interactive_name_rating():\n",
    "    names = [generate_name() for _ in range(3)]\n",
    "    print(\"Generated Names:\")\n",
    "    for i, name in enumerate(names):\n",
    "        print(f\"{i + 1}. {name}\")\n",
    "    print(\"\\nRate the names from most realistic (1) to least realistic (3):\")\n",
    "    ratings = [int(input(f\"Rating for {name}: \")) for name in names]\n",
    "    rate_and_adjust(names, [4 - r for r in ratings])  # Convert 1-3 to 3-1\n",
    "    print(\"\\nWeights updated! Generating new names...\\n\")\n"
   ]
  },
  {
   "cell_type": "raw",
   "id": "351068cb-6e02-4a72-8527-578333cddb05",
   "metadata": {},
   "source": []
  },
  {
   "cell_type": "code",
   "execution_count": 26,
   "id": "bcd46ef4-62f4-4e96-b27c-d3a1c5e54abe",
   "metadata": {},
   "outputs": [
    {
     "data": {
      "text/plain": [
       "['Hah',\n",
       " 'Heblecledger',\n",
       " 'Hecsasgecmib',\n",
       " 'Lel',\n",
       " 'Sahcas',\n",
       " 'Nic',\n",
       " 'Cim',\n",
       " 'Henmisnedmeh',\n",
       " 'Conmum',\n",
       " 'Gedheddagbis',\n",
       " 'Ras',\n",
       " 'Leb',\n",
       " 'Senreclegnum',\n",
       " 'Hercigdus',\n",
       " 'Sibmigdin',\n",
       " 'Luchel',\n",
       " 'Heb',\n",
       " 'Rirbalcarhes',\n",
       " 'Sahheb',\n",
       " 'Hadgalmelnis']"
      ]
     },
     "execution_count": 26,
     "metadata": {},
     "output_type": "execute_result"
    }
   ],
   "source": [
    "[ generate_name(random.randint(1,4)) for n in range(20) ]"
   ]
  },
  {
   "cell_type": "code",
   "execution_count": null,
   "id": "ab6b3415-60aa-471d-a0fe-82baddb4c8c4",
   "metadata": {},
   "outputs": [],
   "source": []
  }
 ],
 "metadata": {
  "kernelspec": {
   "display_name": "Python 3 (ipykernel)",
   "language": "python",
   "name": "python3"
  },
  "language_info": {
   "codemirror_mode": {
    "name": "ipython",
    "version": 3
   },
   "file_extension": ".py",
   "mimetype": "text/x-python",
   "name": "python",
   "nbconvert_exporter": "python",
   "pygments_lexer": "ipython3",
   "version": "3.12.7"
  }
 },
 "nbformat": 4,
 "nbformat_minor": 5
}
