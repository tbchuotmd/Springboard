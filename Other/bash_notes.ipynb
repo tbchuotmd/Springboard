{
 "cells": [
  {
   "cell_type": "markdown",
   "id": "ad779f8b-f236-415c-adad-85f2a498035b",
   "metadata": {},
   "source": [
    "# BASH (Bourne Again SHell) Scripting"
   ]
  },
  {
   "cell_type": "markdown",
   "id": "b25daf2e-d3d5-4a6b-af3f-1e1bc551ee3a",
   "metadata": {},
   "source": [
    "## Dealing with Paths\n",
    "\n",
    "When trying to install Anki, I thought it would be nice to look at their source code and maybe learn how the \"professionals\" do it.  In order to install Anki on Linux, you must download their package, named in the format ```anki-2XXX-linux-qt6.tar.zst``` and extract it.  The extension ```.tar.zst``` contains ```.tar```, and sure enough is extracted with the ```tar``` command in the terminal.  That said, the ```.zst``` apparently means you need a dependecy called ```zstd``` installed as well.  The ```zstd``` refers to the [Zstandard](https://en.wikipedia.org/wiki/Zstd) compression algorithm, developed by Yann Collet at Facebook.\n",
    "\n",
    "Anyways, after running \n",
    "\n",
    "```bash\n",
    "tar -xaf Downloads/anki-2XXX-linux-qt6.tar.zst\n",
    "```\n",
    "\n",
    "you should get a corresponding directory by the same name: ```Downloads/anki-2XXX-linux-qt6/```\n",
    "\n",
    "```\n",
    "├── anki\n",
    "├── anki.1\n",
    "├── anki.desktop\n",
    "├── anki.png\n",
    "├── anki.xml\n",
    "├── anki.xpm\n",
    "├── install.sh\n",
    "├── lib\n",
    "│   ├── anki\n",
    "│   │   └── _rsbridge.so\n",
    "│   ├── _aqt\n",
    "│   │   └── data\n",
    "│   │       └── qt\n",
    "│   │           ├── icons  [60 entries exceeds filelimit, not opening dir]\n",
    "│   │           └── icons.qrc\n",
    "│   ├── certifi\n",
    "│   │   └── cacert.pem\n",
    "│   ├── charset_normalizer\n",
    "│   │   ├── md.cpython-39-x86_64-linux-gnu.so\n",
    "│   │   └── md__mypyc.cpython-39-x86_64-linux-gnu.so\n",
    "│   ├── google\n",
    "│   │   ├── protobuf  [34 entries exceeds filelimit, not opening dir]\n",
    "│   │   └── _upb\n",
    "│   │       └── _message.abi3.so\n",
    "│   ├── markupsafe\n",
    "│   │   └── _speedups.cpython-39-x86_64-linux-gnu.so\n",
    "│   ├── orjson\n",
    "│   │   └── orjson.cpython-39-x86_64-linux-gnu.so\n",
    "│   ├── pvectorc.cpython-39-x86_64-linux-gnu.so\n",
    "│   ├── PyQt6  [39 entries exceeds filelimit, not opening dir]\n",
    "│   └── wrapt\n",
    "│       └── _wrappers.cpython-39-x86_64-linux-gnu.so\n",
    "├── README.md\n",
    "└── uninstall.sh\n",
    "```"
   ]
  },
  {
   "cell_type": "markdown",
   "id": "a827d7b1-adee-4af9-8c4f-367c7611bc8a",
   "metadata": {},
   "source": [
    "### A deeper look at ```install.sh```\n",
    "\n",
    "At the beginning of the install script is a piece of code that I, as of March 4th, 2025, had not known but could have been useful to me:\n",
    "\n",
    "```bash\n",
    "if [ \"$(dirname \"$(realpath \"$0\")\")\" != \"$(realpath \"$PWD\")\" ]; then\n",
    "  echo \"Please run from the folder install.sh is in.\"\n",
    "  exit 1\n",
    "fi\n",
    "```\n",
    "\n"
   ]
  },
  {
   "cell_type": "markdown",
   "id": "4cf93aed-832f-449f-b92f-6ed193e6da0c",
   "metadata": {
    "jp-MarkdownHeadingCollapsed": true
   },
   "source": [
    "#### The ```dirname``` command\n",
    "The ```dirname``` command seems to give you the path to the directory containing the variable you pass to it, so long as the variable refers to an existing path (file, directory). \n",
    "\n",
    "If the arguments don't refer to something that exists in the file system, then they simply exist as a variable in the environment of the terminal, and the command essentially just returns the current directory that the terminal is working in: ```.```"
   ]
  },
  {
   "cell_type": "code",
   "execution_count": 20,
   "id": "31ef802e-b52a-41a4-96dc-ecb3c66491fd",
   "metadata": {},
   "outputs": [
    {
     "name": "stdout",
     "output_type": "stream",
     "text": [
      ".\n",
      ".\n",
      ".\n",
      ".\n",
      ".\n"
     ]
    }
   ],
   "source": [
    "word='cake'\n",
    "dirname $word\n",
    "\n",
    "character='x'\n",
    "dirname $character\n",
    "\n",
    "integer=125\n",
    "dirname $integer\n",
    "\n",
    "decimal=0.45\n",
    "dirname $decimal\n",
    "\n",
    "fake_name='no_spaces'\n",
    "dirname $fake_name"
   ]
  },
  {
   "cell_type": "markdown",
   "id": "a9884c8c-9af1-4ddd-a63c-827f9835c8a8",
   "metadata": {},
   "source": [
    "If the variable contains spaces, then it treats it as separate arguments:"
   ]
  },
  {
   "cell_type": "code",
   "execution_count": 19,
   "id": "9f0e46d1-7035-400c-9e0e-cda6c53b869a",
   "metadata": {},
   "outputs": [
    {
     "name": "stdout",
     "output_type": "stream",
     "text": [
      ".\n",
      ".\n",
      ".\n",
      ".\n",
      ".\n",
      ".\n"
     ]
    }
   ],
   "source": [
    "sentence='this is a sentence with spaces'\n",
    "dirname $sentence"
   ]
  },
  {
   "cell_type": "markdown",
   "id": "504c7df1-9d72-48a0-943b-d948aeeec11e",
   "metadata": {},
   "source": [
    "Hence, we get a dot for each \"word\" (6 total) in ```sentence``` as none of them actually refer to anything in the file system.\n",
    "\n",
    "Meanwhile, if you pass in a string that refers to an actual path in the file system:"
   ]
  },
  {
   "cell_type": "code",
   "execution_count": 21,
   "id": "a16d5e3d-b5f2-43fb-a3b3-f2b293b39e6f",
   "metadata": {},
   "outputs": [
    {
     "name": "stdout",
     "output_type": "stream",
     "text": [
      "~/Downloads\n"
     ]
    }
   ],
   "source": [
    "anki_path='~/Downloads/anki*'\n",
    "dirname $anki_path"
   ]
  },
  {
   "cell_type": "code",
   "execution_count": 28,
   "id": "e728bced-c64d-447e-adff-139139043457",
   "metadata": {},
   "outputs": [
    {
     "name": "stdout",
     "output_type": "stream",
     "text": [
      "~/Downloads\n",
      "~/Downloads\n"
     ]
    }
   ],
   "source": [
    "two_paths='~/Downloads/anki-24.06.3-linux-qt6 ~/Downloads/anki-25.02-linux-qt6'\n",
    "dirname $two_paths"
   ]
  },
  {
   "cell_type": "code",
   "execution_count": 29,
   "id": "5ba479f0-aa5f-44bf-a837-86e69f94feca",
   "metadata": {},
   "outputs": [
    {
     "name": "stdout",
     "output_type": "stream",
     "text": [
      "dirname: missing operand\n",
      "Try 'dirname --help' for more information.\n"
     ]
    },
    {
     "ename": "",
     "evalue": "1",
     "output_type": "error",
     "traceback": []
    }
   ],
   "source": [
    "dirname $1"
   ]
  },
  {
   "cell_type": "code",
   "execution_count": 30,
   "id": "ad7cb16d-9675-407b-9d17-90129963c4fd",
   "metadata": {},
   "outputs": [
    {
     "name": "stdout",
     "output_type": "stream",
     "text": [
      "/usr/bin\n"
     ]
    }
   ],
   "source": [
    "dirname $0"
   ]
  },
  {
   "cell_type": "markdown",
   "id": "fac5caa9-fec4-49c7-a1f6-a2564056d016",
   "metadata": {},
   "source": [
    "#### How it is used in the script\n",
    "\n",
    "Of course, returning '.' to indicate the pwd is just a relative path and doesn't really tell you where it is without requiring more work.\n",
    "\n",
    "The ```realpath``` gives you the absolute path to whatever variable you pass it to.  The special variable ```$0``` refers to the current command/script being run."
   ]
  },
  {
   "cell_type": "code",
   "execution_count": 34,
   "id": "97e428cc-638c-4974-9fc8-4c6cd5c74116",
   "metadata": {},
   "outputs": [
    {
     "name": "stdout",
     "output_type": "stream",
     "text": [
      "/usr/bin/bash\n"
     ]
    }
   ],
   "source": [
    "realpath $0"
   ]
  },
  {
   "cell_type": "markdown",
   "id": "50ef959e-693b-4b10-975b-d733ba232a46",
   "metadata": {},
   "source": [
    "because the current kernel for this notebook is ```bash```, which is located at ```/usr/bin/bash``` on many UNIX-based systems."
   ]
  },
  {
   "cell_type": "markdown",
   "id": "c63dc768-f92d-4d9e-b617-d1f0584c858c",
   "metadata": {},
   "source": [
    "Thus, if you place ```realpath $0``` inside any script, it will return the absolute path to that script, no matter where you move the script to.  Then, ```dirname``` comes in to simply take it up one level, to the directory in which the script is located.  In the ```install.sh``` script for Anki, they wrote this so that the main part (the actual installation steps) don't happen unless the script is run from the current directory.  For example, you can't be in the home directory and run ```~/Downloads/anki-24.06.3-linux-qt6/install.sh``` from the terminal; you have to ```cd ~/Downloads/anki-24.06.3-linux-qt6/``` and then run ```./install.sh```"
   ]
  },
  {
   "cell_type": "markdown",
   "id": "7918ac3b-03c7-43ef-b43a-b37da7d897af",
   "metadata": {},
   "source": [
    "#### How I can use this in the future\n",
    "\n",
    "This caught my attention, because there were many times writing bash scripts in which I had to simply hope that I remember not to move the script around, as I had used relative paths for convenience.  But what if I could get the absolute path of something even if it is moved?\n",
    "\n",
    "For example, if I had a program within a directory called ```MainDir```:\n",
    "```bash\n",
    "MainDir/\n",
    "├── main.sh\n",
    "└── scripts\n",
    "    ├── script_1.sh\n",
    "    ├── script_2.sh\n",
    "    └── script_3.sh\n",
    "\n",
    "2 directories, 4 files\n",
    "```\n"
   ]
  },
  {
   "cell_type": "code",
   "execution_count": null,
   "id": "ebb0ce05-d4b3-4935-99d7-c6b9b783cb7f",
   "metadata": {},
   "outputs": [],
   "source": []
  }
 ],
 "metadata": {
  "kernelspec": {
   "display_name": "Bash",
   "language": "bash",
   "name": "bash"
  },
  "language_info": {
   "codemirror_mode": "shell",
   "file_extension": ".sh",
   "mimetype": "text/x-sh",
   "name": "bash"
  }
 },
 "nbformat": 4,
 "nbformat_minor": 5
}
