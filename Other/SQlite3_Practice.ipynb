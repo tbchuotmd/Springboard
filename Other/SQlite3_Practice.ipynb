{
 "cells": [
  {
   "cell_type": "code",
   "execution_count": 1,
   "id": "a73527e6-91ec-494f-8e5c-8c1c3f97f04d",
   "metadata": {},
   "outputs": [],
   "source": [
    "import sqlite3"
   ]
  },
  {
   "cell_type": "code",
   "execution_count": 2,
   "id": "a2368b05-e569-4971-b54b-18425fee6317",
   "metadata": {},
   "outputs": [],
   "source": [
    "cnct = sqlite3.connect('sample_SQL_database.db')"
   ]
  },
  {
   "cell_type": "code",
   "execution_count": 3,
   "id": "56eb702b-3ded-4113-b028-665a5b1af654",
   "metadata": {},
   "outputs": [],
   "source": [
    "cursor = cnct.cursor()"
   ]
  },
  {
   "cell_type": "code",
   "execution_count": 4,
   "id": "3d2ee941-83c8-4bee-bf71-09fcac53459c",
   "metadata": {},
   "outputs": [
    {
     "data": {
      "text/plain": [
       "sqlite3.Connection"
      ]
     },
     "execution_count": 4,
     "metadata": {},
     "output_type": "execute_result"
    }
   ],
   "source": [
    "type(cnct)"
   ]
  },
  {
   "cell_type": "code",
   "execution_count": 5,
   "id": "06210322-2659-4799-9472-392212231ff5",
   "metadata": {},
   "outputs": [
    {
     "data": {
      "text/plain": [
       "sqlite3.Cursor"
      ]
     },
     "execution_count": 5,
     "metadata": {},
     "output_type": "execute_result"
    }
   ],
   "source": [
    "type(cursor)"
   ]
  },
  {
   "cell_type": "code",
   "execution_count": 6,
   "id": "4f8320ec-c91a-4006-beb1-03f1c8a16185",
   "metadata": {},
   "outputs": [],
   "source": [
    "table = \"\"\" CREATE TABLE INPATIENT (\n",
    "            Patient_FirstName CHAR(25) NOT NULL,\n",
    "            Patient_MI CHAR(25),\n",
    "            Patient_LastName CHAR(25) NOT NULL,\n",
    "            Patient_DOB CHAR(25) NOT NULL,\n",
    "            Admission_Date CHAR(25)\n",
    "        ); \"\"\"\n",
    " "
   ]
  },
  {
   "cell_type": "code",
   "execution_count": 7,
   "id": "98cd7c0d-14e8-48df-8d01-5f7ddb2d41a6",
   "metadata": {},
   "outputs": [
    {
     "ename": "OperationalError",
     "evalue": "table INPATIENT already exists",
     "output_type": "error",
     "traceback": [
      "\u001b[0;31m---------------------------------------------------------------------------\u001b[0m",
      "\u001b[0;31mOperationalError\u001b[0m                          Traceback (most recent call last)",
      "Cell \u001b[0;32mIn[7], line 1\u001b[0m\n\u001b[0;32m----> 1\u001b[0m cursor\u001b[38;5;241m.\u001b[39mexecute(table)\n",
      "\u001b[0;31mOperationalError\u001b[0m: table INPATIENT already exists"
     ]
    }
   ],
   "source": [
    "cursor.execute(table)"
   ]
  },
  {
   "cell_type": "code",
   "execution_count": null,
   "id": "39c73797-7524-4ba3-83c8-c26388c9f46a",
   "metadata": {},
   "outputs": [],
   "source": [
    "def query(text):\n",
    "    data = cursor.execute(text)\n",
    "    for row in data:\n",
    "        print(row)\n",
    "    return data"
   ]
  },
  {
   "cell_type": "code",
   "execution_count": null,
   "id": "cc7f2247-ccb7-4e91-ace1-429142cd9003",
   "metadata": {},
   "outputs": [],
   "source": [
    "insert_data = \"\"\" INSERT INTO inpatient (Patient_FirstName, Patient_LastName, Patient_DOB) VALUES ('John','Doe','01/21/1984'); \"\"\""
   ]
  },
  {
   "cell_type": "code",
   "execution_count": null,
   "id": "e738f292-877f-4bd5-8a00-bb1c3a020346",
   "metadata": {},
   "outputs": [],
   "source": [
    "query(insert_data)"
   ]
  },
  {
   "cell_type": "code",
   "execution_count": null,
   "id": "ba95a818-5693-4b00-b564-bb8f1cb4e0f1",
   "metadata": {},
   "outputs": [],
   "source": [
    "query(\"\"\"SELECT * FROM inpatient;\"\"\")"
   ]
  },
  {
   "cell_type": "code",
   "execution_count": null,
   "id": "65cbcf9a-c95a-4193-a538-2b48819530d5",
   "metadata": {},
   "outputs": [],
   "source": [
    "def insert_entry(tblname, fname, lname, DOB, **kwargs):\n",
    "    mi = kwargs.get('mi', None)\n",
    "    doa = kwargs.get('doa', None)\n",
    "    text= f\"INSERT INTO {tblname} (Patient_FirstName, Patient_LastName, Patient_DOB) VALUES ('{fname}','{lname}','{DOB}');\"\n",
    "    cursor.execute(text)\n",
    "    "
   ]
  },
  {
   "cell_type": "code",
   "execution_count": null,
   "id": "32a8ecd9-c676-479b-8929-5254f7b25ce4",
   "metadata": {},
   "outputs": [],
   "source": [
    "from random import choice, randint\n",
    "from datetime import date"
   ]
  },
  {
   "cell_type": "code",
   "execution_count": null,
   "id": "71715813-1326-4ca9-8af2-57a7bd57d005",
   "metadata": {},
   "outputs": [],
   "source": [
    "def randDOB():\n",
    "    y = randint(1900,2024)\n",
    "    m = randint(1,12)\n",
    "    if m == 2:\n",
    "        d = randint(1,28)\n",
    "    elif m in [1,3,5,7,9,10,12]:\n",
    "        d = randint(1,31)\n",
    "    else:\n",
    "        d = randint(1,30)\n",
    "    return f\"{m:02d}/{d:02d}/{y}\"\n"
   ]
  },
  {
   "cell_type": "code",
   "execution_count": null,
   "id": "aa730071-12e1-416e-b47f-437a4668f0b4",
   "metadata": {},
   "outputs": [],
   "source": [
    "first_names = [\"James\", \"Mary\", \"John\", \"Patricia\", \"Robert\", \"Jennifer\", \"Michael\", \"Linda\", \"William\", \"Elizabeth\"]\n",
    "last_names = [\"Smith\", \"Johnson\", \"Williams\", \"Jones\", \"Brown\", \"Davis\", \"Miller\", \"Wilson\", \"Moore\", \"Taylor\"]\n",
    "\n",
    "def randfn():\n",
    "    return choice(first_names)\n",
    "    \n",
    "def randln():\n",
    "    return choice(last_names)\n",
    "\n",
    "def randentry():\n",
    "    return (randfn(),randln(),randDOB())"
   ]
  },
  {
   "cell_type": "code",
   "execution_count": null,
   "id": "3b945f50-f8d6-49bf-b8f1-a2375ee85dd2",
   "metadata": {},
   "outputs": [],
   "source": [
    "randentry()"
   ]
  },
  {
   "cell_type": "code",
   "execution_count": null,
   "id": "e4bf3086-c5b3-408d-aed3-7ec2ba6bd12f",
   "metadata": {},
   "outputs": [],
   "source": [
    "def randinsert(tblname):\n",
    "    f,l,d = randentry()\n",
    "    insert_entry(tblname, f, l, d)\n",
    "    print(f\"Inserted {f},{l},{d} into {tblname}\")\n",
    "    # print(f\"INSERT INTO {tblname}(Patient_FirstName, Patient_LastName, Patient_DOB) VALUES ('{f}','{l}','{d}');\"\"\")"
   ]
  },
  {
   "cell_type": "code",
   "execution_count": null,
   "id": "f4c05c08-9d3c-43d4-acd3-2229bf338a4f",
   "metadata": {},
   "outputs": [],
   "source": [
    "randinsert('inpatient')"
   ]
  },
  {
   "cell_type": "code",
   "execution_count": null,
   "id": "83a65726-0693-4aa3-8fd4-2112e4253f09",
   "metadata": {},
   "outputs": [],
   "source": [
    "query(\"SELECT * FROM inpatient\")"
   ]
  },
  {
   "cell_type": "code",
   "execution_count": null,
   "id": "acc4337e-2368-48b6-8dc1-a8d31e539e09",
   "metadata": {},
   "outputs": [],
   "source": [
    "import pandas as pd"
   ]
  },
  {
   "cell_type": "code",
   "execution_count": null,
   "id": "fa1216d5-24d8-4f18-b8e8-d643ae11fd07",
   "metadata": {},
   "outputs": [],
   "source": [
    "data = query(\"SELECT * FROM inpatient\")"
   ]
  },
  {
   "cell_type": "code",
   "execution_count": null,
   "id": "e5298479-6504-4353-be6a-6ccd57591310",
   "metadata": {},
   "outputs": [],
   "source": [
    "pd.read_sql_query(\"SELECT * FROM inpatient\", cnct)"
   ]
  },
  {
   "cell_type": "code",
   "execution_count": null,
   "id": "9ae5aa31-962d-4267-8c18-1e15f201efe4",
   "metadata": {},
   "outputs": [],
   "source": [
    "def querypd(cnx = cnct):\n",
    "    text = input(\"Enter SQL Code: \")\n",
    "    return pd.read_sql_query(text, cnx)"
   ]
  },
  {
   "cell_type": "code",
   "execution_count": null,
   "id": "0d3761f7-eddf-4f6e-b101-809a4e1d356e",
   "metadata": {},
   "outputs": [],
   "source": [
    "querypd()"
   ]
  },
  {
   "cell_type": "code",
   "execution_count": null,
   "id": "b4c657ed-ef0e-48fb-a283-9236a20a35f7",
   "metadata": {},
   "outputs": [],
   "source": [
    "querypd()"
   ]
  },
  {
   "cell_type": "code",
   "execution_count": null,
   "id": "643e452b-4c60-4489-8d87-52c6ff59290c",
   "metadata": {},
   "outputs": [],
   "source": [
    "for i in range(100):\n",
    "    randinsert('inpatient')"
   ]
  },
  {
   "cell_type": "code",
   "execution_count": null,
   "id": "ea2521fd-c646-4276-aca8-9ba2e46af642",
   "metadata": {},
   "outputs": [],
   "source": [
    "querypd()"
   ]
  },
  {
   "cell_type": "code",
   "execution_count": null,
   "id": "d6e48945-5441-4d6f-9969-e23d136ea2c7",
   "metadata": {},
   "outputs": [],
   "source": [
    "df = querypd()"
   ]
  },
  {
   "cell_type": "code",
   "execution_count": null,
   "id": "ef919776-c1bf-4727-a3fb-b587007e6262",
   "metadata": {},
   "outputs": [],
   "source": [
    "df['Patient_DOB'] = pd.to_datetime(df['Patient_DOB'])\n",
    "print(df)"
   ]
  },
  {
   "cell_type": "code",
   "execution_count": null,
   "id": "3ef8f3f5-8815-48a1-8195-af143f75a79d",
   "metadata": {},
   "outputs": [],
   "source": [
    "df.to_sql('patients',cnct,if_exists='replace',index=False)"
   ]
  },
  {
   "cell_type": "code",
   "execution_count": null,
   "id": "0c80c492-494a-4fb7-891e-3ec21cc1f931",
   "metadata": {},
   "outputs": [],
   "source": [
    "querypd()"
   ]
  },
  {
   "cell_type": "code",
   "execution_count": null,
   "id": "251e4b99-7918-4805-b3c0-3138556fbc53",
   "metadata": {},
   "outputs": [],
   "source": [
    "import string as s"
   ]
  },
  {
   "cell_type": "code",
   "execution_count": null,
   "id": "6814ab37-17b2-47f2-9ef9-588048e526a7",
   "metadata": {},
   "outputs": [],
   "source": [
    "apbt = s.ascii_uppercase"
   ]
  },
  {
   "cell_type": "code",
   "execution_count": null,
   "id": "b9e65189-a6f4-4b86-849f-643c273e599f",
   "metadata": {},
   "outputs": [],
   "source": [
    "def randname():\n",
    "    m=choice(apbt)\n",
    "    f,l,d=randentry()\n",
    "    return f\"{f} {m}. {l}, {d}\"\n",
    "    "
   ]
  },
  {
   "cell_type": "code",
   "execution_count": null,
   "id": "9f33a558-1539-46e0-ac8a-63e03d5974ac",
   "metadata": {},
   "outputs": [],
   "source": [
    "randname()"
   ]
  },
  {
   "cell_type": "code",
   "execution_count": null,
   "id": "62a13de3-9627-4844-9255-ca1a352d5804",
   "metadata": {},
   "outputs": [],
   "source": [
    "randname()"
   ]
  },
  {
   "cell_type": "code",
   "execution_count": null,
   "id": "eabc6cb5-4430-4554-b1bf-6499469be052",
   "metadata": {},
   "outputs": [],
   "source": [
    "def rnom():\n",
    "    allc = [ c for c in s.ascii_lowercase ]\n",
    "    vwls = ['a','e','i','o','u']\n",
    "    cons = [ c for c in allc if c not in vwls ]\n",
    "    n = randint(3,8)\n",
    "\n",
    "    \n",
    "    "
   ]
  },
  {
   "cell_type": "code",
   "execution_count": null,
   "id": "d73c6092-4a0b-4493-aa73-114a53f36138",
   "metadata": {},
   "outputs": [],
   "source": [
    "import random\n",
    "\n",
    "def gename():\n",
    "    # Define the character sets\n",
    "    vowels = \"aeiou\"\n",
    "    consonants = \"bcdfghjklmnpqrstvwxyz\"\n",
    "    \n",
    "    # Define typical name length distribution (based on human names)\n",
    "    name_length_distribution = [3, 4, 5, 6, 7, 8]  # Typical lengths\n",
    "    name_length_weights = [0.1, 0.2, 0.3, 0.25, 0.1, 0.05]  # Probabilities\n",
    "\n",
    "    # Choose a random name length based on the distribution\n",
    "    name_length = random.choices(name_length_distribution, weights=name_length_weights, k=1)[0]\n",
    "    \n",
    "    # Generate the name with alternating consonants and vowels\n",
    "    name = []\n",
    "    use_vowel = random.choice([True, False])  # Randomly decide if name starts with a vowel\n",
    "    for _ in range(name_length):\n",
    "        if use_vowel:\n",
    "            name.append(random.choice(vowels))\n",
    "        else:\n",
    "            name.append(random.choice(consonants))\n",
    "        use_vowel = not use_vowel  # Alternate between vowels and consonants\n",
    "    \n",
    "    # Capitalize the first letter to make it look like a name\n",
    "    return \"\".join(name).capitalize()\n",
    "\n",
    "# Generate and print some example names\n",
    "gename()\n",
    "\n",
    "\n"
   ]
  },
  {
   "cell_type": "code",
   "execution_count": null,
   "id": "8ad654e1-9fea-469c-a7b8-3d980e52f3d2",
   "metadata": {},
   "outputs": [],
   "source": [
    "def gfn():\n",
    "    return f\"{gename()} {choice(s.ascii_uppercase)}. {gename()}\""
   ]
  },
  {
   "cell_type": "code",
   "execution_count": null,
   "id": "2c8a3496-c745-4543-ade0-a395d819d3e2",
   "metadata": {},
   "outputs": [],
   "source": [
    "gfn()"
   ]
  },
  {
   "cell_type": "code",
   "execution_count": null,
   "id": "681c4ffa-4187-4001-b855-4dea1d43e4bd",
   "metadata": {},
   "outputs": [],
   "source": [
    "gfn()"
   ]
  },
  {
   "cell_type": "code",
   "execution_count": null,
   "id": "655aada6-4182-422b-9d50-4819fac8e4c9",
   "metadata": {},
   "outputs": [],
   "source": [
    "gfn()"
   ]
  },
  {
   "cell_type": "code",
   "execution_count": null,
   "id": "755c99bd-978c-414f-bc15-6943942911aa",
   "metadata": {},
   "outputs": [],
   "source": [
    "for i in range(100):\n",
    "    print(gfn())"
   ]
  },
  {
   "cell_type": "code",
   "execution_count": 8,
   "id": "8725decc-3be3-4b25-86af-e00129209045",
   "metadata": {},
   "outputs": [
    {
     "name": "stdout",
     "output_type": "stream",
     "text": [
      "Rate names by entering 1 for the first name or 2 for the second name.\n",
      "Type 'exit' to quit.\n",
      "1: Atiqan   2: Atiqac\n"
     ]
    },
    {
     "name": "stdin",
     "output_type": "stream",
     "text": [
      "Which name do you prefer? (1/2):  1\n"
     ]
    },
    {
     "name": "stdout",
     "output_type": "stream",
     "text": [
      "Updated vowel weights: [0.35, 0.3, 0.2, 0.1, 0.05]\n",
      "Updated consonant weights: [0.025974025974025972, 0.03896103896103896, 0.051948051948051945, 0.025974025974025972, 0.03896103896103896, 0.07792207792207792, 0.012987012987012986, 0.025974025974025972, 0.09090909090909091, 0.06493506493506494, 0.11688311688311688, 0.03896103896103896, 0.012987012987012986, 0.09090909090909091, 0.07792207792207792, 0.10389610389610389, 0.025974025974025972, 0.025974025974025972, 0.012987012987012986, 0.025974025974025972, 0.012987012987012986]\n",
      "1: Newihe   2: Nenihe\n"
     ]
    },
    {
     "name": "stdin",
     "output_type": "stream",
     "text": [
      "Which name do you prefer? (1/2):  2\n"
     ]
    },
    {
     "name": "stdout",
     "output_type": "stream",
     "text": [
      "Updated vowel weights: [0.35, 0.3, 0.2, 0.1, 0.05]\n",
      "Updated consonant weights: [0.025716857400025713, 0.038575286100038575, 0.051433714800051426, 0.025716857400025713, 0.038575286100038575, 0.07715057220007715, 0.012858428700012857, 0.025716857400025713, 0.09000900090009001, 0.0642921435000643, 0.1256268483991256, 0.038575286100038575, 0.012858428700012857, 0.09000900090009001, 0.07715057220007715, 0.10286742960010285, 0.025716857400025713, 0.025716857400025713, 0.012858428700012857, 0.025716857400025713, 0.012858428700012857]\n",
      "1: Ari   2: Afi\n"
     ]
    },
    {
     "name": "stdin",
     "output_type": "stream",
     "text": [
      "Which name do you prefer? (1/2):  1\n"
     ]
    },
    {
     "name": "stdout",
     "output_type": "stream",
     "text": [
      "Updated vowel weights: [0.35, 0.3, 0.2, 0.1, 0.05]\n",
      "Updated consonant weights: [0.025462235049530407, 0.03819335257429562, 0.050924470099060815, 0.025462235049530407, 0.03819335257429562, 0.07638670514859124, 0.012731117524765204, 0.025462235049530407, 0.08911782267335644, 0.06365558762382605, 0.12438301821695605, 0.03819335257429562, 0.012731117524765204, 0.09901881277236634, 0.07638670514859124, 0.10184894019812163, 0.025462235049530407, 0.025462235049530407, 0.012731117524765204, 0.025462235049530407, 0.012731117524765204]\n",
      "1: Egereh   2: Egareh\n"
     ]
    },
    {
     "name": "stdin",
     "output_type": "stream",
     "text": [
      "Which name do you prefer? (1/2):  2\n"
     ]
    },
    {
     "name": "stdout",
     "output_type": "stream",
     "text": [
      "Updated vowel weights: [0.3564356435643564, 0.297029702970297, 0.19801980198019803, 0.09900990099009901, 0.04950495049504951]\n",
      "Updated consonant weights: [0.025462235049530407, 0.03819335257429562, 0.050924470099060815, 0.025462235049530407, 0.03819335257429562, 0.07638670514859124, 0.012731117524765204, 0.025462235049530407, 0.08911782267335644, 0.06365558762382605, 0.12438301821695605, 0.03819335257429562, 0.012731117524765204, 0.09901881277236634, 0.07638670514859124, 0.10184894019812163, 0.025462235049530407, 0.025462235049530407, 0.012731117524765204, 0.025462235049530407, 0.012731117524765204]\n",
      "1: Remosa   2: Retosa\n"
     ]
    },
    {
     "name": "stdin",
     "output_type": "stream",
     "text": [
      "Which name do you prefer? (1/2):  1\n"
     ]
    },
    {
     "name": "stdout",
     "output_type": "stream",
     "text": [
      "Updated vowel weights: [0.3564356435643564, 0.297029702970297, 0.19801980198019803, 0.09900990099009901, 0.04950495049504951]\n",
      "Updated consonant weights: [0.02521013371240635, 0.03781520056860953, 0.0504202674248127, 0.02521013371240635, 0.03781520056860953, 0.07563040113721906, 0.012605066856203174, 0.02521013371240635, 0.08823546799342223, 0.0729263243800258, 0.12315150318510502, 0.03781520056860953, 0.012605066856203174, 0.09803842848749145, 0.07563040113721906, 0.1008405348496254, 0.02521013371240635, 0.02521013371240635, 0.012605066856203174, 0.02521013371240635, 0.012605066856203174]\n",
      "1: Oheze   2: Oveze\n"
     ]
    },
    {
     "name": "stdin",
     "output_type": "stream",
     "text": [
      "Which name do you prefer? (1/2):  2\n"
     ]
    },
    {
     "name": "stdout",
     "output_type": "stream",
     "text": [
      "Updated vowel weights: [0.3564356435643564, 0.297029702970297, 0.19801980198019803, 0.09900990099009901, 0.04950495049504951]\n",
      "Updated consonant weights: [0.024960528428125097, 0.03744079264218765, 0.049921056856250194, 0.024960528428125097, 0.03744079264218765, 0.0748815852843753, 0.012480264214062549, 0.024960528428125097, 0.08736184949843785, 0.07220428156438198, 0.12193218137139111, 0.03744079264218765, 0.012480264214062549, 0.0970677509777143, 0.0748815852843753, 0.09984211371250039, 0.034861518527134996, 0.024960528428125097, 0.012480264214062549, 0.024960528428125097, 0.012480264214062549]\n",
      "1: Vinew   2: Vanew\n"
     ]
    },
    {
     "name": "stdin",
     "output_type": "stream",
     "text": [
      "Which name do you prefer? (1/2):  1\n"
     ]
    },
    {
     "name": "stdout",
     "output_type": "stream",
     "text": [
      "Updated vowel weights: [0.3529065777864915, 0.29408881482207627, 0.20596019998039408, 0.09802960494069209, 0.04901480247034604]\n",
      "Updated consonant weights: [0.024960528428125097, 0.03744079264218765, 0.049921056856250194, 0.024960528428125097, 0.03744079264218765, 0.0748815852843753, 0.012480264214062549, 0.024960528428125097, 0.08736184949843785, 0.07220428156438198, 0.12193218137139111, 0.03744079264218765, 0.012480264214062549, 0.0970677509777143, 0.0748815852843753, 0.09984211371250039, 0.034861518527134996, 0.024960528428125097, 0.012480264214062549, 0.024960528428125097, 0.012480264214062549]\n",
      "1: Emisi   2: Enisi\n"
     ]
    },
    {
     "name": "stdin",
     "output_type": "stream",
     "text": [
      "Which name do you prefer? (1/2):  1\n"
     ]
    },
    {
     "name": "stdout",
     "output_type": "stream",
     "text": [
      "Updated vowel weights: [0.3529065777864915, 0.29408881482207627, 0.20596019998039408, 0.09802960494069209, 0.04901480247034604]\n",
      "Updated consonant weights: [0.024713394483292177, 0.03707009172493827, 0.049426788966584354, 0.024713394483292177, 0.03707009172493827, 0.07414018344987654, 0.012356697241646088, 0.024713394483292177, 0.08649688069152263, 0.08139037778651681, 0.12072493205088229, 0.03707009172493827, 0.012356697241646088, 0.0961066841363508, 0.07414018344987654, 0.09885357793316871, 0.034516354977361385, 0.024713394483292177, 0.012356697241646088, 0.024713394483292177, 0.012356697241646088]\n",
      "1: Onafi   2: Onofi\n"
     ]
    },
    {
     "name": "stdin",
     "output_type": "stream",
     "text": [
      "Which name do you prefer? (1/2):  1\n"
     ]
    },
    {
     "name": "stdout",
     "output_type": "stream",
     "text": [
      "Updated vowel weights: [0.3593134433529619, 0.29117704437829334, 0.2039209900795981, 0.09705901479276444, 0.04852950739638222]\n",
      "Updated consonant weights: [0.024713394483292177, 0.03707009172493827, 0.049426788966584354, 0.024713394483292177, 0.03707009172493827, 0.07414018344987654, 0.012356697241646088, 0.024713394483292177, 0.08649688069152263, 0.08139037778651681, 0.12072493205088229, 0.03707009172493827, 0.012356697241646088, 0.0961066841363508, 0.07414018344987654, 0.09885357793316871, 0.034516354977361385, 0.024713394483292177, 0.012356697241646088, 0.024713394483292177, 0.012356697241646088]\n",
      "1: Hotama   2: Qotama\n"
     ]
    },
    {
     "name": "stdin",
     "output_type": "stream",
     "text": [
      "Which name do you prefer? (1/2):  1\n"
     ]
    },
    {
     "name": "stdout",
     "output_type": "stream",
     "text": [
      "Updated vowel weights: [0.3593134433529619, 0.29117704437829334, 0.2039209900795981, 0.09705901479276444, 0.04852950739638222]\n",
      "Updated consonant weights: [0.024468707409200176, 0.03670306111380026, 0.04893741481840035, 0.024468707409200176, 0.03670306111380026, 0.08330711232661042, 0.012234353704600088, 0.024468707409200176, 0.08564047593220062, 0.08058453246189783, 0.11952963569394286, 0.03670306111380026, 0.012234353704600088, 0.09515513280826812, 0.07340612222760053, 0.0978748296368007, 0.03417460888847662, 0.024468707409200176, 0.012234353704600088, 0.024468707409200176, 0.012234353704600088]\n",
      "1: Taciz   2: Taciy\n"
     ]
    },
    {
     "name": "stdin",
     "output_type": "stream",
     "text": [
      "Which name do you prefer? (1/2):  2\n"
     ]
    },
    {
     "name": "stdout",
     "output_type": "stream",
     "text": [
      "Updated vowel weights: [0.3593134433529619, 0.29117704437829334, 0.2039209900795981, 0.09705901479276444, 0.04852950739638222]\n",
      "Updated consonant weights: [0.024226442979406116, 0.03633966446910917, 0.04845288595881223, 0.024226442979406116, 0.03633966446910917, 0.08248228943228754, 0.012113221489703058, 0.024226442979406116, 0.0847925504279214, 0.07978666580385924, 0.11834617395439886, 0.03633966446910917, 0.012113221489703058, 0.09421300278046349, 0.07267932893821834, 0.09690577191762446, 0.03383624642423428, 0.024226442979406116, 0.012113221489703058, 0.034127433078416015, 0.012113221489703058]\n",
      "1: Ateya   2: Eteya\n"
     ]
    },
    {
     "name": "stdin",
     "output_type": "stream",
     "text": [
      "Which name do you prefer? (1/2):  1\n"
     ]
    },
    {
     "name": "stdout",
     "output_type": "stream",
     "text": [
      "Updated vowel weights: [0.36565687460689295, 0.2882941033448449, 0.2019019703758397, 0.09609803444828162, 0.04804901722414081]\n",
      "Updated consonant weights: [0.024226442979406116, 0.03633966446910917, 0.04845288595881223, 0.024226442979406116, 0.03633966446910917, 0.08248228943228754, 0.012113221489703058, 0.024226442979406116, 0.0847925504279214, 0.07978666580385924, 0.11834617395439886, 0.03633966446910917, 0.012113221489703058, 0.09421300278046349, 0.07267932893821834, 0.09690577191762446, 0.03383624642423428, 0.024226442979406116, 0.012113221489703058, 0.034127433078416015, 0.012113221489703058]\n",
      "1: Adeje   2: Adeja\n"
     ]
    },
    {
     "name": "stdin",
     "output_type": "stream",
     "text": [
      "Which name do you prefer? (1/2):  2\n"
     ]
    },
    {
     "name": "stdout",
     "output_type": "stream",
     "text": [
      "Updated vowel weights: [0.3719374996107851, 0.28543970628202464, 0.19990294096617792, 0.09514656876067487, 0.047573284380337436]\n",
      "Updated consonant weights: [0.024226442979406116, 0.03633966446910917, 0.04845288595881223, 0.024226442979406116, 0.03633966446910917, 0.08248228943228754, 0.012113221489703058, 0.024226442979406116, 0.0847925504279214, 0.07978666580385924, 0.11834617395439886, 0.03633966446910917, 0.012113221489703058, 0.09421300278046349, 0.07267932893821834, 0.09690577191762446, 0.03383624642423428, 0.024226442979406116, 0.012113221489703058, 0.034127433078416015, 0.012113221489703058]\n",
      "1: Wipala   2: Wicala\n"
     ]
    },
    {
     "name": "stdin",
     "output_type": "stream",
     "text": [
      "Which name do you prefer? (1/2):  1\n"
     ]
    },
    {
     "name": "stdout",
     "output_type": "stream",
     "text": [
      "Updated vowel weights: [0.3719374996107851, 0.28543970628202464, 0.19990294096617792, 0.09514656876067487, 0.047573284380337436]\n",
      "Updated consonant weights: [0.02398657720733279, 0.03597986581099918, 0.04797315441466558, 0.02398657720733279, 0.03597986581099918, 0.0816656331012748, 0.011993288603666394, 0.02398657720733279, 0.08395302022566475, 0.07899669881570222, 0.11717442965782066, 0.04588085591000908, 0.011993288603666394, 0.09328020077273613, 0.07195973162199835, 0.09594630882933115, 0.03350123408340028, 0.02398657720733279, 0.011993288603666394, 0.033789537701401993, 0.011993288603666394]\n",
      "1: Irodi   2: Iroda\n"
     ]
    },
    {
     "name": "stdin",
     "output_type": "stream",
     "text": [
      "Which name do you prefer? (1/2):  2\n"
     ]
    },
    {
     "name": "stdout",
     "output_type": "stream",
     "text": [
      "Updated vowel weights: [0.37815594020869814, 0.282613570576262, 0.19792370392690883, 0.09420452352542066, 0.04710226176271033]\n",
      "Updated consonant weights: [0.02398657720733279, 0.03597986581099918, 0.04797315441466558, 0.02398657720733279, 0.03597986581099918, 0.0816656331012748, 0.011993288603666394, 0.02398657720733279, 0.08395302022566475, 0.07899669881570222, 0.11717442965782066, 0.04588085591000908, 0.011993288603666394, 0.09328020077273613, 0.07195973162199835, 0.09594630882933115, 0.03350123408340028, 0.02398657720733279, 0.011993288603666394, 0.033789537701401993, 0.011993288603666394]\n",
      "1: Aco   2: Aca\n"
     ]
    },
    {
     "name": "stdin",
     "output_type": "stream",
     "text": [
      "Which name do you prefer? (1/2):  1\n"
     ]
    },
    {
     "name": "stdout",
     "output_type": "stream",
     "text": [
      "Updated vowel weights: [0.37441182198881, 0.2798154164121406, 0.19596406329396915, 0.10317279556972342, 0.04663590273535676]\n",
      "Updated consonant weights: [0.02398657720733279, 0.03597986581099918, 0.04797315441466558, 0.02398657720733279, 0.03597986581099918, 0.0816656331012748, 0.011993288603666394, 0.02398657720733279, 0.08395302022566475, 0.07899669881570222, 0.11717442965782066, 0.04588085591000908, 0.011993288603666394, 0.09328020077273613, 0.07195973162199835, 0.09594630882933115, 0.03350123408340028, 0.02398657720733279, 0.011993288603666394, 0.033789537701401993, 0.011993288603666394]\n",
      "1: Ibilo   2: Ikilo\n"
     ]
    },
    {
     "name": "stdin",
     "output_type": "stream",
     "text": [
      "Which name do you prefer? (1/2):  2\n"
     ]
    },
    {
     "name": "stdout",
     "output_type": "stream",
     "text": [
      "Updated vowel weights: [0.37441182198881, 0.2798154164121406, 0.19596406329396915, 0.10317279556972342, 0.04663590273535676]\n",
      "Updated consonant weights: [0.02374908634389385, 0.03562362951584077, 0.0474981726877877, 0.02374908634389385, 0.03562362951584077, 0.0808570624765097, 0.011874543171946925, 0.03365007644290375, 0.08312180220362847, 0.07821455328287348, 0.11601428678992144, 0.04542659000990998, 0.011874543171946925, 0.09235663442845161, 0.07124725903168154, 0.0949963453755754, 0.03316953869643592, 0.02374908634389385, 0.011874543171946925, 0.03345498782317029, 0.011874543171946925]\n",
      "1: Niware   2: Niwere\n"
     ]
    },
    {
     "name": "stdin",
     "output_type": "stream",
     "text": [
      "Which name do you prefer? (1/2):  1\n"
     ]
    },
    {
     "name": "stdout",
     "output_type": "stream",
     "text": [
      "Updated vowel weights: [0.3806057643453565, 0.27704496674469364, 0.1940238250435338, 0.10215128274230041, 0.046174161124115605]\n",
      "Updated consonant weights: [0.02374908634389385, 0.03562362951584077, 0.0474981726877877, 0.02374908634389385, 0.03562362951584077, 0.0808570624765097, 0.011874543171946925, 0.03365007644290375, 0.08312180220362847, 0.07821455328287348, 0.11601428678992144, 0.04542659000990998, 0.011874543171946925, 0.09235663442845161, 0.07124725903168154, 0.0949963453755754, 0.03316953869643592, 0.02374908634389385, 0.011874543171946925, 0.03345498782317029, 0.011874543171946925]\n",
      "1: Atid   2: Atod\n"
     ]
    },
    {
     "name": "stdin",
     "output_type": "stream",
     "text": [
      "Which name do you prefer? (1/2):  1\n"
     ]
    },
    {
     "name": "stdout",
     "output_type": "stream",
     "text": [
      "Updated vowel weights: [0.376837390440947, 0.2743019472719739, 0.20200378717181566, 0.10113988390326774, 0.04571699121199565]\n",
      "Updated consonant weights: [0.02374908634389385, 0.03562362951584077, 0.0474981726877877, 0.02374908634389385, 0.03562362951584077, 0.0808570624765097, 0.011874543171946925, 0.03365007644290375, 0.08312180220362847, 0.07821455328287348, 0.11601428678992144, 0.04542659000990998, 0.011874543171946925, 0.09235663442845161, 0.07124725903168154, 0.0949963453755754, 0.03316953869643592, 0.02374908634389385, 0.011874543171946925, 0.03345498782317029, 0.011874543171946925]\n",
      "1: Derol   2: Deroh\n"
     ]
    },
    {
     "name": "stdin",
     "output_type": "stream",
     "text": [
      "Which name do you prefer? (1/2):  1\n"
     ]
    },
    {
     "name": "stdout",
     "output_type": "stream",
     "text": [
      "Updated vowel weights: [0.376837390440947, 0.2743019472719739, 0.20200378717181566, 0.10113988390326774, 0.04571699121199565]\n",
      "Updated consonant weights: [0.023513946875142425, 0.03527092031271363, 0.04702789375028485, 0.023513946875142425, 0.03527092031271363, 0.08005649750149475, 0.011756973437571212, 0.03331690736921163, 0.09219980416200838, 0.07744015176522127, 0.11486563048507073, 0.04497682179199008, 0.011756973437571212, 0.09144221230539763, 0.07054184062542726, 0.0940557875005697, 0.03284112742221378, 0.023513946875142425, 0.011756973437571212, 0.03312375031997058, 0.011756973437571212]\n",
      "1: Ata   2: Ita\n"
     ]
    },
    {
     "name": "stdin",
     "output_type": "stream",
     "text": [
      "Which name do you prefer? (1/2):  2\n"
     ]
    },
    {
     "name": "stdout",
     "output_type": "stream",
     "text": [
      "Updated vowel weights: [0.37310632716925446, 0.27158608640789494, 0.20990473977407492, 0.10013849891412648, 0.04526434773464916]\n",
      "Updated consonant weights: [0.023513946875142425, 0.03527092031271363, 0.04702789375028485, 0.023513946875142425, 0.03527092031271363, 0.08005649750149475, 0.011756973437571212, 0.03331690736921163, 0.09219980416200838, 0.07744015176522127, 0.11486563048507073, 0.04497682179199008, 0.011756973437571212, 0.09144221230539763, 0.07054184062542726, 0.0940557875005697, 0.03284112742221378, 0.023513946875142425, 0.011756973437571212, 0.03312375031997058, 0.011756973437571212]\n",
      "1: Lohasi   2: Lihasi\n"
     ]
    },
    {
     "name": "stdin",
     "output_type": "stream",
     "text": [
      "Which name do you prefer? (1/2):  1\n"
     ]
    },
    {
     "name": "stdout",
     "output_type": "stream",
     "text": [
      "Updated vowel weights: [0.3694122051180737, 0.26889711525534155, 0.20782647502383655, 0.10904801872685789, 0.04481618587589026]\n",
      "Updated consonant weights: [0.023513946875142425, 0.03527092031271363, 0.04702789375028485, 0.023513946875142425, 0.03527092031271363, 0.08005649750149475, 0.011756973437571212, 0.03331690736921163, 0.09219980416200838, 0.07744015176522127, 0.11486563048507073, 0.04497682179199008, 0.011756973437571212, 0.09144221230539763, 0.07054184062542726, 0.0940557875005697, 0.03284112742221378, 0.023513946875142425, 0.011756973437571212, 0.03312375031997058, 0.011756973437571212]\n",
      "1: Pakem   2: Pakam\n"
     ]
    },
    {
     "name": "stdin",
     "output_type": "stream",
     "text": [
      "Which name do you prefer? (1/2):  2\n"
     ]
    },
    {
     "name": "stdout",
     "output_type": "stream",
     "text": [
      "Updated vowel weights: [0.37565564863175616, 0.26623476757954606, 0.20576878715231342, 0.10796833537312663, 0.04437246126325768]\n",
      "Updated consonant weights: [0.023513946875142425, 0.03527092031271363, 0.04702789375028485, 0.023513946875142425, 0.03527092031271363, 0.08005649750149475, 0.011756973437571212, 0.03331690736921163, 0.09219980416200838, 0.07744015176522127, 0.11486563048507073, 0.04497682179199008, 0.011756973437571212, 0.09144221230539763, 0.07054184062542726, 0.0940557875005697, 0.03284112742221378, 0.023513946875142425, 0.011756973437571212, 0.03312375031997058, 0.011756973437571212]\n",
      "1: Atireh   2: Atiroh\n"
     ]
    },
    {
     "name": "stdin",
     "output_type": "stream",
     "text": [
      "Which name do you prefer? (1/2):  2\n"
     ]
    },
    {
     "name": "stdout",
     "output_type": "stream",
     "text": [
      "Updated vowel weights: [0.371936285774016, 0.2635987797817288, 0.20373147242803308, 0.11680033205260061, 0.04393312996362147]\n",
      "Updated consonant weights: [0.023513946875142425, 0.03527092031271363, 0.04702789375028485, 0.023513946875142425, 0.03527092031271363, 0.08005649750149475, 0.011756973437571212, 0.03331690736921163, 0.09219980416200838, 0.07744015176522127, 0.11486563048507073, 0.04497682179199008, 0.011756973437571212, 0.09144221230539763, 0.07054184062542726, 0.0940557875005697, 0.03284112742221378, 0.023513946875142425, 0.011756973437571212, 0.03312375031997058, 0.011756973437571212]\n",
      "1: Tinico   2: Tinici\n"
     ]
    },
    {
     "name": "stdin",
     "output_type": "stream",
     "text": [
      "Which name do you prefer? (1/2):  1\n"
     ]
    },
    {
     "name": "stdout",
     "output_type": "stream",
     "text": [
      "Updated vowel weights: [0.36825374829110497, 0.2609888908729988, 0.20171432913666643, 0.12554488322039664, 0.04349814847883314]\n",
      "Updated consonant weights: [0.023513946875142425, 0.03527092031271363, 0.04702789375028485, 0.023513946875142425, 0.03527092031271363, 0.08005649750149475, 0.011756973437571212, 0.03331690736921163, 0.09219980416200838, 0.07744015176522127, 0.11486563048507073, 0.04497682179199008, 0.011756973437571212, 0.09144221230539763, 0.07054184062542726, 0.0940557875005697, 0.03284112742221378, 0.023513946875142425, 0.011756973437571212, 0.03312375031997058, 0.011756973437571212]\n",
      "1: Nuna   2: Nuta\n"
     ]
    },
    {
     "name": "stdin",
     "output_type": "stream",
     "text": [
      "Which name do you prefer? (1/2):  1\n"
     ]
    },
    {
     "name": "stdout",
     "output_type": "stream",
     "text": [
      "Updated vowel weights: [0.36825374829110497, 0.2609888908729988, 0.20171432913666643, 0.12554488322039664, 0.04349814847883314]\n",
      "Updated consonant weights: [0.023281135519942993, 0.034921703279914486, 0.046562271039885986, 0.023281135519942993, 0.034921703279914486, 0.07926385891237105, 0.011640567759971496, 0.03298703699921944, 0.09128693481386968, 0.076673417589328, 0.12362933711393141, 0.04453150672474265, 0.011640567759971496, 0.09053684386673033, 0.06984340655982897, 0.09312454207977197, 0.032515967744766124, 0.023281135519942993, 0.011640567759971496, 0.03279579239601047, 0.011640567759971496]\n",
      "1: Nahina   2: Nagina\n"
     ]
    },
    {
     "name": "stdin",
     "output_type": "stream",
     "text": [
      "Which name do you prefer? (1/2):  2\n"
     ]
    },
    {
     "name": "stdout",
     "output_type": "stream",
     "text": [
      "Updated vowel weights: [0.36825374829110497, 0.2609888908729988, 0.20171432913666643, 0.12554488322039664, 0.04349814847883314]\n",
      "Updated consonant weights: [0.02305062922766633, 0.03457594384149949, 0.04610125845533266, 0.02305062922766633, 0.044476933940509396, 0.07847906823007034, 0.011525314613833165, 0.032660432672494494, 0.09038310377610859, 0.07591427484091881, 0.12240528427121922, 0.044090600717566986, 0.011525314613833165, 0.08964043947201022, 0.06915188768299899, 0.09220251691066532, 0.032194027470065466, 0.02305062922766633, 0.011525314613833165, 0.03247108158020839, 0.011525314613833165]\n",
      "1: Liremob   2: Liredob\n"
     ]
    },
    {
     "name": "stdin",
     "output_type": "stream",
     "text": [
      "Which name do you prefer? (1/2):  1\n"
     ]
    },
    {
     "name": "stdout",
     "output_type": "stream",
     "text": [
      "Updated vowel weights: [0.36825374829110497, 0.2609888908729988, 0.20171432913666643, 0.12554488322039664, 0.04349814847883314]\n",
      "Updated consonant weights: [0.022822405175907258, 0.034233607763860883, 0.045644810351814516, 0.022822405175907258, 0.04403656825793009, 0.07770204775254488, 0.011411202587953629, 0.032337062051974744, 0.08948822156050355, 0.08506363845635526, 0.12119335076358338, 0.04365406011640296, 0.011411202587953629, 0.08875291036832696, 0.06846721552772177, 0.09128962070362903, 0.0318752747228371, 0.022822405175907258, 0.011411202587953629, 0.0321495857229786, 0.011411202587953629]\n",
      "1: Elen   2: Ilen\n"
     ]
    },
    {
     "name": "stdin",
     "output_type": "stream",
     "text": [
      "Which name do you prefer? (1/2):  1\n"
     ]
    },
    {
     "name": "stdout",
     "output_type": "stream",
     "text": [
      "Updated vowel weights: [0.36460767157535146, 0.2683058325475236, 0.19971715756105587, 0.12430186457465014, 0.04306747374141895]\n",
      "Updated consonant weights: [0.022822405175907258, 0.034233607763860883, 0.045644810351814516, 0.022822405175907258, 0.04403656825793009, 0.07770204775254488, 0.011411202587953629, 0.032337062051974744, 0.08948822156050355, 0.08506363845635526, 0.12119335076358338, 0.04365406011640296, 0.011411202587953629, 0.08875291036832696, 0.06846721552772177, 0.09128962070362903, 0.0318752747228371, 0.022822405175907258, 0.011411202587953629, 0.0321495857229786, 0.011411202587953629]\n",
      "1: Yahi   2: Yami\n"
     ]
    },
    {
     "name": "stdin",
     "output_type": "stream",
     "text": [
      "Which name do you prefer? (1/2):  2\n"
     ]
    },
    {
     "name": "stdout",
     "output_type": "stream",
     "text": [
      "Updated vowel weights: [0.36460767157535146, 0.2683058325475236, 0.19971715756105587, 0.12430186457465014, 0.04306747374141895]\n",
      "Updated consonant weights: [0.022596440768225007, 0.03389466115233751, 0.045192881536450014, 0.022596440768225007, 0.04360056263161395, 0.07693272054707415, 0.011298220384112503, 0.032016893120767075, 0.088602199564855, 0.09412241431322302, 0.1199934165976073, 0.04322184169940887, 0.011298220384112503, 0.08787416868151184, 0.06778932230467502, 0.09038576307290003, 0.031559677943403065, 0.022596440768225007, 0.011298220384112503, 0.031831272993048124, 0.011298220384112503]\n",
      "1: Ohine   2: Ehine\n"
     ]
    },
    {
     "name": "stdin",
     "output_type": "stream",
     "text": [
      "Which name do you prefer? (1/2):  1\n"
     ]
    },
    {
     "name": "stdout",
     "output_type": "stream",
     "text": [
      "Updated vowel weights: [0.36099769462906084, 0.26564933915596395, 0.19773975996144147, 0.13297214314321798, 0.04264106311031579]\n",
      "Updated consonant weights: [0.022596440768225007, 0.03389466115233751, 0.045192881536450014, 0.022596440768225007, 0.04360056263161395, 0.07693272054707415, 0.011298220384112503, 0.032016893120767075, 0.088602199564855, 0.09412241431322302, 0.1199934165976073, 0.04322184169940887, 0.011298220384112503, 0.08787416868151184, 0.06778932230467502, 0.09038576307290003, 0.031559677943403065, 0.022596440768225007, 0.011298220384112503, 0.031831272993048124, 0.011298220384112503]\n",
      "1: Aweb   2: Ageb\n"
     ]
    },
    {
     "name": "stdin",
     "output_type": "stream",
     "text": [
      "Which name do you prefer? (1/2):  2\n"
     ]
    },
    {
     "name": "stdout",
     "output_type": "stream",
     "text": [
      "Updated vowel weights: [0.36099769462906084, 0.26564933915596395, 0.19773975996144147, 0.13297214314321798, 0.04264106311031579]\n",
      "Updated consonant weights: [0.022372713631905947, 0.03355907044785892, 0.04474542726381189, 0.022372713631905947, 0.05306986399169698, 0.07617101044264767, 0.011186356815952973, 0.031699894178977304, 0.08772495006421287, 0.0931905092210129, 0.11880536296792803, 0.04279390267268205, 0.011186356815952973, 0.08700412740743746, 0.06711814089571784, 0.08949085452762379, 0.03124720588455749, 0.022372713631905947, 0.011186356815952973, 0.03151611187430507, 0.011186356815952973]\n",
      "1: Telali   2: Telati\n"
     ]
    },
    {
     "name": "stdin",
     "output_type": "stream",
     "text": [
      "Which name do you prefer? (1/2):  2\n"
     ]
    },
    {
     "name": "stdout",
     "output_type": "stream",
     "text": [
      "Updated vowel weights: [0.36099769462906084, 0.26564933915596395, 0.19773975996144147, 0.13297214314321798, 0.04264106311031579]\n",
      "Updated consonant weights: [0.02215120161574846, 0.03322680242362269, 0.04430240323149692, 0.02215120161574846, 0.05254441979375939, 0.07541684202242344, 0.01107560080787423, 0.031386033840571585, 0.08685638620219095, 0.09226783091189396, 0.1176290722454733, 0.04237020066602183, 0.01107560080787423, 0.08614270040340342, 0.06645360484724538, 0.09850579656200374, 0.030937827608472763, 0.02215120161574846, 0.01107560080787423, 0.031204071162678287, 0.01107560080787423]\n",
      "1: Ehagu   2: Ihagu\n"
     ]
    },
    {
     "name": "stdin",
     "output_type": "stream",
     "text": [
      "Which name do you prefer? (1/2):  2\n"
     ]
    },
    {
     "name": "stdout",
     "output_type": "stream",
     "text": [
      "Updated vowel weights: [0.3574234600287731, 0.2630191476791722, 0.20568293065489254, 0.13165558727051285, 0.0422188743666493]\n",
      "Updated consonant weights: [0.02215120161574846, 0.03322680242362269, 0.04430240323149692, 0.02215120161574846, 0.05254441979375939, 0.07541684202242344, 0.01107560080787423, 0.031386033840571585, 0.08685638620219095, 0.09226783091189396, 0.1176290722454733, 0.04237020066602183, 0.01107560080787423, 0.08614270040340342, 0.06645360484724538, 0.09850579656200374, 0.030937827608472763, 0.02215120161574846, 0.01107560080787423, 0.031204071162678287, 0.01107560080787423]\n",
      "1: Gol   2: Gil\n"
     ]
    },
    {
     "name": "stdin",
     "output_type": "stream",
     "text": [
      "Which name do you prefer? (1/2):  2\n"
     ]
    },
    {
     "name": "stdout",
     "output_type": "stream",
     "text": [
      "Updated vowel weights: [0.35388461388987436, 0.2604149977021507, 0.213547456093953, 0.13035206660446816, 0.04180086570955376]\n",
      "Updated consonant weights: [0.02215120161574846, 0.03322680242362269, 0.04430240323149692, 0.02215120161574846, 0.05254441979375939, 0.07541684202242344, 0.01107560080787423, 0.031386033840571585, 0.08685638620219095, 0.09226783091189396, 0.1176290722454733, 0.04237020066602183, 0.01107560080787423, 0.08614270040340342, 0.06645360484724538, 0.09850579656200374, 0.030937827608472763, 0.02215120161574846, 0.01107560080787423, 0.031204071162678287, 0.01107560080787423]\n",
      "1: Arel   2: Aril\n"
     ]
    },
    {
     "name": "stdin",
     "output_type": "stream",
     "text": [
      "Which name do you prefer? (1/2):  2\n"
     ]
    },
    {
     "name": "stdout",
     "output_type": "stream",
     "text": [
      "Updated vowel weights: [0.3503808058315588, 0.257836631388268, 0.22133411494450794, 0.12906145208363184, 0.041386995752033424]\n",
      "Updated consonant weights: [0.02215120161574846, 0.03322680242362269, 0.04430240323149692, 0.02215120161574846, 0.05254441979375939, 0.07541684202242344, 0.01107560080787423, 0.031386033840571585, 0.08685638620219095, 0.09226783091189396, 0.1176290722454733, 0.04237020066602183, 0.01107560080787423, 0.08614270040340342, 0.06645360484724538, 0.09850579656200374, 0.030937827608472763, 0.02215120161574846, 0.01107560080787423, 0.031204071162678287, 0.01107560080787423]\n",
      "1: Itol   2: Ital\n"
     ]
    },
    {
     "name": "stdin",
     "output_type": "stream",
     "text": [
      "Which name do you prefer? (1/2):  2\n"
     ]
    },
    {
     "name": "stdout",
     "output_type": "stream",
     "text": [
      "Updated vowel weights: [0.35681267904114733, 0.2552837934537307, 0.21914268806386925, 0.12778361592438797, 0.04097722351686477]\n",
      "Updated consonant weights: [0.02215120161574846, 0.03322680242362269, 0.04430240323149692, 0.02215120161574846, 0.05254441979375939, 0.07541684202242344, 0.01107560080787423, 0.031386033840571585, 0.08685638620219095, 0.09226783091189396, 0.1176290722454733, 0.04237020066602183, 0.01107560080787423, 0.08614270040340342, 0.06645360484724538, 0.09850579656200374, 0.030937827608472763, 0.02215120161574846, 0.01107560080787423, 0.031204071162678287, 0.01107560080787423]\n",
      "1: Ebadac   2: Ebatac\n"
     ]
    },
    {
     "name": "stdin",
     "output_type": "stream",
     "text": [
      "Which name do you prefer? (1/2):  2\n"
     ]
    },
    {
     "name": "stdout",
     "output_type": "stream",
     "text": [
      "Updated vowel weights: [0.35681267904114733, 0.2552837934537307, 0.21914268806386925, 0.12778361592438797, 0.04097722351686477]\n",
      "Updated consonant weights: [0.021931882787869762, 0.03289782418180465, 0.043863765575739525, 0.021931882787869762, 0.052024178013623155, 0.07467014061626083, 0.010965941393934881, 0.031075281030268895, 0.08599642198236727, 0.09135428803157818, 0.11646442796581515, 0.04195069372873449, 0.010965941393934881, 0.08528980237960734, 0.0657956483636093, 0.10743148174455816, 0.030631512483636398, 0.021931882787869762, 0.010965941393934881, 0.03089511996304781, 0.010965941393934881]\n",
      "1: Nasak   2: Nahak\n"
     ]
    },
    {
     "name": "stdin",
     "output_type": "stream",
     "text": [
      "Which name do you prefer? (1/2):  1\n"
     ]
    },
    {
     "name": "stdout",
     "output_type": "stream",
     "text": [
      "Updated vowel weights: [0.35681267904114733, 0.2552837934537307, 0.21914268806386925, 0.12778361592438797, 0.04097722351686477]\n",
      "Updated consonant weights: [0.02171473543353442, 0.03257210315030163, 0.04342947086706884, 0.02171473543353442, 0.05150908714220114, 0.07393083229332756, 0.01085736771676721, 0.030767604980464252, 0.08514497225976958, 0.09044979013027542, 0.11531131481763876, 0.04153534032547969, 0.01085736771676721, 0.08444534889070034, 0.07504519639961316, 0.10636780370748333, 0.030328230181818214, 0.02171473543353442, 0.01085736771676721, 0.030589227686185952, 0.01085736771676721]\n",
      "1: Hanay   2: Hatay\n"
     ]
    },
    {
     "name": "stdin",
     "output_type": "stream",
     "text": [
      "Which name do you prefer? (1/2):  exit\n"
     ]
    },
    {
     "name": "stdout",
     "output_type": "stream",
     "text": [
      "Exiting. Thank you for your feedback!\n"
     ]
    }
   ],
   "source": [
    "import random\n",
    "\n",
    "# Initialize global weights for vowels and consonants\n",
    "vowels = [\"a\", \"e\", \"i\", \"o\", \"u\"]\n",
    "vowel_weights = [0.35, 0.30, 0.20, 0.10, 0.05]\n",
    "\n",
    "consonants = [\n",
    "    \"b\", \"c\", \"d\", \"f\", \"g\", \"h\", \"j\", \"k\", \"l\", \"m\", \n",
    "    \"n\", \"p\", \"q\", \"r\", \"s\", \"t\", \"v\", \"w\", \"x\", \"y\", \"z\"\n",
    "]\n",
    "consonant_weights = [\n",
    "    0.02, 0.03, 0.04, 0.02, 0.03, 0.06, 0.01, 0.02, 0.07, 0.05,\n",
    "    0.08, 0.03, 0.01, 0.07, 0.06, 0.08, 0.02, 0.02, 0.01, 0.02, 0.01\n",
    "]\n",
    "\n",
    "def generate_human_name():\n",
    "    name_length_distribution = [3, 4, 5, 6, 7, 8]\n",
    "    name_length_weights = [0.1, 0.2, 0.3, 0.25, 0.1, 0.05]\n",
    "    name_length = random.choices(name_length_distribution, weights=name_length_weights, k=1)[0]\n",
    "\n",
    "    name = []\n",
    "    use_vowel = random.choice([True, False])\n",
    "    for _ in range(name_length):\n",
    "        if use_vowel:\n",
    "            name.append(random.choices(vowels, weights=vowel_weights, k=1)[0])\n",
    "        else:\n",
    "            name.append(random.choices(consonants, weights=consonant_weights, k=1)[0])\n",
    "        use_vowel = not use_vowel\n",
    "    return \"\".join(name).capitalize()\n",
    "\n",
    "def generate_similar_names():\n",
    "    # Generate a base name\n",
    "    base_name = generate_human_name()\n",
    "    base_chars = list(base_name)\n",
    "\n",
    "    # Choose a random position to modify\n",
    "    modify_index = random.randint(0, len(base_chars) - 1)\n",
    "\n",
    "    # Determine whether the character is a vowel or consonant\n",
    "    char_to_replace = base_chars[modify_index]\n",
    "    if char_to_replace.lower() in vowels:\n",
    "        replacement_pool = vowels\n",
    "        replacement_weights = vowel_weights\n",
    "    else:\n",
    "        replacement_pool = consonants\n",
    "        replacement_weights = consonant_weights\n",
    "\n",
    "    # Ensure the replacement character is different\n",
    "    replacement_char = random.choices(replacement_pool, weights=replacement_weights, k=1)[0]\n",
    "    while replacement_char == char_to_replace.lower():\n",
    "        replacement_char = random.choices(replacement_pool, weights=replacement_weights, k=1)[0]\n",
    "\n",
    "    # Create the modified name\n",
    "    modified_chars = base_chars[:]\n",
    "    modified_chars[modify_index] = replacement_char.upper() if base_chars[modify_index].isupper() else replacement_char\n",
    "    modified_name = \"\".join(modified_chars)\n",
    "\n",
    "    return base_name, modified_name\n",
    "\n",
    "def adjust_weights(preferred_name, other_name):\n",
    "    # Adjust weights by slightly increasing the frequency of the differing character in the preferred name\n",
    "    def update_weights(char, weights, letters):\n",
    "        if char.lower() in letters:\n",
    "            idx = letters.index(char.lower())\n",
    "            weights[idx] += 0.01  # Increase weight\n",
    "        total = sum(weights)\n",
    "        return [w / total for w in weights]  # Normalize weights\n",
    "\n",
    "    global vowel_weights, consonant_weights\n",
    "\n",
    "    # Find the differing character\n",
    "    for c1, c2 in zip(preferred_name, other_name):\n",
    "        if c1 != c2:\n",
    "            if c1.lower() in vowels:\n",
    "                vowel_weights = update_weights(c1, vowel_weights, vowels)\n",
    "            elif c1.lower() in consonants:\n",
    "                consonant_weights = update_weights(c1, consonant_weights, consonants)\n",
    "            break\n",
    "\n",
    "def main():\n",
    "    print(\"Rate names by entering 1 for the first name or 2 for the second name.\")\n",
    "    print(\"Type 'exit' to quit.\")\n",
    "    \n",
    "    while True:\n",
    "        name1, name2 = generate_similar_names()\n",
    "        print(f\"1: {name1}   2: {name2}\")\n",
    "        \n",
    "        choice = input(\"Which name do you prefer? (1/2): \").strip().lower()\n",
    "        if choice == \"1\":\n",
    "            adjust_weights(name1, name2)\n",
    "        elif choice == \"2\":\n",
    "            adjust_weights(name2, name1)\n",
    "        elif choice == \"exit\":\n",
    "            print(\"Exiting. Thank you for your feedback!\")\n",
    "            break\n",
    "        else:\n",
    "            print(\"Invalid input. Please enter 1, 2, or 'exit'.\")\n",
    "        \n",
    "        print(f\"Updated vowel weights: {vowel_weights}\")\n",
    "        print(f\"Updated consonant weights: {consonant_weights}\")\n",
    "\n",
    "if __name__ == \"__main__\":\n",
    "    main()"
   ]
  },
  {
   "cell_type": "code",
   "execution_count": 9,
   "id": "3595f9ff-7acb-4aae-84db-b29d5b9211f7",
   "metadata": {},
   "outputs": [
    {
     "name": "stdout",
     "output_type": "stream",
     "text": [
      "Collecting gdown\n",
      "  Downloading gdown-5.2.0-py3-none-any.whl.metadata (5.8 kB)\n",
      "Requirement already satisfied: beautifulsoup4 in /home/etudie/anaconda3/lib/python3.12/site-packages (from gdown) (4.12.3)\n",
      "Requirement already satisfied: filelock in /home/etudie/anaconda3/lib/python3.12/site-packages (from gdown) (3.13.1)\n",
      "Requirement already satisfied: requests[socks] in /home/etudie/anaconda3/lib/python3.12/site-packages (from gdown) (2.32.3)\n",
      "Requirement already satisfied: tqdm in /home/etudie/anaconda3/lib/python3.12/site-packages (from gdown) (4.66.5)\n",
      "Requirement already satisfied: soupsieve>1.2 in /home/etudie/anaconda3/lib/python3.12/site-packages (from beautifulsoup4->gdown) (2.5)\n",
      "Requirement already satisfied: charset-normalizer<4,>=2 in /home/etudie/anaconda3/lib/python3.12/site-packages (from requests[socks]->gdown) (3.3.2)\n",
      "Requirement already satisfied: idna<4,>=2.5 in /home/etudie/anaconda3/lib/python3.12/site-packages (from requests[socks]->gdown) (3.7)\n",
      "Requirement already satisfied: urllib3<3,>=1.21.1 in /home/etudie/anaconda3/lib/python3.12/site-packages (from requests[socks]->gdown) (2.2.3)\n",
      "Requirement already satisfied: certifi>=2017.4.17 in /home/etudie/anaconda3/lib/python3.12/site-packages (from requests[socks]->gdown) (2024.8.30)\n",
      "Requirement already satisfied: PySocks!=1.5.7,>=1.5.6 in /home/etudie/anaconda3/lib/python3.12/site-packages (from requests[socks]->gdown) (1.7.1)\n",
      "Downloading gdown-5.2.0-py3-none-any.whl (18 kB)\n",
      "Installing collected packages: gdown\n",
      "Successfully installed gdown-5.2.0\n"
     ]
    }
   ],
   "source": [
    "!pip install gdown"
   ]
  },
  {
   "cell_type": "code",
   "execution_count": 10,
   "id": "28fb571f-12c1-4ffe-bc2c-354a43eb148c",
   "metadata": {},
   "outputs": [],
   "source": [
    "import gdown"
   ]
  },
  {
   "cell_type": "code",
   "execution_count": 17,
   "id": "9516bc88-dd9e-450b-a7c3-01f6ae527764",
   "metadata": {},
   "outputs": [],
   "source": [
    "# durl = \"https://drive.google.com/drive/mobil/folders/1HqEgzS8BV2c7xYNrZdEAnrHk7osJJ--2?usp=sharingbe\"\n",
    "durl = \"https://drive.google.com/file/d/1YZQFSonulXuagMIfbJkZeTFJ6qEUuUxL\" "
   ]
  },
  {
   "cell_type": "code",
   "execution_count": 21,
   "id": "3bbaafc7-9d71-46dd-a6b4-6518f68dc655",
   "metadata": {},
   "outputs": [],
   "source": [
    "#"
   ]
  },
  {
   "cell_type": "code",
   "execution_count": 20,
   "id": "bb06465a-5734-43e5-8239-829d03d7cde6",
   "metadata": {},
   "outputs": [],
   "source": [
    "tfile = 'Task07_Pancreas.tar'"
   ]
  },
  {
   "cell_type": "code",
   "execution_count": 22,
   "id": "9834ee3e-5731-4127-bf5e-e40a33c68ea6",
   "metadata": {},
   "outputs": [],
   "source": [
    "import tarfile\n",
    "\n",
    "def extract_single_study(tar_path, study_num, target_dir=\"./extracted\"):\n",
    "    \"\"\"\n",
    "    Extract specific study files from a tar archive.\n",
    "    \n",
    "    Parameters:\n",
    "        tar_path (str): Path to the tar file.\n",
    "        study_num (int): Study number to extract (e.g., 1 for pancreas_001).\n",
    "        target_dir (str): Directory to extract the files into.\n",
    "    \"\"\"\n",
    "    study_prefix = f\"Task07_Pancreas/ImagesTr/pancreas_{study_num:03d}.nii.gz\"\n",
    "    label_prefix = f\"Task07_Pancreas/LabelsTr/pancreas_{study_num:03d}.nii.gz\"\n",
    "    \n",
    "    with tarfile.open(tar_path, \"r\") as tar:\n",
    "        members = [\n",
    "            member for member in tar.getmembers()\n",
    "            if member.name in [study_prefix, label_prefix]\n",
    "        ]\n",
    "        if not members:\n",
    "            print(f\"No files found for study {study_num}.\")\n",
    "            return\n",
    "\n",
    "        tar.extractall(path=target_dir, members=members)\n",
    "        print(f\"Extracted files for study {study_num} to {target_dir}.\")\n",
    "\n",
    "# Extract files for study 1\n",
    "#extract_single_study(tar_file_path, study_num=1)"
   ]
  },
  {
   "cell_type": "code",
   "execution_count": null,
   "id": "c6168d85-984f-4280-a6ac-f375aa23d78f",
   "metadata": {},
   "outputs": [],
   "source": []
  }
 ],
 "metadata": {
  "kernelspec": {
   "display_name": "Python 3 (ipykernel)",
   "language": "python",
   "name": "python3"
  },
  "language_info": {
   "codemirror_mode": {
    "name": "ipython",
    "version": 3
   },
   "file_extension": ".py",
   "mimetype": "text/x-python",
   "name": "python",
   "nbconvert_exporter": "python",
   "pygments_lexer": "ipython3",
   "version": "3.12.7"
  }
 },
 "nbformat": 4,
 "nbformat_minor": 5
}
