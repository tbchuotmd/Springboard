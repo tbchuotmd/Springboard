{
 "cells": [
  {
   "cell_type": "code",
   "execution_count": 1,
   "id": "a2ae5aa4-05fc-442b-9f57-c2e21afb5f7e",
   "metadata": {},
   "outputs": [],
   "source": [
    "from sqlalchemy import create_engine, inspect, text\n",
    "import pandas as pd\n",
    "\n",
    "engine = create_engine('sqlite:///sqlite_db_pythonsqlite.db')"
   ]
  },
  {
   "cell_type": "code",
   "execution_count": 2,
   "id": "9315c309-3378-444c-b1ec-f22526eb586b",
   "metadata": {},
   "outputs": [],
   "source": [
    "def run_sql_query(query=None):\n",
    "    if not query:\n",
    "        query=input()\n",
    "    with engine.connect() as conn:\n",
    "        rs = conn.execute(text(query))\n",
    "        df = pd.DataFrame(rs.fetchall())\n",
    "    return df"
   ]
  },
  {
   "cell_type": "code",
   "execution_count": 3,
   "id": "5557ccf9-55ad-415f-9194-115f930179fc",
   "metadata": {},
   "outputs": [],
   "source": [
    "f = run_sql_query(\"SELECT * FROM Facilities\")\n",
    "b = run_sql_query(\"SELECT * FROM Bookings\")\n",
    "m = run_sql_query(\"SELECT * FROM Members\")"
   ]
  },
  {
   "cell_type": "code",
   "execution_count": 4,
   "id": "646fa871-ea27-44ab-88d2-4e15bde24c81",
   "metadata": {},
   "outputs": [],
   "source": [
    "def disp_cols(title,df):\n",
    "    print(f\"{title.upper()}\")\n",
    "    for col in df.columns:\n",
    "        print(f\"\\t{col}\")"
   ]
  },
  {
   "cell_type": "code",
   "execution_count": 5,
   "id": "e7d2f14d-6c88-45a8-925e-3ecc0c4b5bbb",
   "metadata": {},
   "outputs": [
    {
     "name": "stdout",
     "output_type": "stream",
     "text": [
      "FACILITIES\n",
      "\tfacid\n",
      "\tname\n",
      "\tmembercost\n",
      "\tguestcost\n",
      "\tinitialoutlay\n",
      "\tmonthlymaintenance\n"
     ]
    }
   ],
   "source": [
    "disp_cols('facilities',f)"
   ]
  },
  {
   "cell_type": "code",
   "execution_count": 6,
   "id": "77186aba-13c4-4099-974f-c9e29daa10c6",
   "metadata": {},
   "outputs": [
    {
     "name": "stdout",
     "output_type": "stream",
     "text": [
      "BOOKINGS\n",
      "\tbookid\n",
      "\tfacid\n",
      "\tmemid\n",
      "\tstarttime\n",
      "\tslots\n"
     ]
    }
   ],
   "source": [
    "disp_cols('bookings',b)"
   ]
  },
  {
   "cell_type": "code",
   "execution_count": 7,
   "id": "098c8015-b17d-4c00-a2b0-490e03ab2d44",
   "metadata": {},
   "outputs": [
    {
     "name": "stdout",
     "output_type": "stream",
     "text": [
      "MEMBERS\n",
      "\tmemid\n",
      "\tsurname\n",
      "\tfirstname\n",
      "\taddress\n",
      "\tzipcode\n",
      "\ttelephone\n",
      "\trecommendedby\n",
      "\tjoindate\n"
     ]
    }
   ],
   "source": [
    "disp_cols('members',m)"
   ]
  },
  {
   "cell_type": "code",
   "execution_count": 8,
   "id": "9400153b-423c-4182-83df-c798d5380015",
   "metadata": {},
   "outputs": [
    {
     "data": {
      "text/plain": [
       "['facid']"
      ]
     },
     "execution_count": 8,
     "metadata": {},
     "output_type": "execute_result"
    }
   ],
   "source": [
    "[ col for col in f.columns if col in b.columns ]"
   ]
  },
  {
   "cell_type": "markdown",
   "id": "3cb349a3-f3ab-4ea8-a4eb-ed3cf73acce7",
   "metadata": {},
   "source": [
    "i.e., can join **```Facilities```** with **```Bookings```** on *```facid```* column"
   ]
  },
  {
   "cell_type": "code",
   "execution_count": 9,
   "id": "aa3183b9-2e36-4736-921e-6ff8a1a027ac",
   "metadata": {},
   "outputs": [
    {
     "data": {
      "text/plain": [
       "[]"
      ]
     },
     "execution_count": 9,
     "metadata": {},
     "output_type": "execute_result"
    }
   ],
   "source": [
    "[ col for col in f.columns if col in m.columns ]"
   ]
  },
  {
   "cell_type": "markdown",
   "id": "7f874b32-4c09-4eb8-b26d-f1376453c1e2",
   "metadata": {},
   "source": [
    "So, no common column to join **```Facilities```** with **```Members```** (will need to use **```Bookings```** as intermediary)"
   ]
  },
  {
   "cell_type": "code",
   "execution_count": 10,
   "id": "9a68516e-fe35-47bd-99ec-c3d15b19eec3",
   "metadata": {},
   "outputs": [
    {
     "data": {
      "text/plain": [
       "['memid']"
      ]
     },
     "execution_count": 10,
     "metadata": {},
     "output_type": "execute_result"
    }
   ],
   "source": [
    "[ col for col in b.columns if col in m.columns ]"
   ]
  },
  {
   "cell_type": "markdown",
   "id": "c7d6fbbd-809f-482a-bd41-5ae7a1353769",
   "metadata": {},
   "source": [
    "i.e., can join **```Bookings```** with **```Members```** on *```memid```* column."
   ]
  },
  {
   "cell_type": "markdown",
   "id": "74a5c2c3-d151-480a-9af1-420e3884eb4a",
   "metadata": {},
   "source": [
    "### Question 10\n",
    "/* Q10: Produce a list of facilities with a total revenue less than 1000.\n",
    "The output of facility name and total revenue, sorted by revenue. Remember\n",
    "that there's a different cost for guests and members! */"
   ]
  },
  {
   "cell_type": "code",
   "execution_count": 11,
   "id": "51d69d91-33bb-4bee-ad7a-f76be7fc5982",
   "metadata": {},
   "outputs": [
    {
     "data": {
      "text/html": [
       "<div>\n",
       "<style scoped>\n",
       "    .dataframe tbody tr th:only-of-type {\n",
       "        vertical-align: middle;\n",
       "    }\n",
       "\n",
       "    .dataframe tbody tr th {\n",
       "        vertical-align: top;\n",
       "    }\n",
       "\n",
       "    .dataframe thead th {\n",
       "        text-align: right;\n",
       "    }\n",
       "</style>\n",
       "<table border=\"1\" class=\"dataframe\">\n",
       "  <thead>\n",
       "    <tr style=\"text-align: right;\">\n",
       "      <th></th>\n",
       "      <th>facility</th>\n",
       "      <th>total_revenue</th>\n",
       "    </tr>\n",
       "  </thead>\n",
       "  <tbody>\n",
       "    <tr>\n",
       "      <th>0</th>\n",
       "      <td>Table Tennis</td>\n",
       "      <td>180</td>\n",
       "    </tr>\n",
       "    <tr>\n",
       "      <th>1</th>\n",
       "      <td>Snooker Table</td>\n",
       "      <td>240</td>\n",
       "    </tr>\n",
       "    <tr>\n",
       "      <th>2</th>\n",
       "      <td>Pool Table</td>\n",
       "      <td>270</td>\n",
       "    </tr>\n",
       "  </tbody>\n",
       "</table>\n",
       "</div>"
      ],
      "text/plain": [
       "        facility  total_revenue\n",
       "0   Table Tennis            180\n",
       "1  Snooker Table            240\n",
       "2     Pool Table            270"
      ]
     },
     "execution_count": 11,
     "metadata": {},
     "output_type": "execute_result"
    }
   ],
   "source": [
    "query=\"\"\"\n",
    "SELECT facility, SUM(cost) AS total_revenue\n",
    "\n",
    "FROM (\n",
    "    SELECT \n",
    "        f.name AS facility,\n",
    "        (CASE WHEN m.memid = 0 \n",
    "        THEN slots * guestcost\n",
    "        ELSE slots * membercost END) AS cost\n",
    "        \n",
    "    FROM Members AS m\n",
    "    INNER JOIN Bookings AS b\n",
    "        ON m.memid = b.memid\n",
    "    \n",
    "    INNER JOIN Facilities as f\n",
    "        ON f.facid = b.facid\n",
    ") AS subq\n",
    "\n",
    "GROUP BY facility\n",
    "HAVING SUM(cost) < 1000\n",
    "ORDER BY total_revenue\n",
    "\n",
    "\"\"\"\n",
    "run_sql_query(query)"
   ]
  },
  {
   "cell_type": "markdown",
   "id": "4aa5ee20-a64e-420e-9a2d-53a8882ec91a",
   "metadata": {},
   "source": [
    "### Question 11\n",
    "/* Q11: Produce a report of members and who recommended them in alphabetic surname,firstname order */"
   ]
  },
  {
   "cell_type": "code",
   "execution_count": 12,
   "id": "6c08e220-7473-44ea-851e-c708b6de7d85",
   "metadata": {},
   "outputs": [
    {
     "data": {
      "text/html": [
       "<div>\n",
       "<style scoped>\n",
       "    .dataframe tbody tr th:only-of-type {\n",
       "        vertical-align: middle;\n",
       "    }\n",
       "\n",
       "    .dataframe tbody tr th {\n",
       "        vertical-align: top;\n",
       "    }\n",
       "\n",
       "    .dataframe thead th {\n",
       "        text-align: right;\n",
       "    }\n",
       "</style>\n",
       "<table border=\"1\" class=\"dataframe\">\n",
       "  <thead>\n",
       "    <tr style=\"text-align: right;\">\n",
       "      <th></th>\n",
       "      <th>member_name</th>\n",
       "      <th>recommender_name</th>\n",
       "    </tr>\n",
       "  </thead>\n",
       "  <tbody>\n",
       "    <tr>\n",
       "      <th>0</th>\n",
       "      <td>Bader, Florence</td>\n",
       "      <td>Stibbons, Ponder</td>\n",
       "    </tr>\n",
       "    <tr>\n",
       "      <th>1</th>\n",
       "      <td>Baker, Anne</td>\n",
       "      <td>Stibbons, Ponder</td>\n",
       "    </tr>\n",
       "    <tr>\n",
       "      <th>2</th>\n",
       "      <td>Coplin, Joan</td>\n",
       "      <td>Baker, Timothy</td>\n",
       "    </tr>\n",
       "    <tr>\n",
       "      <th>3</th>\n",
       "      <td>Dare, Nancy</td>\n",
       "      <td>Joplette, Janice</td>\n",
       "    </tr>\n",
       "    <tr>\n",
       "      <th>4</th>\n",
       "      <td>Genting, Matthew</td>\n",
       "      <td>Butters, Gerald</td>\n",
       "    </tr>\n",
       "    <tr>\n",
       "      <th>5</th>\n",
       "      <td>Hunt, John</td>\n",
       "      <td>Purview, Millicent</td>\n",
       "    </tr>\n",
       "    <tr>\n",
       "      <th>6</th>\n",
       "      <td>Jones, David</td>\n",
       "      <td>Joplette, Janice</td>\n",
       "    </tr>\n",
       "    <tr>\n",
       "      <th>7</th>\n",
       "      <td>Jones, Douglas</td>\n",
       "      <td>Jones, David</td>\n",
       "    </tr>\n",
       "    <tr>\n",
       "      <th>8</th>\n",
       "      <td>Rumney, Henrietta</td>\n",
       "      <td>Genting, Matthew</td>\n",
       "    </tr>\n",
       "    <tr>\n",
       "      <th>9</th>\n",
       "      <td>Sarwin, Ramnaresh</td>\n",
       "      <td>Bader, Florence</td>\n",
       "    </tr>\n",
       "  </tbody>\n",
       "</table>\n",
       "</div>"
      ],
      "text/plain": [
       "         member_name    recommender_name\n",
       "0    Bader, Florence    Stibbons, Ponder\n",
       "1        Baker, Anne    Stibbons, Ponder\n",
       "2       Coplin, Joan      Baker, Timothy\n",
       "3        Dare, Nancy    Joplette, Janice\n",
       "4   Genting, Matthew     Butters, Gerald\n",
       "5         Hunt, John  Purview, Millicent\n",
       "6       Jones, David    Joplette, Janice\n",
       "7     Jones, Douglas        Jones, David\n",
       "8  Rumney, Henrietta    Genting, Matthew\n",
       "9  Sarwin, Ramnaresh     Bader, Florence"
      ]
     },
     "execution_count": 12,
     "metadata": {},
     "output_type": "execute_result"
    }
   ],
   "source": [
    "query=\"\"\"\n",
    "\n",
    "SELECT \n",
    "    member_name,\n",
    "    recommender_name\n",
    "\n",
    "FROM(\n",
    "    SELECT \n",
    "        recommendedby AS id,\n",
    "        CONCAT_WS(', ',surname,firstname) AS member_name\n",
    "    FROM Members\n",
    "    WHERE recommendedby != ''\n",
    ") AS main\n",
    "\n",
    "INNER JOIN(\n",
    "    SELECT\n",
    "        memid AS id,\n",
    "        CONCAT_WS(', ',surname,firstname) AS recommender_name\n",
    "    FROM Members\n",
    "    WHERE recommendedby != ''\n",
    ") AS recs\n",
    "\n",
    "ON main.id = recs.id\n",
    "ORDER BY member_name, recommender_name ASC\n",
    "        \n",
    "\"\"\"\n",
    "run_sql_query(query)"
   ]
  },
  {
   "cell_type": "markdown",
   "id": "dffd8a52-b254-4d2f-bd8f-567352943cc9",
   "metadata": {},
   "source": [
    "### Question 12\n",
    "/* Q12: Find the facilities with their usage by member, but not guests */"
   ]
  },
  {
   "cell_type": "code",
   "execution_count": 13,
   "id": "fff91a60-960e-4407-bd19-1594c65ba2ea",
   "metadata": {},
   "outputs": [
    {
     "data": {
      "text/html": [
       "<div>\n",
       "<style scoped>\n",
       "    .dataframe tbody tr th:only-of-type {\n",
       "        vertical-align: middle;\n",
       "    }\n",
       "\n",
       "    .dataframe tbody tr th {\n",
       "        vertical-align: top;\n",
       "    }\n",
       "\n",
       "    .dataframe thead th {\n",
       "        text-align: right;\n",
       "    }\n",
       "</style>\n",
       "<table border=\"1\" class=\"dataframe\">\n",
       "  <thead>\n",
       "    <tr style=\"text-align: right;\">\n",
       "      <th></th>\n",
       "      <th>facility</th>\n",
       "      <th>member_bookings</th>\n",
       "    </tr>\n",
       "  </thead>\n",
       "  <tbody>\n",
       "    <tr>\n",
       "      <th>0</th>\n",
       "      <td>Badminton Court</td>\n",
       "      <td>344</td>\n",
       "    </tr>\n",
       "    <tr>\n",
       "      <th>1</th>\n",
       "      <td>Massage Room 1</td>\n",
       "      <td>421</td>\n",
       "    </tr>\n",
       "    <tr>\n",
       "      <th>2</th>\n",
       "      <td>Massage Room 2</td>\n",
       "      <td>27</td>\n",
       "    </tr>\n",
       "    <tr>\n",
       "      <th>3</th>\n",
       "      <td>Pool Table</td>\n",
       "      <td>783</td>\n",
       "    </tr>\n",
       "    <tr>\n",
       "      <th>4</th>\n",
       "      <td>Snooker Table</td>\n",
       "      <td>421</td>\n",
       "    </tr>\n",
       "    <tr>\n",
       "      <th>5</th>\n",
       "      <td>Squash Court</td>\n",
       "      <td>195</td>\n",
       "    </tr>\n",
       "    <tr>\n",
       "      <th>6</th>\n",
       "      <td>Table Tennis</td>\n",
       "      <td>385</td>\n",
       "    </tr>\n",
       "    <tr>\n",
       "      <th>7</th>\n",
       "      <td>Tennis Court 1</td>\n",
       "      <td>308</td>\n",
       "    </tr>\n",
       "    <tr>\n",
       "      <th>8</th>\n",
       "      <td>Tennis Court 2</td>\n",
       "      <td>276</td>\n",
       "    </tr>\n",
       "  </tbody>\n",
       "</table>\n",
       "</div>"
      ],
      "text/plain": [
       "          facility  member_bookings\n",
       "0  Badminton Court              344\n",
       "1   Massage Room 1              421\n",
       "2   Massage Room 2               27\n",
       "3       Pool Table              783\n",
       "4    Snooker Table              421\n",
       "5     Squash Court              195\n",
       "6     Table Tennis              385\n",
       "7   Tennis Court 1              308\n",
       "8   Tennis Court 2              276"
      ]
     },
     "execution_count": 13,
     "metadata": {},
     "output_type": "execute_result"
    }
   ],
   "source": [
    "query=\"\"\"\n",
    "SELECT\n",
    "    f.facility,\n",
    "    COUNT(m.memid) AS member_bookings\n",
    "\n",
    "FROM (SELECT memid FROM Members WHERE memid != 0) AS m\n",
    "\n",
    "INNER JOIN (SELECT bookid,facid,memid FROM Bookings) AS b\n",
    "    ON m.memid = b.memid\n",
    "\n",
    "INNER JOIN (SELECT facid, name AS facility FROM Facilities) AS f\n",
    "    ON f.facid = b.facid\n",
    "\n",
    "GROUP BY f.facility\n",
    "\"\"\"\n",
    "run_sql_query(query)"
   ]
  },
  {
   "cell_type": "markdown",
   "id": "5b27304d-d9a9-412d-a82e-7322e3c7598f",
   "metadata": {},
   "source": [
    "#### Question 13\n",
    "/* Q13: Find the facilities usage by month, but not guests */"
   ]
  },
  {
   "cell_type": "code",
   "execution_count": 14,
   "id": "c5067295-eee7-4532-baf9-3ad52ede2c0e",
   "metadata": {},
   "outputs": [
    {
     "data": {
      "text/html": [
       "<div>\n",
       "<style scoped>\n",
       "    .dataframe tbody tr th:only-of-type {\n",
       "        vertical-align: middle;\n",
       "    }\n",
       "\n",
       "    .dataframe tbody tr th {\n",
       "        vertical-align: top;\n",
       "    }\n",
       "\n",
       "    .dataframe thead th {\n",
       "        text-align: right;\n",
       "    }\n",
       "</style>\n",
       "<table border=\"1\" class=\"dataframe\">\n",
       "  <thead>\n",
       "    <tr style=\"text-align: right;\">\n",
       "      <th></th>\n",
       "      <th>facility</th>\n",
       "      <th>month</th>\n",
       "      <th>member_bookings</th>\n",
       "    </tr>\n",
       "  </thead>\n",
       "  <tbody>\n",
       "    <tr>\n",
       "      <th>0</th>\n",
       "      <td>Badminton Court</td>\n",
       "      <td>07</td>\n",
       "      <td>51</td>\n",
       "    </tr>\n",
       "    <tr>\n",
       "      <th>1</th>\n",
       "      <td>Badminton Court</td>\n",
       "      <td>08</td>\n",
       "      <td>132</td>\n",
       "    </tr>\n",
       "    <tr>\n",
       "      <th>2</th>\n",
       "      <td>Badminton Court</td>\n",
       "      <td>09</td>\n",
       "      <td>161</td>\n",
       "    </tr>\n",
       "    <tr>\n",
       "      <th>3</th>\n",
       "      <td>Massage Room 1</td>\n",
       "      <td>07</td>\n",
       "      <td>77</td>\n",
       "    </tr>\n",
       "    <tr>\n",
       "      <th>4</th>\n",
       "      <td>Massage Room 1</td>\n",
       "      <td>08</td>\n",
       "      <td>153</td>\n",
       "    </tr>\n",
       "    <tr>\n",
       "      <th>5</th>\n",
       "      <td>Massage Room 1</td>\n",
       "      <td>09</td>\n",
       "      <td>191</td>\n",
       "    </tr>\n",
       "    <tr>\n",
       "      <th>6</th>\n",
       "      <td>Massage Room 2</td>\n",
       "      <td>07</td>\n",
       "      <td>4</td>\n",
       "    </tr>\n",
       "    <tr>\n",
       "      <th>7</th>\n",
       "      <td>Massage Room 2</td>\n",
       "      <td>08</td>\n",
       "      <td>9</td>\n",
       "    </tr>\n",
       "    <tr>\n",
       "      <th>8</th>\n",
       "      <td>Massage Room 2</td>\n",
       "      <td>09</td>\n",
       "      <td>14</td>\n",
       "    </tr>\n",
       "    <tr>\n",
       "      <th>9</th>\n",
       "      <td>Pool Table</td>\n",
       "      <td>07</td>\n",
       "      <td>103</td>\n",
       "    </tr>\n",
       "    <tr>\n",
       "      <th>10</th>\n",
       "      <td>Pool Table</td>\n",
       "      <td>08</td>\n",
       "      <td>272</td>\n",
       "    </tr>\n",
       "    <tr>\n",
       "      <th>11</th>\n",
       "      <td>Pool Table</td>\n",
       "      <td>09</td>\n",
       "      <td>408</td>\n",
       "    </tr>\n",
       "    <tr>\n",
       "      <th>12</th>\n",
       "      <td>Snooker Table</td>\n",
       "      <td>07</td>\n",
       "      <td>68</td>\n",
       "    </tr>\n",
       "    <tr>\n",
       "      <th>13</th>\n",
       "      <td>Snooker Table</td>\n",
       "      <td>08</td>\n",
       "      <td>154</td>\n",
       "    </tr>\n",
       "    <tr>\n",
       "      <th>14</th>\n",
       "      <td>Snooker Table</td>\n",
       "      <td>09</td>\n",
       "      <td>199</td>\n",
       "    </tr>\n",
       "    <tr>\n",
       "      <th>15</th>\n",
       "      <td>Squash Court</td>\n",
       "      <td>07</td>\n",
       "      <td>23</td>\n",
       "    </tr>\n",
       "    <tr>\n",
       "      <th>16</th>\n",
       "      <td>Squash Court</td>\n",
       "      <td>08</td>\n",
       "      <td>85</td>\n",
       "    </tr>\n",
       "    <tr>\n",
       "      <th>17</th>\n",
       "      <td>Squash Court</td>\n",
       "      <td>09</td>\n",
       "      <td>87</td>\n",
       "    </tr>\n",
       "    <tr>\n",
       "      <th>18</th>\n",
       "      <td>Table Tennis</td>\n",
       "      <td>07</td>\n",
       "      <td>48</td>\n",
       "    </tr>\n",
       "    <tr>\n",
       "      <th>19</th>\n",
       "      <td>Table Tennis</td>\n",
       "      <td>08</td>\n",
       "      <td>143</td>\n",
       "    </tr>\n",
       "    <tr>\n",
       "      <th>20</th>\n",
       "      <td>Table Tennis</td>\n",
       "      <td>09</td>\n",
       "      <td>194</td>\n",
       "    </tr>\n",
       "    <tr>\n",
       "      <th>21</th>\n",
       "      <td>Tennis Court 1</td>\n",
       "      <td>07</td>\n",
       "      <td>65</td>\n",
       "    </tr>\n",
       "    <tr>\n",
       "      <th>22</th>\n",
       "      <td>Tennis Court 1</td>\n",
       "      <td>08</td>\n",
       "      <td>111</td>\n",
       "    </tr>\n",
       "    <tr>\n",
       "      <th>23</th>\n",
       "      <td>Tennis Court 1</td>\n",
       "      <td>09</td>\n",
       "      <td>132</td>\n",
       "    </tr>\n",
       "    <tr>\n",
       "      <th>24</th>\n",
       "      <td>Tennis Court 2</td>\n",
       "      <td>07</td>\n",
       "      <td>41</td>\n",
       "    </tr>\n",
       "    <tr>\n",
       "      <th>25</th>\n",
       "      <td>Tennis Court 2</td>\n",
       "      <td>08</td>\n",
       "      <td>109</td>\n",
       "    </tr>\n",
       "    <tr>\n",
       "      <th>26</th>\n",
       "      <td>Tennis Court 2</td>\n",
       "      <td>09</td>\n",
       "      <td>126</td>\n",
       "    </tr>\n",
       "  </tbody>\n",
       "</table>\n",
       "</div>"
      ],
      "text/plain": [
       "           facility month  member_bookings\n",
       "0   Badminton Court    07               51\n",
       "1   Badminton Court    08              132\n",
       "2   Badminton Court    09              161\n",
       "3    Massage Room 1    07               77\n",
       "4    Massage Room 1    08              153\n",
       "5    Massage Room 1    09              191\n",
       "6    Massage Room 2    07                4\n",
       "7    Massage Room 2    08                9\n",
       "8    Massage Room 2    09               14\n",
       "9        Pool Table    07              103\n",
       "10       Pool Table    08              272\n",
       "11       Pool Table    09              408\n",
       "12    Snooker Table    07               68\n",
       "13    Snooker Table    08              154\n",
       "14    Snooker Table    09              199\n",
       "15     Squash Court    07               23\n",
       "16     Squash Court    08               85\n",
       "17     Squash Court    09               87\n",
       "18     Table Tennis    07               48\n",
       "19     Table Tennis    08              143\n",
       "20     Table Tennis    09              194\n",
       "21   Tennis Court 1    07               65\n",
       "22   Tennis Court 1    08              111\n",
       "23   Tennis Court 1    09              132\n",
       "24   Tennis Court 2    07               41\n",
       "25   Tennis Court 2    08              109\n",
       "26   Tennis Court 2    09              126"
      ]
     },
     "execution_count": 14,
     "metadata": {},
     "output_type": "execute_result"
    }
   ],
   "source": [
    "query=\"\"\"\n",
    "SELECT\n",
    "    facility,\n",
    "    STRFTIME('%m', b.starttime) AS month,\n",
    "    COUNT(m.memid) AS member_bookings\n",
    "\n",
    "FROM (SELECT memid FROM Members WHERE memid != 0) AS m\n",
    "\n",
    "INNER JOIN (SELECT bookid,facid,memid, starttime FROM Bookings) AS b\n",
    "    ON m.memid = b.memid\n",
    "\n",
    "INNER JOIN (SELECT facid, name AS facility FROM Facilities) AS f\n",
    "    ON f.facid = b.facid\n",
    "\n",
    "GROUP BY facility,STRFTIME('%m', b.starttime)\n",
    "\"\"\"\n",
    "run_sql_query(query)"
   ]
  }
 ],
 "metadata": {
  "kernelspec": {
   "display_name": "Python 3 (ipykernel)",
   "language": "python",
   "name": "python3"
  },
  "language_info": {
   "codemirror_mode": {
    "name": "ipython",
    "version": 3
   },
   "file_extension": ".py",
   "mimetype": "text/x-python",
   "name": "python",
   "nbconvert_exporter": "python",
   "pygments_lexer": "ipython3",
   "version": "3.12.7"
  }
 },
 "nbformat": 4,
 "nbformat_minor": 5
}
