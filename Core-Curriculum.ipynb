{
 "cells": [
  {
   "cell_type": "markdown",
   "id": "b7525459-f11e-40f0-86b6-bc258d44c1fe",
   "metadata": {},
   "source": [
    "# 15 | The Python Data Science Stack"
   ]
  },
  {
   "cell_type": "markdown",
   "id": "7afafd9c-bd7c-41f5-a808-a31b25e7fcdd",
   "metadata": {},
   "source": [
    "## 15.2 | The Power of Pandas\n",
    "### DataCamp - Data Manipulation with Pandas"
   ]
  },
  {
   "cell_type": "markdown",
   "id": "47d13be7-59bb-4bca-8ab0-be6c34a7727e",
   "metadata": {},
   "source": [
    "#### Intro to DataFrame"
   ]
  },
  {
   "cell_type": "code",
   "execution_count": 1,
   "id": "0fef022f-9661-4aea-8365-516637b34aae",
   "metadata": {},
   "outputs": [],
   "source": [
    "import pandas as pd"
   ]
  },
  {
   "cell_type": "code",
   "execution_count": 7,
   "id": "8ebe2ca8-5252-4d7f-a1f1-cf107c312fd5",
   "metadata": {},
   "outputs": [
    {
     "data": {
      "text/html": [
       "<div>\n",
       "<style scoped>\n",
       "    .dataframe tbody tr th:only-of-type {\n",
       "        vertical-align: middle;\n",
       "    }\n",
       "\n",
       "    .dataframe tbody tr th {\n",
       "        vertical-align: top;\n",
       "    }\n",
       "\n",
       "    .dataframe thead th {\n",
       "        text-align: right;\n",
       "    }\n",
       "</style>\n",
       "<table border=\"1\" class=\"dataframe\">\n",
       "  <thead>\n",
       "    <tr style=\"text-align: right;\">\n",
       "      <th></th>\n",
       "      <th>Series Name</th>\n",
       "      <th>Series Code</th>\n",
       "      <th>Country Name</th>\n",
       "      <th>Country Code</th>\n",
       "      <th>2009 [YR2009]</th>\n",
       "      <th>2010 [YR2010]</th>\n",
       "      <th>2011 [YR2011]</th>\n",
       "      <th>2012 [YR2012]</th>\n",
       "    </tr>\n",
       "  </thead>\n",
       "  <tbody>\n",
       "    <tr>\n",
       "      <th>0</th>\n",
       "      <td>GDP growth (annual %)</td>\n",
       "      <td>NY.GDP.MKTP.KD.ZG</td>\n",
       "      <td>Brazil</td>\n",
       "      <td>BRA</td>\n",
       "      <td>-0.125812</td>\n",
       "      <td>7.528226</td>\n",
       "      <td>3.974423</td>\n",
       "      <td>1.921176</td>\n",
       "    </tr>\n",
       "    <tr>\n",
       "      <th>1</th>\n",
       "      <td>GDP growth (annual %)</td>\n",
       "      <td>NY.GDP.MKTP.KD.ZG</td>\n",
       "      <td>Russian Federation</td>\n",
       "      <td>RUS</td>\n",
       "      <td>-7.799994</td>\n",
       "      <td>4.500000</td>\n",
       "      <td>4.300029</td>\n",
       "      <td>4.024086</td>\n",
       "    </tr>\n",
       "    <tr>\n",
       "      <th>2</th>\n",
       "      <td>GDP growth (annual %)</td>\n",
       "      <td>NY.GDP.MKTP.KD.ZG</td>\n",
       "      <td>India</td>\n",
       "      <td>IND</td>\n",
       "      <td>7.861889</td>\n",
       "      <td>8.497585</td>\n",
       "      <td>5.241316</td>\n",
       "      <td>5.456388</td>\n",
       "    </tr>\n",
       "    <tr>\n",
       "      <th>3</th>\n",
       "      <td>GDP growth (annual %)</td>\n",
       "      <td>NY.GDP.MKTP.KD.ZG</td>\n",
       "      <td>China</td>\n",
       "      <td>CHN</td>\n",
       "      <td>9.398726</td>\n",
       "      <td>10.635871</td>\n",
       "      <td>9.550832</td>\n",
       "      <td>7.863736</td>\n",
       "    </tr>\n",
       "    <tr>\n",
       "      <th>4</th>\n",
       "      <td>GDP growth (annual %)</td>\n",
       "      <td>NY.GDP.MKTP.KD.ZG</td>\n",
       "      <td>South Africa</td>\n",
       "      <td>ZAF</td>\n",
       "      <td>-1.538089</td>\n",
       "      <td>3.039733</td>\n",
       "      <td>3.168556</td>\n",
       "      <td>2.396232</td>\n",
       "    </tr>\n",
       "  </tbody>\n",
       "</table>\n",
       "</div>"
      ],
      "text/plain": [
       "             Series Name        Series Code        Country Name Country Code  \\\n",
       "0  GDP growth (annual %)  NY.GDP.MKTP.KD.ZG              Brazil          BRA   \n",
       "1  GDP growth (annual %)  NY.GDP.MKTP.KD.ZG  Russian Federation          RUS   \n",
       "2  GDP growth (annual %)  NY.GDP.MKTP.KD.ZG               India          IND   \n",
       "3  GDP growth (annual %)  NY.GDP.MKTP.KD.ZG               China          CHN   \n",
       "4  GDP growth (annual %)  NY.GDP.MKTP.KD.ZG        South Africa          ZAF   \n",
       "\n",
       "   2009 [YR2009]  2010 [YR2010]  2011 [YR2011]  2012 [YR2012]  \n",
       "0      -0.125812       7.528226       3.974423       1.921176  \n",
       "1      -7.799994       4.500000       4.300029       4.024086  \n",
       "2       7.861889       8.497585       5.241316       5.456388  \n",
       "3       9.398726      10.635871       9.550832       7.863736  \n",
       "4      -1.538089       3.039733       3.168556       2.396232  "
      ]
     },
     "execution_count": 7,
     "metadata": {},
     "output_type": "execute_result"
    }
   ],
   "source": [
    "brics = pd.read_csv('BRICS_Data.csv')\n",
    "brics.head()"
   ]
  },
  {
   "cell_type": "code",
   "execution_count": 13,
   "id": "6434e2f7-3279-4e9d-8aaa-4bf21fd04d78",
   "metadata": {},
   "outputs": [
    {
     "name": "stdout",
     "output_type": "stream",
     "text": [
      "<class 'pandas.core.frame.DataFrame'>\n",
      "RangeIndex: 15 entries, 0 to 14\n",
      "Data columns (total 8 columns):\n",
      " #   Column         Non-Null Count  Dtype  \n",
      "---  ------         --------------  -----  \n",
      " 0   Series Name    12 non-null     object \n",
      " 1   Series Code    10 non-null     object \n",
      " 2   Country Name   10 non-null     object \n",
      " 3   Country Code   10 non-null     object \n",
      " 4   2009 [YR2009]  10 non-null     float64\n",
      " 5   2010 [YR2010]  10 non-null     float64\n",
      " 6   2011 [YR2011]  10 non-null     float64\n",
      " 7   2012 [YR2012]  10 non-null     float64\n",
      "dtypes: float64(4), object(4)\n",
      "memory usage: 1.1+ KB\n"
     ]
    }
   ],
   "source": [
    "brics.info()"
   ]
  },
  {
   "cell_type": "code",
   "execution_count": 17,
   "id": "788219b5-45a3-43e8-a5c3-eea0683d06ea",
   "metadata": {},
   "outputs": [
    {
     "data": {
      "text/plain": [
       "(15, 8)"
      ]
     },
     "execution_count": 17,
     "metadata": {},
     "output_type": "execute_result"
    }
   ],
   "source": [
    "brics.shape"
   ]
  },
  {
   "cell_type": "markdown",
   "id": "516e58b0-40ef-4abe-81ea-69e82cc01ae2",
   "metadata": {},
   "source": [
    "brics.describe()"
   ]
  },
  {
   "cell_type": "markdown",
   "id": "b7bfbb0e-315d-430c-8a46-6eef75677a57",
   "metadata": {},
   "source": [
    "Pandas DataFrames are composed of three components, accessible as attributes: values, columns, and index"
   ]
  },
  {
   "cell_type": "code",
   "execution_count": 21,
   "id": "e2d4a100-004f-42b6-a600-f8ee3b623065",
   "metadata": {},
   "outputs": [
    {
     "data": {
      "text/plain": [
       "array([['GDP growth (annual %)', 'NY.GDP.MKTP.KD.ZG', 'Brazil', 'BRA',\n",
       "        -0.125812002161169, 7.52822581815364, 3.97442307944702,\n",
       "        1.92117598576537],\n",
       "       ['GDP growth (annual %)', 'NY.GDP.MKTP.KD.ZG',\n",
       "        'Russian Federation', 'RUS', -7.79999391271275, 4.49999999920672,\n",
       "        4.30002918567749, 4.02408615746921],\n",
       "       ['GDP growth (annual %)', 'NY.GDP.MKTP.KD.ZG', 'India', 'IND',\n",
       "        7.86188883286074, 8.49758470221235, 5.24131619938926,\n",
       "        5.45638755164701],\n",
       "       ['GDP growth (annual %)', 'NY.GDP.MKTP.KD.ZG', 'China', 'CHN',\n",
       "        9.39872563259674, 10.6358710644913, 9.55083217877568,\n",
       "        7.86373644862111],\n",
       "       ['GDP growth (annual %)', 'NY.GDP.MKTP.KD.ZG', 'South Africa',\n",
       "        'ZAF', -1.53808913525583, 3.03973288127956, 3.16855627858818,\n",
       "        2.39623238465745],\n",
       "       ['General government final consumption expenditure (% of GDP)',\n",
       "        'NE.CON.GOVT.ZS', 'Brazil', 'BRA', 19.6506384012198,\n",
       "        19.0168578356276, 18.6692569364374, 18.5301032637141],\n",
       "       ['General government final consumption expenditure (% of GDP)',\n",
       "        'NE.CON.GOVT.ZS', 'Russian Federation', 'RUS', 20.7865966596139,\n",
       "        18.7250554156357, 17.6255115280966, 17.9672380527257],\n",
       "       ['General government final consumption expenditure (% of GDP)',\n",
       "        'NE.CON.GOVT.ZS', 'India', 'IND', 11.459667419691,\n",
       "        11.0076078674499, 11.0844615855558, 10.6838562318095],\n",
       "       ['General government final consumption expenditure (% of GDP)',\n",
       "        'NE.CON.GOVT.ZS', 'China', 'CHN', 14.7529761302757,\n",
       "        14.5870205780333, 15.2388649383201, 15.7560783884401],\n",
       "       ['General government final consumption expenditure (% of GDP)',\n",
       "        'NE.CON.GOVT.ZS', 'South Africa', 'ZAF', 17.7936331368919,\n",
       "        17.996063602882, 18.1951431854763, 18.8205452606488],\n",
       "       [nan, nan, nan, nan, nan, nan, nan, nan],\n",
       "       [nan, nan, nan, nan, nan, nan, nan, nan],\n",
       "       [nan, nan, nan, nan, nan, nan, nan, nan],\n",
       "       ['Data from database: World Development Indicators', nan, nan,\n",
       "        nan, nan, nan, nan, nan],\n",
       "       ['Last Updated: 11/13/2024', nan, nan, nan, nan, nan, nan, nan]],\n",
       "      dtype=object)"
      ]
     },
     "execution_count": 21,
     "metadata": {},
     "output_type": "execute_result"
    }
   ],
   "source": [
    "brics.values"
   ]
  },
  {
   "cell_type": "markdown",
   "id": "1abf1032-2bcd-4582-a64d-44b56ddd5d1e",
   "metadata": {},
   "source": [
    "Note that the values attribute is a 2D numpy array, where the data objects contained in each \"cell\" of the table corresponds to a single element of the array."
   ]
  },
  {
   "cell_type": "code",
   "execution_count": 31,
   "id": "9109aa26-58e0-4b2b-a325-edf2c1e2dfa3",
   "metadata": {},
   "outputs": [
    {
     "data": {
      "text/plain": [
       "numpy.ndarray"
      ]
     },
     "execution_count": 31,
     "metadata": {},
     "output_type": "execute_result"
    }
   ],
   "source": [
    "type(brics.values)"
   ]
  },
  {
   "cell_type": "code",
   "execution_count": 27,
   "id": "694ff955-16dd-4705-bdea-d8300c2c6a02",
   "metadata": {},
   "outputs": [
    {
     "data": {
      "text/plain": [
       "Index(['Series Name', 'Series Code', 'Country Name', 'Country Code',\n",
       "       '2009 [YR2009]', '2010 [YR2010]', '2011 [YR2011]', '2012 [YR2012]'],\n",
       "      dtype='object')"
      ]
     },
     "execution_count": 27,
     "metadata": {},
     "output_type": "execute_result"
    }
   ],
   "source": [
    "brics.columns"
   ]
  },
  {
   "cell_type": "code",
   "execution_count": 36,
   "id": "1453e581-2fa1-47f5-b82f-2cfe2e5b3dee",
   "metadata": {},
   "outputs": [
    {
     "data": {
      "text/plain": [
       "pandas.core.indexes.base.Index"
      ]
     },
     "execution_count": 36,
     "metadata": {},
     "output_type": "execute_result"
    }
   ],
   "source": [
    "type(brics.columns)"
   ]
  },
  {
   "cell_type": "code",
   "execution_count": 29,
   "id": "1dd94293-6fb3-4b91-bcda-4a619284f446",
   "metadata": {},
   "outputs": [
    {
     "data": {
      "text/plain": [
       "RangeIndex(start=0, stop=15, step=1)"
      ]
     },
     "execution_count": 29,
     "metadata": {},
     "output_type": "execute_result"
    }
   ],
   "source": [
    "brics.index"
   ]
  },
  {
   "cell_type": "code",
   "execution_count": 34,
   "id": "2ccff1c8-49cb-4a4a-a09f-2320cc109ff1",
   "metadata": {},
   "outputs": [
    {
     "data": {
      "text/plain": [
       "pandas.core.indexes.range.RangeIndex"
      ]
     },
     "execution_count": 34,
     "metadata": {},
     "output_type": "execute_result"
    }
   ],
   "source": [
    "type(brics.index)"
   ]
  },
  {
   "cell_type": "markdown",
   "id": "8a1c3cc4-2914-4107-9e20-45a64f85f8ce",
   "metadata": {},
   "source": [
    "#### Sorting & Subsetting"
   ]
  },
  {
   "cell_type": "code",
   "execution_count": 43,
   "id": "660e01ce-3efd-4357-b214-4d5f546bf205",
   "metadata": {},
   "outputs": [
    {
     "data": {
      "text/html": [
       "<div>\n",
       "<style scoped>\n",
       "    .dataframe tbody tr th:only-of-type {\n",
       "        vertical-align: middle;\n",
       "    }\n",
       "\n",
       "    .dataframe tbody tr th {\n",
       "        vertical-align: top;\n",
       "    }\n",
       "\n",
       "    .dataframe thead th {\n",
       "        text-align: right;\n",
       "    }\n",
       "</style>\n",
       "<table border=\"1\" class=\"dataframe\">\n",
       "  <thead>\n",
       "    <tr style=\"text-align: right;\">\n",
       "      <th></th>\n",
       "      <th>Series Name</th>\n",
       "      <th>Series Code</th>\n",
       "      <th>Country Name</th>\n",
       "      <th>Country Code</th>\n",
       "      <th>2009 [YR2009]</th>\n",
       "      <th>2010 [YR2010]</th>\n",
       "      <th>2011 [YR2011]</th>\n",
       "      <th>2012 [YR2012]</th>\n",
       "    </tr>\n",
       "  </thead>\n",
       "  <tbody>\n",
       "    <tr>\n",
       "      <th>0</th>\n",
       "      <td>GDP growth (annual %)</td>\n",
       "      <td>NY.GDP.MKTP.KD.ZG</td>\n",
       "      <td>Brazil</td>\n",
       "      <td>BRA</td>\n",
       "      <td>-0.125812</td>\n",
       "      <td>7.528226</td>\n",
       "      <td>3.974423</td>\n",
       "      <td>1.921176</td>\n",
       "    </tr>\n",
       "    <tr>\n",
       "      <th>5</th>\n",
       "      <td>General government final consumption expenditu...</td>\n",
       "      <td>NE.CON.GOVT.ZS</td>\n",
       "      <td>Brazil</td>\n",
       "      <td>BRA</td>\n",
       "      <td>19.650638</td>\n",
       "      <td>19.016858</td>\n",
       "      <td>18.669257</td>\n",
       "      <td>18.530103</td>\n",
       "    </tr>\n",
       "    <tr>\n",
       "      <th>3</th>\n",
       "      <td>GDP growth (annual %)</td>\n",
       "      <td>NY.GDP.MKTP.KD.ZG</td>\n",
       "      <td>China</td>\n",
       "      <td>CHN</td>\n",
       "      <td>9.398726</td>\n",
       "      <td>10.635871</td>\n",
       "      <td>9.550832</td>\n",
       "      <td>7.863736</td>\n",
       "    </tr>\n",
       "    <tr>\n",
       "      <th>8</th>\n",
       "      <td>General government final consumption expenditu...</td>\n",
       "      <td>NE.CON.GOVT.ZS</td>\n",
       "      <td>China</td>\n",
       "      <td>CHN</td>\n",
       "      <td>14.752976</td>\n",
       "      <td>14.587021</td>\n",
       "      <td>15.238865</td>\n",
       "      <td>15.756078</td>\n",
       "    </tr>\n",
       "    <tr>\n",
       "      <th>2</th>\n",
       "      <td>GDP growth (annual %)</td>\n",
       "      <td>NY.GDP.MKTP.KD.ZG</td>\n",
       "      <td>India</td>\n",
       "      <td>IND</td>\n",
       "      <td>7.861889</td>\n",
       "      <td>8.497585</td>\n",
       "      <td>5.241316</td>\n",
       "      <td>5.456388</td>\n",
       "    </tr>\n",
       "    <tr>\n",
       "      <th>7</th>\n",
       "      <td>General government final consumption expenditu...</td>\n",
       "      <td>NE.CON.GOVT.ZS</td>\n",
       "      <td>India</td>\n",
       "      <td>IND</td>\n",
       "      <td>11.459667</td>\n",
       "      <td>11.007608</td>\n",
       "      <td>11.084462</td>\n",
       "      <td>10.683856</td>\n",
       "    </tr>\n",
       "    <tr>\n",
       "      <th>1</th>\n",
       "      <td>GDP growth (annual %)</td>\n",
       "      <td>NY.GDP.MKTP.KD.ZG</td>\n",
       "      <td>Russian Federation</td>\n",
       "      <td>RUS</td>\n",
       "      <td>-7.799994</td>\n",
       "      <td>4.500000</td>\n",
       "      <td>4.300029</td>\n",
       "      <td>4.024086</td>\n",
       "    </tr>\n",
       "    <tr>\n",
       "      <th>6</th>\n",
       "      <td>General government final consumption expenditu...</td>\n",
       "      <td>NE.CON.GOVT.ZS</td>\n",
       "      <td>Russian Federation</td>\n",
       "      <td>RUS</td>\n",
       "      <td>20.786597</td>\n",
       "      <td>18.725055</td>\n",
       "      <td>17.625512</td>\n",
       "      <td>17.967238</td>\n",
       "    </tr>\n",
       "    <tr>\n",
       "      <th>4</th>\n",
       "      <td>GDP growth (annual %)</td>\n",
       "      <td>NY.GDP.MKTP.KD.ZG</td>\n",
       "      <td>South Africa</td>\n",
       "      <td>ZAF</td>\n",
       "      <td>-1.538089</td>\n",
       "      <td>3.039733</td>\n",
       "      <td>3.168556</td>\n",
       "      <td>2.396232</td>\n",
       "    </tr>\n",
       "    <tr>\n",
       "      <th>9</th>\n",
       "      <td>General government final consumption expenditu...</td>\n",
       "      <td>NE.CON.GOVT.ZS</td>\n",
       "      <td>South Africa</td>\n",
       "      <td>ZAF</td>\n",
       "      <td>17.793633</td>\n",
       "      <td>17.996064</td>\n",
       "      <td>18.195143</td>\n",
       "      <td>18.820545</td>\n",
       "    </tr>\n",
       "    <tr>\n",
       "      <th>10</th>\n",
       "      <td>NaN</td>\n",
       "      <td>NaN</td>\n",
       "      <td>NaN</td>\n",
       "      <td>NaN</td>\n",
       "      <td>NaN</td>\n",
       "      <td>NaN</td>\n",
       "      <td>NaN</td>\n",
       "      <td>NaN</td>\n",
       "    </tr>\n",
       "    <tr>\n",
       "      <th>11</th>\n",
       "      <td>NaN</td>\n",
       "      <td>NaN</td>\n",
       "      <td>NaN</td>\n",
       "      <td>NaN</td>\n",
       "      <td>NaN</td>\n",
       "      <td>NaN</td>\n",
       "      <td>NaN</td>\n",
       "      <td>NaN</td>\n",
       "    </tr>\n",
       "    <tr>\n",
       "      <th>12</th>\n",
       "      <td>NaN</td>\n",
       "      <td>NaN</td>\n",
       "      <td>NaN</td>\n",
       "      <td>NaN</td>\n",
       "      <td>NaN</td>\n",
       "      <td>NaN</td>\n",
       "      <td>NaN</td>\n",
       "      <td>NaN</td>\n",
       "    </tr>\n",
       "    <tr>\n",
       "      <th>13</th>\n",
       "      <td>Data from database: World Development Indicators</td>\n",
       "      <td>NaN</td>\n",
       "      <td>NaN</td>\n",
       "      <td>NaN</td>\n",
       "      <td>NaN</td>\n",
       "      <td>NaN</td>\n",
       "      <td>NaN</td>\n",
       "      <td>NaN</td>\n",
       "    </tr>\n",
       "    <tr>\n",
       "      <th>14</th>\n",
       "      <td>Last Updated: 11/13/2024</td>\n",
       "      <td>NaN</td>\n",
       "      <td>NaN</td>\n",
       "      <td>NaN</td>\n",
       "      <td>NaN</td>\n",
       "      <td>NaN</td>\n",
       "      <td>NaN</td>\n",
       "      <td>NaN</td>\n",
       "    </tr>\n",
       "  </tbody>\n",
       "</table>\n",
       "</div>"
      ],
      "text/plain": [
       "                                          Series Name        Series Code  \\\n",
       "0                               GDP growth (annual %)  NY.GDP.MKTP.KD.ZG   \n",
       "5   General government final consumption expenditu...     NE.CON.GOVT.ZS   \n",
       "3                               GDP growth (annual %)  NY.GDP.MKTP.KD.ZG   \n",
       "8   General government final consumption expenditu...     NE.CON.GOVT.ZS   \n",
       "2                               GDP growth (annual %)  NY.GDP.MKTP.KD.ZG   \n",
       "7   General government final consumption expenditu...     NE.CON.GOVT.ZS   \n",
       "1                               GDP growth (annual %)  NY.GDP.MKTP.KD.ZG   \n",
       "6   General government final consumption expenditu...     NE.CON.GOVT.ZS   \n",
       "4                               GDP growth (annual %)  NY.GDP.MKTP.KD.ZG   \n",
       "9   General government final consumption expenditu...     NE.CON.GOVT.ZS   \n",
       "10                                                NaN                NaN   \n",
       "11                                                NaN                NaN   \n",
       "12                                                NaN                NaN   \n",
       "13   Data from database: World Development Indicators                NaN   \n",
       "14                           Last Updated: 11/13/2024                NaN   \n",
       "\n",
       "          Country Name Country Code  2009 [YR2009]  2010 [YR2010]  \\\n",
       "0               Brazil          BRA      -0.125812       7.528226   \n",
       "5               Brazil          BRA      19.650638      19.016858   \n",
       "3                China          CHN       9.398726      10.635871   \n",
       "8                China          CHN      14.752976      14.587021   \n",
       "2                India          IND       7.861889       8.497585   \n",
       "7                India          IND      11.459667      11.007608   \n",
       "1   Russian Federation          RUS      -7.799994       4.500000   \n",
       "6   Russian Federation          RUS      20.786597      18.725055   \n",
       "4         South Africa          ZAF      -1.538089       3.039733   \n",
       "9         South Africa          ZAF      17.793633      17.996064   \n",
       "10                 NaN          NaN            NaN            NaN   \n",
       "11                 NaN          NaN            NaN            NaN   \n",
       "12                 NaN          NaN            NaN            NaN   \n",
       "13                 NaN          NaN            NaN            NaN   \n",
       "14                 NaN          NaN            NaN            NaN   \n",
       "\n",
       "    2011 [YR2011]  2012 [YR2012]  \n",
       "0        3.974423       1.921176  \n",
       "5       18.669257      18.530103  \n",
       "3        9.550832       7.863736  \n",
       "8       15.238865      15.756078  \n",
       "2        5.241316       5.456388  \n",
       "7       11.084462      10.683856  \n",
       "1        4.300029       4.024086  \n",
       "6       17.625512      17.967238  \n",
       "4        3.168556       2.396232  \n",
       "9       18.195143      18.820545  \n",
       "10            NaN            NaN  \n",
       "11            NaN            NaN  \n",
       "12            NaN            NaN  \n",
       "13            NaN            NaN  \n",
       "14            NaN            NaN  "
      ]
     },
     "execution_count": 43,
     "metadata": {},
     "output_type": "execute_result"
    }
   ],
   "source": [
    "brics.sort_values('Country Code')"
   ]
  },
  {
   "cell_type": "code",
   "execution_count": null,
   "id": "51d407e6-a3d0-4214-a226-7af6fc270f0d",
   "metadata": {},
   "outputs": [],
   "source": [
    "brics.sort_values('"
   ]
  }
 ],
 "metadata": {
  "kernelspec": {
   "display_name": "Python [conda env:base] *",
   "language": "python",
   "name": "conda-base-py"
  },
  "language_info": {
   "codemirror_mode": {
    "name": "ipython",
    "version": 3
   },
   "file_extension": ".py",
   "mimetype": "text/x-python",
   "name": "python",
   "nbconvert_exporter": "python",
   "pygments_lexer": "ipython3",
   "version": "3.12.7"
  }
 },
 "nbformat": 4,
 "nbformat_minor": 5
}
