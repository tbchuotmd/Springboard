{
 "cells": [
  {
   "cell_type": "code",
   "execution_count": 1,
   "id": "a73527e6-91ec-494f-8e5c-8c1c3f97f04d",
   "metadata": {},
   "outputs": [],
   "source": [
    "import sqlite3"
   ]
  },
  {
   "cell_type": "code",
   "execution_count": 2,
   "id": "a2368b05-e569-4971-b54b-18425fee6317",
   "metadata": {},
   "outputs": [],
   "source": [
    "cnct = sqlite3.connect('sample_SQL_database.db')"
   ]
  },
  {
   "cell_type": "code",
   "execution_count": 3,
   "id": "56eb702b-3ded-4113-b028-665a5b1af654",
   "metadata": {},
   "outputs": [],
   "source": [
    "cursor = cnct.cursor()"
   ]
  },
  {
   "cell_type": "code",
   "execution_count": 4,
   "id": "3d2ee941-83c8-4bee-bf71-09fcac53459c",
   "metadata": {},
   "outputs": [
    {
     "data": {
      "text/plain": [
       "sqlite3.Connection"
      ]
     },
     "execution_count": 4,
     "metadata": {},
     "output_type": "execute_result"
    }
   ],
   "source": [
    "type(cnct)"
   ]
  },
  {
   "cell_type": "code",
   "execution_count": 5,
   "id": "06210322-2659-4799-9472-392212231ff5",
   "metadata": {},
   "outputs": [
    {
     "data": {
      "text/plain": [
       "sqlite3.Cursor"
      ]
     },
     "execution_count": 5,
     "metadata": {},
     "output_type": "execute_result"
    }
   ],
   "source": [
    "type(cursor)"
   ]
  },
  {
   "cell_type": "code",
   "execution_count": 6,
   "id": "4f8320ec-c91a-4006-beb1-03f1c8a16185",
   "metadata": {},
   "outputs": [],
   "source": [
    "table = \"\"\" CREATE TABLE INPATIENT (\n",
    "            Patient_FirstName CHAR(25) NOT NULL,\n",
    "            Patient_MI CHAR(25),\n",
    "            Patient_LastName CHAR(25) NOT NULL,\n",
    "            Patient_DOB CHAR(25) NOT NULL,\n",
    "            Admission_Date CHAR(25)\n",
    "        ); \"\"\"\n",
    " "
   ]
  },
  {
   "cell_type": "code",
   "execution_count": 7,
   "id": "98cd7c0d-14e8-48df-8d01-5f7ddb2d41a6",
   "metadata": {},
   "outputs": [
    {
     "data": {
      "text/plain": [
       "<sqlite3.Cursor at 0x73479514acc0>"
      ]
     },
     "execution_count": 7,
     "metadata": {},
     "output_type": "execute_result"
    }
   ],
   "source": [
    "cursor.execute(table)"
   ]
  },
  {
   "cell_type": "code",
   "execution_count": 74,
   "id": "39c73797-7524-4ba3-83c8-c26388c9f46a",
   "metadata": {},
   "outputs": [],
   "source": [
    "def query(text):\n",
    "    data = cursor.execute(text)\n",
    "    for row in data:\n",
    "        print(row)\n",
    "    return data"
   ]
  },
  {
   "cell_type": "code",
   "execution_count": 14,
   "id": "cc7f2247-ccb7-4e91-ace1-429142cd9003",
   "metadata": {},
   "outputs": [],
   "source": [
    "insert_data = \"\"\" INSERT INTO inpatient (Patient_FirstName, Patient_LastName, Patient_DOB) VALUES ('John','Doe','01/21/1984'); \"\"\""
   ]
  },
  {
   "cell_type": "code",
   "execution_count": 15,
   "id": "e738f292-877f-4bd5-8a00-bb1c3a020346",
   "metadata": {},
   "outputs": [],
   "source": [
    "query(insert_data)"
   ]
  },
  {
   "cell_type": "code",
   "execution_count": 16,
   "id": "ba95a818-5693-4b00-b564-bb8f1cb4e0f1",
   "metadata": {},
   "outputs": [
    {
     "name": "stdout",
     "output_type": "stream",
     "text": [
      "('John', None, 'Doe', '01/21/1984', None)\n"
     ]
    }
   ],
   "source": [
    "query(\"\"\"SELECT * FROM inpatient;\"\"\")"
   ]
  },
  {
   "cell_type": "code",
   "execution_count": 58,
   "id": "65cbcf9a-c95a-4193-a538-2b48819530d5",
   "metadata": {},
   "outputs": [],
   "source": [
    "def insert_entry(tblname, fname, lname, DOB, **kwargs):\n",
    "    mi = kwargs.get('mi', None)\n",
    "    doa = kwargs.get('doa', None)\n",
    "    text= f\"INSERT INTO {tblname} (Patient_FirstName, Patient_LastName, Patient_DOB) VALUES ('{fname}','{lname}','{DOB}');\"\n",
    "    cursor.execute(text)\n",
    "    "
   ]
  },
  {
   "cell_type": "code",
   "execution_count": 59,
   "id": "32a8ecd9-c676-479b-8929-5254f7b25ce4",
   "metadata": {},
   "outputs": [],
   "source": [
    "from random import choice, randint\n",
    "from datetime import date"
   ]
  },
  {
   "cell_type": "code",
   "execution_count": 60,
   "id": "71715813-1326-4ca9-8af2-57a7bd57d005",
   "metadata": {},
   "outputs": [],
   "source": [
    "def randDOB():\n",
    "    y = randint(1900,2024)\n",
    "    m = randint(1,12)\n",
    "    if m == 2:\n",
    "        d = randint(1,28)\n",
    "    elif m in [1,3,5,7,9,10,12]:\n",
    "        d = randint(1,31)\n",
    "    else:\n",
    "        d = randint(1,30)\n",
    "    return f\"{m:02d}/{d:02d}/{y}\"\n"
   ]
  },
  {
   "cell_type": "code",
   "execution_count": 61,
   "id": "aa730071-12e1-416e-b47f-437a4668f0b4",
   "metadata": {},
   "outputs": [],
   "source": [
    "first_names = [\"James\", \"Mary\", \"John\", \"Patricia\", \"Robert\", \"Jennifer\", \"Michael\", \"Linda\", \"William\", \"Elizabeth\"]\n",
    "last_names = [\"Smith\", \"Johnson\", \"Williams\", \"Jones\", \"Brown\", \"Davis\", \"Miller\", \"Wilson\", \"Moore\", \"Taylor\"]\n",
    "\n",
    "def randfn():\n",
    "    return choice(first_names)\n",
    "def randln():\n",
    "    return choice(last_names)\n",
    "\n",
    "def randentry():\n",
    "    return (randfn(),randln(),randDOB())"
   ]
  },
  {
   "cell_type": "code",
   "execution_count": 62,
   "id": "3b945f50-f8d6-49bf-b8f1-a2375ee85dd2",
   "metadata": {},
   "outputs": [
    {
     "data": {
      "text/plain": [
       "('Patricia', 'Miller', '10/20/1962')"
      ]
     },
     "execution_count": 62,
     "metadata": {},
     "output_type": "execute_result"
    }
   ],
   "source": [
    "randentry()"
   ]
  },
  {
   "cell_type": "code",
   "execution_count": 66,
   "id": "e4bf3086-c5b3-408d-aed3-7ec2ba6bd12f",
   "metadata": {},
   "outputs": [],
   "source": [
    "def randinsert(tblname):\n",
    "    f,l,d = randentry()\n",
    "    insert_entry(tblname, f, l, d)\n",
    "    print(f\"Inserted {f},{l},{d} into {tblname}\")\n",
    "    # print(f\"INSERT INTO {tblname}(Patient_FirstName, Patient_LastName, Patient_DOB) VALUES ('{f}','{l}','{d}');\"\"\")"
   ]
  },
  {
   "cell_type": "code",
   "execution_count": 67,
   "id": "f4c05c08-9d3c-43d4-acd3-2229bf338a4f",
   "metadata": {},
   "outputs": [
    {
     "name": "stdout",
     "output_type": "stream",
     "text": [
      "Inserted Patricia,Wilson,01/15/1932 into inpatient\n"
     ]
    }
   ],
   "source": [
    "randinsert('inpatient')"
   ]
  },
  {
   "cell_type": "code",
   "execution_count": 68,
   "id": "83a65726-0693-4aa3-8fd4-2112e4253f09",
   "metadata": {},
   "outputs": [
    {
     "name": "stdout",
     "output_type": "stream",
     "text": [
      "('John', None, 'Doe', '01/21/1984', None)\n",
      "('Mary', None, 'Johnson', '02/23/1924', None)\n",
      "('Patricia', None, 'Wilson', '01/15/1932', None)\n"
     ]
    }
   ],
   "source": [
    "query(\"SELECT * FROM inpatient\")"
   ]
  },
  {
   "cell_type": "code",
   "execution_count": 72,
   "id": "acc4337e-2368-48b6-8dc1-a8d31e539e09",
   "metadata": {},
   "outputs": [],
   "source": [
    "import pandas as pd"
   ]
  },
  {
   "cell_type": "code",
   "execution_count": 75,
   "id": "fa1216d5-24d8-4f18-b8e8-d643ae11fd07",
   "metadata": {},
   "outputs": [
    {
     "name": "stdout",
     "output_type": "stream",
     "text": [
      "('John', None, 'Doe', '01/21/1984', None)\n",
      "('Mary', None, 'Johnson', '02/23/1924', None)\n",
      "('Patricia', None, 'Wilson', '01/15/1932', None)\n"
     ]
    }
   ],
   "source": [
    "data = query(\"SELECT * FROM inpatient\")"
   ]
  },
  {
   "cell_type": "code",
   "execution_count": 85,
   "id": "e5298479-6504-4353-be6a-6ccd57591310",
   "metadata": {},
   "outputs": [
    {
     "data": {
      "text/html": [
       "<div>\n",
       "<style scoped>\n",
       "    .dataframe tbody tr th:only-of-type {\n",
       "        vertical-align: middle;\n",
       "    }\n",
       "\n",
       "    .dataframe tbody tr th {\n",
       "        vertical-align: top;\n",
       "    }\n",
       "\n",
       "    .dataframe thead th {\n",
       "        text-align: right;\n",
       "    }\n",
       "</style>\n",
       "<table border=\"1\" class=\"dataframe\">\n",
       "  <thead>\n",
       "    <tr style=\"text-align: right;\">\n",
       "      <th></th>\n",
       "      <th>Patient_FirstName</th>\n",
       "      <th>Patient_MI</th>\n",
       "      <th>Patient_LastName</th>\n",
       "      <th>Patient_DOB</th>\n",
       "      <th>Admission_Date</th>\n",
       "    </tr>\n",
       "  </thead>\n",
       "  <tbody>\n",
       "    <tr>\n",
       "      <th>0</th>\n",
       "      <td>John</td>\n",
       "      <td>None</td>\n",
       "      <td>Doe</td>\n",
       "      <td>01/21/1984</td>\n",
       "      <td>None</td>\n",
       "    </tr>\n",
       "    <tr>\n",
       "      <th>1</th>\n",
       "      <td>Mary</td>\n",
       "      <td>None</td>\n",
       "      <td>Johnson</td>\n",
       "      <td>02/23/1924</td>\n",
       "      <td>None</td>\n",
       "    </tr>\n",
       "    <tr>\n",
       "      <th>2</th>\n",
       "      <td>Patricia</td>\n",
       "      <td>None</td>\n",
       "      <td>Wilson</td>\n",
       "      <td>01/15/1932</td>\n",
       "      <td>None</td>\n",
       "    </tr>\n",
       "  </tbody>\n",
       "</table>\n",
       "</div>"
      ],
      "text/plain": [
       "  Patient_FirstName Patient_MI Patient_LastName Patient_DOB Admission_Date\n",
       "0              John       None              Doe  01/21/1984           None\n",
       "1              Mary       None          Johnson  02/23/1924           None\n",
       "2          Patricia       None           Wilson  01/15/1932           None"
      ]
     },
     "execution_count": 85,
     "metadata": {},
     "output_type": "execute_result"
    }
   ],
   "source": [
    "pd.read_sql_query(\"SELECT * FROM inpatient\", cnct)"
   ]
  },
  {
   "cell_type": "code",
   "execution_count": 92,
   "id": "9ae5aa31-962d-4267-8c18-1e15f201efe4",
   "metadata": {},
   "outputs": [],
   "source": [
    "def querypd(cnx = cnct):\n",
    "    text = input(\"Enter SQL Code: \")\n",
    "    return pd.read_sql_query(text, cnx)"
   ]
  },
  {
   "cell_type": "code",
   "execution_count": 93,
   "id": "0d3761f7-eddf-4f6e-b101-809a4e1d356e",
   "metadata": {},
   "outputs": [
    {
     "name": "stdin",
     "output_type": "stream",
     "text": [
      "Enter SQL Code:  SELECT *  FROM inpatient\n"
     ]
    },
    {
     "data": {
      "text/html": [
       "<div>\n",
       "<style scoped>\n",
       "    .dataframe tbody tr th:only-of-type {\n",
       "        vertical-align: middle;\n",
       "    }\n",
       "\n",
       "    .dataframe tbody tr th {\n",
       "        vertical-align: top;\n",
       "    }\n",
       "\n",
       "    .dataframe thead th {\n",
       "        text-align: right;\n",
       "    }\n",
       "</style>\n",
       "<table border=\"1\" class=\"dataframe\">\n",
       "  <thead>\n",
       "    <tr style=\"text-align: right;\">\n",
       "      <th></th>\n",
       "      <th>Patient_FirstName</th>\n",
       "      <th>Patient_MI</th>\n",
       "      <th>Patient_LastName</th>\n",
       "      <th>Patient_DOB</th>\n",
       "      <th>Admission_Date</th>\n",
       "    </tr>\n",
       "  </thead>\n",
       "  <tbody>\n",
       "    <tr>\n",
       "      <th>0</th>\n",
       "      <td>John</td>\n",
       "      <td>None</td>\n",
       "      <td>Doe</td>\n",
       "      <td>01/21/1984</td>\n",
       "      <td>None</td>\n",
       "    </tr>\n",
       "    <tr>\n",
       "      <th>1</th>\n",
       "      <td>Mary</td>\n",
       "      <td>None</td>\n",
       "      <td>Johnson</td>\n",
       "      <td>02/23/1924</td>\n",
       "      <td>None</td>\n",
       "    </tr>\n",
       "    <tr>\n",
       "      <th>2</th>\n",
       "      <td>Patricia</td>\n",
       "      <td>None</td>\n",
       "      <td>Wilson</td>\n",
       "      <td>01/15/1932</td>\n",
       "      <td>None</td>\n",
       "    </tr>\n",
       "  </tbody>\n",
       "</table>\n",
       "</div>"
      ],
      "text/plain": [
       "  Patient_FirstName Patient_MI Patient_LastName Patient_DOB Admission_Date\n",
       "0              John       None              Doe  01/21/1984           None\n",
       "1              Mary       None          Johnson  02/23/1924           None\n",
       "2          Patricia       None           Wilson  01/15/1932           None"
      ]
     },
     "execution_count": 93,
     "metadata": {},
     "output_type": "execute_result"
    }
   ],
   "source": [
    "querypd()"
   ]
  },
  {
   "cell_type": "code",
   "execution_count": 94,
   "id": "b4c657ed-ef0e-48fb-a283-9236a20a35f7",
   "metadata": {},
   "outputs": [
    {
     "name": "stdin",
     "output_type": "stream",
     "text": [
      "Enter SQL Code:  SELECT Patient_FirstName FROM inpatient;\n"
     ]
    },
    {
     "data": {
      "text/html": [
       "<div>\n",
       "<style scoped>\n",
       "    .dataframe tbody tr th:only-of-type {\n",
       "        vertical-align: middle;\n",
       "    }\n",
       "\n",
       "    .dataframe tbody tr th {\n",
       "        vertical-align: top;\n",
       "    }\n",
       "\n",
       "    .dataframe thead th {\n",
       "        text-align: right;\n",
       "    }\n",
       "</style>\n",
       "<table border=\"1\" class=\"dataframe\">\n",
       "  <thead>\n",
       "    <tr style=\"text-align: right;\">\n",
       "      <th></th>\n",
       "      <th>Patient_FirstName</th>\n",
       "    </tr>\n",
       "  </thead>\n",
       "  <tbody>\n",
       "    <tr>\n",
       "      <th>0</th>\n",
       "      <td>John</td>\n",
       "    </tr>\n",
       "    <tr>\n",
       "      <th>1</th>\n",
       "      <td>Mary</td>\n",
       "    </tr>\n",
       "    <tr>\n",
       "      <th>2</th>\n",
       "      <td>Patricia</td>\n",
       "    </tr>\n",
       "  </tbody>\n",
       "</table>\n",
       "</div>"
      ],
      "text/plain": [
       "  Patient_FirstName\n",
       "0              John\n",
       "1              Mary\n",
       "2          Patricia"
      ]
     },
     "execution_count": 94,
     "metadata": {},
     "output_type": "execute_result"
    }
   ],
   "source": [
    "querypd()"
   ]
  },
  {
   "cell_type": "code",
   "execution_count": 105,
   "id": "643e452b-4c60-4489-8d87-52c6ff59290c",
   "metadata": {},
   "outputs": [
    {
     "name": "stdout",
     "output_type": "stream",
     "text": [
      "Inserted William,Miller,10/21/1967 into inpatient\n",
      "Inserted Robert,Williams,08/27/1994 into inpatient\n",
      "Inserted Patricia,Wilson,05/10/2018 into inpatient\n",
      "Inserted John,Taylor,02/07/1995 into inpatient\n",
      "Inserted Jennifer,Johnson,07/26/2012 into inpatient\n",
      "Inserted Jennifer,Jones,08/03/1902 into inpatient\n",
      "Inserted Patricia,Wilson,12/05/1935 into inpatient\n",
      "Inserted Robert,Wilson,05/27/1949 into inpatient\n",
      "Inserted Patricia,Miller,12/09/1961 into inpatient\n",
      "Inserted Patricia,Miller,02/21/1933 into inpatient\n",
      "Inserted Jennifer,Wilson,11/21/1953 into inpatient\n",
      "Inserted James,Davis,02/27/1959 into inpatient\n",
      "Inserted Elizabeth,Taylor,10/24/1974 into inpatient\n",
      "Inserted James,Wilson,07/08/1984 into inpatient\n",
      "Inserted Elizabeth,Johnson,11/22/1998 into inpatient\n",
      "Inserted Michael,Taylor,07/24/1956 into inpatient\n",
      "Inserted Linda,Miller,03/17/1930 into inpatient\n",
      "Inserted James,Miller,07/13/1993 into inpatient\n",
      "Inserted Patricia,Johnson,03/25/1907 into inpatient\n",
      "Inserted Robert,Moore,06/03/1900 into inpatient\n",
      "Inserted Michael,Moore,06/23/1949 into inpatient\n",
      "Inserted Mary,Taylor,09/28/1917 into inpatient\n",
      "Inserted Patricia,Williams,04/15/1917 into inpatient\n",
      "Inserted Jennifer,Miller,10/03/2014 into inpatient\n",
      "Inserted Linda,Davis,11/09/2015 into inpatient\n",
      "Inserted John,Jones,02/23/2005 into inpatient\n",
      "Inserted Jennifer,Jones,01/07/1951 into inpatient\n",
      "Inserted Mary,Davis,07/24/1935 into inpatient\n",
      "Inserted William,Taylor,06/17/2009 into inpatient\n",
      "Inserted Michael,Davis,10/02/1990 into inpatient\n",
      "Inserted Michael,Taylor,04/09/2005 into inpatient\n",
      "Inserted Michael,Williams,02/02/1965 into inpatient\n",
      "Inserted Michael,Jones,08/19/2010 into inpatient\n",
      "Inserted James,Johnson,05/17/1917 into inpatient\n",
      "Inserted Robert,Taylor,02/09/1914 into inpatient\n",
      "Inserted James,Williams,04/15/2016 into inpatient\n",
      "Inserted James,Brown,08/12/1942 into inpatient\n",
      "Inserted William,Smith,07/03/1980 into inpatient\n",
      "Inserted Robert,Davis,02/03/2002 into inpatient\n",
      "Inserted Jennifer,Miller,10/13/1948 into inpatient\n",
      "Inserted Jennifer,Moore,10/01/2021 into inpatient\n",
      "Inserted Mary,Miller,10/19/1994 into inpatient\n",
      "Inserted Michael,Jones,03/12/1942 into inpatient\n",
      "Inserted Michael,Taylor,01/21/1967 into inpatient\n",
      "Inserted James,Smith,01/15/1968 into inpatient\n",
      "Inserted Michael,Brown,11/29/1903 into inpatient\n",
      "Inserted Mary,Johnson,07/03/1918 into inpatient\n",
      "Inserted Linda,Williams,07/08/1902 into inpatient\n",
      "Inserted Patricia,Johnson,06/16/1925 into inpatient\n",
      "Inserted Elizabeth,Williams,05/26/2008 into inpatient\n",
      "Inserted William,Davis,06/17/1993 into inpatient\n",
      "Inserted Elizabeth,Taylor,12/02/2007 into inpatient\n",
      "Inserted John,Smith,07/03/1967 into inpatient\n",
      "Inserted James,Jones,11/05/1990 into inpatient\n",
      "Inserted Patricia,Taylor,03/02/1931 into inpatient\n",
      "Inserted Jennifer,Moore,04/27/1926 into inpatient\n",
      "Inserted William,Jones,06/15/1998 into inpatient\n",
      "Inserted Jennifer,Miller,01/28/2020 into inpatient\n",
      "Inserted Patricia,Jones,01/26/1929 into inpatient\n",
      "Inserted Linda,Williams,01/18/2024 into inpatient\n",
      "Inserted Patricia,Davis,12/18/1930 into inpatient\n",
      "Inserted James,Smith,03/11/1964 into inpatient\n",
      "Inserted Mary,Brown,11/19/1954 into inpatient\n",
      "Inserted Linda,Brown,11/29/1997 into inpatient\n",
      "Inserted James,Williams,03/27/2014 into inpatient\n",
      "Inserted William,Taylor,09/26/1992 into inpatient\n",
      "Inserted Jennifer,Johnson,04/12/2001 into inpatient\n",
      "Inserted Linda,Wilson,01/02/1980 into inpatient\n",
      "Inserted Linda,Moore,07/09/1945 into inpatient\n",
      "Inserted John,Wilson,11/21/1905 into inpatient\n",
      "Inserted Michael,Brown,05/05/1950 into inpatient\n",
      "Inserted Mary,Miller,01/28/1991 into inpatient\n",
      "Inserted Michael,Jones,05/16/1965 into inpatient\n",
      "Inserted Elizabeth,Smith,11/20/1984 into inpatient\n",
      "Inserted John,Wilson,01/22/1945 into inpatient\n",
      "Inserted Patricia,Taylor,01/30/1993 into inpatient\n",
      "Inserted John,Johnson,06/15/1921 into inpatient\n",
      "Inserted Robert,Williams,05/30/1937 into inpatient\n",
      "Inserted John,Davis,01/04/1914 into inpatient\n",
      "Inserted John,Moore,05/31/1933 into inpatient\n",
      "Inserted Elizabeth,Davis,04/18/1922 into inpatient\n",
      "Inserted Jennifer,Williams,03/16/1926 into inpatient\n",
      "Inserted Michael,Moore,02/12/1915 into inpatient\n",
      "Inserted Michael,Wilson,04/24/1971 into inpatient\n",
      "Inserted Robert,Davis,03/31/2010 into inpatient\n",
      "Inserted Mary,Williams,10/14/1955 into inpatient\n",
      "Inserted Elizabeth,Moore,10/17/1989 into inpatient\n",
      "Inserted Robert,Moore,06/25/1960 into inpatient\n",
      "Inserted Elizabeth,Miller,05/24/1906 into inpatient\n",
      "Inserted William,Williams,07/28/1901 into inpatient\n",
      "Inserted Linda,Williams,08/22/2019 into inpatient\n",
      "Inserted John,Williams,01/20/1906 into inpatient\n",
      "Inserted John,Wilson,02/17/1904 into inpatient\n",
      "Inserted Elizabeth,Johnson,11/29/1934 into inpatient\n",
      "Inserted James,Smith,04/22/1998 into inpatient\n",
      "Inserted Mary,Taylor,05/02/1949 into inpatient\n",
      "Inserted Jennifer,Wilson,10/29/2007 into inpatient\n",
      "Inserted Elizabeth,Wilson,03/23/1920 into inpatient\n",
      "Inserted Elizabeth,Brown,03/28/2022 into inpatient\n",
      "Inserted Michael,Taylor,03/24/1905 into inpatient\n"
     ]
    }
   ],
   "source": [
    "for i in range(100):\n",
    "    randinsert('inpatient')"
   ]
  },
  {
   "cell_type": "code",
   "execution_count": 106,
   "id": "ea2521fd-c646-4276-aca8-9ba2e46af642",
   "metadata": {},
   "outputs": [
    {
     "name": "stdin",
     "output_type": "stream",
     "text": [
      "Enter SQL Code:  SELECT * FROM inpatient\n"
     ]
    },
    {
     "data": {
      "text/html": [
       "<div>\n",
       "<style scoped>\n",
       "    .dataframe tbody tr th:only-of-type {\n",
       "        vertical-align: middle;\n",
       "    }\n",
       "\n",
       "    .dataframe tbody tr th {\n",
       "        vertical-align: top;\n",
       "    }\n",
       "\n",
       "    .dataframe thead th {\n",
       "        text-align: right;\n",
       "    }\n",
       "</style>\n",
       "<table border=\"1\" class=\"dataframe\">\n",
       "  <thead>\n",
       "    <tr style=\"text-align: right;\">\n",
       "      <th></th>\n",
       "      <th>Patient_FirstName</th>\n",
       "      <th>Patient_MI</th>\n",
       "      <th>Patient_LastName</th>\n",
       "      <th>Patient_DOB</th>\n",
       "      <th>Admission_Date</th>\n",
       "    </tr>\n",
       "  </thead>\n",
       "  <tbody>\n",
       "    <tr>\n",
       "      <th>0</th>\n",
       "      <td>William</td>\n",
       "      <td>None</td>\n",
       "      <td>Miller</td>\n",
       "      <td>10/21/1967</td>\n",
       "      <td>None</td>\n",
       "    </tr>\n",
       "    <tr>\n",
       "      <th>1</th>\n",
       "      <td>Robert</td>\n",
       "      <td>None</td>\n",
       "      <td>Williams</td>\n",
       "      <td>08/27/1994</td>\n",
       "      <td>None</td>\n",
       "    </tr>\n",
       "    <tr>\n",
       "      <th>2</th>\n",
       "      <td>Patricia</td>\n",
       "      <td>None</td>\n",
       "      <td>Wilson</td>\n",
       "      <td>05/10/2018</td>\n",
       "      <td>None</td>\n",
       "    </tr>\n",
       "    <tr>\n",
       "      <th>3</th>\n",
       "      <td>John</td>\n",
       "      <td>None</td>\n",
       "      <td>Taylor</td>\n",
       "      <td>02/07/1995</td>\n",
       "      <td>None</td>\n",
       "    </tr>\n",
       "    <tr>\n",
       "      <th>4</th>\n",
       "      <td>Jennifer</td>\n",
       "      <td>None</td>\n",
       "      <td>Johnson</td>\n",
       "      <td>07/26/2012</td>\n",
       "      <td>None</td>\n",
       "    </tr>\n",
       "    <tr>\n",
       "      <th>...</th>\n",
       "      <td>...</td>\n",
       "      <td>...</td>\n",
       "      <td>...</td>\n",
       "      <td>...</td>\n",
       "      <td>...</td>\n",
       "    </tr>\n",
       "    <tr>\n",
       "      <th>95</th>\n",
       "      <td>Mary</td>\n",
       "      <td>None</td>\n",
       "      <td>Taylor</td>\n",
       "      <td>05/02/1949</td>\n",
       "      <td>None</td>\n",
       "    </tr>\n",
       "    <tr>\n",
       "      <th>96</th>\n",
       "      <td>Jennifer</td>\n",
       "      <td>None</td>\n",
       "      <td>Wilson</td>\n",
       "      <td>10/29/2007</td>\n",
       "      <td>None</td>\n",
       "    </tr>\n",
       "    <tr>\n",
       "      <th>97</th>\n",
       "      <td>Elizabeth</td>\n",
       "      <td>None</td>\n",
       "      <td>Wilson</td>\n",
       "      <td>03/23/1920</td>\n",
       "      <td>None</td>\n",
       "    </tr>\n",
       "    <tr>\n",
       "      <th>98</th>\n",
       "      <td>Elizabeth</td>\n",
       "      <td>None</td>\n",
       "      <td>Brown</td>\n",
       "      <td>03/28/2022</td>\n",
       "      <td>None</td>\n",
       "    </tr>\n",
       "    <tr>\n",
       "      <th>99</th>\n",
       "      <td>Michael</td>\n",
       "      <td>None</td>\n",
       "      <td>Taylor</td>\n",
       "      <td>03/24/1905</td>\n",
       "      <td>None</td>\n",
       "    </tr>\n",
       "  </tbody>\n",
       "</table>\n",
       "<p>100 rows × 5 columns</p>\n",
       "</div>"
      ],
      "text/plain": [
       "   Patient_FirstName Patient_MI Patient_LastName Patient_DOB Admission_Date\n",
       "0            William       None           Miller  10/21/1967           None\n",
       "1             Robert       None         Williams  08/27/1994           None\n",
       "2           Patricia       None           Wilson  05/10/2018           None\n",
       "3               John       None           Taylor  02/07/1995           None\n",
       "4           Jennifer       None          Johnson  07/26/2012           None\n",
       "..               ...        ...              ...         ...            ...\n",
       "95              Mary       None           Taylor  05/02/1949           None\n",
       "96          Jennifer       None           Wilson  10/29/2007           None\n",
       "97         Elizabeth       None           Wilson  03/23/1920           None\n",
       "98         Elizabeth       None            Brown  03/28/2022           None\n",
       "99           Michael       None           Taylor  03/24/1905           None\n",
       "\n",
       "[100 rows x 5 columns]"
      ]
     },
     "execution_count": 106,
     "metadata": {},
     "output_type": "execute_result"
    }
   ],
   "source": [
    "querypd()"
   ]
  },
  {
   "cell_type": "code",
   "execution_count": 107,
   "id": "d6e48945-5441-4d6f-9969-e23d136ea2c7",
   "metadata": {},
   "outputs": [
    {
     "name": "stdin",
     "output_type": "stream",
     "text": [
      "Enter SQL Code:  SELECT * FROM inpatient\n"
     ]
    }
   ],
   "source": [
    "df = querypd()"
   ]
  },
  {
   "cell_type": "code",
   "execution_count": 111,
   "id": "ef919776-c1bf-4727-a3fb-b587007e6262",
   "metadata": {},
   "outputs": [
    {
     "name": "stdout",
     "output_type": "stream",
     "text": [
      "   Patient_FirstName Patient_MI Patient_LastName Patient_DOB Admission_Date\n",
      "0            William       None           Miller  1967-10-21           None\n",
      "1             Robert       None         Williams  1994-08-27           None\n",
      "2           Patricia       None           Wilson  2018-05-10           None\n",
      "3               John       None           Taylor  1995-02-07           None\n",
      "4           Jennifer       None          Johnson  2012-07-26           None\n",
      "..               ...        ...              ...         ...            ...\n",
      "95              Mary       None           Taylor  1949-05-02           None\n",
      "96          Jennifer       None           Wilson  2007-10-29           None\n",
      "97         Elizabeth       None           Wilson  1920-03-23           None\n",
      "98         Elizabeth       None            Brown  2022-03-28           None\n",
      "99           Michael       None           Taylor  1905-03-24           None\n",
      "\n",
      "[100 rows x 5 columns]\n"
     ]
    }
   ],
   "source": [
    "df['Patient_DOB'] = pd.to_datetime(df['Patient_DOB'])\n",
    "print(df)"
   ]
  },
  {
   "cell_type": "code",
   "execution_count": 113,
   "id": "3ef8f3f5-8815-48a1-8195-af143f75a79d",
   "metadata": {},
   "outputs": [
    {
     "data": {
      "text/plain": [
       "100"
      ]
     },
     "execution_count": 113,
     "metadata": {},
     "output_type": "execute_result"
    }
   ],
   "source": [
    "df.to_sql('patients',cnct,if_exists='replace',index=False)"
   ]
  },
  {
   "cell_type": "code",
   "execution_count": 115,
   "id": "0c80c492-494a-4fb7-891e-3ec21cc1f931",
   "metadata": {},
   "outputs": [
    {
     "name": "stdin",
     "output_type": "stream",
     "text": [
      "Enter SQL Code:  SELECT * FROM patients ORDER BY Patient_DOB\n"
     ]
    },
    {
     "data": {
      "text/html": [
       "<div>\n",
       "<style scoped>\n",
       "    .dataframe tbody tr th:only-of-type {\n",
       "        vertical-align: middle;\n",
       "    }\n",
       "\n",
       "    .dataframe tbody tr th {\n",
       "        vertical-align: top;\n",
       "    }\n",
       "\n",
       "    .dataframe thead th {\n",
       "        text-align: right;\n",
       "    }\n",
       "</style>\n",
       "<table border=\"1\" class=\"dataframe\">\n",
       "  <thead>\n",
       "    <tr style=\"text-align: right;\">\n",
       "      <th></th>\n",
       "      <th>Patient_FirstName</th>\n",
       "      <th>Patient_MI</th>\n",
       "      <th>Patient_LastName</th>\n",
       "      <th>Patient_DOB</th>\n",
       "      <th>Admission_Date</th>\n",
       "    </tr>\n",
       "  </thead>\n",
       "  <tbody>\n",
       "    <tr>\n",
       "      <th>0</th>\n",
       "      <td>Robert</td>\n",
       "      <td>None</td>\n",
       "      <td>Moore</td>\n",
       "      <td>1900-06-03 00:00:00</td>\n",
       "      <td>None</td>\n",
       "    </tr>\n",
       "    <tr>\n",
       "      <th>1</th>\n",
       "      <td>William</td>\n",
       "      <td>None</td>\n",
       "      <td>Williams</td>\n",
       "      <td>1901-07-28 00:00:00</td>\n",
       "      <td>None</td>\n",
       "    </tr>\n",
       "    <tr>\n",
       "      <th>2</th>\n",
       "      <td>Linda</td>\n",
       "      <td>None</td>\n",
       "      <td>Williams</td>\n",
       "      <td>1902-07-08 00:00:00</td>\n",
       "      <td>None</td>\n",
       "    </tr>\n",
       "    <tr>\n",
       "      <th>3</th>\n",
       "      <td>Jennifer</td>\n",
       "      <td>None</td>\n",
       "      <td>Jones</td>\n",
       "      <td>1902-08-03 00:00:00</td>\n",
       "      <td>None</td>\n",
       "    </tr>\n",
       "    <tr>\n",
       "      <th>4</th>\n",
       "      <td>Michael</td>\n",
       "      <td>None</td>\n",
       "      <td>Brown</td>\n",
       "      <td>1903-11-29 00:00:00</td>\n",
       "      <td>None</td>\n",
       "    </tr>\n",
       "    <tr>\n",
       "      <th>...</th>\n",
       "      <td>...</td>\n",
       "      <td>...</td>\n",
       "      <td>...</td>\n",
       "      <td>...</td>\n",
       "      <td>...</td>\n",
       "    </tr>\n",
       "    <tr>\n",
       "      <th>95</th>\n",
       "      <td>Linda</td>\n",
       "      <td>None</td>\n",
       "      <td>Williams</td>\n",
       "      <td>2019-08-22 00:00:00</td>\n",
       "      <td>None</td>\n",
       "    </tr>\n",
       "    <tr>\n",
       "      <th>96</th>\n",
       "      <td>Jennifer</td>\n",
       "      <td>None</td>\n",
       "      <td>Miller</td>\n",
       "      <td>2020-01-28 00:00:00</td>\n",
       "      <td>None</td>\n",
       "    </tr>\n",
       "    <tr>\n",
       "      <th>97</th>\n",
       "      <td>Jennifer</td>\n",
       "      <td>None</td>\n",
       "      <td>Moore</td>\n",
       "      <td>2021-10-01 00:00:00</td>\n",
       "      <td>None</td>\n",
       "    </tr>\n",
       "    <tr>\n",
       "      <th>98</th>\n",
       "      <td>Elizabeth</td>\n",
       "      <td>None</td>\n",
       "      <td>Brown</td>\n",
       "      <td>2022-03-28 00:00:00</td>\n",
       "      <td>None</td>\n",
       "    </tr>\n",
       "    <tr>\n",
       "      <th>99</th>\n",
       "      <td>Linda</td>\n",
       "      <td>None</td>\n",
       "      <td>Williams</td>\n",
       "      <td>2024-01-18 00:00:00</td>\n",
       "      <td>None</td>\n",
       "    </tr>\n",
       "  </tbody>\n",
       "</table>\n",
       "<p>100 rows × 5 columns</p>\n",
       "</div>"
      ],
      "text/plain": [
       "   Patient_FirstName Patient_MI  ...          Patient_DOB Admission_Date\n",
       "0             Robert       None  ...  1900-06-03 00:00:00           None\n",
       "1            William       None  ...  1901-07-28 00:00:00           None\n",
       "2              Linda       None  ...  1902-07-08 00:00:00           None\n",
       "3           Jennifer       None  ...  1902-08-03 00:00:00           None\n",
       "4            Michael       None  ...  1903-11-29 00:00:00           None\n",
       "..               ...        ...  ...                  ...            ...\n",
       "95             Linda       None  ...  2019-08-22 00:00:00           None\n",
       "96          Jennifer       None  ...  2020-01-28 00:00:00           None\n",
       "97          Jennifer       None  ...  2021-10-01 00:00:00           None\n",
       "98         Elizabeth       None  ...  2022-03-28 00:00:00           None\n",
       "99             Linda       None  ...  2024-01-18 00:00:00           None\n",
       "\n",
       "[100 rows x 5 columns]"
      ]
     },
     "execution_count": 115,
     "metadata": {},
     "output_type": "execute_result"
    }
   ],
   "source": [
    "querypd()"
   ]
  },
  {
   "cell_type": "code",
   "execution_count": null,
   "id": "251e4b99-7918-4805-b3c0-3138556fbc53",
   "metadata": {},
   "outputs": [],
   "source": []
  }
 ],
 "metadata": {
  "kernelspec": {
   "display_name": "Python 3 (ipykernel)",
   "language": "python",
   "name": "python3"
  },
  "language_info": {
   "codemirror_mode": {
    "name": "ipython",
    "version": 3
   },
   "file_extension": ".py",
   "mimetype": "text/x-python",
   "name": "python",
   "nbconvert_exporter": "python",
   "pygments_lexer": "ipython3",
   "version": "3.12.7"
  }
 },
 "nbformat": 4,
 "nbformat_minor": 5
}
