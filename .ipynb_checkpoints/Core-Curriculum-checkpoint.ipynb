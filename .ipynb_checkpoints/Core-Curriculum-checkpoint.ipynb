{
 "cells": [
  {
   "cell_type": "markdown",
   "id": "b7525459-f11e-40f0-86b6-bc258d44c1fe",
   "metadata": {},
   "source": [
    "# 15 | The Python Data Science Stack"
   ]
  },
  {
   "cell_type": "code",
   "execution_count": 4,
   "id": "0fef022f-9661-4aea-8365-516637b34aae",
   "metadata": {},
   "outputs": [],
   "source": [
    "import pandas as pd"
   ]
  },
  {
   "cell_type": "code",
   "execution_count": null,
   "id": "8ebe2ca8-5252-4d7f-a1f1-cf107c312fd5",
   "metadata": {},
   "outputs": [],
   "source": [
    "pd."
   ]
  }
 ],
 "metadata": {
  "kernelspec": {
   "display_name": "Python [conda env:base] *",
   "language": "python",
   "name": "conda-base-py"
  },
  "language_info": {
   "codemirror_mode": {
    "name": "ipython",
    "version": 3
   },
   "file_extension": ".py",
   "mimetype": "text/x-python",
   "name": "python",
   "nbconvert_exporter": "python",
   "pygments_lexer": "ipython3",
   "version": "3.12.7"
  }
 },
 "nbformat": 4,
 "nbformat_minor": 5
}
