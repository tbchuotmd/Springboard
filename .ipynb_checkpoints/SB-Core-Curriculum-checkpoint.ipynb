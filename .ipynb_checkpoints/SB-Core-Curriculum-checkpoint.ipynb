{
 "cells": [
  {
   "cell_type": "markdown",
   "id": "b7525459-f11e-40f0-86b6-bc258d44c1fe",
   "metadata": {},
   "source": [
    "# 15 | The Python Data Science Stack"
   ]
  },
  {
   "cell_type": "markdown",
   "id": "05a4bef1-11d3-484c-959c-91ae5f5a4c83",
   "metadata": {
    "jp-MarkdownHeadingCollapsed": true
   },
   "source": [
    "## 15.1 | Python for Data Science"
   ]
  },
  {
   "cell_type": "markdown",
   "id": "ef606f35-453d-482a-9304-8633fe080403",
   "metadata": {
    "jp-MarkdownHeadingCollapsed": true
   },
   "source": [
    "### DataCamp - Python Programming Assessment"
   ]
  },
  {
   "cell_type": "markdown",
   "id": "6dceb9a7-a492-4b7d-a570-de340c7fd3cb",
   "metadata": {},
   "source": [
    "#### String Methods --- ```.rjust()``` & ```.ljust()```\n",
    "\n",
    "These methods are for right and left justification of text, which is useful for improvin output readability, among other things."
   ]
  },
  {
   "cell_type": "code",
   "execution_count": 4,
   "id": "f7137f6c-9f3c-409c-8ddc-efab48f49824",
   "metadata": {},
   "outputs": [],
   "source": [
    "from randatagen import generate_name\n",
    "from random import randint, choice"
   ]
  },
  {
   "cell_type": "code",
   "execution_count": 5,
   "id": "e4189691-889d-4688-8523-bb06dca054e8",
   "metadata": {},
   "outputs": [],
   "source": [
    "data = [(generate_name(randint(1,5)),randint(1,100)) for i in range(10)]"
   ]
  },
  {
   "cell_type": "code",
   "execution_count": 6,
   "id": "23c0be2d-e140-42d9-85e2-bae824dea5a9",
   "metadata": {},
   "outputs": [
    {
     "data": {
      "text/plain": [
       "[('Hegsamleh', 75),\n",
       " ('Nid', 51),\n",
       " ('Licnirdinbac', 14),\n",
       " ('Ges', 53),\n",
       " ('Banmes', 25),\n",
       " ('Har', 2),\n",
       " ('Hoc', 76),\n",
       " ('Mecdohdul', 73),\n",
       " ('Rennanruhcomlah', 98),\n",
       " ('Hasberhurdah', 36)]"
      ]
     },
     "execution_count": 6,
     "metadata": {},
     "output_type": "execute_result"
    }
   ],
   "source": [
    "data"
   ]
  },
  {
   "cell_type": "markdown",
   "id": "97f30781-689d-4747-8f46-82a8e0f6f958",
   "metadata": {},
   "source": [
    "We can print this data out line-by-line using a loop:"
   ]
  },
  {
   "cell_type": "code",
   "execution_count": 7,
   "id": "98c5ce16-6668-461e-afa3-fad5f3491281",
   "metadata": {},
   "outputs": [
    {
     "name": "stdout",
     "output_type": "stream",
     "text": [
      "Hegsamleh 75\n",
      "Nid 51\n",
      "Licnirdinbac 14\n",
      "Ges 53\n",
      "Banmes 25\n",
      "Har 2\n",
      "Hoc 76\n",
      "Mecdohdul 73\n",
      "Rennanruhcomlah 98\n",
      "Hasberhurdah 36\n"
     ]
    }
   ],
   "source": [
    "for name, age in data:\n",
    "    print(name,age)"
   ]
  },
  {
   "cell_type": "markdown",
   "id": "9d909e33-c025-413b-83c2-61cb02974e27",
   "metadata": {},
   "source": [
    "However, due to the varying lengths of names, the ages don't line up along the vertical, making them harder to read.  The ```ljust()``` and ```rjust()``` methods will force the spacing of the strings so that they line up:"
   ]
  },
  {
   "cell_type": "code",
   "execution_count": 16,
   "id": "908833ce-eef4-4316-b897-16353b4a1641",
   "metadata": {},
   "outputs": [
    {
     "name": "stdout",
     "output_type": "stream",
     "text": [
      "Hegsamleh         75\n",
      "Nid               51\n",
      "Licnirdinbac      14\n",
      "Ges               53\n",
      "Banmes            25\n",
      "Har                2\n",
      "Hoc               76\n",
      "Mecdohdul         73\n",
      "Rennanruhcomlah   98\n",
      "Hasberhurdah      36\n"
     ]
    }
   ],
   "source": [
    "for name, age in data:\n",
    "    print(name.ljust(15) + str(age).rjust(5))"
   ]
  },
  {
   "cell_type": "markdown",
   "id": "20889872-b9b4-4827-b38f-04cf6e91eb1a",
   "metadata": {},
   "source": [
    "#### Dictionary Comprehensions\n",
    "\n",
    "List Comprehension:\n",
    "\n",
    "```[ <obj> for <obj> in <iterable> ]```\n",
    "\n",
    "example: \n",
    "\n",
    "```python\n",
    "[ i for i in range(10) ]\n",
    "```\n",
    "\n",
    "Dictionary Comprehension:\n",
    "\n",
    "```{ <key>:<value> for <obj> in <iterable> }```\n"
   ]
  },
  {
   "cell_type": "code",
   "execution_count": 17,
   "id": "4952d7b1-0580-450e-a298-5986e3dd71f7",
   "metadata": {},
   "outputs": [
    {
     "data": {
      "text/plain": [
       "{'Hegsamleh': 75,\n",
       " 'Nid': 51,\n",
       " 'Licnirdinbac': 14,\n",
       " 'Ges': 53,\n",
       " 'Banmes': 25,\n",
       " 'Har': 2,\n",
       " 'Hoc': 76,\n",
       " 'Mecdohdul': 73,\n",
       " 'Rennanruhcomlah': 98,\n",
       " 'Hasberhurdah': 36}"
      ]
     },
     "execution_count": 17,
     "metadata": {},
     "output_type": "execute_result"
    }
   ],
   "source": [
    "{ name:age for name,age in data }"
   ]
  },
  {
   "cell_type": "code",
   "execution_count": 18,
   "id": "cbd00389-b737-4021-8c39-9eb36ef51d9c",
   "metadata": {},
   "outputs": [
    {
     "data": {
      "text/plain": [
       "{1: 1, 2: 4, 3: 9, 4: 16, 5: 25, 6: 36, 7: 49, 8: 64, 9: 81}"
      ]
     },
     "execution_count": 18,
     "metadata": {},
     "output_type": "execute_result"
    }
   ],
   "source": [
    "{ i : i**2 for i in range(1,10) }"
   ]
  },
  {
   "cell_type": "markdown",
   "id": "35a0200d-2884-47ee-a7ec-aa7ba9930a68",
   "metadata": {},
   "source": [
    "#### List Extensions\n",
    "\n",
    "If you want to add a single item to a list, the ```.append()``` method is sufficient.  However, what if you want to add multiple items to the list at once?  You might think of chaining ```.append(item1).append(item2).append(item3)``` but that won't work as the method itself modifies the list without returning any value to the terminal, so after appending ```item1```, there is nothing actually there for ```.append(item2)``` to work on.\n",
    "\n",
    "Instead, let's say the original list is ```my_list = ['a','b','c']``` and you want to add to it ```extras = ['r','y','u']```.  You could, of course, loop through the ```extras``` list:\n",
    "\n",
    "```python\n",
    "for i in extras:\n",
    "    my_list.append(i)\n",
    "```\n",
    "\n",
    "However, it is more concise to use the ```.extend()``` method:\n",
    "\n",
    "```python\n",
    "my_list.extend(extras)\n",
    "```"
   ]
  },
  {
   "cell_type": "code",
   "execution_count": 21,
   "id": "24174a38-75ba-4aa5-9093-b00e0ff838b9",
   "metadata": {},
   "outputs": [
    {
     "name": "stdout",
     "output_type": "stream",
     "text": [
      "['a', 'b', 'c', 'r', 'y', 'u']\n"
     ]
    }
   ],
   "source": [
    "my_list = ['a','b','c']\n",
    "extras = ['r','y','u']\n",
    "for i in extras:\n",
    "    my_list.append(i)\n",
    "print(my_list)"
   ]
  },
  {
   "cell_type": "code",
   "execution_count": 22,
   "id": "5bf4bee1-b301-45e2-8495-cc17bb5a2207",
   "metadata": {},
   "outputs": [
    {
     "name": "stdout",
     "output_type": "stream",
     "text": [
      "['a', 'b', 'c', 'r', 'y', 'u']\n"
     ]
    }
   ],
   "source": [
    "my_list = ['a','b','c']\n",
    "extras = ['r','y','u']\n",
    "my_list.extend(extras)\n",
    "print(my_list)"
   ]
  },
  {
   "cell_type": "markdown",
   "id": "bbd2792f-727c-43e4-a971-9ea1eb1d0b29",
   "metadata": {},
   "source": [
    "#### The ```range()``` function in reverse.\n",
    "\n",
    "To reverse the order of the ```range()``` function, simply pass in the max then min instead of min then max, and then use a negative interval:"
   ]
  },
  {
   "cell_type": "code",
   "execution_count": 26,
   "id": "aa770653-f1b2-4e4b-8522-3f926f3608cc",
   "metadata": {},
   "outputs": [
    {
     "name": "stdout",
     "output_type": "stream",
     "text": [
      "10\n",
      "9\n",
      "8\n",
      "7\n",
      "6\n",
      "5\n",
      "4\n",
      "3\n",
      "2\n",
      "1\n"
     ]
    }
   ],
   "source": [
    "for i in range(10,0,-1):\n",
    "    print(i)"
   ]
  },
  {
   "cell_type": "markdown",
   "id": "4e1cff3f-51c6-46fd-b171-bef4c09a25de",
   "metadata": {},
   "source": [
    "Keep in mind that in any case the first argument is included, while the second argument is NOT.  Hence, when doing it the typical way / not reversed, you enter the value AFTER the last value you want included for the second argument.\n",
    "\n",
    "In mathematical notation, ```range(i,n)``` $\\epsilon \\space  [i,n)$"
   ]
  },
  {
   "cell_type": "code",
   "execution_count": 27,
   "id": "b125a39d-103b-41d3-9233-d05060479cdf",
   "metadata": {},
   "outputs": [
    {
     "name": "stdout",
     "output_type": "stream",
     "text": [
      "0\n",
      "1\n",
      "2\n",
      "3\n",
      "4\n",
      "5\n",
      "6\n",
      "7\n",
      "8\n",
      "9\n",
      "10\n"
     ]
    }
   ],
   "source": [
    "for i in range(0,11,1):\n",
    "    print(i)"
   ]
  },
  {
   "cell_type": "code",
   "execution_count": 33,
   "id": "2ff76773-973a-4eba-bf7f-eb241b44d53a",
   "metadata": {},
   "outputs": [
    {
     "name": "stdout",
     "output_type": "stream",
     "text": [
      "11\n",
      "9\n",
      "7\n",
      "5\n"
     ]
    }
   ],
   "source": [
    "for i in range(11,4,-2):\n",
    "    print(i)"
   ]
  },
  {
   "cell_type": "markdown",
   "id": "7afafd9c-bd7c-41f5-a808-a31b25e7fcdd",
   "metadata": {},
   "source": [
    "## 15.2 | The Power of Pandas"
   ]
  },
  {
   "cell_type": "markdown",
   "id": "f7d6d609-b8e1-4c86-8de0-f07e0c0ef112",
   "metadata": {
    "jp-MarkdownHeadingCollapsed": true
   },
   "source": [
    "### Data Manipulation with Pandas"
   ]
  },
  {
   "cell_type": "code",
   "execution_count": null,
   "id": "2d6f6ee3-bac6-4ed2-9fde-df1affd8701f",
   "metadata": {},
   "outputs": [],
   "source": []
  },
  {
   "cell_type": "markdown",
   "id": "a608ab5e-8659-49d0-b64e-64b6c1f6317b",
   "metadata": {
    "jp-MarkdownHeadingCollapsed": true
   },
   "source": [
    "#### 1. Transforming DataFrames"
   ]
  },
  {
   "cell_type": "markdown",
   "id": "47d13be7-59bb-4bca-8ab0-be6c34a7727e",
   "metadata": {
    "jp-MarkdownHeadingCollapsed": true
   },
   "source": [
    "##### Intro to DataFrame"
   ]
  },
  {
   "cell_type": "code",
   "execution_count": 11,
   "id": "0fef022f-9661-4aea-8365-516637b34aae",
   "metadata": {},
   "outputs": [],
   "source": [
    "import pandas as pd"
   ]
  },
  {
   "cell_type": "code",
   "execution_count": 7,
   "id": "8ebe2ca8-5252-4d7f-a1f1-cf107c312fd5",
   "metadata": {},
   "outputs": [
    {
     "data": {
      "text/html": [
       "<div>\n",
       "<style scoped>\n",
       "    .dataframe tbody tr th:only-of-type {\n",
       "        vertical-align: middle;\n",
       "    }\n",
       "\n",
       "    .dataframe tbody tr th {\n",
       "        vertical-align: top;\n",
       "    }\n",
       "\n",
       "    .dataframe thead th {\n",
       "        text-align: right;\n",
       "    }\n",
       "</style>\n",
       "<table border=\"1\" class=\"dataframe\">\n",
       "  <thead>\n",
       "    <tr style=\"text-align: right;\">\n",
       "      <th></th>\n",
       "      <th>Series Name</th>\n",
       "      <th>Series Code</th>\n",
       "      <th>Country Name</th>\n",
       "      <th>Country Code</th>\n",
       "      <th>2009 [YR2009]</th>\n",
       "      <th>2010 [YR2010]</th>\n",
       "      <th>2011 [YR2011]</th>\n",
       "      <th>2012 [YR2012]</th>\n",
       "    </tr>\n",
       "  </thead>\n",
       "  <tbody>\n",
       "    <tr>\n",
       "      <th>0</th>\n",
       "      <td>GDP growth (annual %)</td>\n",
       "      <td>NY.GDP.MKTP.KD.ZG</td>\n",
       "      <td>Brazil</td>\n",
       "      <td>BRA</td>\n",
       "      <td>-0.125812</td>\n",
       "      <td>7.528226</td>\n",
       "      <td>3.974423</td>\n",
       "      <td>1.921176</td>\n",
       "    </tr>\n",
       "    <tr>\n",
       "      <th>1</th>\n",
       "      <td>GDP growth (annual %)</td>\n",
       "      <td>NY.GDP.MKTP.KD.ZG</td>\n",
       "      <td>Russian Federation</td>\n",
       "      <td>RUS</td>\n",
       "      <td>-7.799994</td>\n",
       "      <td>4.500000</td>\n",
       "      <td>4.300029</td>\n",
       "      <td>4.024086</td>\n",
       "    </tr>\n",
       "    <tr>\n",
       "      <th>2</th>\n",
       "      <td>GDP growth (annual %)</td>\n",
       "      <td>NY.GDP.MKTP.KD.ZG</td>\n",
       "      <td>India</td>\n",
       "      <td>IND</td>\n",
       "      <td>7.861889</td>\n",
       "      <td>8.497585</td>\n",
       "      <td>5.241316</td>\n",
       "      <td>5.456388</td>\n",
       "    </tr>\n",
       "    <tr>\n",
       "      <th>3</th>\n",
       "      <td>GDP growth (annual %)</td>\n",
       "      <td>NY.GDP.MKTP.KD.ZG</td>\n",
       "      <td>China</td>\n",
       "      <td>CHN</td>\n",
       "      <td>9.398726</td>\n",
       "      <td>10.635871</td>\n",
       "      <td>9.550832</td>\n",
       "      <td>7.863736</td>\n",
       "    </tr>\n",
       "    <tr>\n",
       "      <th>4</th>\n",
       "      <td>GDP growth (annual %)</td>\n",
       "      <td>NY.GDP.MKTP.KD.ZG</td>\n",
       "      <td>South Africa</td>\n",
       "      <td>ZAF</td>\n",
       "      <td>-1.538089</td>\n",
       "      <td>3.039733</td>\n",
       "      <td>3.168556</td>\n",
       "      <td>2.396232</td>\n",
       "    </tr>\n",
       "  </tbody>\n",
       "</table>\n",
       "</div>"
      ],
      "text/plain": [
       "             Series Name        Series Code        Country Name Country Code  \\\n",
       "0  GDP growth (annual %)  NY.GDP.MKTP.KD.ZG              Brazil          BRA   \n",
       "1  GDP growth (annual %)  NY.GDP.MKTP.KD.ZG  Russian Federation          RUS   \n",
       "2  GDP growth (annual %)  NY.GDP.MKTP.KD.ZG               India          IND   \n",
       "3  GDP growth (annual %)  NY.GDP.MKTP.KD.ZG               China          CHN   \n",
       "4  GDP growth (annual %)  NY.GDP.MKTP.KD.ZG        South Africa          ZAF   \n",
       "\n",
       "   2009 [YR2009]  2010 [YR2010]  2011 [YR2011]  2012 [YR2012]  \n",
       "0      -0.125812       7.528226       3.974423       1.921176  \n",
       "1      -7.799994       4.500000       4.300029       4.024086  \n",
       "2       7.861889       8.497585       5.241316       5.456388  \n",
       "3       9.398726      10.635871       9.550832       7.863736  \n",
       "4      -1.538089       3.039733       3.168556       2.396232  "
      ]
     },
     "execution_count": 7,
     "metadata": {},
     "output_type": "execute_result"
    }
   ],
   "source": [
    "brics = pd.read_csv('BRICS_Data.csv')\n",
    "brics.head()"
   ]
  },
  {
   "cell_type": "code",
   "execution_count": 13,
   "id": "6434e2f7-3279-4e9d-8aaa-4bf21fd04d78",
   "metadata": {},
   "outputs": [
    {
     "name": "stdout",
     "output_type": "stream",
     "text": [
      "<class 'pandas.core.frame.DataFrame'>\n",
      "RangeIndex: 15 entries, 0 to 14\n",
      "Data columns (total 8 columns):\n",
      " #   Column         Non-Null Count  Dtype  \n",
      "---  ------         --------------  -----  \n",
      " 0   Series Name    12 non-null     object \n",
      " 1   Series Code    10 non-null     object \n",
      " 2   Country Name   10 non-null     object \n",
      " 3   Country Code   10 non-null     object \n",
      " 4   2009 [YR2009]  10 non-null     float64\n",
      " 5   2010 [YR2010]  10 non-null     float64\n",
      " 6   2011 [YR2011]  10 non-null     float64\n",
      " 7   2012 [YR2012]  10 non-null     float64\n",
      "dtypes: float64(4), object(4)\n",
      "memory usage: 1.1+ KB\n"
     ]
    }
   ],
   "source": [
    "brics.info()"
   ]
  },
  {
   "cell_type": "code",
   "execution_count": 17,
   "id": "788219b5-45a3-43e8-a5c3-eea0683d06ea",
   "metadata": {},
   "outputs": [
    {
     "data": {
      "text/plain": [
       "(15, 8)"
      ]
     },
     "execution_count": 17,
     "metadata": {},
     "output_type": "execute_result"
    }
   ],
   "source": [
    "brics.shape"
   ]
  },
  {
   "cell_type": "markdown",
   "id": "516e58b0-40ef-4abe-81ea-69e82cc01ae2",
   "metadata": {},
   "source": [
    "brics.describe()"
   ]
  },
  {
   "cell_type": "markdown",
   "id": "b7bfbb0e-315d-430c-8a46-6eef75677a57",
   "metadata": {},
   "source": [
    "Pandas DataFrames are composed of three components, accessible as attributes: values, columns, and index"
   ]
  },
  {
   "cell_type": "code",
   "execution_count": 21,
   "id": "e2d4a100-004f-42b6-a600-f8ee3b623065",
   "metadata": {},
   "outputs": [
    {
     "data": {
      "text/plain": [
       "array([['GDP growth (annual %)', 'NY.GDP.MKTP.KD.ZG', 'Brazil', 'BRA',\n",
       "        -0.125812002161169, 7.52822581815364, 3.97442307944702,\n",
       "        1.92117598576537],\n",
       "       ['GDP growth (annual %)', 'NY.GDP.MKTP.KD.ZG',\n",
       "        'Russian Federation', 'RUS', -7.79999391271275, 4.49999999920672,\n",
       "        4.30002918567749, 4.02408615746921],\n",
       "       ['GDP growth (annual %)', 'NY.GDP.MKTP.KD.ZG', 'India', 'IND',\n",
       "        7.86188883286074, 8.49758470221235, 5.24131619938926,\n",
       "        5.45638755164701],\n",
       "       ['GDP growth (annual %)', 'NY.GDP.MKTP.KD.ZG', 'China', 'CHN',\n",
       "        9.39872563259674, 10.6358710644913, 9.55083217877568,\n",
       "        7.86373644862111],\n",
       "       ['GDP growth (annual %)', 'NY.GDP.MKTP.KD.ZG', 'South Africa',\n",
       "        'ZAF', -1.53808913525583, 3.03973288127956, 3.16855627858818,\n",
       "        2.39623238465745],\n",
       "       ['General government final consumption expenditure (% of GDP)',\n",
       "        'NE.CON.GOVT.ZS', 'Brazil', 'BRA', 19.6506384012198,\n",
       "        19.0168578356276, 18.6692569364374, 18.5301032637141],\n",
       "       ['General government final consumption expenditure (% of GDP)',\n",
       "        'NE.CON.GOVT.ZS', 'Russian Federation', 'RUS', 20.7865966596139,\n",
       "        18.7250554156357, 17.6255115280966, 17.9672380527257],\n",
       "       ['General government final consumption expenditure (% of GDP)',\n",
       "        'NE.CON.GOVT.ZS', 'India', 'IND', 11.459667419691,\n",
       "        11.0076078674499, 11.0844615855558, 10.6838562318095],\n",
       "       ['General government final consumption expenditure (% of GDP)',\n",
       "        'NE.CON.GOVT.ZS', 'China', 'CHN', 14.7529761302757,\n",
       "        14.5870205780333, 15.2388649383201, 15.7560783884401],\n",
       "       ['General government final consumption expenditure (% of GDP)',\n",
       "        'NE.CON.GOVT.ZS', 'South Africa', 'ZAF', 17.7936331368919,\n",
       "        17.996063602882, 18.1951431854763, 18.8205452606488],\n",
       "       [nan, nan, nan, nan, nan, nan, nan, nan],\n",
       "       [nan, nan, nan, nan, nan, nan, nan, nan],\n",
       "       [nan, nan, nan, nan, nan, nan, nan, nan],\n",
       "       ['Data from database: World Development Indicators', nan, nan,\n",
       "        nan, nan, nan, nan, nan],\n",
       "       ['Last Updated: 11/13/2024', nan, nan, nan, nan, nan, nan, nan]],\n",
       "      dtype=object)"
      ]
     },
     "execution_count": 21,
     "metadata": {},
     "output_type": "execute_result"
    }
   ],
   "source": [
    "brics.values"
   ]
  },
  {
   "cell_type": "markdown",
   "id": "1abf1032-2bcd-4582-a64d-44b56ddd5d1e",
   "metadata": {},
   "source": [
    "Note that the values attribute is a 2D numpy array, where the data objects contained in each \"cell\" of the table corresponds to a single element of the array."
   ]
  },
  {
   "cell_type": "code",
   "execution_count": 31,
   "id": "9109aa26-58e0-4b2b-a325-edf2c1e2dfa3",
   "metadata": {},
   "outputs": [
    {
     "data": {
      "text/plain": [
       "numpy.ndarray"
      ]
     },
     "execution_count": 31,
     "metadata": {},
     "output_type": "execute_result"
    }
   ],
   "source": [
    "type(brics.values)"
   ]
  },
  {
   "cell_type": "code",
   "execution_count": 27,
   "id": "694ff955-16dd-4705-bdea-d8300c2c6a02",
   "metadata": {},
   "outputs": [
    {
     "data": {
      "text/plain": [
       "Index(['Series Name', 'Series Code', 'Country Name', 'Country Code',\n",
       "       '2009 [YR2009]', '2010 [YR2010]', '2011 [YR2011]', '2012 [YR2012]'],\n",
       "      dtype='object')"
      ]
     },
     "execution_count": 27,
     "metadata": {},
     "output_type": "execute_result"
    }
   ],
   "source": [
    "brics.columns"
   ]
  },
  {
   "cell_type": "code",
   "execution_count": 36,
   "id": "1453e581-2fa1-47f5-b82f-2cfe2e5b3dee",
   "metadata": {},
   "outputs": [
    {
     "data": {
      "text/plain": [
       "pandas.core.indexes.base.Index"
      ]
     },
     "execution_count": 36,
     "metadata": {},
     "output_type": "execute_result"
    }
   ],
   "source": [
    "type(brics.columns)"
   ]
  },
  {
   "cell_type": "code",
   "execution_count": 29,
   "id": "1dd94293-6fb3-4b91-bcda-4a619284f446",
   "metadata": {},
   "outputs": [
    {
     "data": {
      "text/plain": [
       "RangeIndex(start=0, stop=15, step=1)"
      ]
     },
     "execution_count": 29,
     "metadata": {},
     "output_type": "execute_result"
    }
   ],
   "source": [
    "brics.index"
   ]
  },
  {
   "cell_type": "code",
   "execution_count": 34,
   "id": "2ccff1c8-49cb-4a4a-a09f-2320cc109ff1",
   "metadata": {},
   "outputs": [
    {
     "data": {
      "text/plain": [
       "pandas.core.indexes.range.RangeIndex"
      ]
     },
     "execution_count": 34,
     "metadata": {},
     "output_type": "execute_result"
    }
   ],
   "source": [
    "type(brics.index)"
   ]
  },
  {
   "cell_type": "markdown",
   "id": "8a1c3cc4-2914-4107-9e20-45a64f85f8ce",
   "metadata": {},
   "source": [
    "Transforming DataFrames"
   ]
  },
  {
   "cell_type": "code",
   "execution_count": null,
   "id": "c6d62bf9-d74e-4e3a-baef-b27739f7a242",
   "metadata": {},
   "outputs": [],
   "source": []
  },
  {
   "cell_type": "code",
   "execution_count": 43,
   "id": "660e01ce-3efd-4357-b214-4d5f546bf205",
   "metadata": {},
   "outputs": [
    {
     "data": {
      "text/html": [
       "<div>\n",
       "<style scoped>\n",
       "    .dataframe tbody tr th:only-of-type {\n",
       "        vertical-align: middle;\n",
       "    }\n",
       "\n",
       "    .dataframe tbody tr th {\n",
       "        vertical-align: top;\n",
       "    }\n",
       "\n",
       "    .dataframe thead th {\n",
       "        text-align: right;\n",
       "    }\n",
       "</style>\n",
       "<table border=\"1\" class=\"dataframe\">\n",
       "  <thead>\n",
       "    <tr style=\"text-align: right;\">\n",
       "      <th></th>\n",
       "      <th>Series Name</th>\n",
       "      <th>Series Code</th>\n",
       "      <th>Country Name</th>\n",
       "      <th>Country Code</th>\n",
       "      <th>2009 [YR2009]</th>\n",
       "      <th>2010 [YR2010]</th>\n",
       "      <th>2011 [YR2011]</th>\n",
       "      <th>2012 [YR2012]</th>\n",
       "    </tr>\n",
       "  </thead>\n",
       "  <tbody>\n",
       "    <tr>\n",
       "      <th>0</th>\n",
       "      <td>GDP growth (annual %)</td>\n",
       "      <td>NY.GDP.MKTP.KD.ZG</td>\n",
       "      <td>Brazil</td>\n",
       "      <td>BRA</td>\n",
       "      <td>-0.125812</td>\n",
       "      <td>7.528226</td>\n",
       "      <td>3.974423</td>\n",
       "      <td>1.921176</td>\n",
       "    </tr>\n",
       "    <tr>\n",
       "      <th>5</th>\n",
       "      <td>General government final consumption expenditu...</td>\n",
       "      <td>NE.CON.GOVT.ZS</td>\n",
       "      <td>Brazil</td>\n",
       "      <td>BRA</td>\n",
       "      <td>19.650638</td>\n",
       "      <td>19.016858</td>\n",
       "      <td>18.669257</td>\n",
       "      <td>18.530103</td>\n",
       "    </tr>\n",
       "    <tr>\n",
       "      <th>3</th>\n",
       "      <td>GDP growth (annual %)</td>\n",
       "      <td>NY.GDP.MKTP.KD.ZG</td>\n",
       "      <td>China</td>\n",
       "      <td>CHN</td>\n",
       "      <td>9.398726</td>\n",
       "      <td>10.635871</td>\n",
       "      <td>9.550832</td>\n",
       "      <td>7.863736</td>\n",
       "    </tr>\n",
       "    <tr>\n",
       "      <th>8</th>\n",
       "      <td>General government final consumption expenditu...</td>\n",
       "      <td>NE.CON.GOVT.ZS</td>\n",
       "      <td>China</td>\n",
       "      <td>CHN</td>\n",
       "      <td>14.752976</td>\n",
       "      <td>14.587021</td>\n",
       "      <td>15.238865</td>\n",
       "      <td>15.756078</td>\n",
       "    </tr>\n",
       "    <tr>\n",
       "      <th>2</th>\n",
       "      <td>GDP growth (annual %)</td>\n",
       "      <td>NY.GDP.MKTP.KD.ZG</td>\n",
       "      <td>India</td>\n",
       "      <td>IND</td>\n",
       "      <td>7.861889</td>\n",
       "      <td>8.497585</td>\n",
       "      <td>5.241316</td>\n",
       "      <td>5.456388</td>\n",
       "    </tr>\n",
       "    <tr>\n",
       "      <th>7</th>\n",
       "      <td>General government final consumption expenditu...</td>\n",
       "      <td>NE.CON.GOVT.ZS</td>\n",
       "      <td>India</td>\n",
       "      <td>IND</td>\n",
       "      <td>11.459667</td>\n",
       "      <td>11.007608</td>\n",
       "      <td>11.084462</td>\n",
       "      <td>10.683856</td>\n",
       "    </tr>\n",
       "    <tr>\n",
       "      <th>1</th>\n",
       "      <td>GDP growth (annual %)</td>\n",
       "      <td>NY.GDP.MKTP.KD.ZG</td>\n",
       "      <td>Russian Federation</td>\n",
       "      <td>RUS</td>\n",
       "      <td>-7.799994</td>\n",
       "      <td>4.500000</td>\n",
       "      <td>4.300029</td>\n",
       "      <td>4.024086</td>\n",
       "    </tr>\n",
       "    <tr>\n",
       "      <th>6</th>\n",
       "      <td>General government final consumption expenditu...</td>\n",
       "      <td>NE.CON.GOVT.ZS</td>\n",
       "      <td>Russian Federation</td>\n",
       "      <td>RUS</td>\n",
       "      <td>20.786597</td>\n",
       "      <td>18.725055</td>\n",
       "      <td>17.625512</td>\n",
       "      <td>17.967238</td>\n",
       "    </tr>\n",
       "    <tr>\n",
       "      <th>4</th>\n",
       "      <td>GDP growth (annual %)</td>\n",
       "      <td>NY.GDP.MKTP.KD.ZG</td>\n",
       "      <td>South Africa</td>\n",
       "      <td>ZAF</td>\n",
       "      <td>-1.538089</td>\n",
       "      <td>3.039733</td>\n",
       "      <td>3.168556</td>\n",
       "      <td>2.396232</td>\n",
       "    </tr>\n",
       "    <tr>\n",
       "      <th>9</th>\n",
       "      <td>General government final consumption expenditu...</td>\n",
       "      <td>NE.CON.GOVT.ZS</td>\n",
       "      <td>South Africa</td>\n",
       "      <td>ZAF</td>\n",
       "      <td>17.793633</td>\n",
       "      <td>17.996064</td>\n",
       "      <td>18.195143</td>\n",
       "      <td>18.820545</td>\n",
       "    </tr>\n",
       "    <tr>\n",
       "      <th>10</th>\n",
       "      <td>NaN</td>\n",
       "      <td>NaN</td>\n",
       "      <td>NaN</td>\n",
       "      <td>NaN</td>\n",
       "      <td>NaN</td>\n",
       "      <td>NaN</td>\n",
       "      <td>NaN</td>\n",
       "      <td>NaN</td>\n",
       "    </tr>\n",
       "    <tr>\n",
       "      <th>11</th>\n",
       "      <td>NaN</td>\n",
       "      <td>NaN</td>\n",
       "      <td>NaN</td>\n",
       "      <td>NaN</td>\n",
       "      <td>NaN</td>\n",
       "      <td>NaN</td>\n",
       "      <td>NaN</td>\n",
       "      <td>NaN</td>\n",
       "    </tr>\n",
       "    <tr>\n",
       "      <th>12</th>\n",
       "      <td>NaN</td>\n",
       "      <td>NaN</td>\n",
       "      <td>NaN</td>\n",
       "      <td>NaN</td>\n",
       "      <td>NaN</td>\n",
       "      <td>NaN</td>\n",
       "      <td>NaN</td>\n",
       "      <td>NaN</td>\n",
       "    </tr>\n",
       "    <tr>\n",
       "      <th>13</th>\n",
       "      <td>Data from database: World Development Indicators</td>\n",
       "      <td>NaN</td>\n",
       "      <td>NaN</td>\n",
       "      <td>NaN</td>\n",
       "      <td>NaN</td>\n",
       "      <td>NaN</td>\n",
       "      <td>NaN</td>\n",
       "      <td>NaN</td>\n",
       "    </tr>\n",
       "    <tr>\n",
       "      <th>14</th>\n",
       "      <td>Last Updated: 11/13/2024</td>\n",
       "      <td>NaN</td>\n",
       "      <td>NaN</td>\n",
       "      <td>NaN</td>\n",
       "      <td>NaN</td>\n",
       "      <td>NaN</td>\n",
       "      <td>NaN</td>\n",
       "      <td>NaN</td>\n",
       "    </tr>\n",
       "  </tbody>\n",
       "</table>\n",
       "</div>"
      ],
      "text/plain": [
       "                                          Series Name        Series Code  \\\n",
       "0                               GDP growth (annual %)  NY.GDP.MKTP.KD.ZG   \n",
       "5   General government final consumption expenditu...     NE.CON.GOVT.ZS   \n",
       "3                               GDP growth (annual %)  NY.GDP.MKTP.KD.ZG   \n",
       "8   General government final consumption expenditu...     NE.CON.GOVT.ZS   \n",
       "2                               GDP growth (annual %)  NY.GDP.MKTP.KD.ZG   \n",
       "7   General government final consumption expenditu...     NE.CON.GOVT.ZS   \n",
       "1                               GDP growth (annual %)  NY.GDP.MKTP.KD.ZG   \n",
       "6   General government final consumption expenditu...     NE.CON.GOVT.ZS   \n",
       "4                               GDP growth (annual %)  NY.GDP.MKTP.KD.ZG   \n",
       "9   General government final consumption expenditu...     NE.CON.GOVT.ZS   \n",
       "10                                                NaN                NaN   \n",
       "11                                                NaN                NaN   \n",
       "12                                                NaN                NaN   \n",
       "13   Data from database: World Development Indicators                NaN   \n",
       "14                           Last Updated: 11/13/2024                NaN   \n",
       "\n",
       "          Country Name Country Code  2009 [YR2009]  2010 [YR2010]  \\\n",
       "0               Brazil          BRA      -0.125812       7.528226   \n",
       "5               Brazil          BRA      19.650638      19.016858   \n",
       "3                China          CHN       9.398726      10.635871   \n",
       "8                China          CHN      14.752976      14.587021   \n",
       "2                India          IND       7.861889       8.497585   \n",
       "7                India          IND      11.459667      11.007608   \n",
       "1   Russian Federation          RUS      -7.799994       4.500000   \n",
       "6   Russian Federation          RUS      20.786597      18.725055   \n",
       "4         South Africa          ZAF      -1.538089       3.039733   \n",
       "9         South Africa          ZAF      17.793633      17.996064   \n",
       "10                 NaN          NaN            NaN            NaN   \n",
       "11                 NaN          NaN            NaN            NaN   \n",
       "12                 NaN          NaN            NaN            NaN   \n",
       "13                 NaN          NaN            NaN            NaN   \n",
       "14                 NaN          NaN            NaN            NaN   \n",
       "\n",
       "    2011 [YR2011]  2012 [YR2012]  \n",
       "0        3.974423       1.921176  \n",
       "5       18.669257      18.530103  \n",
       "3        9.550832       7.863736  \n",
       "8       15.238865      15.756078  \n",
       "2        5.241316       5.456388  \n",
       "7       11.084462      10.683856  \n",
       "1        4.300029       4.024086  \n",
       "6       17.625512      17.967238  \n",
       "4        3.168556       2.396232  \n",
       "9       18.195143      18.820545  \n",
       "10            NaN            NaN  \n",
       "11            NaN            NaN  \n",
       "12            NaN            NaN  \n",
       "13            NaN            NaN  \n",
       "14            NaN            NaN  "
      ]
     },
     "execution_count": 43,
     "metadata": {},
     "output_type": "execute_result"
    }
   ],
   "source": [
    "brics.sort_values('Country Code')"
   ]
  },
  {
   "cell_type": "code",
   "execution_count": 2,
   "id": "51d407e6-a3d0-4214-a226-7af6fc270f0d",
   "metadata": {},
   "outputs": [
    {
     "name": "stdout",
     "output_type": "stream",
     "text": [
      "Collecting kagglehub\n",
      "  Downloading kagglehub-0.3.6-py3-none-any.whl.metadata (30 kB)\n",
      "Requirement already satisfied: packaging in /home/etudie/anaconda3/lib/python3.12/site-packages (from kagglehub) (24.1)\n",
      "Requirement already satisfied: requests in /home/etudie/anaconda3/lib/python3.12/site-packages (from kagglehub) (2.32.3)\n",
      "Requirement already satisfied: tqdm in /home/etudie/anaconda3/lib/python3.12/site-packages (from kagglehub) (4.66.5)\n",
      "Requirement already satisfied: charset-normalizer<4,>=2 in /home/etudie/anaconda3/lib/python3.12/site-packages (from requests->kagglehub) (3.3.2)\n",
      "Requirement already satisfied: idna<4,>=2.5 in /home/etudie/anaconda3/lib/python3.12/site-packages (from requests->kagglehub) (3.7)\n",
      "Requirement already satisfied: urllib3<3,>=1.21.1 in /home/etudie/anaconda3/lib/python3.12/site-packages (from requests->kagglehub) (2.2.3)\n",
      "Requirement already satisfied: certifi>=2017.4.17 in /home/etudie/anaconda3/lib/python3.12/site-packages (from requests->kagglehub) (2024.8.30)\n",
      "Downloading kagglehub-0.3.6-py3-none-any.whl (51 kB)\n",
      "Installing collected packages: kagglehub\n",
      "Successfully installed kagglehub-0.3.6\n"
     ]
    }
   ],
   "source": [
    "!pip install kagglehub"
   ]
  },
  {
   "cell_type": "code",
   "execution_count": 3,
   "id": "7c1fec45-68a6-4ad2-80ed-0972d0c0e06b",
   "metadata": {},
   "outputs": [
    {
     "name": "stdout",
     "output_type": "stream",
     "text": [
      "Downloading from https://www.kaggle.com/api/v1/datasets/download/jpmiller/layoutlm?dataset_version_number=16...\n"
     ]
    },
    {
     "name": "stderr",
     "output_type": "stream",
     "text": [
      "100%|████████████████████████████████████| 28.0G/28.0G [32:14<00:00, 15.6MB/s]"
     ]
    },
    {
     "name": "stdout",
     "output_type": "stream",
     "text": [
      "Extracting files...\n"
     ]
    },
    {
     "name": "stderr",
     "output_type": "stream",
     "text": [
      "\n"
     ]
    }
   ],
   "source": [
    "import kagglehub\n",
    "\n",
    "# Download latest version\n",
    "path = kagglehub.dataset_download(\"jpmiller/layoutlm\")"
   ]
  },
  {
   "cell_type": "code",
   "execution_count": 4,
   "id": "de9d3a51-8bc5-4ded-9f6a-02658b6e2294",
   "metadata": {},
   "outputs": [
    {
     "ename": "NameError",
     "evalue": "name 'size' is not defined",
     "output_type": "error",
     "traceback": [
      "\u001b[0;31m---------------------------------------------------------------------------\u001b[0m",
      "\u001b[0;31mNameError\u001b[0m                                 Traceback (most recent call last)",
      "Cell \u001b[0;32mIn[4], line 1\u001b[0m\n\u001b[0;32m----> 1\u001b[0m size(path)\n",
      "\u001b[0;31mNameError\u001b[0m: name 'size' is not defined"
     ]
    }
   ],
   "source": [
    " size(path)"
   ]
  },
  {
   "cell_type": "code",
   "execution_count": 5,
   "id": "3f882b69-afcf-4048-989c-b2c4d61386fd",
   "metadata": {},
   "outputs": [
    {
     "data": {
      "text/plain": [
       "68"
      ]
     },
     "execution_count": 5,
     "metadata": {},
     "output_type": "execute_result"
    }
   ],
   "source": [
    "len(path)"
   ]
  },
  {
   "cell_type": "code",
   "execution_count": 6,
   "id": "549277bd-9c66-4a29-a611-50e80fcd37bf",
   "metadata": {},
   "outputs": [
    {
     "data": {
      "text/plain": [
       "'/home/etudie/.cache/kagglehub/datasets/jpmiller/layoutlm/versions/16'"
      ]
     },
     "execution_count": 6,
     "metadata": {},
     "output_type": "execute_result"
    }
   ],
   "source": [
    "path"
   ]
  },
  {
   "cell_type": "code",
   "execution_count": 7,
   "id": "8fbef035-d60e-4917-ad77-d95eb4ae81ce",
   "metadata": {},
   "outputs": [],
   "source": [
    "import os"
   ]
  },
  {
   "cell_type": "code",
   "execution_count": 8,
   "id": "fffd24a1-f0bc-4402-b3c8-4dbc94be42bb",
   "metadata": {},
   "outputs": [
    {
     "data": {
      "text/plain": [
       "['Bio_ClinicalBERT',\n",
       " 'gatortron_og_1',\n",
       " 'medquad.csv',\n",
       " 'biomedical-ner-all',\n",
       " 'Bio_Discharge_Summary_BERT',\n",
       " 'layoutlmv3-base',\n",
       " 'models--yikuan8--Clinical-BigBird',\n",
       " 'models--yikuan8--Clinical-Longformer',\n",
       " 'medquad_xml',\n",
       " 'BiomedNLP-PubMedBERT-base-uncased-abstract-fulltext',\n",
       " 'models--bvanaken--CORe-clinical-diagnosis-prediction',\n",
       " 'HC_DATA',\n",
       " 'meditron-7b']"
      ]
     },
     "execution_count": 8,
     "metadata": {},
     "output_type": "execute_result"
    }
   ],
   "source": [
    "os.listdir(path)"
   ]
  },
  {
   "cell_type": "code",
   "execution_count": 9,
   "id": "f2241a1d-b9b3-452c-889e-ef6e14fe6f04",
   "metadata": {},
   "outputs": [
    {
     "data": {
      "text/plain": [
       "str"
      ]
     },
     "execution_count": 9,
     "metadata": {},
     "output_type": "execute_result"
    }
   ],
   "source": [
    "type(f\"{path}/meditron-7b\")"
   ]
  },
  {
   "cell_type": "code",
   "execution_count": 12,
   "id": "4c135f92-8878-4e6c-8078-28ae52f4decb",
   "metadata": {},
   "outputs": [],
   "source": [
    "medq = pd.read_csv(f\"{path}/medquad.csv\")"
   ]
  },
  {
   "cell_type": "code",
   "execution_count": 13,
   "id": "d74aa820-cca9-4b61-a7da-46f3f6917634",
   "metadata": {},
   "outputs": [
    {
     "data": {
      "text/plain": [
       "(16412, 4)"
      ]
     },
     "execution_count": 13,
     "metadata": {},
     "output_type": "execute_result"
    }
   ],
   "source": [
    "medq.shape"
   ]
  },
  {
   "cell_type": "code",
   "execution_count": 14,
   "id": "6d017972-9ec8-42be-be4e-e86b0fbdc605",
   "metadata": {},
   "outputs": [
    {
     "data": {
      "text/html": [
       "<div>\n",
       "<style scoped>\n",
       "    .dataframe tbody tr th:only-of-type {\n",
       "        vertical-align: middle;\n",
       "    }\n",
       "\n",
       "    .dataframe tbody tr th {\n",
       "        vertical-align: top;\n",
       "    }\n",
       "\n",
       "    .dataframe thead th {\n",
       "        text-align: right;\n",
       "    }\n",
       "</style>\n",
       "<table border=\"1\" class=\"dataframe\">\n",
       "  <thead>\n",
       "    <tr style=\"text-align: right;\">\n",
       "      <th></th>\n",
       "      <th>question</th>\n",
       "      <th>answer</th>\n",
       "      <th>source</th>\n",
       "      <th>focus_area</th>\n",
       "    </tr>\n",
       "  </thead>\n",
       "  <tbody>\n",
       "    <tr>\n",
       "      <th>0</th>\n",
       "      <td>What is (are) Glaucoma ?</td>\n",
       "      <td>Glaucoma is a group of diseases that can damag...</td>\n",
       "      <td>NIHSeniorHealth</td>\n",
       "      <td>Glaucoma</td>\n",
       "    </tr>\n",
       "    <tr>\n",
       "      <th>1</th>\n",
       "      <td>What causes Glaucoma ?</td>\n",
       "      <td>Nearly 2.7 million people have glaucoma, a lea...</td>\n",
       "      <td>NIHSeniorHealth</td>\n",
       "      <td>Glaucoma</td>\n",
       "    </tr>\n",
       "    <tr>\n",
       "      <th>2</th>\n",
       "      <td>What are the symptoms of Glaucoma ?</td>\n",
       "      <td>Symptoms of Glaucoma  Glaucoma can develop in ...</td>\n",
       "      <td>NIHSeniorHealth</td>\n",
       "      <td>Glaucoma</td>\n",
       "    </tr>\n",
       "    <tr>\n",
       "      <th>3</th>\n",
       "      <td>What are the treatments for Glaucoma ?</td>\n",
       "      <td>Although open-angle glaucoma cannot be cured, ...</td>\n",
       "      <td>NIHSeniorHealth</td>\n",
       "      <td>Glaucoma</td>\n",
       "    </tr>\n",
       "    <tr>\n",
       "      <th>4</th>\n",
       "      <td>What is (are) Glaucoma ?</td>\n",
       "      <td>Glaucoma is a group of diseases that can damag...</td>\n",
       "      <td>NIHSeniorHealth</td>\n",
       "      <td>Glaucoma</td>\n",
       "    </tr>\n",
       "  </tbody>\n",
       "</table>\n",
       "</div>"
      ],
      "text/plain": [
       "                                 question  \\\n",
       "0                What is (are) Glaucoma ?   \n",
       "1                  What causes Glaucoma ?   \n",
       "2     What are the symptoms of Glaucoma ?   \n",
       "3  What are the treatments for Glaucoma ?   \n",
       "4                What is (are) Glaucoma ?   \n",
       "\n",
       "                                              answer           source  \\\n",
       "0  Glaucoma is a group of diseases that can damag...  NIHSeniorHealth   \n",
       "1  Nearly 2.7 million people have glaucoma, a lea...  NIHSeniorHealth   \n",
       "2  Symptoms of Glaucoma  Glaucoma can develop in ...  NIHSeniorHealth   \n",
       "3  Although open-angle glaucoma cannot be cured, ...  NIHSeniorHealth   \n",
       "4  Glaucoma is a group of diseases that can damag...  NIHSeniorHealth   \n",
       "\n",
       "  focus_area  \n",
       "0   Glaucoma  \n",
       "1   Glaucoma  \n",
       "2   Glaucoma  \n",
       "3   Glaucoma  \n",
       "4   Glaucoma  "
      ]
     },
     "execution_count": 14,
     "metadata": {},
     "output_type": "execute_result"
    }
   ],
   "source": [
    "medq.head()"
   ]
  },
  {
   "cell_type": "code",
   "execution_count": 15,
   "id": "ab16fa78-ba4a-4b41-b950-36393987451e",
   "metadata": {},
   "outputs": [
    {
     "name": "stdout",
     "output_type": "stream",
     "text": [
      "<class 'pandas.core.frame.DataFrame'>\n",
      "RangeIndex: 16412 entries, 0 to 16411\n",
      "Data columns (total 4 columns):\n",
      " #   Column      Non-Null Count  Dtype \n",
      "---  ------      --------------  ----- \n",
      " 0   question    16412 non-null  object\n",
      " 1   answer      16407 non-null  object\n",
      " 2   source      16412 non-null  object\n",
      " 3   focus_area  16398 non-null  object\n",
      "dtypes: object(4)\n",
      "memory usage: 513.0+ KB\n"
     ]
    }
   ],
   "source": [
    "medq.info()"
   ]
  },
  {
   "cell_type": "markdown",
   "id": "cadfaab0-9f45-42ea-a192-1e31f5aba9de",
   "metadata": {
    "jp-MarkdownHeadingCollapsed": true
   },
   "source": [
    "#### 2. Aggregating DataFrames"
   ]
  },
  {
   "cell_type": "markdown",
   "id": "f2187d5c-6561-47a0-93d9-b60df1cc03ea",
   "metadata": {},
   "source": [
    "##### Summary Statistics"
   ]
  },
  {
   "cell_type": "markdown",
   "id": "a80deb9e-c11c-4b04-b000-4b31ba7b3ff8",
   "metadata": {},
   "source": [
    "##### Counting"
   ]
  },
  {
   "cell_type": "markdown",
   "id": "d299a983-9142-445e-8877-5126999db3e3",
   "metadata": {},
   "source": [
    "##### Grouped Summary Statistics"
   ]
  },
  {
   "cell_type": "markdown",
   "id": "8e6a328a-1557-4666-90ba-31b0b9b9f54c",
   "metadata": {},
   "source": [
    "##### Pivot Tables"
   ]
  },
  {
   "cell_type": "markdown",
   "id": "e5d2f046-bfe2-4201-89f5-8989ee1e8441",
   "metadata": {
    "jp-MarkdownHeadingCollapsed": true
   },
   "source": [
    "#### 3. Slicing & Indexing DataFrames"
   ]
  },
  {
   "cell_type": "markdown",
   "id": "c7a03490-9fcf-4906-9cb0-d36f760ca579",
   "metadata": {},
   "source": [
    "##### Explicit  Indexes"
   ]
  },
  {
   "cell_type": "code",
   "execution_count": 35,
   "id": "57e9eed2-89d9-4d16-97b5-afb89ffa3a21",
   "metadata": {},
   "outputs": [],
   "source": [
    "import pandas as pd"
   ]
  },
  {
   "cell_type": "code",
   "execution_count": 37,
   "id": "8cbf1102-03c4-4f81-8d0f-e31c9fd1c9bd",
   "metadata": {},
   "outputs": [],
   "source": [
    "from randatagen import generate_name\n",
    "from random import randint,choice"
   ]
  },
  {
   "cell_type": "code",
   "execution_count": 56,
   "id": "51c86cbd-a3c9-4f90-a8cd-0c67995ce85c",
   "metadata": {},
   "outputs": [
    {
     "data": {
      "text/html": [
       "<div>\n",
       "<style scoped>\n",
       "    .dataframe tbody tr th:only-of-type {\n",
       "        vertical-align: middle;\n",
       "    }\n",
       "\n",
       "    .dataframe tbody tr th {\n",
       "        vertical-align: top;\n",
       "    }\n",
       "\n",
       "    .dataframe thead th {\n",
       "        text-align: right;\n",
       "    }\n",
       "</style>\n",
       "<table border=\"1\" class=\"dataframe\">\n",
       "  <thead>\n",
       "    <tr style=\"text-align: right;\">\n",
       "      <th></th>\n",
       "      <th>name</th>\n",
       "      <th>country</th>\n",
       "      <th>year</th>\n",
       "      <th>general_metric</th>\n",
       "    </tr>\n",
       "  </thead>\n",
       "  <tbody>\n",
       "    <tr>\n",
       "      <th>0</th>\n",
       "      <td>Bigsos</td>\n",
       "      <td>Germany</td>\n",
       "      <td>1986</td>\n",
       "      <td>1.057477</td>\n",
       "    </tr>\n",
       "    <tr>\n",
       "      <th>1</th>\n",
       "      <td>Sab</td>\n",
       "      <td>China</td>\n",
       "      <td>1956</td>\n",
       "      <td>2.782509</td>\n",
       "    </tr>\n",
       "    <tr>\n",
       "      <th>2</th>\n",
       "      <td>Rehdal</td>\n",
       "      <td>Germany</td>\n",
       "      <td>1906</td>\n",
       "      <td>1.726817</td>\n",
       "    </tr>\n",
       "    <tr>\n",
       "      <th>3</th>\n",
       "      <td>Bogbedrallab</td>\n",
       "      <td>China</td>\n",
       "      <td>1950</td>\n",
       "      <td>1.408955</td>\n",
       "    </tr>\n",
       "    <tr>\n",
       "      <th>4</th>\n",
       "      <td>Ben</td>\n",
       "      <td>Germany</td>\n",
       "      <td>1947</td>\n",
       "      <td>32.350195</td>\n",
       "    </tr>\n",
       "    <tr>\n",
       "      <th>5</th>\n",
       "      <td>Laslam</td>\n",
       "      <td>Canada</td>\n",
       "      <td>1979</td>\n",
       "      <td>2.067081</td>\n",
       "    </tr>\n",
       "    <tr>\n",
       "      <th>6</th>\n",
       "      <td>Calsor</td>\n",
       "      <td>Canada</td>\n",
       "      <td>1982</td>\n",
       "      <td>0.782061</td>\n",
       "    </tr>\n",
       "    <tr>\n",
       "      <th>7</th>\n",
       "      <td>Higged</td>\n",
       "      <td>USA</td>\n",
       "      <td>2019</td>\n",
       "      <td>4.130396</td>\n",
       "    </tr>\n",
       "    <tr>\n",
       "      <th>8</th>\n",
       "      <td>Beclah</td>\n",
       "      <td>Russia</td>\n",
       "      <td>1933</td>\n",
       "      <td>1.480246</td>\n",
       "    </tr>\n",
       "    <tr>\n",
       "      <th>9</th>\n",
       "      <td>Regnom</td>\n",
       "      <td>Russia</td>\n",
       "      <td>2016</td>\n",
       "      <td>16.427632</td>\n",
       "    </tr>\n",
       "    <tr>\n",
       "      <th>10</th>\n",
       "      <td>Bamhiccer</td>\n",
       "      <td>USA</td>\n",
       "      <td>1906</td>\n",
       "      <td>2.301301</td>\n",
       "    </tr>\n",
       "    <tr>\n",
       "      <th>11</th>\n",
       "      <td>Cebbodlag</td>\n",
       "      <td>China</td>\n",
       "      <td>1908</td>\n",
       "      <td>0.607918</td>\n",
       "    </tr>\n",
       "    <tr>\n",
       "      <th>12</th>\n",
       "      <td>Gindohdaldad</td>\n",
       "      <td>USA</td>\n",
       "      <td>1942</td>\n",
       "      <td>3.258214</td>\n",
       "    </tr>\n",
       "    <tr>\n",
       "      <th>13</th>\n",
       "      <td>Nidsimcal</td>\n",
       "      <td>Germany</td>\n",
       "      <td>1930</td>\n",
       "      <td>2.553949</td>\n",
       "    </tr>\n",
       "    <tr>\n",
       "      <th>14</th>\n",
       "      <td>Degbiglanlen</td>\n",
       "      <td>China</td>\n",
       "      <td>1918</td>\n",
       "      <td>1.030488</td>\n",
       "    </tr>\n",
       "    <tr>\n",
       "      <th>15</th>\n",
       "      <td>Mibbondah</td>\n",
       "      <td>Canada</td>\n",
       "      <td>1973</td>\n",
       "      <td>0.722620</td>\n",
       "    </tr>\n",
       "    <tr>\n",
       "      <th>16</th>\n",
       "      <td>Nadlol</td>\n",
       "      <td>France</td>\n",
       "      <td>1913</td>\n",
       "      <td>1.292152</td>\n",
       "    </tr>\n",
       "    <tr>\n",
       "      <th>17</th>\n",
       "      <td>Lan</td>\n",
       "      <td>Canada</td>\n",
       "      <td>1902</td>\n",
       "      <td>1.999171</td>\n",
       "    </tr>\n",
       "    <tr>\n",
       "      <th>18</th>\n",
       "      <td>Hamrid</td>\n",
       "      <td>China</td>\n",
       "      <td>1915</td>\n",
       "      <td>1.690183</td>\n",
       "    </tr>\n",
       "    <tr>\n",
       "      <th>19</th>\n",
       "      <td>San</td>\n",
       "      <td>China</td>\n",
       "      <td>1966</td>\n",
       "      <td>0.699497</td>\n",
       "    </tr>\n",
       "    <tr>\n",
       "      <th>20</th>\n",
       "      <td>Bemducgos</td>\n",
       "      <td>France</td>\n",
       "      <td>1980</td>\n",
       "      <td>0.643874</td>\n",
       "    </tr>\n",
       "    <tr>\n",
       "      <th>21</th>\n",
       "      <td>Nebrucnemsin</td>\n",
       "      <td>USA</td>\n",
       "      <td>1933</td>\n",
       "      <td>1.650636</td>\n",
       "    </tr>\n",
       "    <tr>\n",
       "      <th>22</th>\n",
       "      <td>Siclandilman</td>\n",
       "      <td>China</td>\n",
       "      <td>1930</td>\n",
       "      <td>1.279360</td>\n",
       "    </tr>\n",
       "    <tr>\n",
       "      <th>23</th>\n",
       "      <td>Cah</td>\n",
       "      <td>Canada</td>\n",
       "      <td>1911</td>\n",
       "      <td>0.772063</td>\n",
       "    </tr>\n",
       "    <tr>\n",
       "      <th>24</th>\n",
       "      <td>Nul</td>\n",
       "      <td>Russia</td>\n",
       "      <td>2015</td>\n",
       "      <td>2.141326</td>\n",
       "    </tr>\n",
       "    <tr>\n",
       "      <th>25</th>\n",
       "      <td>Lud</td>\n",
       "      <td>Germany</td>\n",
       "      <td>1992</td>\n",
       "      <td>1.067670</td>\n",
       "    </tr>\n",
       "    <tr>\n",
       "      <th>26</th>\n",
       "      <td>Dashac</td>\n",
       "      <td>Canada</td>\n",
       "      <td>1990</td>\n",
       "      <td>1.659684</td>\n",
       "    </tr>\n",
       "    <tr>\n",
       "      <th>27</th>\n",
       "      <td>Hul</td>\n",
       "      <td>USA</td>\n",
       "      <td>1900</td>\n",
       "      <td>16.053957</td>\n",
       "    </tr>\n",
       "    <tr>\n",
       "      <th>28</th>\n",
       "      <td>Melgan</td>\n",
       "      <td>Russia</td>\n",
       "      <td>1911</td>\n",
       "      <td>1.300672</td>\n",
       "    </tr>\n",
       "    <tr>\n",
       "      <th>29</th>\n",
       "      <td>Rolcimdeg</td>\n",
       "      <td>USA</td>\n",
       "      <td>1981</td>\n",
       "      <td>8.871668</td>\n",
       "    </tr>\n",
       "    <tr>\n",
       "      <th>30</th>\n",
       "      <td>Mengidbem</td>\n",
       "      <td>France</td>\n",
       "      <td>1904</td>\n",
       "      <td>0.391261</td>\n",
       "    </tr>\n",
       "    <tr>\n",
       "      <th>31</th>\n",
       "      <td>Huggesrerhib</td>\n",
       "      <td>France</td>\n",
       "      <td>2020</td>\n",
       "      <td>1.837558</td>\n",
       "    </tr>\n",
       "    <tr>\n",
       "      <th>32</th>\n",
       "      <td>Gernad</td>\n",
       "      <td>Russia</td>\n",
       "      <td>2021</td>\n",
       "      <td>2.119029</td>\n",
       "    </tr>\n",
       "    <tr>\n",
       "      <th>33</th>\n",
       "      <td>Lic</td>\n",
       "      <td>Russia</td>\n",
       "      <td>1935</td>\n",
       "      <td>2.048750</td>\n",
       "    </tr>\n",
       "    <tr>\n",
       "      <th>34</th>\n",
       "      <td>Lumhuclugmag</td>\n",
       "      <td>Russia</td>\n",
       "      <td>1966</td>\n",
       "      <td>1.066147</td>\n",
       "    </tr>\n",
       "    <tr>\n",
       "      <th>35</th>\n",
       "      <td>Sam</td>\n",
       "      <td>France</td>\n",
       "      <td>1962</td>\n",
       "      <td>0.586902</td>\n",
       "    </tr>\n",
       "    <tr>\n",
       "      <th>36</th>\n",
       "      <td>Nel</td>\n",
       "      <td>Germany</td>\n",
       "      <td>1973</td>\n",
       "      <td>2.599813</td>\n",
       "    </tr>\n",
       "    <tr>\n",
       "      <th>37</th>\n",
       "      <td>Mac</td>\n",
       "      <td>USA</td>\n",
       "      <td>1995</td>\n",
       "      <td>1.340463</td>\n",
       "    </tr>\n",
       "    <tr>\n",
       "      <th>38</th>\n",
       "      <td>Ser</td>\n",
       "      <td>France</td>\n",
       "      <td>1988</td>\n",
       "      <td>4.802508</td>\n",
       "    </tr>\n",
       "    <tr>\n",
       "      <th>39</th>\n",
       "      <td>Gichib</td>\n",
       "      <td>Russia</td>\n",
       "      <td>1975</td>\n",
       "      <td>6.197628</td>\n",
       "    </tr>\n",
       "    <tr>\n",
       "      <th>40</th>\n",
       "      <td>Hag</td>\n",
       "      <td>China</td>\n",
       "      <td>1913</td>\n",
       "      <td>0.676907</td>\n",
       "    </tr>\n",
       "    <tr>\n",
       "      <th>41</th>\n",
       "      <td>Sammagban</td>\n",
       "      <td>China</td>\n",
       "      <td>1922</td>\n",
       "      <td>2.704317</td>\n",
       "    </tr>\n",
       "    <tr>\n",
       "      <th>42</th>\n",
       "      <td>Daldabgalhuc</td>\n",
       "      <td>Canada</td>\n",
       "      <td>1929</td>\n",
       "      <td>1.219021</td>\n",
       "    </tr>\n",
       "    <tr>\n",
       "      <th>43</th>\n",
       "      <td>Rubhecsem</td>\n",
       "      <td>USA</td>\n",
       "      <td>1925</td>\n",
       "      <td>1.989996</td>\n",
       "    </tr>\n",
       "    <tr>\n",
       "      <th>44</th>\n",
       "      <td>Mohgoh</td>\n",
       "      <td>France</td>\n",
       "      <td>2021</td>\n",
       "      <td>2.392565</td>\n",
       "    </tr>\n",
       "    <tr>\n",
       "      <th>45</th>\n",
       "      <td>Med</td>\n",
       "      <td>France</td>\n",
       "      <td>1983</td>\n",
       "      <td>1.068408</td>\n",
       "    </tr>\n",
       "    <tr>\n",
       "      <th>46</th>\n",
       "      <td>Dohbas</td>\n",
       "      <td>Russia</td>\n",
       "      <td>1966</td>\n",
       "      <td>1.044363</td>\n",
       "    </tr>\n",
       "    <tr>\n",
       "      <th>47</th>\n",
       "      <td>Nohgid</td>\n",
       "      <td>Germany</td>\n",
       "      <td>1930</td>\n",
       "      <td>3.173745</td>\n",
       "    </tr>\n",
       "    <tr>\n",
       "      <th>48</th>\n",
       "      <td>Diblal</td>\n",
       "      <td>France</td>\n",
       "      <td>2000</td>\n",
       "      <td>1.128826</td>\n",
       "    </tr>\n",
       "    <tr>\n",
       "      <th>49</th>\n",
       "      <td>Hinhab</td>\n",
       "      <td>China</td>\n",
       "      <td>1904</td>\n",
       "      <td>0.564506</td>\n",
       "    </tr>\n",
       "  </tbody>\n",
       "</table>\n",
       "</div>"
      ],
      "text/plain": [
       "            name  country  year  general_metric\n",
       "0         Bigsos  Germany  1986        1.057477\n",
       "1            Sab    China  1956        2.782509\n",
       "2         Rehdal  Germany  1906        1.726817\n",
       "3   Bogbedrallab    China  1950        1.408955\n",
       "4            Ben  Germany  1947       32.350195\n",
       "5         Laslam   Canada  1979        2.067081\n",
       "6         Calsor   Canada  1982        0.782061\n",
       "7         Higged      USA  2019        4.130396\n",
       "8         Beclah   Russia  1933        1.480246\n",
       "9         Regnom   Russia  2016       16.427632\n",
       "10     Bamhiccer      USA  1906        2.301301\n",
       "11     Cebbodlag    China  1908        0.607918\n",
       "12  Gindohdaldad      USA  1942        3.258214\n",
       "13     Nidsimcal  Germany  1930        2.553949\n",
       "14  Degbiglanlen    China  1918        1.030488\n",
       "15     Mibbondah   Canada  1973        0.722620\n",
       "16        Nadlol   France  1913        1.292152\n",
       "17           Lan   Canada  1902        1.999171\n",
       "18        Hamrid    China  1915        1.690183\n",
       "19           San    China  1966        0.699497\n",
       "20     Bemducgos   France  1980        0.643874\n",
       "21  Nebrucnemsin      USA  1933        1.650636\n",
       "22  Siclandilman    China  1930        1.279360\n",
       "23           Cah   Canada  1911        0.772063\n",
       "24           Nul   Russia  2015        2.141326\n",
       "25           Lud  Germany  1992        1.067670\n",
       "26        Dashac   Canada  1990        1.659684\n",
       "27           Hul      USA  1900       16.053957\n",
       "28        Melgan   Russia  1911        1.300672\n",
       "29     Rolcimdeg      USA  1981        8.871668\n",
       "30     Mengidbem   France  1904        0.391261\n",
       "31  Huggesrerhib   France  2020        1.837558\n",
       "32        Gernad   Russia  2021        2.119029\n",
       "33           Lic   Russia  1935        2.048750\n",
       "34  Lumhuclugmag   Russia  1966        1.066147\n",
       "35           Sam   France  1962        0.586902\n",
       "36           Nel  Germany  1973        2.599813\n",
       "37           Mac      USA  1995        1.340463\n",
       "38           Ser   France  1988        4.802508\n",
       "39        Gichib   Russia  1975        6.197628\n",
       "40           Hag    China  1913        0.676907\n",
       "41     Sammagban    China  1922        2.704317\n",
       "42  Daldabgalhuc   Canada  1929        1.219021\n",
       "43     Rubhecsem      USA  1925        1.989996\n",
       "44        Mohgoh   France  2021        2.392565\n",
       "45           Med   France  1983        1.068408\n",
       "46        Dohbas   Russia  1966        1.044363\n",
       "47        Nohgid  Germany  1930        3.173745\n",
       "48        Diblal   France  2000        1.128826\n",
       "49        Hinhab    China  1904        0.564506"
      ]
     },
     "execution_count": 56,
     "metadata": {},
     "output_type": "execute_result"
    }
   ],
   "source": [
    "country_opts = [ 'USA', 'Canada', 'China', 'Russia', 'France','Germany' ]\n",
    "countries = [ choice(country_opts) for i in range (50) ]\n",
    "years = [ randint(1900,2024) for i in range(50) ]\n",
    "names = [ generate_name(randint(1,4)) for i in range(50) ]\n",
    "genmet = [ randint(3000,9999) / randint(200,9231) for i in range(50) ]\n",
    "\n",
    "data = { 'name':names, 'country':countries, 'year':years, 'general_metric':genmet }\n",
    "\n",
    "df = pd.DataFrame(data)\n",
    "\n",
    "df\n"
   ]
  },
  {
   "cell_type": "markdown",
   "id": "7fe723a4-7d59-49cd-9a41-16dff082e47c",
   "metadata": {},
   "source": [
    "The ```.loc``` method is interesting, as the arguments are placed within square brackets rather than parentheses.  Within the brackets, you place the index and then the fieldname."
   ]
  },
  {
   "cell_type": "code",
   "execution_count": 58,
   "id": "ea9346a4-df41-4b11-b0cd-dcca9bb405c5",
   "metadata": {},
   "outputs": [
    {
     "data": {
      "text/html": [
       "<div>\n",
       "<style scoped>\n",
       "    .dataframe tbody tr th:only-of-type {\n",
       "        vertical-align: middle;\n",
       "    }\n",
       "\n",
       "    .dataframe tbody tr th {\n",
       "        vertical-align: top;\n",
       "    }\n",
       "\n",
       "    .dataframe thead th {\n",
       "        text-align: right;\n",
       "    }\n",
       "</style>\n",
       "<table border=\"1\" class=\"dataframe\">\n",
       "  <thead>\n",
       "    <tr style=\"text-align: right;\">\n",
       "      <th></th>\n",
       "      <th>name</th>\n",
       "      <th>year</th>\n",
       "      <th>general_metric</th>\n",
       "    </tr>\n",
       "    <tr>\n",
       "      <th>country</th>\n",
       "      <th></th>\n",
       "      <th></th>\n",
       "      <th></th>\n",
       "    </tr>\n",
       "  </thead>\n",
       "  <tbody>\n",
       "    <tr>\n",
       "      <th>Germany</th>\n",
       "      <td>Bigsos</td>\n",
       "      <td>1986</td>\n",
       "      <td>1.057477</td>\n",
       "    </tr>\n",
       "    <tr>\n",
       "      <th>China</th>\n",
       "      <td>Sab</td>\n",
       "      <td>1956</td>\n",
       "      <td>2.782509</td>\n",
       "    </tr>\n",
       "    <tr>\n",
       "      <th>Germany</th>\n",
       "      <td>Rehdal</td>\n",
       "      <td>1906</td>\n",
       "      <td>1.726817</td>\n",
       "    </tr>\n",
       "    <tr>\n",
       "      <th>China</th>\n",
       "      <td>Bogbedrallab</td>\n",
       "      <td>1950</td>\n",
       "      <td>1.408955</td>\n",
       "    </tr>\n",
       "    <tr>\n",
       "      <th>Germany</th>\n",
       "      <td>Ben</td>\n",
       "      <td>1947</td>\n",
       "      <td>32.350195</td>\n",
       "    </tr>\n",
       "    <tr>\n",
       "      <th>Canada</th>\n",
       "      <td>Laslam</td>\n",
       "      <td>1979</td>\n",
       "      <td>2.067081</td>\n",
       "    </tr>\n",
       "    <tr>\n",
       "      <th>Canada</th>\n",
       "      <td>Calsor</td>\n",
       "      <td>1982</td>\n",
       "      <td>0.782061</td>\n",
       "    </tr>\n",
       "    <tr>\n",
       "      <th>USA</th>\n",
       "      <td>Higged</td>\n",
       "      <td>2019</td>\n",
       "      <td>4.130396</td>\n",
       "    </tr>\n",
       "    <tr>\n",
       "      <th>Russia</th>\n",
       "      <td>Beclah</td>\n",
       "      <td>1933</td>\n",
       "      <td>1.480246</td>\n",
       "    </tr>\n",
       "    <tr>\n",
       "      <th>Russia</th>\n",
       "      <td>Regnom</td>\n",
       "      <td>2016</td>\n",
       "      <td>16.427632</td>\n",
       "    </tr>\n",
       "    <tr>\n",
       "      <th>USA</th>\n",
       "      <td>Bamhiccer</td>\n",
       "      <td>1906</td>\n",
       "      <td>2.301301</td>\n",
       "    </tr>\n",
       "    <tr>\n",
       "      <th>China</th>\n",
       "      <td>Cebbodlag</td>\n",
       "      <td>1908</td>\n",
       "      <td>0.607918</td>\n",
       "    </tr>\n",
       "    <tr>\n",
       "      <th>USA</th>\n",
       "      <td>Gindohdaldad</td>\n",
       "      <td>1942</td>\n",
       "      <td>3.258214</td>\n",
       "    </tr>\n",
       "    <tr>\n",
       "      <th>Germany</th>\n",
       "      <td>Nidsimcal</td>\n",
       "      <td>1930</td>\n",
       "      <td>2.553949</td>\n",
       "    </tr>\n",
       "    <tr>\n",
       "      <th>China</th>\n",
       "      <td>Degbiglanlen</td>\n",
       "      <td>1918</td>\n",
       "      <td>1.030488</td>\n",
       "    </tr>\n",
       "    <tr>\n",
       "      <th>Canada</th>\n",
       "      <td>Mibbondah</td>\n",
       "      <td>1973</td>\n",
       "      <td>0.722620</td>\n",
       "    </tr>\n",
       "    <tr>\n",
       "      <th>France</th>\n",
       "      <td>Nadlol</td>\n",
       "      <td>1913</td>\n",
       "      <td>1.292152</td>\n",
       "    </tr>\n",
       "    <tr>\n",
       "      <th>Canada</th>\n",
       "      <td>Lan</td>\n",
       "      <td>1902</td>\n",
       "      <td>1.999171</td>\n",
       "    </tr>\n",
       "    <tr>\n",
       "      <th>China</th>\n",
       "      <td>Hamrid</td>\n",
       "      <td>1915</td>\n",
       "      <td>1.690183</td>\n",
       "    </tr>\n",
       "    <tr>\n",
       "      <th>China</th>\n",
       "      <td>San</td>\n",
       "      <td>1966</td>\n",
       "      <td>0.699497</td>\n",
       "    </tr>\n",
       "    <tr>\n",
       "      <th>France</th>\n",
       "      <td>Bemducgos</td>\n",
       "      <td>1980</td>\n",
       "      <td>0.643874</td>\n",
       "    </tr>\n",
       "    <tr>\n",
       "      <th>USA</th>\n",
       "      <td>Nebrucnemsin</td>\n",
       "      <td>1933</td>\n",
       "      <td>1.650636</td>\n",
       "    </tr>\n",
       "    <tr>\n",
       "      <th>China</th>\n",
       "      <td>Siclandilman</td>\n",
       "      <td>1930</td>\n",
       "      <td>1.279360</td>\n",
       "    </tr>\n",
       "    <tr>\n",
       "      <th>Canada</th>\n",
       "      <td>Cah</td>\n",
       "      <td>1911</td>\n",
       "      <td>0.772063</td>\n",
       "    </tr>\n",
       "    <tr>\n",
       "      <th>Russia</th>\n",
       "      <td>Nul</td>\n",
       "      <td>2015</td>\n",
       "      <td>2.141326</td>\n",
       "    </tr>\n",
       "    <tr>\n",
       "      <th>Germany</th>\n",
       "      <td>Lud</td>\n",
       "      <td>1992</td>\n",
       "      <td>1.067670</td>\n",
       "    </tr>\n",
       "    <tr>\n",
       "      <th>Canada</th>\n",
       "      <td>Dashac</td>\n",
       "      <td>1990</td>\n",
       "      <td>1.659684</td>\n",
       "    </tr>\n",
       "    <tr>\n",
       "      <th>USA</th>\n",
       "      <td>Hul</td>\n",
       "      <td>1900</td>\n",
       "      <td>16.053957</td>\n",
       "    </tr>\n",
       "    <tr>\n",
       "      <th>Russia</th>\n",
       "      <td>Melgan</td>\n",
       "      <td>1911</td>\n",
       "      <td>1.300672</td>\n",
       "    </tr>\n",
       "    <tr>\n",
       "      <th>USA</th>\n",
       "      <td>Rolcimdeg</td>\n",
       "      <td>1981</td>\n",
       "      <td>8.871668</td>\n",
       "    </tr>\n",
       "    <tr>\n",
       "      <th>France</th>\n",
       "      <td>Mengidbem</td>\n",
       "      <td>1904</td>\n",
       "      <td>0.391261</td>\n",
       "    </tr>\n",
       "    <tr>\n",
       "      <th>France</th>\n",
       "      <td>Huggesrerhib</td>\n",
       "      <td>2020</td>\n",
       "      <td>1.837558</td>\n",
       "    </tr>\n",
       "    <tr>\n",
       "      <th>Russia</th>\n",
       "      <td>Gernad</td>\n",
       "      <td>2021</td>\n",
       "      <td>2.119029</td>\n",
       "    </tr>\n",
       "    <tr>\n",
       "      <th>Russia</th>\n",
       "      <td>Lic</td>\n",
       "      <td>1935</td>\n",
       "      <td>2.048750</td>\n",
       "    </tr>\n",
       "    <tr>\n",
       "      <th>Russia</th>\n",
       "      <td>Lumhuclugmag</td>\n",
       "      <td>1966</td>\n",
       "      <td>1.066147</td>\n",
       "    </tr>\n",
       "    <tr>\n",
       "      <th>France</th>\n",
       "      <td>Sam</td>\n",
       "      <td>1962</td>\n",
       "      <td>0.586902</td>\n",
       "    </tr>\n",
       "    <tr>\n",
       "      <th>Germany</th>\n",
       "      <td>Nel</td>\n",
       "      <td>1973</td>\n",
       "      <td>2.599813</td>\n",
       "    </tr>\n",
       "    <tr>\n",
       "      <th>USA</th>\n",
       "      <td>Mac</td>\n",
       "      <td>1995</td>\n",
       "      <td>1.340463</td>\n",
       "    </tr>\n",
       "    <tr>\n",
       "      <th>France</th>\n",
       "      <td>Ser</td>\n",
       "      <td>1988</td>\n",
       "      <td>4.802508</td>\n",
       "    </tr>\n",
       "    <tr>\n",
       "      <th>Russia</th>\n",
       "      <td>Gichib</td>\n",
       "      <td>1975</td>\n",
       "      <td>6.197628</td>\n",
       "    </tr>\n",
       "    <tr>\n",
       "      <th>China</th>\n",
       "      <td>Hag</td>\n",
       "      <td>1913</td>\n",
       "      <td>0.676907</td>\n",
       "    </tr>\n",
       "    <tr>\n",
       "      <th>China</th>\n",
       "      <td>Sammagban</td>\n",
       "      <td>1922</td>\n",
       "      <td>2.704317</td>\n",
       "    </tr>\n",
       "    <tr>\n",
       "      <th>Canada</th>\n",
       "      <td>Daldabgalhuc</td>\n",
       "      <td>1929</td>\n",
       "      <td>1.219021</td>\n",
       "    </tr>\n",
       "    <tr>\n",
       "      <th>USA</th>\n",
       "      <td>Rubhecsem</td>\n",
       "      <td>1925</td>\n",
       "      <td>1.989996</td>\n",
       "    </tr>\n",
       "    <tr>\n",
       "      <th>France</th>\n",
       "      <td>Mohgoh</td>\n",
       "      <td>2021</td>\n",
       "      <td>2.392565</td>\n",
       "    </tr>\n",
       "    <tr>\n",
       "      <th>France</th>\n",
       "      <td>Med</td>\n",
       "      <td>1983</td>\n",
       "      <td>1.068408</td>\n",
       "    </tr>\n",
       "    <tr>\n",
       "      <th>Russia</th>\n",
       "      <td>Dohbas</td>\n",
       "      <td>1966</td>\n",
       "      <td>1.044363</td>\n",
       "    </tr>\n",
       "    <tr>\n",
       "      <th>Germany</th>\n",
       "      <td>Nohgid</td>\n",
       "      <td>1930</td>\n",
       "      <td>3.173745</td>\n",
       "    </tr>\n",
       "    <tr>\n",
       "      <th>France</th>\n",
       "      <td>Diblal</td>\n",
       "      <td>2000</td>\n",
       "      <td>1.128826</td>\n",
       "    </tr>\n",
       "    <tr>\n",
       "      <th>China</th>\n",
       "      <td>Hinhab</td>\n",
       "      <td>1904</td>\n",
       "      <td>0.564506</td>\n",
       "    </tr>\n",
       "  </tbody>\n",
       "</table>\n",
       "</div>"
      ],
      "text/plain": [
       "                 name  year  general_metric\n",
       "country                                    \n",
       "Germany        Bigsos  1986        1.057477\n",
       "China             Sab  1956        2.782509\n",
       "Germany        Rehdal  1906        1.726817\n",
       "China    Bogbedrallab  1950        1.408955\n",
       "Germany           Ben  1947       32.350195\n",
       "Canada         Laslam  1979        2.067081\n",
       "Canada         Calsor  1982        0.782061\n",
       "USA            Higged  2019        4.130396\n",
       "Russia         Beclah  1933        1.480246\n",
       "Russia         Regnom  2016       16.427632\n",
       "USA         Bamhiccer  1906        2.301301\n",
       "China       Cebbodlag  1908        0.607918\n",
       "USA      Gindohdaldad  1942        3.258214\n",
       "Germany     Nidsimcal  1930        2.553949\n",
       "China    Degbiglanlen  1918        1.030488\n",
       "Canada      Mibbondah  1973        0.722620\n",
       "France         Nadlol  1913        1.292152\n",
       "Canada            Lan  1902        1.999171\n",
       "China          Hamrid  1915        1.690183\n",
       "China             San  1966        0.699497\n",
       "France      Bemducgos  1980        0.643874\n",
       "USA      Nebrucnemsin  1933        1.650636\n",
       "China    Siclandilman  1930        1.279360\n",
       "Canada            Cah  1911        0.772063\n",
       "Russia            Nul  2015        2.141326\n",
       "Germany           Lud  1992        1.067670\n",
       "Canada         Dashac  1990        1.659684\n",
       "USA               Hul  1900       16.053957\n",
       "Russia         Melgan  1911        1.300672\n",
       "USA         Rolcimdeg  1981        8.871668\n",
       "France      Mengidbem  1904        0.391261\n",
       "France   Huggesrerhib  2020        1.837558\n",
       "Russia         Gernad  2021        2.119029\n",
       "Russia            Lic  1935        2.048750\n",
       "Russia   Lumhuclugmag  1966        1.066147\n",
       "France            Sam  1962        0.586902\n",
       "Germany           Nel  1973        2.599813\n",
       "USA               Mac  1995        1.340463\n",
       "France            Ser  1988        4.802508\n",
       "Russia         Gichib  1975        6.197628\n",
       "China             Hag  1913        0.676907\n",
       "China       Sammagban  1922        2.704317\n",
       "Canada   Daldabgalhuc  1929        1.219021\n",
       "USA         Rubhecsem  1925        1.989996\n",
       "France         Mohgoh  2021        2.392565\n",
       "France            Med  1983        1.068408\n",
       "Russia         Dohbas  1966        1.044363\n",
       "Germany        Nohgid  1930        3.173745\n",
       "France         Diblal  2000        1.128826\n",
       "China          Hinhab  1904        0.564506"
      ]
     },
     "execution_count": 58,
     "metadata": {},
     "output_type": "execute_result"
    }
   ],
   "source": [
    "dfcidx = df.set_index('country')\n",
    "dfcidx"
   ]
  },
  {
   "cell_type": "markdown",
   "id": "3e6df8be-d451-4495-8fb3-be4c370393d1",
   "metadata": {},
   "source": [
    "Now that the index has been set to the values in the ```country``` field, you can easily subset all rows for which, for example, \"China\" is in the ```country``` field:"
   ]
  },
  {
   "cell_type": "code",
   "execution_count": 59,
   "id": "f2ba6d1c-a267-4d56-b69f-3aa2937169aa",
   "metadata": {},
   "outputs": [
    {
     "data": {
      "text/html": [
       "<div>\n",
       "<style scoped>\n",
       "    .dataframe tbody tr th:only-of-type {\n",
       "        vertical-align: middle;\n",
       "    }\n",
       "\n",
       "    .dataframe tbody tr th {\n",
       "        vertical-align: top;\n",
       "    }\n",
       "\n",
       "    .dataframe thead th {\n",
       "        text-align: right;\n",
       "    }\n",
       "</style>\n",
       "<table border=\"1\" class=\"dataframe\">\n",
       "  <thead>\n",
       "    <tr style=\"text-align: right;\">\n",
       "      <th></th>\n",
       "      <th>name</th>\n",
       "      <th>year</th>\n",
       "      <th>general_metric</th>\n",
       "    </tr>\n",
       "    <tr>\n",
       "      <th>country</th>\n",
       "      <th></th>\n",
       "      <th></th>\n",
       "      <th></th>\n",
       "    </tr>\n",
       "  </thead>\n",
       "  <tbody>\n",
       "    <tr>\n",
       "      <th>China</th>\n",
       "      <td>Sab</td>\n",
       "      <td>1956</td>\n",
       "      <td>2.782509</td>\n",
       "    </tr>\n",
       "    <tr>\n",
       "      <th>China</th>\n",
       "      <td>Bogbedrallab</td>\n",
       "      <td>1950</td>\n",
       "      <td>1.408955</td>\n",
       "    </tr>\n",
       "    <tr>\n",
       "      <th>China</th>\n",
       "      <td>Cebbodlag</td>\n",
       "      <td>1908</td>\n",
       "      <td>0.607918</td>\n",
       "    </tr>\n",
       "    <tr>\n",
       "      <th>China</th>\n",
       "      <td>Degbiglanlen</td>\n",
       "      <td>1918</td>\n",
       "      <td>1.030488</td>\n",
       "    </tr>\n",
       "    <tr>\n",
       "      <th>China</th>\n",
       "      <td>Hamrid</td>\n",
       "      <td>1915</td>\n",
       "      <td>1.690183</td>\n",
       "    </tr>\n",
       "    <tr>\n",
       "      <th>China</th>\n",
       "      <td>San</td>\n",
       "      <td>1966</td>\n",
       "      <td>0.699497</td>\n",
       "    </tr>\n",
       "    <tr>\n",
       "      <th>China</th>\n",
       "      <td>Siclandilman</td>\n",
       "      <td>1930</td>\n",
       "      <td>1.279360</td>\n",
       "    </tr>\n",
       "    <tr>\n",
       "      <th>China</th>\n",
       "      <td>Hag</td>\n",
       "      <td>1913</td>\n",
       "      <td>0.676907</td>\n",
       "    </tr>\n",
       "    <tr>\n",
       "      <th>China</th>\n",
       "      <td>Sammagban</td>\n",
       "      <td>1922</td>\n",
       "      <td>2.704317</td>\n",
       "    </tr>\n",
       "    <tr>\n",
       "      <th>China</th>\n",
       "      <td>Hinhab</td>\n",
       "      <td>1904</td>\n",
       "      <td>0.564506</td>\n",
       "    </tr>\n",
       "  </tbody>\n",
       "</table>\n",
       "</div>"
      ],
      "text/plain": [
       "                 name  year  general_metric\n",
       "country                                    \n",
       "China             Sab  1956        2.782509\n",
       "China    Bogbedrallab  1950        1.408955\n",
       "China       Cebbodlag  1908        0.607918\n",
       "China    Degbiglanlen  1918        1.030488\n",
       "China          Hamrid  1915        1.690183\n",
       "China             San  1966        0.699497\n",
       "China    Siclandilman  1930        1.279360\n",
       "China             Hag  1913        0.676907\n",
       "China       Sammagban  1922        2.704317\n",
       "China          Hinhab  1904        0.564506"
      ]
     },
     "execution_count": 59,
     "metadata": {},
     "output_type": "execute_result"
    }
   ],
   "source": [
    "dfcidx.loc['China']"
   ]
  },
  {
   "cell_type": "markdown",
   "id": "ffadb6f0-7733-4ea2-ba02-00927ff19805",
   "metadata": {},
   "source": [
    "Adding in a field name for the second argument further subsets the dataframe:"
   ]
  },
  {
   "cell_type": "code",
   "execution_count": 61,
   "id": "b48de4ec-d004-4d20-ae8c-40ccc9aad5a5",
   "metadata": {
    "scrolled": true
   },
   "outputs": [
    {
     "data": {
      "text/plain": [
       "country\n",
       "China    1956\n",
       "China    1950\n",
       "China    1908\n",
       "China    1918\n",
       "China    1915\n",
       "China    1966\n",
       "China    1930\n",
       "China    1913\n",
       "China    1922\n",
       "China    1904\n",
       "Name: year, dtype: int64"
      ]
     },
     "execution_count": 61,
     "metadata": {},
     "output_type": "execute_result"
    }
   ],
   "source": [
    "dfcidx.loc['China','year']"
   ]
  },
  {
   "cell_type": "markdown",
   "id": "d87d5022-a9dc-428a-9603-e8f22a2f08fa",
   "metadata": {},
   "source": []
  },
  {
   "cell_type": "code",
   "execution_count": 62,
   "id": "6bfe2e26-7522-45c6-802a-c060410857ed",
   "metadata": {},
   "outputs": [
    {
     "data": {
      "text/plain": [
       "country\n",
       "China    1956\n",
       "China    1950\n",
       "China    1908\n",
       "China    1918\n",
       "China    1915\n",
       "China    1966\n",
       "China    1930\n",
       "China    1913\n",
       "China    1922\n",
       "China    1904\n",
       "USA      2019\n",
       "USA      1906\n",
       "USA      1942\n",
       "USA      1933\n",
       "USA      1900\n",
       "USA      1981\n",
       "USA      1995\n",
       "USA      1925\n",
       "Name: year, dtype: int64"
      ]
     },
     "execution_count": 62,
     "metadata": {},
     "output_type": "execute_result"
    }
   ],
   "source": [
    "dfcidx.loc[['China','USA'],'year']"
   ]
  },
  {
   "cell_type": "markdown",
   "id": "4bedb3b6-89e9-4282-a910-8f5caa99160d",
   "metadata": {},
   "source": [
    "You can index by multiple fields by placing them inside a list, and the indexing will happen sequentially (in this case, it will index by country, and then year):"
   ]
  },
  {
   "cell_type": "code",
   "execution_count": 65,
   "id": "af677f56-adf3-4831-913b-71e7f5c2d5b1",
   "metadata": {},
   "outputs": [
    {
     "data": {
      "text/html": [
       "<div>\n",
       "<style scoped>\n",
       "    .dataframe tbody tr th:only-of-type {\n",
       "        vertical-align: middle;\n",
       "    }\n",
       "\n",
       "    .dataframe tbody tr th {\n",
       "        vertical-align: top;\n",
       "    }\n",
       "\n",
       "    .dataframe thead th {\n",
       "        text-align: right;\n",
       "    }\n",
       "</style>\n",
       "<table border=\"1\" class=\"dataframe\">\n",
       "  <thead>\n",
       "    <tr style=\"text-align: right;\">\n",
       "      <th></th>\n",
       "      <th></th>\n",
       "      <th>name</th>\n",
       "      <th>general_metric</th>\n",
       "    </tr>\n",
       "    <tr>\n",
       "      <th>country</th>\n",
       "      <th>year</th>\n",
       "      <th></th>\n",
       "      <th></th>\n",
       "    </tr>\n",
       "  </thead>\n",
       "  <tbody>\n",
       "    <tr>\n",
       "      <th>Germany</th>\n",
       "      <th>1986</th>\n",
       "      <td>Bigsos</td>\n",
       "      <td>1.057477</td>\n",
       "    </tr>\n",
       "    <tr>\n",
       "      <th>China</th>\n",
       "      <th>1956</th>\n",
       "      <td>Sab</td>\n",
       "      <td>2.782509</td>\n",
       "    </tr>\n",
       "    <tr>\n",
       "      <th>Germany</th>\n",
       "      <th>1906</th>\n",
       "      <td>Rehdal</td>\n",
       "      <td>1.726817</td>\n",
       "    </tr>\n",
       "    <tr>\n",
       "      <th>China</th>\n",
       "      <th>1950</th>\n",
       "      <td>Bogbedrallab</td>\n",
       "      <td>1.408955</td>\n",
       "    </tr>\n",
       "    <tr>\n",
       "      <th>Germany</th>\n",
       "      <th>1947</th>\n",
       "      <td>Ben</td>\n",
       "      <td>32.350195</td>\n",
       "    </tr>\n",
       "    <tr>\n",
       "      <th rowspan=\"2\" valign=\"top\">Canada</th>\n",
       "      <th>1979</th>\n",
       "      <td>Laslam</td>\n",
       "      <td>2.067081</td>\n",
       "    </tr>\n",
       "    <tr>\n",
       "      <th>1982</th>\n",
       "      <td>Calsor</td>\n",
       "      <td>0.782061</td>\n",
       "    </tr>\n",
       "    <tr>\n",
       "      <th>USA</th>\n",
       "      <th>2019</th>\n",
       "      <td>Higged</td>\n",
       "      <td>4.130396</td>\n",
       "    </tr>\n",
       "    <tr>\n",
       "      <th rowspan=\"2\" valign=\"top\">Russia</th>\n",
       "      <th>1933</th>\n",
       "      <td>Beclah</td>\n",
       "      <td>1.480246</td>\n",
       "    </tr>\n",
       "    <tr>\n",
       "      <th>2016</th>\n",
       "      <td>Regnom</td>\n",
       "      <td>16.427632</td>\n",
       "    </tr>\n",
       "    <tr>\n",
       "      <th>USA</th>\n",
       "      <th>1906</th>\n",
       "      <td>Bamhiccer</td>\n",
       "      <td>2.301301</td>\n",
       "    </tr>\n",
       "    <tr>\n",
       "      <th>China</th>\n",
       "      <th>1908</th>\n",
       "      <td>Cebbodlag</td>\n",
       "      <td>0.607918</td>\n",
       "    </tr>\n",
       "    <tr>\n",
       "      <th>USA</th>\n",
       "      <th>1942</th>\n",
       "      <td>Gindohdaldad</td>\n",
       "      <td>3.258214</td>\n",
       "    </tr>\n",
       "    <tr>\n",
       "      <th>Germany</th>\n",
       "      <th>1930</th>\n",
       "      <td>Nidsimcal</td>\n",
       "      <td>2.553949</td>\n",
       "    </tr>\n",
       "    <tr>\n",
       "      <th>China</th>\n",
       "      <th>1918</th>\n",
       "      <td>Degbiglanlen</td>\n",
       "      <td>1.030488</td>\n",
       "    </tr>\n",
       "    <tr>\n",
       "      <th>Canada</th>\n",
       "      <th>1973</th>\n",
       "      <td>Mibbondah</td>\n",
       "      <td>0.722620</td>\n",
       "    </tr>\n",
       "    <tr>\n",
       "      <th>France</th>\n",
       "      <th>1913</th>\n",
       "      <td>Nadlol</td>\n",
       "      <td>1.292152</td>\n",
       "    </tr>\n",
       "    <tr>\n",
       "      <th>Canada</th>\n",
       "      <th>1902</th>\n",
       "      <td>Lan</td>\n",
       "      <td>1.999171</td>\n",
       "    </tr>\n",
       "    <tr>\n",
       "      <th rowspan=\"2\" valign=\"top\">China</th>\n",
       "      <th>1915</th>\n",
       "      <td>Hamrid</td>\n",
       "      <td>1.690183</td>\n",
       "    </tr>\n",
       "    <tr>\n",
       "      <th>1966</th>\n",
       "      <td>San</td>\n",
       "      <td>0.699497</td>\n",
       "    </tr>\n",
       "    <tr>\n",
       "      <th>France</th>\n",
       "      <th>1980</th>\n",
       "      <td>Bemducgos</td>\n",
       "      <td>0.643874</td>\n",
       "    </tr>\n",
       "    <tr>\n",
       "      <th>USA</th>\n",
       "      <th>1933</th>\n",
       "      <td>Nebrucnemsin</td>\n",
       "      <td>1.650636</td>\n",
       "    </tr>\n",
       "    <tr>\n",
       "      <th>China</th>\n",
       "      <th>1930</th>\n",
       "      <td>Siclandilman</td>\n",
       "      <td>1.279360</td>\n",
       "    </tr>\n",
       "    <tr>\n",
       "      <th>Canada</th>\n",
       "      <th>1911</th>\n",
       "      <td>Cah</td>\n",
       "      <td>0.772063</td>\n",
       "    </tr>\n",
       "    <tr>\n",
       "      <th>Russia</th>\n",
       "      <th>2015</th>\n",
       "      <td>Nul</td>\n",
       "      <td>2.141326</td>\n",
       "    </tr>\n",
       "    <tr>\n",
       "      <th>Germany</th>\n",
       "      <th>1992</th>\n",
       "      <td>Lud</td>\n",
       "      <td>1.067670</td>\n",
       "    </tr>\n",
       "    <tr>\n",
       "      <th>Canada</th>\n",
       "      <th>1990</th>\n",
       "      <td>Dashac</td>\n",
       "      <td>1.659684</td>\n",
       "    </tr>\n",
       "    <tr>\n",
       "      <th>USA</th>\n",
       "      <th>1900</th>\n",
       "      <td>Hul</td>\n",
       "      <td>16.053957</td>\n",
       "    </tr>\n",
       "    <tr>\n",
       "      <th>Russia</th>\n",
       "      <th>1911</th>\n",
       "      <td>Melgan</td>\n",
       "      <td>1.300672</td>\n",
       "    </tr>\n",
       "    <tr>\n",
       "      <th>USA</th>\n",
       "      <th>1981</th>\n",
       "      <td>Rolcimdeg</td>\n",
       "      <td>8.871668</td>\n",
       "    </tr>\n",
       "    <tr>\n",
       "      <th rowspan=\"2\" valign=\"top\">France</th>\n",
       "      <th>1904</th>\n",
       "      <td>Mengidbem</td>\n",
       "      <td>0.391261</td>\n",
       "    </tr>\n",
       "    <tr>\n",
       "      <th>2020</th>\n",
       "      <td>Huggesrerhib</td>\n",
       "      <td>1.837558</td>\n",
       "    </tr>\n",
       "    <tr>\n",
       "      <th rowspan=\"3\" valign=\"top\">Russia</th>\n",
       "      <th>2021</th>\n",
       "      <td>Gernad</td>\n",
       "      <td>2.119029</td>\n",
       "    </tr>\n",
       "    <tr>\n",
       "      <th>1935</th>\n",
       "      <td>Lic</td>\n",
       "      <td>2.048750</td>\n",
       "    </tr>\n",
       "    <tr>\n",
       "      <th>1966</th>\n",
       "      <td>Lumhuclugmag</td>\n",
       "      <td>1.066147</td>\n",
       "    </tr>\n",
       "    <tr>\n",
       "      <th>France</th>\n",
       "      <th>1962</th>\n",
       "      <td>Sam</td>\n",
       "      <td>0.586902</td>\n",
       "    </tr>\n",
       "    <tr>\n",
       "      <th>Germany</th>\n",
       "      <th>1973</th>\n",
       "      <td>Nel</td>\n",
       "      <td>2.599813</td>\n",
       "    </tr>\n",
       "    <tr>\n",
       "      <th>USA</th>\n",
       "      <th>1995</th>\n",
       "      <td>Mac</td>\n",
       "      <td>1.340463</td>\n",
       "    </tr>\n",
       "    <tr>\n",
       "      <th>France</th>\n",
       "      <th>1988</th>\n",
       "      <td>Ser</td>\n",
       "      <td>4.802508</td>\n",
       "    </tr>\n",
       "    <tr>\n",
       "      <th>Russia</th>\n",
       "      <th>1975</th>\n",
       "      <td>Gichib</td>\n",
       "      <td>6.197628</td>\n",
       "    </tr>\n",
       "    <tr>\n",
       "      <th rowspan=\"2\" valign=\"top\">China</th>\n",
       "      <th>1913</th>\n",
       "      <td>Hag</td>\n",
       "      <td>0.676907</td>\n",
       "    </tr>\n",
       "    <tr>\n",
       "      <th>1922</th>\n",
       "      <td>Sammagban</td>\n",
       "      <td>2.704317</td>\n",
       "    </tr>\n",
       "    <tr>\n",
       "      <th>Canada</th>\n",
       "      <th>1929</th>\n",
       "      <td>Daldabgalhuc</td>\n",
       "      <td>1.219021</td>\n",
       "    </tr>\n",
       "    <tr>\n",
       "      <th>USA</th>\n",
       "      <th>1925</th>\n",
       "      <td>Rubhecsem</td>\n",
       "      <td>1.989996</td>\n",
       "    </tr>\n",
       "    <tr>\n",
       "      <th rowspan=\"2\" valign=\"top\">France</th>\n",
       "      <th>2021</th>\n",
       "      <td>Mohgoh</td>\n",
       "      <td>2.392565</td>\n",
       "    </tr>\n",
       "    <tr>\n",
       "      <th>1983</th>\n",
       "      <td>Med</td>\n",
       "      <td>1.068408</td>\n",
       "    </tr>\n",
       "    <tr>\n",
       "      <th>Russia</th>\n",
       "      <th>1966</th>\n",
       "      <td>Dohbas</td>\n",
       "      <td>1.044363</td>\n",
       "    </tr>\n",
       "    <tr>\n",
       "      <th>Germany</th>\n",
       "      <th>1930</th>\n",
       "      <td>Nohgid</td>\n",
       "      <td>3.173745</td>\n",
       "    </tr>\n",
       "    <tr>\n",
       "      <th>France</th>\n",
       "      <th>2000</th>\n",
       "      <td>Diblal</td>\n",
       "      <td>1.128826</td>\n",
       "    </tr>\n",
       "    <tr>\n",
       "      <th>China</th>\n",
       "      <th>1904</th>\n",
       "      <td>Hinhab</td>\n",
       "      <td>0.564506</td>\n",
       "    </tr>\n",
       "  </tbody>\n",
       "</table>\n",
       "</div>"
      ],
      "text/plain": [
       "                      name  general_metric\n",
       "country year                              \n",
       "Germany 1986        Bigsos        1.057477\n",
       "China   1956           Sab        2.782509\n",
       "Germany 1906        Rehdal        1.726817\n",
       "China   1950  Bogbedrallab        1.408955\n",
       "Germany 1947           Ben       32.350195\n",
       "Canada  1979        Laslam        2.067081\n",
       "        1982        Calsor        0.782061\n",
       "USA     2019        Higged        4.130396\n",
       "Russia  1933        Beclah        1.480246\n",
       "        2016        Regnom       16.427632\n",
       "USA     1906     Bamhiccer        2.301301\n",
       "China   1908     Cebbodlag        0.607918\n",
       "USA     1942  Gindohdaldad        3.258214\n",
       "Germany 1930     Nidsimcal        2.553949\n",
       "China   1918  Degbiglanlen        1.030488\n",
       "Canada  1973     Mibbondah        0.722620\n",
       "France  1913        Nadlol        1.292152\n",
       "Canada  1902           Lan        1.999171\n",
       "China   1915        Hamrid        1.690183\n",
       "        1966           San        0.699497\n",
       "France  1980     Bemducgos        0.643874\n",
       "USA     1933  Nebrucnemsin        1.650636\n",
       "China   1930  Siclandilman        1.279360\n",
       "Canada  1911           Cah        0.772063\n",
       "Russia  2015           Nul        2.141326\n",
       "Germany 1992           Lud        1.067670\n",
       "Canada  1990        Dashac        1.659684\n",
       "USA     1900           Hul       16.053957\n",
       "Russia  1911        Melgan        1.300672\n",
       "USA     1981     Rolcimdeg        8.871668\n",
       "France  1904     Mengidbem        0.391261\n",
       "        2020  Huggesrerhib        1.837558\n",
       "Russia  2021        Gernad        2.119029\n",
       "        1935           Lic        2.048750\n",
       "        1966  Lumhuclugmag        1.066147\n",
       "France  1962           Sam        0.586902\n",
       "Germany 1973           Nel        2.599813\n",
       "USA     1995           Mac        1.340463\n",
       "France  1988           Ser        4.802508\n",
       "Russia  1975        Gichib        6.197628\n",
       "China   1913           Hag        0.676907\n",
       "        1922     Sammagban        2.704317\n",
       "Canada  1929  Daldabgalhuc        1.219021\n",
       "USA     1925     Rubhecsem        1.989996\n",
       "France  2021        Mohgoh        2.392565\n",
       "        1983           Med        1.068408\n",
       "Russia  1966        Dohbas        1.044363\n",
       "Germany 1930        Nohgid        3.173745\n",
       "France  2000        Diblal        1.128826\n",
       "China   1904        Hinhab        0.564506"
      ]
     },
     "execution_count": 65,
     "metadata": {},
     "output_type": "execute_result"
    }
   ],
   "source": [
    "dfCY = df.set_index(['country','year'])\n",
    "dfCY"
   ]
  },
  {
   "cell_type": "code",
   "execution_count": 68,
   "id": "057f6ec8-a6d0-4b51-93ab-46b3b9e79c69",
   "metadata": {},
   "outputs": [
    {
     "data": {
      "text/html": [
       "<div>\n",
       "<style scoped>\n",
       "    .dataframe tbody tr th:only-of-type {\n",
       "        vertical-align: middle;\n",
       "    }\n",
       "\n",
       "    .dataframe tbody tr th {\n",
       "        vertical-align: top;\n",
       "    }\n",
       "\n",
       "    .dataframe thead th {\n",
       "        text-align: right;\n",
       "    }\n",
       "</style>\n",
       "<table border=\"1\" class=\"dataframe\">\n",
       "  <thead>\n",
       "    <tr style=\"text-align: right;\">\n",
       "      <th></th>\n",
       "      <th></th>\n",
       "      <th>name</th>\n",
       "      <th>general_metric</th>\n",
       "    </tr>\n",
       "    <tr>\n",
       "      <th>country</th>\n",
       "      <th>year</th>\n",
       "      <th></th>\n",
       "      <th></th>\n",
       "    </tr>\n",
       "  </thead>\n",
       "  <tbody>\n",
       "    <tr>\n",
       "      <th>France</th>\n",
       "      <th>2020</th>\n",
       "      <td>Huggesrerhib</td>\n",
       "      <td>1.837558</td>\n",
       "    </tr>\n",
       "    <tr>\n",
       "      <th>China</th>\n",
       "      <th>1950</th>\n",
       "      <td>Bogbedrallab</td>\n",
       "      <td>1.408955</td>\n",
       "    </tr>\n",
       "  </tbody>\n",
       "</table>\n",
       "</div>"
      ],
      "text/plain": [
       "                      name  general_metric\n",
       "country year                              \n",
       "France  2020  Huggesrerhib        1.837558\n",
       "China   1950  Bogbedrallab        1.408955"
      ]
     },
     "execution_count": 68,
     "metadata": {},
     "output_type": "execute_result"
    }
   ],
   "source": [
    "dfCY.loc[[('France',2020),('China',1950)]]"
   ]
  },
  {
   "cell_type": "markdown",
   "id": "463465c6-6e79-4363-8246-d01cefbd7981",
   "metadata": {},
   "source": [
    "##### Slicing & Subsetting with ```.loc()``` & ```.iloc```"
   ]
  },
  {
   "cell_type": "markdown",
   "id": "3070f1bb-cd72-467c-9d0e-62146c848edb",
   "metadata": {},
   "source": [
    "##### Working with Pivot Tables"
   ]
  },
  {
   "cell_type": "markdown",
   "id": "26195960-0312-4d2e-bb70-f15bc309408a",
   "metadata": {},
   "source": [
    "#### 4. Creating & Visualizing DataFrames"
   ]
  },
  {
   "cell_type": "code",
   "execution_count": null,
   "id": "49e61a67-ce6b-4b10-9940-e14ab44b4c8a",
   "metadata": {},
   "outputs": [],
   "source": []
  },
  {
   "cell_type": "markdown",
   "id": "bdfb6ddf-beea-4916-b798-ff3078aa53c6",
   "metadata": {},
   "source": [
    "##### Visualizing Data"
   ]
  },
  {
   "cell_type": "markdown",
   "id": "10b8cfc2-5bde-4133-b1ad-35302198da2b",
   "metadata": {},
   "source": [
    "##### Missing Values"
   ]
  },
  {
   "cell_type": "markdown",
   "id": "06a68092-bea9-4941-9c5d-314bdac52b7f",
   "metadata": {},
   "source": [
    "##### Creating DataFrames"
   ]
  },
  {
   "cell_type": "markdown",
   "id": "59ad0875-9151-45c4-bf35-b4fe8d33d8a1",
   "metadata": {},
   "source": [
    "##### Reading & Writing CSVs"
   ]
  },
  {
   "cell_type": "markdown",
   "id": "d2c93c5d-482f-4b4c-a677-3f0040645df3",
   "metadata": {},
   "source": [
    "### Joining Data in Pandas"
   ]
  },
  {
   "cell_type": "markdown",
   "id": "7d3b5f3a-f98d-437e-b7ca-18bb015aa40e",
   "metadata": {},
   "source": [
    "#### Data Merging Basics"
   ]
  },
  {
   "attachments": {
    "69236e50-60e2-42f3-a57a-e9589c17fcbf.png": {
     "image/png": "[encoded data removed]"
    }
   },
   "cell_type": "markdown",
   "id": "f84344f0-e2e1-4f5a-8b98-f3897b96bd28",
   "metadata": {},
   "source": [
    "![image.png](attachment:69236e50-60e2-42f3-a57a-e9589c17fcbf.png)"
   ]
  },
  {
   "cell_type": "code",
   "execution_count": 5,
   "id": "53ea9c91-c745-493a-bfb1-aa6c9bde2c83",
   "metadata": {},
   "outputs": [],
   "source": [
    "import os, pandas as pd\n",
    "from datetime import datetime, timedelta\n",
    "from random import randint, choice\n",
    "from string import ascii_letters, ascii_lowercase, ascii_uppercase\n",
    "lvow = ['a','e','i','o','u']\n",
    "lcon = [ ch for ch in ascii_lowercase if ch not in lvow ]"
   ]
  },
  {
   "cell_type": "code",
   "execution_count": 6,
   "id": "45ffaebb-e524-40a4-b5cf-3e1e27f712e1",
   "metadata": {},
   "outputs": [
    {
     "name": "stdout",
     "output_type": "stream",
     "text": [
      "Aodr Jioisg, born 1938-06-11, admitted (datetime.datetime(2025, 2, 4, 5, 57, 52, 83354), '4d, 12h:16m:33s')\n"
     ]
    },
    {
     "data": {
      "text/plain": [
       "'2025-01-25 18:33:12.559984'"
      ]
     },
     "execution_count": 6,
     "metadata": {},
     "output_type": "execute_result"
    }
   ],
   "source": [
    "def fngen():\n",
    "    nlen = randint(3,7)\n",
    "    fl = choice(ascii_uppercase)\n",
    "    v = \"\".join([ choice(lvow) for n in range(nlen//3) ])\n",
    "    c = choice(lcon)\n",
    "    w = \"\".join([ choice(ascii_lowercase) for n in range(nlen-len(v)-2)]) \n",
    "    return f\"{fl}{v}{c}{w}\"\n",
    "\n",
    "def lngen():\n",
    "    nlen = randint(4,10)\n",
    "    fl = choice(ascii_uppercase)\n",
    "    v = \"\".join([ choice(lvow) for n in range(nlen//2) ])\n",
    "    c = choice(lcon)\n",
    "    w = \"\".join([ choice(ascii_lowercase) for n in range(nlen-len(v)-2)]) \n",
    "    return f\"{fl}{v}{c}{w}\"\n",
    "\n",
    "def ngen():\n",
    "    return (fngen(),lngen())\n",
    "\n",
    "#-----#\n",
    "\n",
    "def dobgen():\n",
    "    max_age = 122\n",
    "    # max based on age at death of oldest known person to have ever lived (Jeanne Calmet)\n",
    "    lastbd = datetime.now()\n",
    "    firstbd = lastbd - timedelta(days=max_age*365)\n",
    "    bdtimestamps = pd.date_range(firstbd,lastbd)\n",
    "    bdays = [ts.date() for ts in bdtimestamps]\n",
    "    return choice(bdays)\n",
    "\n",
    "def adgen():\n",
    "    last = datetime.now()\n",
    "    first = last - timedelta(days=28)\n",
    "    \n",
    "    daterange=[]\n",
    "    current = first\n",
    "    while current <= last:\n",
    "        daterange.append(current)\n",
    "        current += timedelta(seconds=1)\n",
    "    \n",
    "    # adtimestamps = pd.date_range(first,last)\n",
    "    adt = choice(daterange)\n",
    "    loatd = last - adt\n",
    "    d = loatd.days\n",
    "    h,m,s = str(timedelta(seconds=loatd.seconds)).split(':')\n",
    "    loastr = f\"{d}d, {h}h:{m}m:{s}s\"\n",
    "    return (adt, loastr)\n",
    "    \n",
    "\n",
    "print(f\"{\" \".join(list(ngen()))}, born {dobgen()}, admitted {adgen()}\")\n",
    "\n",
    "str(list(adgen())[0])"
   ]
  },
  {
   "cell_type": "code",
   "execution_count": 7,
   "id": "b0f67dbc-fbea-49f8-a8fa-e15f44a30e01",
   "metadata": {},
   "outputs": [
    {
     "data": {
      "text/html": [
       "<div>\n",
       "<style scoped>\n",
       "    .dataframe tbody tr th:only-of-type {\n",
       "        vertical-align: middle;\n",
       "    }\n",
       "\n",
       "    .dataframe tbody tr th {\n",
       "        vertical-align: top;\n",
       "    }\n",
       "\n",
       "    .dataframe thead th {\n",
       "        text-align: right;\n",
       "    }\n",
       "</style>\n",
       "<table border=\"1\" class=\"dataframe\">\n",
       "  <thead>\n",
       "    <tr style=\"text-align: right;\">\n",
       "      <th></th>\n",
       "      <th>First Name</th>\n",
       "      <th>Last Name</th>\n",
       "      <th>DOB</th>\n",
       "      <th>Age (years)</th>\n",
       "      <th>Sex</th>\n",
       "      <th>Admission Date</th>\n",
       "      <th>Department</th>\n",
       "      <th>Length of Admission</th>\n",
       "    </tr>\n",
       "  </thead>\n",
       "  <tbody>\n",
       "    <tr>\n",
       "      <th>0</th>\n",
       "      <td>Hom</td>\n",
       "      <td>Loidx</td>\n",
       "      <td>1942-04-27</td>\n",
       "      <td>82</td>\n",
       "      <td>M</td>\n",
       "      <td>2025-01-12 01:12:02.051282</td>\n",
       "      <td>HH</td>\n",
       "      <td>27d, 17h:02m:24s</td>\n",
       "    </tr>\n",
       "    <tr>\n",
       "      <th>1</th>\n",
       "      <td>Augpi</td>\n",
       "      <td>Ouux</td>\n",
       "      <td>2003-02-20</td>\n",
       "      <td>21</td>\n",
       "      <td>F</td>\n",
       "      <td>2025-02-05 11:05:05.543818</td>\n",
       "      <td>HH</td>\n",
       "      <td>3d, 7h:09m:21s</td>\n",
       "    </tr>\n",
       "    <tr>\n",
       "      <th>2</th>\n",
       "      <td>Voh</td>\n",
       "      <td>Meeeatlbm</td>\n",
       "      <td>1911-04-29</td>\n",
       "      <td>113</td>\n",
       "      <td>M</td>\n",
       "      <td>2025-01-19 10:16:38.032238</td>\n",
       "      <td>HH</td>\n",
       "      <td>20d, 7h:57m:49s</td>\n",
       "    </tr>\n",
       "    <tr>\n",
       "      <th>3</th>\n",
       "      <td>Jiokat</td>\n",
       "      <td>Ouuyy</td>\n",
       "      <td>1931-06-29</td>\n",
       "      <td>93</td>\n",
       "      <td>M</td>\n",
       "      <td>2025-01-30 16:47:11.513192</td>\n",
       "      <td>ADU</td>\n",
       "      <td>9d, 1h:27m:16s</td>\n",
       "    </tr>\n",
       "    <tr>\n",
       "      <th>4</th>\n",
       "      <td>Roezsns</td>\n",
       "      <td>Muunn</td>\n",
       "      <td>2019-11-04</td>\n",
       "      <td>5</td>\n",
       "      <td>M</td>\n",
       "      <td>2025-02-08 12:27:29.995161</td>\n",
       "      <td>K</td>\n",
       "      <td>0d, 5h:46m:58s</td>\n",
       "    </tr>\n",
       "  </tbody>\n",
       "</table>\n",
       "</div>"
      ],
      "text/plain": [
       "  First Name  Last Name         DOB  Age (years) Sex  \\\n",
       "0        Hom      Loidx  1942-04-27           82   M   \n",
       "1      Augpi       Ouux  2003-02-20           21   F   \n",
       "2        Voh  Meeeatlbm  1911-04-29          113   M   \n",
       "3     Jiokat      Ouuyy  1931-06-29           93   M   \n",
       "4    Roezsns      Muunn  2019-11-04            5   M   \n",
       "\n",
       "              Admission Date Department Length of Admission  \n",
       "0 2025-01-12 01:12:02.051282         HH    27d, 17h:02m:24s  \n",
       "1 2025-02-05 11:05:05.543818         HH      3d, 7h:09m:21s  \n",
       "2 2025-01-19 10:16:38.032238         HH     20d, 7h:57m:49s  \n",
       "3 2025-01-30 16:47:11.513192        ADU      9d, 1h:27m:16s  \n",
       "4 2025-02-08 12:27:29.995161          K      0d, 5h:46m:58s  "
      ]
     },
     "execution_count": 7,
     "metadata": {},
     "output_type": "execute_result"
    }
   ],
   "source": [
    "wards = ['RP','HH','K','ED','ADU','ICU']\n",
    "bsexs = ['M','F']\n",
    "\n",
    "def ptgen():\n",
    "    fn,ln = ngen()\n",
    "    dob = dobgen()\n",
    "    dtage = datetime.now().date() - dob\n",
    "    age = dtage // timedelta(days=365)\n",
    "    bsx = choice(bsexs)\n",
    "    if bsx == 'F':\n",
    "        all_wards = wards + ['GYN']\n",
    "        if age < 50:\n",
    "            all_wards.append('LD')\n",
    "    else:\n",
    "        all_wards = wards\n",
    "    dpt = choice(all_wards)\n",
    "    adt, loa = adgen()\n",
    "    return {'First Name':fn,\n",
    "            'Last Name':ln,\n",
    "            'DOB':dob,\n",
    "            'Age (years)':age,\n",
    "            'Sex':bsx,\n",
    "            'Admission Date':adt,\n",
    "            'Department':dpt, \n",
    "            'Length of Admission':loa}\n",
    "    \n",
    "ptlist = [ ptgen() for n in range(100) ]\n",
    "\n",
    "ptdf = pd.DataFrame(ptlist)\n",
    "\n",
    "ptdf.head()"
   ]
  },
  {
   "cell_type": "code",
   "execution_count": 8,
   "id": "3faf4338-0d6b-4c83-a8dd-e2fb26487af5",
   "metadata": {},
   "outputs": [
    {
     "data": {
      "text/html": [
       "<div>\n",
       "<style scoped>\n",
       "    .dataframe tbody tr th:only-of-type {\n",
       "        vertical-align: middle;\n",
       "    }\n",
       "\n",
       "    .dataframe tbody tr th {\n",
       "        vertical-align: top;\n",
       "    }\n",
       "\n",
       "    .dataframe thead th {\n",
       "        text-align: right;\n",
       "    }\n",
       "</style>\n",
       "<table border=\"1\" class=\"dataframe\">\n",
       "  <thead>\n",
       "    <tr style=\"text-align: right;\">\n",
       "      <th></th>\n",
       "      <th>Age (years)</th>\n",
       "    </tr>\n",
       "    <tr>\n",
       "      <th>Department</th>\n",
       "      <th></th>\n",
       "    </tr>\n",
       "  </thead>\n",
       "  <tbody>\n",
       "    <tr>\n",
       "      <th>ADU</th>\n",
       "      <td>66.166667</td>\n",
       "    </tr>\n",
       "    <tr>\n",
       "      <th>ED</th>\n",
       "      <td>64.000000</td>\n",
       "    </tr>\n",
       "    <tr>\n",
       "      <th>GYN</th>\n",
       "      <td>58.222222</td>\n",
       "    </tr>\n",
       "    <tr>\n",
       "      <th>HH</th>\n",
       "      <td>57.062500</td>\n",
       "    </tr>\n",
       "    <tr>\n",
       "      <th>ICU</th>\n",
       "      <td>63.363636</td>\n",
       "    </tr>\n",
       "    <tr>\n",
       "      <th>K</th>\n",
       "      <td>51.777778</td>\n",
       "    </tr>\n",
       "    <tr>\n",
       "      <th>LD</th>\n",
       "      <td>17.333333</td>\n",
       "    </tr>\n",
       "    <tr>\n",
       "      <th>RP</th>\n",
       "      <td>73.312500</td>\n",
       "    </tr>\n",
       "  </tbody>\n",
       "</table>\n",
       "</div>"
      ],
      "text/plain": [
       "            Age (years)\n",
       "Department             \n",
       "ADU           66.166667\n",
       "ED            64.000000\n",
       "GYN           58.222222\n",
       "HH            57.062500\n",
       "ICU           63.363636\n",
       "K             51.777778\n",
       "LD            17.333333\n",
       "RP            73.312500"
      ]
     },
     "execution_count": 8,
     "metadata": {},
     "output_type": "execute_result"
    }
   ],
   "source": [
    "ptdf.groupby('Department').agg({'Age (years)':'mean'})"
   ]
  },
  {
   "cell_type": "code",
   "execution_count": 9,
   "id": "3f8b3b95-1d33-46ee-bace-c34ee4d1f2cb",
   "metadata": {},
   "outputs": [
    {
     "data": {
      "text/html": [
       "<div>\n",
       "<style scoped>\n",
       "    .dataframe tbody tr th:only-of-type {\n",
       "        vertical-align: middle;\n",
       "    }\n",
       "\n",
       "    .dataframe tbody tr th {\n",
       "        vertical-align: top;\n",
       "    }\n",
       "\n",
       "    .dataframe thead th {\n",
       "        text-align: right;\n",
       "    }\n",
       "</style>\n",
       "<table border=\"1\" class=\"dataframe\">\n",
       "  <thead>\n",
       "    <tr style=\"text-align: right;\">\n",
       "      <th></th>\n",
       "      <th>Age (years)</th>\n",
       "    </tr>\n",
       "    <tr>\n",
       "      <th>Last Name</th>\n",
       "      <th></th>\n",
       "    </tr>\n",
       "  </thead>\n",
       "  <tbody>\n",
       "    <tr>\n",
       "      <th>Aeootnq</th>\n",
       "      <td>3.0</td>\n",
       "    </tr>\n",
       "    <tr>\n",
       "      <th>Aeovo</th>\n",
       "      <td>48.0</td>\n",
       "    </tr>\n",
       "    <tr>\n",
       "      <th>Aiaeuumjcy</th>\n",
       "      <td>29.0</td>\n",
       "    </tr>\n",
       "    <tr>\n",
       "      <th>Aieouvslu</th>\n",
       "      <td>74.0</td>\n",
       "    </tr>\n",
       "    <tr>\n",
       "      <th>Aouiibpnt</th>\n",
       "      <td>38.0</td>\n",
       "    </tr>\n",
       "    <tr>\n",
       "      <th>...</th>\n",
       "      <td>...</td>\n",
       "    </tr>\n",
       "    <tr>\n",
       "      <th>Zeieiepzul</th>\n",
       "      <td>88.0</td>\n",
       "    </tr>\n",
       "    <tr>\n",
       "      <th>Zeiya</th>\n",
       "      <td>73.0</td>\n",
       "    </tr>\n",
       "    <tr>\n",
       "      <th>Zooeibyxb</th>\n",
       "      <td>27.0</td>\n",
       "    </tr>\n",
       "    <tr>\n",
       "      <th>Zoooayykj</th>\n",
       "      <td>52.0</td>\n",
       "    </tr>\n",
       "    <tr>\n",
       "      <th>Zueaebtqa</th>\n",
       "      <td>107.0</td>\n",
       "    </tr>\n",
       "  </tbody>\n",
       "</table>\n",
       "<p>100 rows × 1 columns</p>\n",
       "</div>"
      ],
      "text/plain": [
       "            Age (years)\n",
       "Last Name              \n",
       "Aeootnq             3.0\n",
       "Aeovo              48.0\n",
       "Aiaeuumjcy         29.0\n",
       "Aieouvslu          74.0\n",
       "Aouiibpnt          38.0\n",
       "...                 ...\n",
       "Zeieiepzul         88.0\n",
       "Zeiya              73.0\n",
       "Zooeibyxb          27.0\n",
       "Zoooayykj          52.0\n",
       "Zueaebtqa         107.0\n",
       "\n",
       "[100 rows x 1 columns]"
      ]
     },
     "execution_count": 9,
     "metadata": {},
     "output_type": "execute_result"
    }
   ],
   "source": [
    "ptdf.groupby('Last Name').agg({'Age (years)':'mean'})"
   ]
  },
  {
   "cell_type": "code",
   "execution_count": 10,
   "id": "98193ce6-f40a-4e3c-b7e3-c5885db37d80",
   "metadata": {},
   "outputs": [
    {
     "data": {
      "text/html": [
       "<div>\n",
       "<style scoped>\n",
       "    .dataframe tbody tr th:only-of-type {\n",
       "        vertical-align: middle;\n",
       "    }\n",
       "\n",
       "    .dataframe tbody tr th {\n",
       "        vertical-align: top;\n",
       "    }\n",
       "\n",
       "    .dataframe thead th {\n",
       "        text-align: right;\n",
       "    }\n",
       "</style>\n",
       "<table border=\"1\" class=\"dataframe\">\n",
       "  <thead>\n",
       "    <tr style=\"text-align: right;\">\n",
       "      <th></th>\n",
       "      <th>First Name</th>\n",
       "      <th>Last Name</th>\n",
       "      <th>DOB</th>\n",
       "      <th>Age (years)</th>\n",
       "      <th>Sex</th>\n",
       "      <th>Admission Date</th>\n",
       "      <th>Department</th>\n",
       "      <th>Length of Admission</th>\n",
       "    </tr>\n",
       "  </thead>\n",
       "  <tbody>\n",
       "    <tr>\n",
       "      <th>59</th>\n",
       "      <td>Loipgcr</td>\n",
       "      <td>Aouiibpnt</td>\n",
       "      <td>1986-10-25</td>\n",
       "      <td>38</td>\n",
       "      <td>M</td>\n",
       "      <td>2025-01-11 20:00:57.103065</td>\n",
       "      <td>K</td>\n",
       "      <td>27d, 22h:13m:57s</td>\n",
       "    </tr>\n",
       "    <tr>\n",
       "      <th>38</th>\n",
       "      <td>Nuonoq</td>\n",
       "      <td>Buah</td>\n",
       "      <td>1945-10-22</td>\n",
       "      <td>79</td>\n",
       "      <td>F</td>\n",
       "      <td>2025-01-11 21:13:20.220591</td>\n",
       "      <td>RP</td>\n",
       "      <td>27d, 21h:01m:24s</td>\n",
       "    </tr>\n",
       "    <tr>\n",
       "      <th>0</th>\n",
       "      <td>Hom</td>\n",
       "      <td>Loidx</td>\n",
       "      <td>1942-04-27</td>\n",
       "      <td>82</td>\n",
       "      <td>M</td>\n",
       "      <td>2025-01-12 01:12:02.051282</td>\n",
       "      <td>HH</td>\n",
       "      <td>27d, 17h:02m:24s</td>\n",
       "    </tr>\n",
       "    <tr>\n",
       "      <th>51</th>\n",
       "      <td>Iouyuv</td>\n",
       "      <td>Uoooawyr</td>\n",
       "      <td>1929-09-17</td>\n",
       "      <td>95</td>\n",
       "      <td>M</td>\n",
       "      <td>2025-01-12 21:39:57.355319</td>\n",
       "      <td>ICU</td>\n",
       "      <td>26d, 20h:34m:53s</td>\n",
       "    </tr>\n",
       "    <tr>\n",
       "      <th>31</th>\n",
       "      <td>Huj</td>\n",
       "      <td>Saauvns</td>\n",
       "      <td>1989-07-25</td>\n",
       "      <td>35</td>\n",
       "      <td>M</td>\n",
       "      <td>2025-01-12 22:40:57.917849</td>\n",
       "      <td>ED</td>\n",
       "      <td>26d, 19h:33m:43s</td>\n",
       "    </tr>\n",
       "    <tr>\n",
       "      <th>...</th>\n",
       "      <td>...</td>\n",
       "      <td>...</td>\n",
       "      <td>...</td>\n",
       "      <td>...</td>\n",
       "      <td>...</td>\n",
       "      <td>...</td>\n",
       "      <td>...</td>\n",
       "      <td>...</td>\n",
       "    </tr>\n",
       "    <tr>\n",
       "      <th>10</th>\n",
       "      <td>Bux</td>\n",
       "      <td>Vaeq</td>\n",
       "      <td>1950-06-11</td>\n",
       "      <td>74</td>\n",
       "      <td>F</td>\n",
       "      <td>2025-02-07 15:10:56.873129</td>\n",
       "      <td>ED</td>\n",
       "      <td>1d, 3h:03m:34s</td>\n",
       "    </tr>\n",
       "    <tr>\n",
       "      <th>88</th>\n",
       "      <td>Zekq</td>\n",
       "      <td>Eioerf</td>\n",
       "      <td>1978-08-04</td>\n",
       "      <td>46</td>\n",
       "      <td>M</td>\n",
       "      <td>2025-02-07 19:09:53.660982</td>\n",
       "      <td>HH</td>\n",
       "      <td>0d, 23h:05m:14s</td>\n",
       "    </tr>\n",
       "    <tr>\n",
       "      <th>54</th>\n",
       "      <td>Vuidpa</td>\n",
       "      <td>Vaok</td>\n",
       "      <td>2003-04-25</td>\n",
       "      <td>21</td>\n",
       "      <td>M</td>\n",
       "      <td>2025-02-08 11:48:58.763754</td>\n",
       "      <td>HH</td>\n",
       "      <td>0d, 6h:25m:53s</td>\n",
       "    </tr>\n",
       "    <tr>\n",
       "      <th>13</th>\n",
       "      <td>Ruc</td>\n",
       "      <td>Suif</td>\n",
       "      <td>1949-02-23</td>\n",
       "      <td>76</td>\n",
       "      <td>M</td>\n",
       "      <td>2025-02-08 12:23:13.302065</td>\n",
       "      <td>HH</td>\n",
       "      <td>0d, 5h:51m:19s</td>\n",
       "    </tr>\n",
       "    <tr>\n",
       "      <th>4</th>\n",
       "      <td>Roezsns</td>\n",
       "      <td>Muunn</td>\n",
       "      <td>2019-11-04</td>\n",
       "      <td>5</td>\n",
       "      <td>M</td>\n",
       "      <td>2025-02-08 12:27:29.995161</td>\n",
       "      <td>K</td>\n",
       "      <td>0d, 5h:46m:58s</td>\n",
       "    </tr>\n",
       "  </tbody>\n",
       "</table>\n",
       "<p>100 rows × 8 columns</p>\n",
       "</div>"
      ],
      "text/plain": [
       "   First Name  Last Name         DOB  Age (years) Sex  \\\n",
       "59    Loipgcr  Aouiibpnt  1986-10-25           38   M   \n",
       "38     Nuonoq       Buah  1945-10-22           79   F   \n",
       "0         Hom      Loidx  1942-04-27           82   M   \n",
       "51     Iouyuv   Uoooawyr  1929-09-17           95   M   \n",
       "31        Huj    Saauvns  1989-07-25           35   M   \n",
       "..        ...        ...         ...          ...  ..   \n",
       "10        Bux       Vaeq  1950-06-11           74   F   \n",
       "88       Zekq     Eioerf  1978-08-04           46   M   \n",
       "54     Vuidpa       Vaok  2003-04-25           21   M   \n",
       "13        Ruc       Suif  1949-02-23           76   M   \n",
       "4     Roezsns      Muunn  2019-11-04            5   M   \n",
       "\n",
       "               Admission Date Department Length of Admission  \n",
       "59 2025-01-11 20:00:57.103065          K    27d, 22h:13m:57s  \n",
       "38 2025-01-11 21:13:20.220591         RP    27d, 21h:01m:24s  \n",
       "0  2025-01-12 01:12:02.051282         HH    27d, 17h:02m:24s  \n",
       "51 2025-01-12 21:39:57.355319        ICU    26d, 20h:34m:53s  \n",
       "31 2025-01-12 22:40:57.917849         ED    26d, 19h:33m:43s  \n",
       "..                        ...        ...                 ...  \n",
       "10 2025-02-07 15:10:56.873129         ED      1d, 3h:03m:34s  \n",
       "88 2025-02-07 19:09:53.660982         HH     0d, 23h:05m:14s  \n",
       "54 2025-02-08 11:48:58.763754         HH      0d, 6h:25m:53s  \n",
       "13 2025-02-08 12:23:13.302065         HH      0d, 5h:51m:19s  \n",
       "4  2025-02-08 12:27:29.995161          K      0d, 5h:46m:58s  \n",
       "\n",
       "[100 rows x 8 columns]"
      ]
     },
     "execution_count": 10,
     "metadata": {},
     "output_type": "execute_result"
    }
   ],
   "source": [
    "ptdf.sort_values('Admission Date')"
   ]
  },
  {
   "cell_type": "markdown",
   "id": "ed8914ec-e279-46df-9d94-e8a9e38dcf42",
   "metadata": {},
   "source": [
    "### Skills Assessment - Notes"
   ]
  },
  {
   "cell_type": "markdown",
   "id": "b686c2dd-f9c5-4cd2-a947-85b3ae04663d",
   "metadata": {},
   "source": [
    "#### Using Seaborn with Matplotlib"
   ]
  },
  {
   "cell_type": "markdown",
   "id": "44d9a0b4-b70e-4b24-9cbc-fb8fe8731b74",
   "metadata": {},
   "source": [
    "##### Import Statements\n",
    "\n",
    "The conventional import statement is:"
   ]
  },
  {
   "cell_type": "code",
   "execution_count": 1,
   "id": "6f0756b9-51e9-4463-8dd7-35f2578589b0",
   "metadata": {},
   "outputs": [],
   "source": [
    "import seaborn as sns"
   ]
  },
  {
   "cell_type": "markdown",
   "id": "7145ffa4-b6ff-4ae4-9cf2-b4cf9c40f618",
   "metadata": {},
   "source": [
    "In order to view plots, it seems matplotlib is still required:"
   ]
  },
  {
   "cell_type": "code",
   "execution_count": 2,
   "id": "5590d421-2221-4dd9-9bfe-e3b00f2a979e",
   "metadata": {},
   "outputs": [],
   "source": [
    "import matplotlib.pyplot as plt"
   ]
  },
  {
   "cell_type": "markdown",
   "id": "efb562f2-9398-49cf-95c9-c2eeea24847a",
   "metadata": {},
   "source": [
    "##### Lineplots"
   ]
  },
  {
   "cell_type": "markdown",
   "id": "4dbab659-2f4f-4ff1-99c5-ebf7ab197b4d",
   "metadata": {},
   "source": [
    "Using the ```ptdf``` DataFrame from before, let's add a column for heart rate data so we can plot age by HR."
   ]
  },
  {
   "cell_type": "code",
   "execution_count": 14,
   "id": "34d809c1-3371-4a55-9cfc-530b11ff20e1",
   "metadata": {},
   "outputs": [
    {
     "data": {
      "text/html": [
       "<div>\n",
       "<style scoped>\n",
       "    .dataframe tbody tr th:only-of-type {\n",
       "        vertical-align: middle;\n",
       "    }\n",
       "\n",
       "    .dataframe tbody tr th {\n",
       "        vertical-align: top;\n",
       "    }\n",
       "\n",
       "    .dataframe thead th {\n",
       "        text-align: right;\n",
       "    }\n",
       "</style>\n",
       "<table border=\"1\" class=\"dataframe\">\n",
       "  <thead>\n",
       "    <tr style=\"text-align: right;\">\n",
       "      <th></th>\n",
       "      <th>First Name</th>\n",
       "      <th>Last Name</th>\n",
       "      <th>DOB</th>\n",
       "      <th>Age (years)</th>\n",
       "      <th>Sex</th>\n",
       "      <th>Admission Date</th>\n",
       "      <th>Department</th>\n",
       "      <th>Length of Admission</th>\n",
       "      <th>HR</th>\n",
       "    </tr>\n",
       "  </thead>\n",
       "  <tbody>\n",
       "    <tr>\n",
       "      <th>0</th>\n",
       "      <td>Hom</td>\n",
       "      <td>Loidx</td>\n",
       "      <td>1942-04-27</td>\n",
       "      <td>82</td>\n",
       "      <td>M</td>\n",
       "      <td>2025-01-12 01:12:02.051282</td>\n",
       "      <td>HH</td>\n",
       "      <td>27d, 17h:02m:24s</td>\n",
       "      <td>109</td>\n",
       "    </tr>\n",
       "    <tr>\n",
       "      <th>1</th>\n",
       "      <td>Augpi</td>\n",
       "      <td>Ouux</td>\n",
       "      <td>2003-02-20</td>\n",
       "      <td>21</td>\n",
       "      <td>F</td>\n",
       "      <td>2025-02-05 11:05:05.543818</td>\n",
       "      <td>HH</td>\n",
       "      <td>3d, 7h:09m:21s</td>\n",
       "      <td>147</td>\n",
       "    </tr>\n",
       "    <tr>\n",
       "      <th>2</th>\n",
       "      <td>Voh</td>\n",
       "      <td>Meeeatlbm</td>\n",
       "      <td>1911-04-29</td>\n",
       "      <td>113</td>\n",
       "      <td>M</td>\n",
       "      <td>2025-01-19 10:16:38.032238</td>\n",
       "      <td>HH</td>\n",
       "      <td>20d, 7h:57m:49s</td>\n",
       "      <td>74</td>\n",
       "    </tr>\n",
       "    <tr>\n",
       "      <th>3</th>\n",
       "      <td>Jiokat</td>\n",
       "      <td>Ouuyy</td>\n",
       "      <td>1931-06-29</td>\n",
       "      <td>93</td>\n",
       "      <td>M</td>\n",
       "      <td>2025-01-30 16:47:11.513192</td>\n",
       "      <td>ADU</td>\n",
       "      <td>9d, 1h:27m:16s</td>\n",
       "      <td>124</td>\n",
       "    </tr>\n",
       "    <tr>\n",
       "      <th>4</th>\n",
       "      <td>Roezsns</td>\n",
       "      <td>Muunn</td>\n",
       "      <td>2019-11-04</td>\n",
       "      <td>5</td>\n",
       "      <td>M</td>\n",
       "      <td>2025-02-08 12:27:29.995161</td>\n",
       "      <td>K</td>\n",
       "      <td>0d, 5h:46m:58s</td>\n",
       "      <td>79</td>\n",
       "    </tr>\n",
       "  </tbody>\n",
       "</table>\n",
       "</div>"
      ],
      "text/plain": [
       "  First Name  Last Name         DOB  Age (years) Sex  \\\n",
       "0        Hom      Loidx  1942-04-27           82   M   \n",
       "1      Augpi       Ouux  2003-02-20           21   F   \n",
       "2        Voh  Meeeatlbm  1911-04-29          113   M   \n",
       "3     Jiokat      Ouuyy  1931-06-29           93   M   \n",
       "4    Roezsns      Muunn  2019-11-04            5   M   \n",
       "\n",
       "              Admission Date Department Length of Admission   HR  \n",
       "0 2025-01-12 01:12:02.051282         HH    27d, 17h:02m:24s  109  \n",
       "1 2025-02-05 11:05:05.543818         HH      3d, 7h:09m:21s  147  \n",
       "2 2025-01-19 10:16:38.032238         HH     20d, 7h:57m:49s   74  \n",
       "3 2025-01-30 16:47:11.513192        ADU      9d, 1h:27m:16s  124  \n",
       "4 2025-02-08 12:27:29.995161          K      0d, 5h:46m:58s   79  "
      ]
     },
     "execution_count": 14,
     "metadata": {},
     "output_type": "execute_result"
    }
   ],
   "source": [
    "ptdf['HR'] = [ randint(60,150) for i in range (100) ]\n",
    "ptdf.head()"
   ]
  },
  {
   "cell_type": "markdown",
   "id": "b7969801-ca2d-44a5-9fab-da90aaadfef5",
   "metadata": {},
   "source": [
    "When simply using ```matplotlib.pyplot```, a ```pandas``` DataFrame itself has the ```df.plot()``` method built into it, and you can pass in a string for the ```type=``` parameter to indicate the type of plot.  As a result of the method belonging to the DataFrame itself, you simply pass in the column names as arguments for the x and y axes.\n",
    "\n",
    "In Seaborn, you can similarly pass in the column names as strings, but instead of calling the plot method as a method of the dataframe itself, you pass the dataframe as an argument of the ```data=``` paramater of the plot method used.  In this case, the method is ```sns.lineplot()```:"
   ]
  },
  {
   "cell_type": "code",
   "execution_count": 16,
   "id": "0683934f-4f67-47f2-a84a-aaa49ba0b36b",
   "metadata": {},
   "outputs": [
    {
     "data": {
      "text/plain": [
       "<Axes: xlabel='Age (years)', ylabel='HR'>"
      ]
     },
     "execution_count": 16,
     "metadata": {},
     "output_type": "execute_result"
    },
    {
     "data": {
      "image/png": "[encoded data removed]",
      "text/plain": [
       "<Figure size 640x480 with 1 Axes>"
      ]
     },
     "metadata": {},
     "output_type": "display_data"
    }
   ],
   "source": [
    "sns.lineplot(x='Age (years)',y='HR',data=ptdf)"
   ]
  },
  {
   "attachments": {
    "32ad9c11-c059-44e5-846b-1359577957e6.png": {
     "image/png": "[encoded data removed]"
    }
   },
   "cell_type": "markdown",
   "id": "ab3df52d-6dd4-42f0-a593-fc548359e289",
   "metadata": {},
   "source": [
    "But perhaps you don't need to even pass in an argument for the data= param?\n",
    "\n",
    "![image.png](attachment:32ad9c11-c059-44e5-846b-1359577957e6.png)\n",
    "\n",
    "I mean I did pass in the dataframe itself (patient), but I went ahead and called the actual column of the dataframe independently for x and y instead of just passing in the column name as a string for each."
   ]
  },
  {
   "cell_type": "code",
   "execution_count": 17,
   "id": "d97f659e-bc2b-4f02-ba92-6e9de6cc17bd",
   "metadata": {},
   "outputs": [],
   "source": [
    "plt.show()"
   ]
  },
  {
   "attachments": {
    "0c01be8e-4fee-426e-b76d-9469c5218d33.png": {
     "image/png": "[encoded data removed]"
    }
   },
   "cell_type": "markdown",
   "id": "94128cac-f391-4533-826f-f3707bd88076",
   "metadata": {},
   "source": [
    "#### Seaborn - Swarm Plots???\n",
    "\n",
    "Apparently the syntax is (after import statements)\n",
    "\n",
    "```python\n",
    "\n",
    "ax = sns.swarmplot( x= '<column of the df to use as x-values>',\n",
    "                    y= '<column of the df to use as y-values>',\n",
    "                    hue= '<column of the df to color code by>',\n",
    "                    data= '<dataframe>' )\n",
    "\n",
    "plt.show()\n",
    "\n",
    "```\n",
    "\n",
    "\n",
    "![image.png](attachment:0c01be8e-4fee-426e-b76d-9469c5218d33.png)"
   ]
  },
  {
   "attachments": {
    "f524e28a-34a2-457d-8179-c12851553a69.png": {
     "image/png": "[encoded data removed]"
    }
   },
   "cell_type": "markdown",
   "id": "adf9dc0c-9b53-48cd-b80c-909cd247a528",
   "metadata": {},
   "source": [
    "#### What is a JOINTPLOT???\n",
    "\n",
    "![image.png](attachment:f524e28a-34a2-457d-8179-c12851553a69.png)"
   ]
  },
  {
   "cell_type": "markdown",
   "id": "5fd941a9-76e9-436f-83bd-6a36cd7bb32a",
   "metadata": {},
   "source": [
    "It's basically as it looks - a scatterplot with individual distributions for each variable superimposed next to the axes.  That way, you can look for relationships between two variables while simultaneously seeing how each is distributed, thereby parsing out potential outliers and other characteristics of the data only visualized via their distributions."
   ]
  },
  {
   "cell_type": "code",
   "execution_count": 51,
   "id": "8ae3e0c6-1b69-4363-b1c5-46b7b9ea84aa",
   "metadata": {},
   "outputs": [
    {
     "data": {
      "text/plain": [
       "<seaborn.axisgrid.JointGrid at 0x73ba5d74f7a0>"
      ]
     },
     "execution_count": 51,
     "metadata": {},
     "output_type": "execute_result"
    },
    {
     "data": {
      "image/png": "[encoded data removed]",
      "text/plain": [
       "<Figure size 600x600 with 3 Axes>"
      ]
     },
     "metadata": {},
     "output_type": "display_data"
    }
   ],
   "source": [
    "sns.jointplot(x='Age (years)',y='HR',data=ptdf)"
   ]
  },
  {
   "attachments": {
    "1f1bf86b-d074-4c39-818b-0cb41c7b7c34.png": {
     "image/png": "[encoded data removed]"
    }
   },
   "cell_type": "markdown",
   "id": "1e607197-3689-4771-ba87-c0dee22a5462",
   "metadata": {},
   "source": [
    "#### What is a COUNTPLOT?\n",
    "\n",
    "![image.png](attachment:1f1bf86b-d074-4c39-818b-0cb41c7b7c34.png)\n",
    "\n",
    "While a **histogram** takes the frequencies / counts of measurements that fall into certain bins of a quantitative variable (e.g., number of people in various age ranges), a **countplot** does this for categorical variables (e.g., the number of people wearing black, white, or brown shoes)."
   ]
  },
  {
   "cell_type": "code",
   "execution_count": 47,
   "id": "fa91220a-3abe-433b-8720-08c540f20c80",
   "metadata": {},
   "outputs": [
    {
     "data": {
      "text/plain": [
       "<Axes: xlabel='Department', ylabel='count'>"
      ]
     },
     "execution_count": 47,
     "metadata": {},
     "output_type": "execute_result"
    },
    {
     "data": {
      "image/png": "[encoded data removed]",
      "text/plain": [
       "<Figure size 640x480 with 1 Axes>"
      ]
     },
     "metadata": {},
     "output_type": "display_data"
    }
   ],
   "source": [
    "sns.countplot(ptdf,x=\"Department\",hue='Sex')"
   ]
  },
  {
   "cell_type": "code",
   "execution_count": 50,
   "id": "ec808afd-3a78-4299-9126-b054e7278e87",
   "metadata": {},
   "outputs": [
    {
     "data": {
      "text/plain": [
       "<Axes: xlabel='Department', ylabel='Count'>"
      ]
     },
     "execution_count": 50,
     "metadata": {},
     "output_type": "execute_result"
    },
    {
     "data": {
      "image/png": "[encoded data removed]",
      "text/plain": [
       "<Figure size 640x480 with 1 Axes>"
      ]
     },
     "metadata": {},
     "output_type": "display_data"
    }
   ],
   "source": [
    "sns.histplot(x='Department',data=ptdf, hue='Sex')"
   ]
  },
  {
   "cell_type": "code",
   "execution_count": null,
   "id": "addd4be5-18e1-4756-96ff-2d4871a7ec91",
   "metadata": {},
   "outputs": [],
   "source": []
  },
  {
   "cell_type": "markdown",
   "id": "ccd32a94-5227-46f9-b4fa-1c72314f4929",
   "metadata": {},
   "source": [
    "##### DataFrame Index"
   ]
  },
  {
   "cell_type": "code",
   "execution_count": null,
   "id": "b0803fd4-b35a-4d12-a66c-2712ad1a1875",
   "metadata": {},
   "outputs": [],
   "source": []
  },
  {
   "cell_type": "code",
   "execution_count": 23,
   "id": "d74a8bee-c256-453f-81f7-507065251c62",
   "metadata": {},
   "outputs": [
    {
     "data": {
      "text/html": [
       "<div>\n",
       "<style scoped>\n",
       "    .dataframe tbody tr th:only-of-type {\n",
       "        vertical-align: middle;\n",
       "    }\n",
       "\n",
       "    .dataframe tbody tr th {\n",
       "        vertical-align: top;\n",
       "    }\n",
       "\n",
       "    .dataframe thead th {\n",
       "        text-align: right;\n",
       "    }\n",
       "</style>\n",
       "<table border=\"1\" class=\"dataframe\">\n",
       "  <thead>\n",
       "    <tr style=\"text-align: right;\">\n",
       "      <th></th>\n",
       "      <th>First Name</th>\n",
       "      <th>Last Name</th>\n",
       "      <th>DOB</th>\n",
       "      <th>Age (years)</th>\n",
       "      <th>Sex</th>\n",
       "      <th>Admission Date</th>\n",
       "      <th>Department</th>\n",
       "      <th>Length of Admission</th>\n",
       "      <th>HR</th>\n",
       "      <th>MRN</th>\n",
       "    </tr>\n",
       "  </thead>\n",
       "  <tbody>\n",
       "    <tr>\n",
       "      <th>0</th>\n",
       "      <td>Hom</td>\n",
       "      <td>Loidx</td>\n",
       "      <td>1942-04-27</td>\n",
       "      <td>82</td>\n",
       "      <td>M</td>\n",
       "      <td>2025-01-12 01:12:02.051282</td>\n",
       "      <td>HH</td>\n",
       "      <td>27d, 17h:02m:24s</td>\n",
       "      <td>109</td>\n",
       "      <td>5585750009</td>\n",
       "    </tr>\n",
       "    <tr>\n",
       "      <th>1</th>\n",
       "      <td>Augpi</td>\n",
       "      <td>Ouux</td>\n",
       "      <td>2003-02-20</td>\n",
       "      <td>21</td>\n",
       "      <td>F</td>\n",
       "      <td>2025-02-05 11:05:05.543818</td>\n",
       "      <td>HH</td>\n",
       "      <td>3d, 7h:09m:21s</td>\n",
       "      <td>147</td>\n",
       "      <td>1573906222</td>\n",
       "    </tr>\n",
       "    <tr>\n",
       "      <th>2</th>\n",
       "      <td>Voh</td>\n",
       "      <td>Meeeatlbm</td>\n",
       "      <td>1911-04-29</td>\n",
       "      <td>113</td>\n",
       "      <td>M</td>\n",
       "      <td>2025-01-19 10:16:38.032238</td>\n",
       "      <td>HH</td>\n",
       "      <td>20d, 7h:57m:49s</td>\n",
       "      <td>74</td>\n",
       "      <td>2117061375</td>\n",
       "    </tr>\n",
       "    <tr>\n",
       "      <th>3</th>\n",
       "      <td>Jiokat</td>\n",
       "      <td>Ouuyy</td>\n",
       "      <td>1931-06-29</td>\n",
       "      <td>93</td>\n",
       "      <td>M</td>\n",
       "      <td>2025-01-30 16:47:11.513192</td>\n",
       "      <td>ADU</td>\n",
       "      <td>9d, 1h:27m:16s</td>\n",
       "      <td>124</td>\n",
       "      <td>5695511556</td>\n",
       "    </tr>\n",
       "    <tr>\n",
       "      <th>4</th>\n",
       "      <td>Roezsns</td>\n",
       "      <td>Muunn</td>\n",
       "      <td>2019-11-04</td>\n",
       "      <td>5</td>\n",
       "      <td>M</td>\n",
       "      <td>2025-02-08 12:27:29.995161</td>\n",
       "      <td>K</td>\n",
       "      <td>0d, 5h:46m:58s</td>\n",
       "      <td>79</td>\n",
       "      <td>3973411580</td>\n",
       "    </tr>\n",
       "  </tbody>\n",
       "</table>\n",
       "</div>"
      ],
      "text/plain": [
       "  First Name  Last Name         DOB  Age (years) Sex  \\\n",
       "0        Hom      Loidx  1942-04-27           82   M   \n",
       "1      Augpi       Ouux  2003-02-20           21   F   \n",
       "2        Voh  Meeeatlbm  1911-04-29          113   M   \n",
       "3     Jiokat      Ouuyy  1931-06-29           93   M   \n",
       "4    Roezsns      Muunn  2019-11-04            5   M   \n",
       "\n",
       "              Admission Date Department Length of Admission   HR         MRN  \n",
       "0 2025-01-12 01:12:02.051282         HH    27d, 17h:02m:24s  109  5585750009  \n",
       "1 2025-02-05 11:05:05.543818         HH      3d, 7h:09m:21s  147  1573906222  \n",
       "2 2025-01-19 10:16:38.032238         HH     20d, 7h:57m:49s   74  2117061375  \n",
       "3 2025-01-30 16:47:11.513192        ADU      9d, 1h:27m:16s  124  5695511556  \n",
       "4 2025-02-08 12:27:29.995161          K      0d, 5h:46m:58s   79  3973411580  "
      ]
     },
     "execution_count": 23,
     "metadata": {},
     "output_type": "execute_result"
    }
   ],
   "source": [
    "ptdf['MRN'] = [ ''.join([str(randint(0,9)) for d in range(10)]) for m in range(100) ]\n",
    "ptdf.head()"
   ]
  },
  {
   "cell_type": "code",
   "execution_count": 24,
   "id": "b90345b2-2017-4dd9-ac9f-fd88814915ae",
   "metadata": {},
   "outputs": [
    {
     "data": {
      "text/html": [
       "<div>\n",
       "<style scoped>\n",
       "    .dataframe tbody tr th:only-of-type {\n",
       "        vertical-align: middle;\n",
       "    }\n",
       "\n",
       "    .dataframe tbody tr th {\n",
       "        vertical-align: top;\n",
       "    }\n",
       "\n",
       "    .dataframe thead th {\n",
       "        text-align: right;\n",
       "    }\n",
       "</style>\n",
       "<table border=\"1\" class=\"dataframe\">\n",
       "  <thead>\n",
       "    <tr style=\"text-align: right;\">\n",
       "      <th></th>\n",
       "      <th>First Name</th>\n",
       "      <th>Last Name</th>\n",
       "      <th>DOB</th>\n",
       "      <th>Age (years)</th>\n",
       "      <th>Sex</th>\n",
       "      <th>Admission Date</th>\n",
       "      <th>Department</th>\n",
       "      <th>Length of Admission</th>\n",
       "      <th>HR</th>\n",
       "    </tr>\n",
       "    <tr>\n",
       "      <th>MRN</th>\n",
       "      <th></th>\n",
       "      <th></th>\n",
       "      <th></th>\n",
       "      <th></th>\n",
       "      <th></th>\n",
       "      <th></th>\n",
       "      <th></th>\n",
       "      <th></th>\n",
       "      <th></th>\n",
       "    </tr>\n",
       "  </thead>\n",
       "  <tbody>\n",
       "    <tr>\n",
       "      <th>5585750009</th>\n",
       "      <td>Hom</td>\n",
       "      <td>Loidx</td>\n",
       "      <td>1942-04-27</td>\n",
       "      <td>82</td>\n",
       "      <td>M</td>\n",
       "      <td>2025-01-12 01:12:02.051282</td>\n",
       "      <td>HH</td>\n",
       "      <td>27d, 17h:02m:24s</td>\n",
       "      <td>109</td>\n",
       "    </tr>\n",
       "    <tr>\n",
       "      <th>1573906222</th>\n",
       "      <td>Augpi</td>\n",
       "      <td>Ouux</td>\n",
       "      <td>2003-02-20</td>\n",
       "      <td>21</td>\n",
       "      <td>F</td>\n",
       "      <td>2025-02-05 11:05:05.543818</td>\n",
       "      <td>HH</td>\n",
       "      <td>3d, 7h:09m:21s</td>\n",
       "      <td>147</td>\n",
       "    </tr>\n",
       "    <tr>\n",
       "      <th>2117061375</th>\n",
       "      <td>Voh</td>\n",
       "      <td>Meeeatlbm</td>\n",
       "      <td>1911-04-29</td>\n",
       "      <td>113</td>\n",
       "      <td>M</td>\n",
       "      <td>2025-01-19 10:16:38.032238</td>\n",
       "      <td>HH</td>\n",
       "      <td>20d, 7h:57m:49s</td>\n",
       "      <td>74</td>\n",
       "    </tr>\n",
       "    <tr>\n",
       "      <th>5695511556</th>\n",
       "      <td>Jiokat</td>\n",
       "      <td>Ouuyy</td>\n",
       "      <td>1931-06-29</td>\n",
       "      <td>93</td>\n",
       "      <td>M</td>\n",
       "      <td>2025-01-30 16:47:11.513192</td>\n",
       "      <td>ADU</td>\n",
       "      <td>9d, 1h:27m:16s</td>\n",
       "      <td>124</td>\n",
       "    </tr>\n",
       "    <tr>\n",
       "      <th>3973411580</th>\n",
       "      <td>Roezsns</td>\n",
       "      <td>Muunn</td>\n",
       "      <td>2019-11-04</td>\n",
       "      <td>5</td>\n",
       "      <td>M</td>\n",
       "      <td>2025-02-08 12:27:29.995161</td>\n",
       "      <td>K</td>\n",
       "      <td>0d, 5h:46m:58s</td>\n",
       "      <td>79</td>\n",
       "    </tr>\n",
       "  </tbody>\n",
       "</table>\n",
       "</div>"
      ],
      "text/plain": [
       "           First Name  Last Name         DOB  Age (years) Sex  \\\n",
       "MRN                                                             \n",
       "5585750009        Hom      Loidx  1942-04-27           82   M   \n",
       "1573906222      Augpi       Ouux  2003-02-20           21   F   \n",
       "2117061375        Voh  Meeeatlbm  1911-04-29          113   M   \n",
       "5695511556     Jiokat      Ouuyy  1931-06-29           93   M   \n",
       "3973411580    Roezsns      Muunn  2019-11-04            5   M   \n",
       "\n",
       "                       Admission Date Department Length of Admission   HR  \n",
       "MRN                                                                        \n",
       "5585750009 2025-01-12 01:12:02.051282         HH    27d, 17h:02m:24s  109  \n",
       "1573906222 2025-02-05 11:05:05.543818         HH      3d, 7h:09m:21s  147  \n",
       "2117061375 2025-01-19 10:16:38.032238         HH     20d, 7h:57m:49s   74  \n",
       "5695511556 2025-01-30 16:47:11.513192        ADU      9d, 1h:27m:16s  124  \n",
       "3973411580 2025-02-08 12:27:29.995161          K      0d, 5h:46m:58s   79  "
      ]
     },
     "execution_count": 24,
     "metadata": {},
     "output_type": "execute_result"
    }
   ],
   "source": [
    "pt_mrni = ptdf.set_index('MRN')\n",
    "pt_mrni.head()"
   ]
  },
  {
   "cell_type": "code",
   "execution_count": 25,
   "id": "27ef4a28-5fae-4a51-8e86-3e1364d9bd22",
   "metadata": {},
   "outputs": [
    {
     "data": {
      "text/plain": [
       "Index(['5585750009', '1573906222', '2117061375', '5695511556', '3973411580',\n",
       "       '2936671024', '0169449931', '5243611114', '9570626111', '2094380626',\n",
       "       '9116320444', '4759845296', '1305855202', '5802502852', '9783447984',\n",
       "       '0161899697', '6804994968', '6542657935', '6500124380', '8782053380',\n",
       "       '1260628794', '5405219003', '9555807181', '6703459282', '4157054667',\n",
       "       '5762297840', '7295717809', '1589044974', '0906790254', '2316676335',\n",
       "       '3332677618', '5032573067', '3732820182', '1795151615', '2627302901',\n",
       "       '0540131239', '2545524610', '5305290600', '4837244935', '0916520501',\n",
       "       '8841920640', '5305515771', '2390742743', '0453597236', '4544280146',\n",
       "       '3459992622', '3681074793', '7033505509', '4106320793', '6171747308',\n",
       "       '1729689771', '8509959296', '2279223123', '7591003712', '1733761505',\n",
       "       '3605206755', '8869857616', '7557387167', '4682882816', '6110880275',\n",
       "       '1192343975', '4559895147', '5150910058', '9767010065', '7562885776',\n",
       "       '5734581412', '8048891061', '4247667342', '2751920736', '5424989464',\n",
       "       '8976022130', '7091675358', '3813620883', '9656919399', '8498349128',\n",
       "       '5143941336', '9906390851', '6540654519', '0325420514', '3015576753',\n",
       "       '3922238620', '1362742111', '2577476109', '1922311695', '6537861427',\n",
       "       '1252126387', '0351776857', '2234310745', '9598499591', '3914938030',\n",
       "       '3557544158', '7696636790', '3791527145', '5768020135', '8945390750',\n",
       "       '8500624283', '6181438755', '8465762450', '4815849696', '5940333139'],\n",
       "      dtype='object', name='MRN')"
      ]
     },
     "execution_count": 25,
     "metadata": {},
     "output_type": "execute_result"
    }
   ],
   "source": [
    "pt_mrni.index"
   ]
  },
  {
   "cell_type": "code",
   "execution_count": 26,
   "id": "d21da27c-cbe6-4a3c-b8ac-93e1536549be",
   "metadata": {},
   "outputs": [
    {
     "data": {
      "text/plain": [
       "RangeIndex(start=0, stop=100, step=1)"
      ]
     },
     "execution_count": 26,
     "metadata": {},
     "output_type": "execute_result"
    }
   ],
   "source": [
    "ptdf.index"
   ]
  },
  {
   "cell_type": "code",
   "execution_count": 27,
   "id": "48ac35c2-2120-4d1f-9a3f-0f25e6d9d6bc",
   "metadata": {},
   "outputs": [
    {
     "data": {
      "text/plain": [
       "pandas.core.indexes.base.Index"
      ]
     },
     "execution_count": 27,
     "metadata": {},
     "output_type": "execute_result"
    }
   ],
   "source": [
    "type(pt_mrni.index)"
   ]
  },
  {
   "cell_type": "code",
   "execution_count": 28,
   "id": "4548affe-1d48-4a2c-b8fe-b442b7c674b6",
   "metadata": {},
   "outputs": [
    {
     "data": {
      "text/plain": [
       "pandas.core.indexes.range.RangeIndex"
      ]
     },
     "execution_count": 28,
     "metadata": {},
     "output_type": "execute_result"
    }
   ],
   "source": [
    "type(ptdf.index)"
   ]
  },
  {
   "cell_type": "code",
   "execution_count": 29,
   "id": "a8400006-9f50-437a-9742-b3ca5c4bf1d1",
   "metadata": {},
   "outputs": [
    {
     "data": {
      "text/plain": [
       "Index(['First Name', 'Last Name', 'DOB', 'Age (years)', 'Sex',\n",
       "       'Admission Date', 'Department', 'Length of Admission', 'HR', 'MRN'],\n",
       "      dtype='object')"
      ]
     },
     "execution_count": 29,
     "metadata": {},
     "output_type": "execute_result"
    }
   ],
   "source": [
    "ptdf.columns"
   ]
  },
  {
   "cell_type": "code",
   "execution_count": 30,
   "id": "913ed4a2-fff9-44b0-948f-d551157eee1d",
   "metadata": {},
   "outputs": [
    {
     "data": {
      "text/plain": [
       "pandas.core.indexes.base.Index"
      ]
     },
     "execution_count": 30,
     "metadata": {},
     "output_type": "execute_result"
    }
   ],
   "source": [
    "type(ptdf.columns)"
   ]
  },
  {
   "cell_type": "markdown",
   "id": "6f979a0a-e4e7-43b4-9f57-e256c47cd201",
   "metadata": {},
   "source": [
    "The data object when you call the ```.columns``` attribute of a DataFrame is of the same exact class/type as that when you call the ```.index``` attribute if one of the columns was set as the index.  The difference is that the columns will not collectively have a ```name=``` that comes after the ```dtype=```, while an column that has been turned into an index will of course have a column name that comes with it.\n",
    "\n",
    "Meanwhile, the default numeric index that is given to a DataFrame upon creation is of a different subcategory of indexes (```range.RangeIndex```)."
   ]
  },
  {
   "cell_type": "code",
   "execution_count": null,
   "id": "27db3a6c-00b6-41f2-b167-60df39cfba90",
   "metadata": {},
   "outputs": [],
   "source": []
  }
 ],
 "metadata": {
  "kernelspec": {
   "display_name": "Python 3 (ipykernel)",
   "language": "python",
   "name": "python3"
  },
  "language_info": {
   "codemirror_mode": {
    "name": "ipython",
    "version": 3
   },
   "file_extension": ".py",
   "mimetype": "text/x-python",
   "name": "python",
   "nbconvert_exporter": "python",
   "pygments_lexer": "ipython3",
   "version": "3.12.7"
  }
 },
 "nbformat": 4,
 "nbformat_minor": 5
}
