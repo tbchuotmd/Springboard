{
 "cells": [
  {
   "cell_type": "markdown",
   "id": "46af03a9-4857-4417-a9bc-4e688c856d57",
   "metadata": {
    "jp-MarkdownHeadingCollapsed": true
   },
   "source": [
    "# UNIT 3 | PY101: INTRO TO PYTHON I\n",
    "\n",
    "## 3.2 - LISTS"
   ]
  },
  {
   "cell_type": "code",
   "execution_count": 56,
   "id": "6d277449-e29e-4272-9f42-1b66d8fd7637",
   "metadata": {},
   "outputs": [
    {
     "name": "stdout",
     "output_type": "stream",
     "text": [
      "[3, 10, -1]\n"
     ]
    }
   ],
   "source": [
    "a = [3,10,-1] # define list with values 3, 10 and -1\n",
    "\n",
    "print(a)"
   ]
  },
  {
   "cell_type": "code",
   "execution_count": 57,
   "id": "88db9beb-a74e-47f1-8a15-2c68ff793af6",
   "metadata": {},
   "outputs": [
    {
     "name": "stdout",
     "output_type": "stream",
     "text": [
      "[3, 10, -1, 'hello']\n"
     ]
    }
   ],
   "source": [
    "a.append(\"hello\") #insert value \"hello\" at the end of the list\n",
    "\n",
    "print(a)"
   ]
  },
  {
   "cell_type": "code",
   "execution_count": 58,
   "id": "1e1a2e13-aab8-40aa-a736-8e95e83f8036",
   "metadata": {},
   "outputs": [
    {
     "name": "stdout",
     "output_type": "stream",
     "text": [
      "[3, 10, -1]\n"
     ]
    }
   ],
   "source": [
    "a.pop() # deletes the last item in the list\n",
    "\n",
    "print(a)"
   ]
  },
  {
   "cell_type": "code",
   "execution_count": 59,
   "id": "fc658504-75f8-4c9f-8c0a-6e00e1bead05",
   "metadata": {},
   "outputs": [
    {
     "name": "stdout",
     "output_type": "stream",
     "text": [
      "[4, 10, -1]\n"
     ]
    }
   ],
   "source": [
    "a[0] = 4 #reassigns the first item from 3 to 4\n",
    "\n",
    "print(a)"
   ]
  },
  {
   "cell_type": "code",
   "execution_count": 60,
   "id": "78c39eaa-e785-4897-9bfb-65b505d0b3bf",
   "metadata": {},
   "outputs": [
    {
     "name": "stdout",
     "output_type": "stream",
     "text": [
      "['new first item', 4, 10, -1]\n"
     ]
    }
   ],
   "source": [
    "a.insert(0,\"new first item\") #insert string value at index 0\n",
    "\n",
    "print(a)"
   ]
  },
  {
   "cell_type": "code",
   "execution_count": 61,
   "id": "4425877a-705e-4013-83df-554bf04f0b3f",
   "metadata": {},
   "outputs": [
    {
     "name": "stdout",
     "output_type": "stream",
     "text": [
      "[4, 10, -1]\n"
     ]
    }
   ],
   "source": [
    "# removing items using .remove() string method\n",
    "a.remove(a[0])\n",
    "\n",
    "print(a)"
   ]
  },
  {
   "cell_type": "code",
   "execution_count": 62,
   "id": "4a538fc4-c1e8-4520-92af-ea8e65ddbc3c",
   "metadata": {},
   "outputs": [
    {
     "name": "stdout",
     "output_type": "stream",
     "text": [
      "[10, -1]\n"
     ]
    }
   ],
   "source": [
    "# removing items using del keyword\n",
    "del a[0]\n",
    "\n",
    "print(a)"
   ]
  },
  {
   "cell_type": "code",
   "execution_count": 54,
   "id": "9c623746-c1d1-4874-ad33-2fdcb3245902",
   "metadata": {},
   "outputs": [],
   "source": [
    "a.insert(10,2) # specifying an index out of range - python automatically gives it a lower index?\n",
    "\n",
    "#print(a[10])\n",
    "#print(a[-1])"
   ]
  },
  {
   "cell_type": "code",
   "execution_count": 44,
   "id": "f34142c3-e12c-483f-b74d-cd33018ec4c2",
   "metadata": {},
   "outputs": [
    {
     "name": "stdout",
     "output_type": "stream",
     "text": [
      "['orange', 'orange', 'orange']\n"
     ]
    }
   ],
   "source": [
    "# Since assigning a = b actually assigns b to whatever value a was most RECENTLY assigned to\n",
    "# you can't swap items in a list using simple reassignment, as seen below:\n",
    "\n",
    "b = [\"banana\",\"apple\",\"orange\"]\n",
    "\n",
    "b[0]=b[2] # now b[0] = \"orange\"\n",
    "b[1]=b[0] # since b[0] most recently assigned to \"orange\", then b[1] will also be assigned to that\n",
    "b[2]=b[1] # same thing happens here\n",
    "\n",
    "\n",
    "# result is they all get the original value of b[2] instead of swapping values:\n",
    "print(b)"
   ]
  },
  {
   "cell_type": "code",
   "execution_count": 45,
   "id": "858731ca-eb71-4a7f-bf6d-66c0ca41fb04",
   "metadata": {},
   "outputs": [
    {
     "name": "stdout",
     "output_type": "stream",
     "text": [
      "['orange', 'banana', 'apple']\n"
     ]
    }
   ],
   "source": [
    "# One way of swapping values requires a temporary placeholder for one of the variables:\n",
    "\n",
    "b = [\"banana\",\"apple\",\"orange\"]\n",
    "\n",
    "temp_b0 = b[0]\n",
    "b[0]=b[2]\n",
    "b[2]=b[1]\n",
    "b[1] = temp_b0\n",
    "\n",
    "print(b)\n"
   ]
  },
  {
   "cell_type": "code",
   "execution_count": 47,
   "id": "209873d7-bcf2-4a20-8e3d-857ccdb753a5",
   "metadata": {},
   "outputs": [
    {
     "name": "stdout",
     "output_type": "stream",
     "text": [
      "['orange', 'banana', 'apple']\n"
     ]
    }
   ],
   "source": [
    "# Another way of swapping values is something like unpacking?\n",
    "\n",
    "b = [\"banana\",\"apple\",\"orange\"]\n",
    "\n",
    "b[0],b[1],b[2] = b[2],b[0],b[1]\n",
    "\n",
    "print(b)"
   ]
  },
  {
   "cell_type": "markdown",
   "id": "412bdea3-0135-4195-9241-b7ca8b14935e",
   "metadata": {},
   "source": [
    "## Functions & Packages\n",
    "\n",
    "### NumPy"
   ]
  },
  {
   "cell_type": "code",
   "execution_count": 74,
   "id": "41f17695-7f6d-4194-b7d0-9c36960bc424",
   "metadata": {},
   "outputs": [],
   "source": [
    "import numpy as np\n",
    "\n",
    "zero_dim = np.array(3845)\n",
    "one_dim = np.array([34,21,7])\n",
    "two_dim = np.array([[2,4],[6,3]])\n",
    "three_dim = np.array([[[2,3,4],[5,6,7]],[[3,4,1],[6,2,6]],[[9,3,5],[1,3,2]]])\n",
    "\n",
    "arrays = [zero_dim,one_dim,two_dim,three_dim]"
   ]
  },
  {
   "cell_type": "code",
   "execution_count": 86,
   "id": "64bf7c22-2515-4c65-bb8c-858093e1bbf8",
   "metadata": {},
   "outputs": [
    {
     "name": "stdout",
     "output_type": "stream",
     "text": [
      "0-dimensional array:\n",
      "\n",
      "3845\n",
      "\n",
      "\n",
      "\n",
      "1-dimensional array:\n",
      "\n",
      "[34 21  7]\n",
      "\n",
      "\n",
      "\n",
      "2-dimensional array:\n",
      "\n",
      "[[2 4]\n",
      " [6 3]]\n",
      "\n",
      "\n",
      "\n",
      "3-dimensional array:\n",
      "\n",
      "[[[2 3 4]\n",
      "  [5 6 7]]\n",
      "\n",
      " [[3 4 1]\n",
      "  [6 2 6]]\n",
      "\n",
      " [[9 3 5]\n",
      "  [1 3 2]]]\n",
      "\n",
      "\n",
      "\n"
     ]
    }
   ],
   "source": [
    "for a in arrays:\n",
    "    print(f\"{a.ndim}-dimensional array:\\n\\n{a}\\n\\n\\n\")"
   ]
  },
  {
   "cell_type": "code",
   "execution_count": 95,
   "id": "cf500357-e55b-44ed-ac8d-9c8c7053c3f6",
   "metadata": {},
   "outputs": [],
   "source": [
    "b = np.array([4], ndmin=2)"
   ]
  },
  {
   "cell_type": "code",
   "execution_count": 115,
   "id": "a6fa75a1-ff57-4dae-80c2-98e7277ecc44",
   "metadata": {},
   "outputs": [
    {
     "name": "stdout",
     "output_type": "stream",
     "text": [
      "[[[0.66461107 0.36203778]\n",
      "  [0.87916353 0.51338581]]\n",
      "\n",
      " [[0.0568425  0.47762111]\n",
      "  [0.58706278 0.65212653]]]\n",
      "\n",
      "[[[0. 0.]\n",
      "  [0. 0.]]\n",
      "\n",
      " [[0. 0.]\n",
      "  [0. 0.]]]\n",
      "\n",
      "[[[5 5]\n",
      "  [5 5]]\n",
      "\n",
      " [[5 5]\n",
      "  [5 5]]]\n",
      "\n",
      "[[[1. 1.]\n",
      "  [1. 1.]]\n",
      "\n",
      " [[1. 1.]\n",
      "  [1. 1.]]]\n"
     ]
    }
   ],
   "source": [
    "cubic_matrix = np.random.rand(2,2,2)\n",
    "cubic_zeros = np.zeros((2,2,2))\n",
    "cubic_full = np.full((2,2,2),5)\n",
    "cubic_ones = np.ones((2,2,2))\n",
    "print(f\"{cubic_matrix}\\n\\n{cubic_zeros}\\n\\n{cubic_full}\\n\\n{cubic_ones}\")"
   ]
  },
  {
   "cell_type": "code",
   "execution_count": 118,
   "id": "b9396fcf-2286-411f-b7fc-91b7561dffce",
   "metadata": {},
   "outputs": [
    {
     "name": "stdout",
     "output_type": "stream",
     "text": [
      "(2, 2, 2)\n",
      "8\n",
      "int64\n"
     ]
    }
   ],
   "source": [
    "# Attributes\n",
    "print(cubic_full.shape) # returns tuple with number of items spanning each dimension\n",
    "print(cubic_full.size) # total number of items in array\n",
    "print(cubic_full.dtype) # what types of data objects comprise the items of array"
   ]
  },
  {
   "cell_type": "code",
   "execution_count": 129,
   "id": "2bda2dc2-a2f1-4d67-a594-fa632d00a2d6",
   "metadata": {},
   "outputs": [
    {
     "name": "stdout",
     "output_type": "stream",
     "text": [
      "[[['B' 'B']\n",
      "  ['B' 'B']]\n",
      "\n",
      " [['B' 'B']\n",
      "  ['B' 'B']]] \n",
      "\n",
      " <U1\n",
      "[['2' '3' '4']\n",
      " ['0.1345' '385' '9.13']\n",
      " ['hello' '67' 'okay']] \n",
      "\n",
      " <U32\n"
     ]
    }
   ],
   "source": [
    "mixed = np.array([[2,3,4],[0.1345,385,9.13],[\"hello\",67,\"okay\"]])\n",
    "stringray = np.full((2,2,2),\"B\")\n",
    "print(stringray,\"\\n\\n\",stringray.dtype)\n",
    "print(mixed,\"\\n\\n\",mixed.dtype)"
   ]
  },
  {
   "cell_type": "code",
   "execution_count": 135,
   "id": "6b77b80c-a4b4-4609-803b-7b8d57f71161",
   "metadata": {},
   "outputs": [
    {
     "name": "stdout",
     "output_type": "stream",
     "text": [
      "[[[0.28253222 0.73872572 0.65330356]\n",
      "  [0.52444563 0.07969556 0.7127261 ]\n",
      "  [0.45774588 0.05427697 0.7507664 ]]\n",
      "\n",
      " [[0.64866425 0.94316782 0.95306996]\n",
      "  [0.26409158 0.4990588  0.55046182]\n",
      "  [0.31188666 0.6132854  0.70929749]]\n",
      "\n",
      " [[0.31877939 0.65486795 0.59067091]\n",
      "  [0.50938422 0.45909412 0.18535969]\n",
      "  [0.25829513 0.24855194 0.34130865]]]\n"
     ]
    }
   ],
   "source": [
    "r = np.random.rand(3,3,3)\n",
    "\n",
    "print(r)"
   ]
  },
  {
   "cell_type": "code",
   "execution_count": 140,
   "id": "885c0c5a-c157-465c-9375-d878c1507a62",
   "metadata": {},
   "outputs": [
    {
     "name": "stdout",
     "output_type": "stream",
     "text": [
      "[[0.28253222 0.73872572 0.65330356]\n",
      " [0.52444563 0.07969556 0.7127261 ]\n",
      " [0.45774588 0.05427697 0.7507664 ]]\n",
      "\n",
      "[0.28253222 0.73872572 0.65330356]\n",
      "\n",
      "[0.28253222 0.73872572]\n"
     ]
    }
   ],
   "source": [
    "print(f\"{r[0]}\\n\\n{r[0][0]}\\n\\n{r[0][0][0:2]}\")"
   ]
  },
  {
   "cell_type": "code",
   "execution_count": 142,
   "id": "fa5885de-1857-439d-8652-8de3c38c56f9",
   "metadata": {},
   "outputs": [
    {
     "name": "stdout",
     "output_type": "stream",
     "text": [
      "[[[2.12447225 7.29066426 9.34997445]\n",
      "  [9.25745699 9.67446042 3.22665703]\n",
      "  [4.16027514 6.24427415 5.044845  ]]\n",
      "\n",
      " [[6.62154361 2.08064498 6.41469841]\n",
      "  [4.40128501 9.40219429 0.29036262]\n",
      "  [0.81179368 5.7388288  6.55865397]]\n",
      "\n",
      " [[3.21516494 9.98269617 9.0812934 ]\n",
      "  [2.51370282 4.69944821 5.75239265]\n",
      "  [8.87461929 9.06872462 8.18238345]]]\n"
     ]
    }
   ],
   "source": [
    "s = np.random.rand(3,3,3)*10\n",
    "print(s)"
   ]
  },
  {
   "cell_type": "code",
   "execution_count": 151,
   "id": "13901563-a1e2-4684-8606-947f17309c1e",
   "metadata": {},
   "outputs": [
    {
     "name": "stdout",
     "output_type": "stream",
     "text": [
      "[[[ True  True  True]\n",
      "  [ True  True  True]\n",
      "  [ True  True  True]]\n",
      "\n",
      " [[ True  True  True]\n",
      "  [ True  True  True]\n",
      "  [ True  True  True]]\n",
      "\n",
      " [[ True  True  True]\n",
      "  [ True  True  True]\n",
      "  [ True  True  True]]]\n",
      "[[[ True  True  True]\n",
      "  [ True  True  True]\n",
      "  [ True  True  True]]\n",
      "\n",
      " [[ True  True  True]\n",
      "  [ True  True  True]\n",
      "  [ True  True  True]]\n",
      "\n",
      " [[ True  True  True]\n",
      "  [ True  True  True]\n",
      "  [ True  True  True]]]\n"
     ]
    }
   ],
   "source": [
    "print(np.add(r,s) == r + s)\n",
    "print(np.subtract(s,r) == s - r)"
   ]
  },
  {
   "cell_type": "code",
   "execution_count": 152,
   "id": "e190ac67-9b21-4026-b80d-6975ff5e246c",
   "metadata": {},
   "outputs": [
    {
     "name": "stdout",
     "output_type": "stream",
     "text": [
      "[[[0.60023186 5.38580121 6.10837155]\n",
      "  [4.85503289 0.77101154 2.29972267]\n",
      "  [1.9043488  0.33892025 3.78750009]]\n",
      "\n",
      " [[4.29515863 1.96239738 6.11365633]\n",
      "  [1.16234231 4.69224783 0.15983354]\n",
      "  [0.25318762 3.51953989 4.65203678]]\n",
      "\n",
      " [[1.02492833 6.53734781 5.36405585]\n",
      "  [1.28044055 2.15748904 1.06626174]\n",
      "  [2.29227092 2.25404906 2.79271822]]]\n"
     ]
    }
   ],
   "source": [
    "np.multiply(r,s) == r * s\n",
    "print(r * s)"
   ]
  },
  {
   "cell_type": "code",
   "execution_count": 159,
   "id": "c7565377-cc44-4cd9-8885-5d40da93806d",
   "metadata": {},
   "outputs": [
    {
     "name": "stdout",
     "output_type": "stream",
     "text": [
      "(3, 3, 3) (3, 3, 3)\n",
      "(3, 3, 3, 3) (3, 3, 3)\n"
     ]
    }
   ],
   "source": [
    "dp = np.dot(r,s)\n",
    "cp = np.cross(r,s)\n",
    "print(r.shape, s.shape)\n",
    "print(dp.shape, cp.shape)"
   ]
  },
  {
   "cell_type": "code",
   "execution_count": 160,
   "id": "4ed005c1-aa6f-4866-849c-3f1a8a051c48",
   "metadata": {},
   "outputs": [
    {
     "data": {
      "text/plain": [
       "array([[[0.28253222, 0.73872572, 0.65330356],\n",
       "        [0.52444563, 0.07969556, 0.7127261 ],\n",
       "        [0.45774588, 0.05427697, 0.7507664 ]],\n",
       "\n",
       "       [[0.64866425, 0.94316782, 0.95306996],\n",
       "        [0.26409158, 0.4990588 , 0.55046182],\n",
       "        [0.31188666, 0.6132854 , 0.70929749]],\n",
       "\n",
       "       [[0.31877939, 0.65486795, 0.59067091],\n",
       "        [0.50938422, 0.45909412, 0.18535969],\n",
       "        [0.25829513, 0.24855194, 0.34130865]]])"
      ]
     },
     "execution_count": 160,
     "metadata": {},
     "output_type": "execute_result"
    }
   ],
   "source": [
    "r"
   ]
  },
  {
   "cell_type": "code",
   "execution_count": 161,
   "id": "096a7285-cc8f-42d0-a08d-865b87d94060",
   "metadata": {},
   "outputs": [
    {
     "data": {
      "text/plain": [
       "array([[[2.12447225, 7.29066426, 9.34997445],\n",
       "        [9.25745699, 9.67446042, 3.22665703],\n",
       "        [4.16027514, 6.24427415, 5.044845  ]],\n",
       "\n",
       "       [[6.62154361, 2.08064498, 6.41469841],\n",
       "        [4.40128501, 9.40219429, 0.29036262],\n",
       "        [0.81179368, 5.7388288 , 6.55865397]],\n",
       "\n",
       "       [[3.21516494, 9.98269617, 9.0812934 ],\n",
       "        [2.51370282, 4.69944821, 5.75239265],\n",
       "        [8.87461929, 9.06872462, 8.18238345]]])"
      ]
     },
     "execution_count": 161,
     "metadata": {},
     "output_type": "execute_result"
    }
   ],
   "source": [
    "s"
   ]
  },
  {
   "cell_type": "code",
   "execution_count": 162,
   "id": "ff124e98-bbac-4587-8168-44c5273d5ab0",
   "metadata": {},
   "outputs": [
    {
     "data": {
      "text/plain": [
       "array([[[[10.15687599, 13.2860268 ,  8.32109875],\n",
       "         [ 5.65248956, 11.28268926,  6.31164927],\n",
       "         [ 8.56314495, 12.21666662, 12.16077859]],\n",
       "\n",
       "        [[ 4.81708508,  9.04502571,  8.75629619],\n",
       "         [ 4.40198904,  5.93071136,  8.06182502],\n",
       "         [ 8.21168293, 12.07342327, 11.05288304]],\n",
       "\n",
       "        [[ 4.59832985,  8.55036305,  8.24254551],\n",
       "         [ 3.8793401 ,  5.77124904,  7.87607875],\n",
       "         [ 8.27093059, 11.6331035 , 10.61220557]]],\n",
       "\n",
       "\n",
       "       [[[14.07443794, 19.80506307, 13.91636345],\n",
       "         [ 9.22000518, 15.68699239, 10.68570227],\n",
       "         [12.91453918, 19.55091543, 19.11456585]],\n",
       "\n",
       "        [[ 7.47114326, 10.19076217,  6.85653566],\n",
       "         [ 4.39205536,  8.40073479,  5.44926445],\n",
       "         [ 6.98872259,  9.97363364,  9.77316498]],\n",
       "\n",
       "        [[ 9.29093042, 12.63611414,  8.47328979],\n",
       "         [ 5.34021814, 10.48569069,  6.83077077],\n",
       "         [ 8.83912943, 12.42799628, 12.16393666]]],\n",
       "\n",
       "\n",
       "       [[[ 9.1970034 , 12.34791873,  8.07345667],\n",
       "         [ 5.47257508, 10.21022172,  6.10902896],\n",
       "         [ 7.91305121, 11.6164277 , 11.4950827 ]],\n",
       "\n",
       "        [[ 6.10336404,  9.31267396,  7.17917964],\n",
       "         [ 5.54398773,  6.44008738,  4.61656001],\n",
       "         [ 4.43677719,  8.92349297,  8.7834413 ]],\n",
       "\n",
       "        [[ 4.26963756,  6.41897368,  4.93889392],\n",
       "         [ 3.08133257,  4.83306594,  3.96758085],\n",
       "         [ 4.48423144,  6.84177286,  6.56814039]]]])"
      ]
     },
     "execution_count": 162,
     "metadata": {},
     "output_type": "execute_result"
    }
   ],
   "source": [
    "np.dot(r,s)"
   ]
  },
  {
   "cell_type": "code",
   "execution_count": 163,
   "id": "8ee1ab75-3b37-4cc7-85d9-be39bcc2f2ad",
   "metadata": {},
   "outputs": [
    {
     "data": {
      "text/plain": [
       "31.37"
      ]
     },
     "execution_count": 163,
     "metadata": {},
     "output_type": "execute_result"
    }
   ],
   "source": [
    "v1 = np.array([1,2,3])\n",
    "v2 = np.array([6,2.5,6.79])\n",
    "np.dot(v1,v2)"
   ]
  },
  {
   "cell_type": "code",
   "execution_count": 187,
   "id": "3b5132b9-4ff1-4117-9713-bc22ec241b52",
   "metadata": {},
   "outputs": [
    {
     "name": "stdout",
     "output_type": "stream",
     "text": [
      "5.0 42 1024 3.2188758248682006 [ 2.71828183 54.59815003] 1 3\n"
     ]
    }
   ],
   "source": [
    "# Statistical Functions - SAP LEMM\n",
    "\n",
    "sqrt = np.sqrt(25)\n",
    "ab = np.abs(-42)\n",
    "power = np.power(2,10) # takes first argument as base, and second argument as exponent\n",
    "log = np.log(25)\n",
    "exp = np.exp([1,4]) # converts each item of the array to e to the power of the original item value\n",
    "mins = np.min(v1)\n",
    "maxs = np.max(v1)\n",
    "\n",
    "print(sqrt,ab,power,log,exp,mins,maxs)"
   ]
  },
  {
   "cell_type": "code",
   "execution_count": 166,
   "id": "8f1b0ac7-0600-4a23-a0fd-c9000c47087a",
   "metadata": {},
   "outputs": [
    {
     "data": {
      "text/plain": [
       "True"
      ]
     },
     "execution_count": 166,
     "metadata": {},
     "output_type": "execute_result"
    }
   ],
   "source": [
    "np.power(2,10) == 2**10"
   ]
  },
  {
   "cell_type": "code",
   "execution_count": 177,
   "id": "7748fd78-a292-4d5a-87f9-882427fc4db7",
   "metadata": {},
   "outputs": [
    {
     "name": "stdout",
     "output_type": "stream",
     "text": [
      "[7.38905610e+00 2.20264658e+04]\n",
      "[7.38905610e+00 2.20264658e+04]\n"
     ]
    }
   ],
   "source": [
    "print(np.exp([2,10]))\n",
    "\n",
    "print(np.array([np.e ** 2, np.e ** 10]))"
   ]
  },
  {
   "cell_type": "code",
   "execution_count": 194,
   "id": "5b1a9fe2-7d00-4016-a88a-732210e365e7",
   "metadata": {},
   "outputs": [
    {
     "data": {
      "text/plain": [
       "array([ 1,  2,  3, 10])"
      ]
     },
     "execution_count": 194,
     "metadata": {},
     "output_type": "execute_result"
    }
   ],
   "source": [
    "np.append(v1,10) #note: doesn't permanently change the orignal array"
   ]
  },
  {
   "cell_type": "code",
   "execution_count": 195,
   "id": "42f02a5e-00d8-4ebf-a784-bbd5a29a0677",
   "metadata": {},
   "outputs": [
    {
     "data": {
      "text/plain": [
       "array([1, 2, 4, 3])"
      ]
     },
     "execution_count": 195,
     "metadata": {},
     "output_type": "execute_result"
    }
   ],
   "source": [
    "np.insert(v1,2,4) # see that the 10 disappeared"
   ]
  },
  {
   "cell_type": "code",
   "execution_count": 201,
   "id": "df04c211-208f-477f-b545-7ec7eedcb5d1",
   "metadata": {},
   "outputs": [
    {
     "data": {
      "text/plain": [
       "array([[[0.28253222, 0.65330356, 0.73872572],\n",
       "        [0.07969556, 0.52444563, 0.7127261 ],\n",
       "        [0.05427697, 0.45774588, 0.7507664 ]],\n",
       "\n",
       "       [[0.64866425, 0.94316782, 0.95306996],\n",
       "        [0.26409158, 0.4990588 , 0.55046182],\n",
       "        [0.31188666, 0.6132854 , 0.70929749]],\n",
       "\n",
       "       [[0.31877939, 0.59067091, 0.65486795],\n",
       "        [0.18535969, 0.45909412, 0.50938422],\n",
       "        [0.24855194, 0.25829513, 0.34130865]]])"
      ]
     },
     "execution_count": 201,
     "metadata": {},
     "output_type": "execute_result"
    }
   ],
   "source": [
    "r.sort()\n",
    "r"
   ]
  },
  {
   "cell_type": "code",
   "execution_count": 190,
   "id": "fe5e7351-fd86-4689-a669-87c19a4f7570",
   "metadata": {},
   "outputs": [
    {
     "data": {
      "text/plain": [
       "True"
      ]
     },
     "execution_count": 190,
     "metadata": {},
     "output_type": "execute_result"
    }
   ],
   "source": [
    "import math\n",
    "math.log(25) == np.log(25)"
   ]
  },
  {
   "cell_type": "code",
   "execution_count": 228,
   "id": "8dc58c0d-a913-40af-afd7-481b0a6f9a6b",
   "metadata": {},
   "outputs": [
    {
     "ename": "ValueError",
     "evalue": "cannot delete array elements",
     "output_type": "error",
     "traceback": [
      "\u001b[0;31m---------------------------------------------------------------------------\u001b[0m",
      "\u001b[0;31mValueError\u001b[0m                                Traceback (most recent call last)",
      "Cell \u001b[0;32mIn[228], line 1\u001b[0m\n\u001b[0;32m----> 1\u001b[0m \u001b[38;5;28;01mdel\u001b[39;00m r[\u001b[38;5;241m0\u001b[39m]\n",
      "\u001b[0;31mValueError\u001b[0m: cannot delete array elements"
     ]
    }
   ],
   "source": [
    "del r[0] # doesn't work like a list!"
   ]
  },
  {
   "cell_type": "code",
   "execution_count": 213,
   "id": "d6d6c28c-d1d4-449e-a6ac-0084ba488ced",
   "metadata": {},
   "outputs": [
    {
     "name": "stdout",
     "output_type": "stream",
     "text": [
      "[[2 4]\n",
      " [6 3]]\n"
     ]
    }
   ],
   "source": [
    "print(two_dim)"
   ]
  },
  {
   "cell_type": "code",
   "execution_count": 217,
   "id": "b8cb2eba-7b76-4ab7-8e64-2ffba72bd2e2",
   "metadata": {},
   "outputs": [
    {
     "data": {
      "text/plain": [
       "array([[6, 3]])"
      ]
     },
     "execution_count": 217,
     "metadata": {},
     "output_type": "execute_result"
    }
   ],
   "source": [
    "np.delete(two_dim, 0, axis=0) # axis=0 means rows, so it deletes the first row"
   ]
  },
  {
   "cell_type": "code",
   "execution_count": 216,
   "id": "c452a511-18f7-4782-aef6-53fcee41e53b",
   "metadata": {},
   "outputs": [
    {
     "data": {
      "text/plain": [
       "array([[4],\n",
       "       [3]])"
      ]
     },
     "execution_count": 216,
     "metadata": {},
     "output_type": "execute_result"
    }
   ],
   "source": [
    "np.delete(two_dim, 0, axis=1) # axis=1 means columns"
   ]
  },
  {
   "cell_type": "code",
   "execution_count": 221,
   "id": "4518ef98-afe5-450e-9f5e-ec63d3f26dcf",
   "metadata": {},
   "outputs": [
    {
     "data": {
      "text/plain": [
       "array([2, 6, 3])"
      ]
     },
     "execution_count": 221,
     "metadata": {},
     "output_type": "execute_result"
    }
   ],
   "source": [
    "np.delete(two_dim,[1,1]) # ???"
   ]
  },
  {
   "cell_type": "code",
   "execution_count": 215,
   "id": "86fc9b9c-e256-46cd-92fb-c3a6c8df3f95",
   "metadata": {},
   "outputs": [
    {
     "name": "stdout",
     "output_type": "stream",
     "text": [
      "[[[2 3 4]\n",
      "  [5 6 7]]\n",
      "\n",
      " [[3 4 1]\n",
      "  [6 2 6]]\n",
      "\n",
      " [[9 3 5]\n",
      "  [1 3 2]]]\n"
     ]
    }
   ],
   "source": [
    "print(three_dim) # 3D array composed of three 2D arrays"
   ]
  },
  {
   "cell_type": "code",
   "execution_count": 222,
   "id": "533968ef-f59d-4970-9627-e46c6c17689f",
   "metadata": {},
   "outputs": [
    {
     "data": {
      "text/plain": [
       "array([[[2, 3, 4],\n",
       "        [5, 6, 7]],\n",
       "\n",
       "       [[9, 3, 5],\n",
       "        [1, 3, 2]]])"
      ]
     },
     "execution_count": 222,
     "metadata": {},
     "output_type": "execute_result"
    }
   ],
   "source": [
    "np.delete(three_dim,1,axis=0) # axis 0 means delete the second of the three 2D arrays"
   ]
  },
  {
   "cell_type": "code",
   "execution_count": 223,
   "id": "777fe28b-ce10-400b-bdbf-88410a69419b",
   "metadata": {},
   "outputs": [
    {
     "data": {
      "text/plain": [
       "array([[[2, 3, 4]],\n",
       "\n",
       "       [[3, 4, 1]],\n",
       "\n",
       "       [[9, 3, 5]]])"
      ]
     },
     "execution_count": 223,
     "metadata": {},
     "output_type": "execute_result"
    }
   ],
   "source": [
    "np.delete(three_dim,1,axis=1) # axis 1 means delete the second of the two 1D arrays within each 2D array"
   ]
  },
  {
   "cell_type": "code",
   "execution_count": 224,
   "id": "0106c2fe-334e-4561-8ddd-3fc7e0ee1365",
   "metadata": {},
   "outputs": [
    {
     "data": {
      "text/plain": [
       "array([[[2, 4],\n",
       "        [5, 7]],\n",
       "\n",
       "       [[3, 1],\n",
       "        [6, 6]],\n",
       "\n",
       "       [[9, 5],\n",
       "        [1, 2]]])"
      ]
     },
     "execution_count": 224,
     "metadata": {},
     "output_type": "execute_result"
    }
   ],
   "source": [
    "np.delete(three_dim,1,axis=2) # axis 2 means delete the second of the three items within each 1D array"
   ]
  },
  {
   "cell_type": "code",
   "execution_count": 225,
   "id": "910d966b-c826-4ef4-986b-0a4165259522",
   "metadata": {},
   "outputs": [],
   "source": [
    "np.save(\"3D-Array\",three_dim) # saves to /path/to/jupyter/notebook/3D-Array.npy"
   ]
  },
  {
   "cell_type": "code",
   "execution_count": 226,
   "id": "a3126e06-11b7-4166-af4f-769cea08fbad",
   "metadata": {},
   "outputs": [
    {
     "data": {
      "text/plain": [
       "array([[[2, 3, 4],\n",
       "        [5, 6, 7]],\n",
       "\n",
       "       [[3, 4, 1],\n",
       "        [6, 2, 6]],\n",
       "\n",
       "       [[9, 3, 5],\n",
       "        [1, 3, 2]]])"
      ]
     },
     "execution_count": 226,
     "metadata": {},
     "output_type": "execute_result"
    }
   ],
   "source": [
    "np.load(\"3D-Array.npy\")"
   ]
  },
  {
   "cell_type": "markdown",
   "id": "15eec4bb-bcb5-4c78-9de2-d9871a8aa532",
   "metadata": {},
   "source": [
    "# UNIT 5 | PY102: INTRO TO PYTHON II"
   ]
  },
  {
   "cell_type": "markdown",
   "id": "d1d491a2-07e7-48c6-a1ad-94ad053df05a",
   "metadata": {},
   "source": [
    "## "
   ]
  },
  {
   "cell_type": "markdown",
   "id": "42ba68c2-0a72-4324-849b-ea5f8b5b581b",
   "metadata": {
    "jp-MarkdownHeadingCollapsed": true
   },
   "source": [
    "## 5.1 - Matplotlib"
   ]
  },
  {
   "cell_type": "code",
   "execution_count": null,
   "id": "a2943f5d-faf4-4988-b2a3-778bbdf92416",
   "metadata": {},
   "outputs": [],
   "source": []
  },
  {
   "cell_type": "markdown",
   "id": "6c7b7c33-ad99-4921-b2a9-fbd41b21c532",
   "metadata": {
    "jp-MarkdownHeadingCollapsed": true
   },
   "source": [
    "## 5.2 - Dictionaries & Pandas"
   ]
  },
  {
   "cell_type": "code",
   "execution_count": null,
   "id": "e080588f-4288-454f-bbf9-5d6733cbc57d",
   "metadata": {},
   "outputs": [],
   "source": []
  },
  {
   "cell_type": "markdown",
   "id": "e1d09f77-2deb-4455-a7bc-2764387afd9b",
   "metadata": {
    "jp-MarkdownHeadingCollapsed": true
   },
   "source": [
    "## 5.3 - Logic, Control Flow & Filtering"
   ]
  },
  {
   "cell_type": "markdown",
   "id": "9d62c025-eb1c-45d0-beb8-c33325c0d714",
   "metadata": {},
   "source": [
    "Within the bool() function, empty strings evaluate to False while all other strings evaluate to True.\n",
    "\n",
    "Within the str() function, all booleans get converted to a string of the same name.  In the case of False, the string is 'False', which is not an empty string - i.e., the boolean of the string of False is True!"
   ]
  },
  {
   "cell_type": "code",
   "execution_count": 263,
   "id": "5b66ce9e-a4a8-4db9-bcc3-0418c6e678d7",
   "metadata": {},
   "outputs": [
    {
     "data": {
      "text/plain": [
       "True"
      ]
     },
     "execution_count": 263,
     "metadata": {},
     "output_type": "execute_result"
    }
   ],
   "source": [
    "bool(str(False))"
   ]
  },
  {
   "cell_type": "markdown",
   "id": "a72b1e8c-f9bb-445e-a60a-7111417afdcd",
   "metadata": {
    "jp-MarkdownHeadingCollapsed": true
   },
   "source": [
    "### DataCamp - Intermediate Python\n",
    "Filtering pandas DataFrames"
   ]
  },
  {
   "cell_type": "code",
   "execution_count": 330,
   "id": "53dcdd31-f326-4847-bd05-f7c10c8fc05d",
   "metadata": {},
   "outputs": [
    {
     "data": {
      "text/plain": [
       "['NotebookTest.ipynb',\n",
       " 'script.py',\n",
       " 'Springboard-Curriculum.ipynb',\n",
       " '.git',\n",
       " 'BRICS_Series - Metadata.csv',\n",
       " '3D-Array.npy',\n",
       " '.ipynb_checkpoints',\n",
       " 'BRICS_Data.csv',\n",
       " 'Untitled.ipynb',\n",
       " 'subdir']"
      ]
     },
     "execution_count": 330,
     "metadata": {},
     "output_type": "execute_result"
    }
   ],
   "source": [
    "import os, pandas as pd, numpy as np, matplotlib.pyplot as plt\n",
    "os.listdir('.')"
   ]
  },
  {
   "cell_type": "code",
   "execution_count": 331,
   "id": "24197e32-2d3d-4b83-b973-f7004ed2a542",
   "metadata": {},
   "outputs": [
    {
     "data": {
      "text/html": [
       "<div>\n",
       "<style scoped>\n",
       "    .dataframe tbody tr th:only-of-type {\n",
       "        vertical-align: middle;\n",
       "    }\n",
       "\n",
       "    .dataframe tbody tr th {\n",
       "        vertical-align: top;\n",
       "    }\n",
       "\n",
       "    .dataframe thead th {\n",
       "        text-align: right;\n",
       "    }\n",
       "</style>\n",
       "<table border=\"1\" class=\"dataframe\">\n",
       "  <thead>\n",
       "    <tr style=\"text-align: right;\">\n",
       "      <th></th>\n",
       "      <th>Series Name</th>\n",
       "      <th>Series Code</th>\n",
       "      <th>Country Name</th>\n",
       "      <th>Country Code</th>\n",
       "      <th>2009 [YR2009]</th>\n",
       "      <th>2010 [YR2010]</th>\n",
       "      <th>2011 [YR2011]</th>\n",
       "      <th>2012 [YR2012]</th>\n",
       "    </tr>\n",
       "  </thead>\n",
       "  <tbody>\n",
       "    <tr>\n",
       "      <th>0</th>\n",
       "      <td>GDP growth (annual %)</td>\n",
       "      <td>NY.GDP.MKTP.KD.ZG</td>\n",
       "      <td>Brazil</td>\n",
       "      <td>BRA</td>\n",
       "      <td>-0.125812</td>\n",
       "      <td>7.528226</td>\n",
       "      <td>3.974423</td>\n",
       "      <td>1.921176</td>\n",
       "    </tr>\n",
       "    <tr>\n",
       "      <th>1</th>\n",
       "      <td>GDP growth (annual %)</td>\n",
       "      <td>NY.GDP.MKTP.KD.ZG</td>\n",
       "      <td>Russian Federation</td>\n",
       "      <td>RUS</td>\n",
       "      <td>-7.799994</td>\n",
       "      <td>4.500000</td>\n",
       "      <td>4.300029</td>\n",
       "      <td>4.024086</td>\n",
       "    </tr>\n",
       "    <tr>\n",
       "      <th>2</th>\n",
       "      <td>GDP growth (annual %)</td>\n",
       "      <td>NY.GDP.MKTP.KD.ZG</td>\n",
       "      <td>India</td>\n",
       "      <td>IND</td>\n",
       "      <td>7.861889</td>\n",
       "      <td>8.497585</td>\n",
       "      <td>5.241316</td>\n",
       "      <td>5.456388</td>\n",
       "    </tr>\n",
       "    <tr>\n",
       "      <th>3</th>\n",
       "      <td>GDP growth (annual %)</td>\n",
       "      <td>NY.GDP.MKTP.KD.ZG</td>\n",
       "      <td>China</td>\n",
       "      <td>CHN</td>\n",
       "      <td>9.398726</td>\n",
       "      <td>10.635871</td>\n",
       "      <td>9.550832</td>\n",
       "      <td>7.863736</td>\n",
       "    </tr>\n",
       "    <tr>\n",
       "      <th>4</th>\n",
       "      <td>GDP growth (annual %)</td>\n",
       "      <td>NY.GDP.MKTP.KD.ZG</td>\n",
       "      <td>South Africa</td>\n",
       "      <td>ZAF</td>\n",
       "      <td>-1.538089</td>\n",
       "      <td>3.039733</td>\n",
       "      <td>3.168556</td>\n",
       "      <td>2.396232</td>\n",
       "    </tr>\n",
       "    <tr>\n",
       "      <th>5</th>\n",
       "      <td>General government final consumption expenditu...</td>\n",
       "      <td>NE.CON.GOVT.ZS</td>\n",
       "      <td>Brazil</td>\n",
       "      <td>BRA</td>\n",
       "      <td>19.650638</td>\n",
       "      <td>19.016858</td>\n",
       "      <td>18.669257</td>\n",
       "      <td>18.530103</td>\n",
       "    </tr>\n",
       "    <tr>\n",
       "      <th>6</th>\n",
       "      <td>General government final consumption expenditu...</td>\n",
       "      <td>NE.CON.GOVT.ZS</td>\n",
       "      <td>Russian Federation</td>\n",
       "      <td>RUS</td>\n",
       "      <td>20.786597</td>\n",
       "      <td>18.725055</td>\n",
       "      <td>17.625512</td>\n",
       "      <td>17.967238</td>\n",
       "    </tr>\n",
       "    <tr>\n",
       "      <th>7</th>\n",
       "      <td>General government final consumption expenditu...</td>\n",
       "      <td>NE.CON.GOVT.ZS</td>\n",
       "      <td>India</td>\n",
       "      <td>IND</td>\n",
       "      <td>11.459667</td>\n",
       "      <td>11.007608</td>\n",
       "      <td>11.084462</td>\n",
       "      <td>10.683856</td>\n",
       "    </tr>\n",
       "    <tr>\n",
       "      <th>8</th>\n",
       "      <td>General government final consumption expenditu...</td>\n",
       "      <td>NE.CON.GOVT.ZS</td>\n",
       "      <td>China</td>\n",
       "      <td>CHN</td>\n",
       "      <td>14.752976</td>\n",
       "      <td>14.587021</td>\n",
       "      <td>15.238865</td>\n",
       "      <td>15.756078</td>\n",
       "    </tr>\n",
       "    <tr>\n",
       "      <th>9</th>\n",
       "      <td>General government final consumption expenditu...</td>\n",
       "      <td>NE.CON.GOVT.ZS</td>\n",
       "      <td>South Africa</td>\n",
       "      <td>ZAF</td>\n",
       "      <td>17.793633</td>\n",
       "      <td>17.996064</td>\n",
       "      <td>18.195143</td>\n",
       "      <td>18.820545</td>\n",
       "    </tr>\n",
       "    <tr>\n",
       "      <th>10</th>\n",
       "      <td>NaN</td>\n",
       "      <td>NaN</td>\n",
       "      <td>NaN</td>\n",
       "      <td>NaN</td>\n",
       "      <td>NaN</td>\n",
       "      <td>NaN</td>\n",
       "      <td>NaN</td>\n",
       "      <td>NaN</td>\n",
       "    </tr>\n",
       "    <tr>\n",
       "      <th>11</th>\n",
       "      <td>NaN</td>\n",
       "      <td>NaN</td>\n",
       "      <td>NaN</td>\n",
       "      <td>NaN</td>\n",
       "      <td>NaN</td>\n",
       "      <td>NaN</td>\n",
       "      <td>NaN</td>\n",
       "      <td>NaN</td>\n",
       "    </tr>\n",
       "    <tr>\n",
       "      <th>12</th>\n",
       "      <td>NaN</td>\n",
       "      <td>NaN</td>\n",
       "      <td>NaN</td>\n",
       "      <td>NaN</td>\n",
       "      <td>NaN</td>\n",
       "      <td>NaN</td>\n",
       "      <td>NaN</td>\n",
       "      <td>NaN</td>\n",
       "    </tr>\n",
       "    <tr>\n",
       "      <th>13</th>\n",
       "      <td>Data from database: World Development Indicators</td>\n",
       "      <td>NaN</td>\n",
       "      <td>NaN</td>\n",
       "      <td>NaN</td>\n",
       "      <td>NaN</td>\n",
       "      <td>NaN</td>\n",
       "      <td>NaN</td>\n",
       "      <td>NaN</td>\n",
       "    </tr>\n",
       "    <tr>\n",
       "      <th>14</th>\n",
       "      <td>Last Updated: 11/13/2024</td>\n",
       "      <td>NaN</td>\n",
       "      <td>NaN</td>\n",
       "      <td>NaN</td>\n",
       "      <td>NaN</td>\n",
       "      <td>NaN</td>\n",
       "      <td>NaN</td>\n",
       "      <td>NaN</td>\n",
       "    </tr>\n",
       "  </tbody>\n",
       "</table>\n",
       "</div>"
      ],
      "text/plain": [
       "                                          Series Name        Series Code  \\\n",
       "0                               GDP growth (annual %)  NY.GDP.MKTP.KD.ZG   \n",
       "1                               GDP growth (annual %)  NY.GDP.MKTP.KD.ZG   \n",
       "2                               GDP growth (annual %)  NY.GDP.MKTP.KD.ZG   \n",
       "3                               GDP growth (annual %)  NY.GDP.MKTP.KD.ZG   \n",
       "4                               GDP growth (annual %)  NY.GDP.MKTP.KD.ZG   \n",
       "5   General government final consumption expenditu...     NE.CON.GOVT.ZS   \n",
       "6   General government final consumption expenditu...     NE.CON.GOVT.ZS   \n",
       "7   General government final consumption expenditu...     NE.CON.GOVT.ZS   \n",
       "8   General government final consumption expenditu...     NE.CON.GOVT.ZS   \n",
       "9   General government final consumption expenditu...     NE.CON.GOVT.ZS   \n",
       "10                                                NaN                NaN   \n",
       "11                                                NaN                NaN   \n",
       "12                                                NaN                NaN   \n",
       "13   Data from database: World Development Indicators                NaN   \n",
       "14                           Last Updated: 11/13/2024                NaN   \n",
       "\n",
       "          Country Name Country Code  2009 [YR2009]  2010 [YR2010]  \\\n",
       "0               Brazil          BRA      -0.125812       7.528226   \n",
       "1   Russian Federation          RUS      -7.799994       4.500000   \n",
       "2                India          IND       7.861889       8.497585   \n",
       "3                China          CHN       9.398726      10.635871   \n",
       "4         South Africa          ZAF      -1.538089       3.039733   \n",
       "5               Brazil          BRA      19.650638      19.016858   \n",
       "6   Russian Federation          RUS      20.786597      18.725055   \n",
       "7                India          IND      11.459667      11.007608   \n",
       "8                China          CHN      14.752976      14.587021   \n",
       "9         South Africa          ZAF      17.793633      17.996064   \n",
       "10                 NaN          NaN            NaN            NaN   \n",
       "11                 NaN          NaN            NaN            NaN   \n",
       "12                 NaN          NaN            NaN            NaN   \n",
       "13                 NaN          NaN            NaN            NaN   \n",
       "14                 NaN          NaN            NaN            NaN   \n",
       "\n",
       "    2011 [YR2011]  2012 [YR2012]  \n",
       "0        3.974423       1.921176  \n",
       "1        4.300029       4.024086  \n",
       "2        5.241316       5.456388  \n",
       "3        9.550832       7.863736  \n",
       "4        3.168556       2.396232  \n",
       "5       18.669257      18.530103  \n",
       "6       17.625512      17.967238  \n",
       "7       11.084462      10.683856  \n",
       "8       15.238865      15.756078  \n",
       "9       18.195143      18.820545  \n",
       "10            NaN            NaN  \n",
       "11            NaN            NaN  \n",
       "12            NaN            NaN  \n",
       "13            NaN            NaN  \n",
       "14            NaN            NaN  "
      ]
     },
     "execution_count": 331,
     "metadata": {},
     "output_type": "execute_result"
    }
   ],
   "source": [
    "pd.read_csv('BRICS_Data.csv')"
   ]
  },
  {
   "cell_type": "code",
   "execution_count": 332,
   "id": "54b29b83-8fd8-4644-8dcf-f5fc31f26c0d",
   "metadata": {},
   "outputs": [
    {
     "name": "stdout",
     "output_type": "stream",
     "text": [
      "                                          Series Name        Series Code  \\\n",
      "0                               GDP growth (annual %)  NY.GDP.MKTP.KD.ZG   \n",
      "1                               GDP growth (annual %)  NY.GDP.MKTP.KD.ZG   \n",
      "2                               GDP growth (annual %)  NY.GDP.MKTP.KD.ZG   \n",
      "3                               GDP growth (annual %)  NY.GDP.MKTP.KD.ZG   \n",
      "4                               GDP growth (annual %)  NY.GDP.MKTP.KD.ZG   \n",
      "5   General government final consumption expenditu...     NE.CON.GOVT.ZS   \n",
      "6   General government final consumption expenditu...     NE.CON.GOVT.ZS   \n",
      "7   General government final consumption expenditu...     NE.CON.GOVT.ZS   \n",
      "8   General government final consumption expenditu...     NE.CON.GOVT.ZS   \n",
      "9   General government final consumption expenditu...     NE.CON.GOVT.ZS   \n",
      "10                                                NaN                NaN   \n",
      "11                                                NaN                NaN   \n",
      "12                                                NaN                NaN   \n",
      "13   Data from database: World Development Indicators                NaN   \n",
      "14                           Last Updated: 11/13/2024                NaN   \n",
      "\n",
      "          Country Name Country Code  2009 [YR2009]  2010 [YR2010]  \\\n",
      "0               Brazil          BRA      -0.125812       7.528226   \n",
      "1   Russian Federation          RUS      -7.799994       4.500000   \n",
      "2                India          IND       7.861889       8.497585   \n",
      "3                China          CHN       9.398726      10.635871   \n",
      "4         South Africa          ZAF      -1.538089       3.039733   \n",
      "5               Brazil          BRA      19.650638      19.016858   \n",
      "6   Russian Federation          RUS      20.786597      18.725055   \n",
      "7                India          IND      11.459667      11.007608   \n",
      "8                China          CHN      14.752976      14.587021   \n",
      "9         South Africa          ZAF      17.793633      17.996064   \n",
      "10                 NaN          NaN            NaN            NaN   \n",
      "11                 NaN          NaN            NaN            NaN   \n",
      "12                 NaN          NaN            NaN            NaN   \n",
      "13                 NaN          NaN            NaN            NaN   \n",
      "14                 NaN          NaN            NaN            NaN   \n",
      "\n",
      "    2011 [YR2011]  2012 [YR2012]  \n",
      "0        3.974423       1.921176  \n",
      "1        4.300029       4.024086  \n",
      "2        5.241316       5.456388  \n",
      "3        9.550832       7.863736  \n",
      "4        3.168556       2.396232  \n",
      "5       18.669257      18.530103  \n",
      "6       17.625512      17.967238  \n",
      "7       11.084462      10.683856  \n",
      "8       15.238865      15.756078  \n",
      "9       18.195143      18.820545  \n",
      "10            NaN            NaN  \n",
      "11            NaN            NaN  \n",
      "12            NaN            NaN  \n",
      "13            NaN            NaN  \n",
      "14            NaN            NaN  \n"
     ]
    }
   ],
   "source": [
    "df = pd.read_csv('BRICS_Data.csv')\n",
    "print(df)"
   ]
  },
  {
   "cell_type": "code",
   "execution_count": 333,
   "id": "3f612ab7-ce92-43d6-9b83-44cfbd8ff0c1",
   "metadata": {},
   "outputs": [],
   "source": [
    "df = df.drop([i for i in range(10,15)])"
   ]
  },
  {
   "cell_type": "code",
   "execution_count": 334,
   "id": "37eb3c3c-6a16-4bb1-bf0e-da8b901c0ba1",
   "metadata": {},
   "outputs": [
    {
     "data": {
      "text/html": [
       "<div>\n",
       "<style scoped>\n",
       "    .dataframe tbody tr th:only-of-type {\n",
       "        vertical-align: middle;\n",
       "    }\n",
       "\n",
       "    .dataframe tbody tr th {\n",
       "        vertical-align: top;\n",
       "    }\n",
       "\n",
       "    .dataframe thead th {\n",
       "        text-align: right;\n",
       "    }\n",
       "</style>\n",
       "<table border=\"1\" class=\"dataframe\">\n",
       "  <thead>\n",
       "    <tr style=\"text-align: right;\">\n",
       "      <th></th>\n",
       "      <th>Series Name</th>\n",
       "      <th>Series Code</th>\n",
       "      <th>Country Name</th>\n",
       "      <th>Country Code</th>\n",
       "      <th>2009 [YR2009]</th>\n",
       "      <th>2010 [YR2010]</th>\n",
       "      <th>2011 [YR2011]</th>\n",
       "      <th>2012 [YR2012]</th>\n",
       "    </tr>\n",
       "  </thead>\n",
       "  <tbody>\n",
       "    <tr>\n",
       "      <th>0</th>\n",
       "      <td>GDP growth (annual %)</td>\n",
       "      <td>NY.GDP.MKTP.KD.ZG</td>\n",
       "      <td>Brazil</td>\n",
       "      <td>BRA</td>\n",
       "      <td>-0.125812</td>\n",
       "      <td>7.528226</td>\n",
       "      <td>3.974423</td>\n",
       "      <td>1.921176</td>\n",
       "    </tr>\n",
       "    <tr>\n",
       "      <th>1</th>\n",
       "      <td>GDP growth (annual %)</td>\n",
       "      <td>NY.GDP.MKTP.KD.ZG</td>\n",
       "      <td>Russian Federation</td>\n",
       "      <td>RUS</td>\n",
       "      <td>-7.799994</td>\n",
       "      <td>4.500000</td>\n",
       "      <td>4.300029</td>\n",
       "      <td>4.024086</td>\n",
       "    </tr>\n",
       "    <tr>\n",
       "      <th>2</th>\n",
       "      <td>GDP growth (annual %)</td>\n",
       "      <td>NY.GDP.MKTP.KD.ZG</td>\n",
       "      <td>India</td>\n",
       "      <td>IND</td>\n",
       "      <td>7.861889</td>\n",
       "      <td>8.497585</td>\n",
       "      <td>5.241316</td>\n",
       "      <td>5.456388</td>\n",
       "    </tr>\n",
       "    <tr>\n",
       "      <th>3</th>\n",
       "      <td>GDP growth (annual %)</td>\n",
       "      <td>NY.GDP.MKTP.KD.ZG</td>\n",
       "      <td>China</td>\n",
       "      <td>CHN</td>\n",
       "      <td>9.398726</td>\n",
       "      <td>10.635871</td>\n",
       "      <td>9.550832</td>\n",
       "      <td>7.863736</td>\n",
       "    </tr>\n",
       "    <tr>\n",
       "      <th>4</th>\n",
       "      <td>GDP growth (annual %)</td>\n",
       "      <td>NY.GDP.MKTP.KD.ZG</td>\n",
       "      <td>South Africa</td>\n",
       "      <td>ZAF</td>\n",
       "      <td>-1.538089</td>\n",
       "      <td>3.039733</td>\n",
       "      <td>3.168556</td>\n",
       "      <td>2.396232</td>\n",
       "    </tr>\n",
       "    <tr>\n",
       "      <th>5</th>\n",
       "      <td>General government final consumption expenditu...</td>\n",
       "      <td>NE.CON.GOVT.ZS</td>\n",
       "      <td>Brazil</td>\n",
       "      <td>BRA</td>\n",
       "      <td>19.650638</td>\n",
       "      <td>19.016858</td>\n",
       "      <td>18.669257</td>\n",
       "      <td>18.530103</td>\n",
       "    </tr>\n",
       "    <tr>\n",
       "      <th>6</th>\n",
       "      <td>General government final consumption expenditu...</td>\n",
       "      <td>NE.CON.GOVT.ZS</td>\n",
       "      <td>Russian Federation</td>\n",
       "      <td>RUS</td>\n",
       "      <td>20.786597</td>\n",
       "      <td>18.725055</td>\n",
       "      <td>17.625512</td>\n",
       "      <td>17.967238</td>\n",
       "    </tr>\n",
       "    <tr>\n",
       "      <th>7</th>\n",
       "      <td>General government final consumption expenditu...</td>\n",
       "      <td>NE.CON.GOVT.ZS</td>\n",
       "      <td>India</td>\n",
       "      <td>IND</td>\n",
       "      <td>11.459667</td>\n",
       "      <td>11.007608</td>\n",
       "      <td>11.084462</td>\n",
       "      <td>10.683856</td>\n",
       "    </tr>\n",
       "    <tr>\n",
       "      <th>8</th>\n",
       "      <td>General government final consumption expenditu...</td>\n",
       "      <td>NE.CON.GOVT.ZS</td>\n",
       "      <td>China</td>\n",
       "      <td>CHN</td>\n",
       "      <td>14.752976</td>\n",
       "      <td>14.587021</td>\n",
       "      <td>15.238865</td>\n",
       "      <td>15.756078</td>\n",
       "    </tr>\n",
       "    <tr>\n",
       "      <th>9</th>\n",
       "      <td>General government final consumption expenditu...</td>\n",
       "      <td>NE.CON.GOVT.ZS</td>\n",
       "      <td>South Africa</td>\n",
       "      <td>ZAF</td>\n",
       "      <td>17.793633</td>\n",
       "      <td>17.996064</td>\n",
       "      <td>18.195143</td>\n",
       "      <td>18.820545</td>\n",
       "    </tr>\n",
       "  </tbody>\n",
       "</table>\n",
       "</div>"
      ],
      "text/plain": [
       "                                         Series Name        Series Code  \\\n",
       "0                              GDP growth (annual %)  NY.GDP.MKTP.KD.ZG   \n",
       "1                              GDP growth (annual %)  NY.GDP.MKTP.KD.ZG   \n",
       "2                              GDP growth (annual %)  NY.GDP.MKTP.KD.ZG   \n",
       "3                              GDP growth (annual %)  NY.GDP.MKTP.KD.ZG   \n",
       "4                              GDP growth (annual %)  NY.GDP.MKTP.KD.ZG   \n",
       "5  General government final consumption expenditu...     NE.CON.GOVT.ZS   \n",
       "6  General government final consumption expenditu...     NE.CON.GOVT.ZS   \n",
       "7  General government final consumption expenditu...     NE.CON.GOVT.ZS   \n",
       "8  General government final consumption expenditu...     NE.CON.GOVT.ZS   \n",
       "9  General government final consumption expenditu...     NE.CON.GOVT.ZS   \n",
       "\n",
       "         Country Name Country Code  2009 [YR2009]  2010 [YR2010]  \\\n",
       "0              Brazil          BRA      -0.125812       7.528226   \n",
       "1  Russian Federation          RUS      -7.799994       4.500000   \n",
       "2               India          IND       7.861889       8.497585   \n",
       "3               China          CHN       9.398726      10.635871   \n",
       "4        South Africa          ZAF      -1.538089       3.039733   \n",
       "5              Brazil          BRA      19.650638      19.016858   \n",
       "6  Russian Federation          RUS      20.786597      18.725055   \n",
       "7               India          IND      11.459667      11.007608   \n",
       "8               China          CHN      14.752976      14.587021   \n",
       "9        South Africa          ZAF      17.793633      17.996064   \n",
       "\n",
       "   2011 [YR2011]  2012 [YR2012]  \n",
       "0       3.974423       1.921176  \n",
       "1       4.300029       4.024086  \n",
       "2       5.241316       5.456388  \n",
       "3       9.550832       7.863736  \n",
       "4       3.168556       2.396232  \n",
       "5      18.669257      18.530103  \n",
       "6      17.625512      17.967238  \n",
       "7      11.084462      10.683856  \n",
       "8      15.238865      15.756078  \n",
       "9      18.195143      18.820545  "
      ]
     },
     "execution_count": 334,
     "metadata": {},
     "output_type": "execute_result"
    }
   ],
   "source": [
    "df"
   ]
  },
  {
   "cell_type": "code",
   "execution_count": 335,
   "id": "bc71397e-c5d8-4ae4-bfe7-55a77ef24ded",
   "metadata": {},
   "outputs": [
    {
     "name": "stdout",
     "output_type": "stream",
     "text": [
      "  Country Code        Country Name  2012 [YR2012]\n",
      "0          BRA              Brazil       1.921176\n",
      "1          RUS  Russian Federation       4.024086\n",
      "2          IND               India       5.456388\n",
      "3          CHN               China       7.863736\n",
      "4          ZAF        South Africa       2.396232\n"
     ]
    }
   ],
   "source": [
    "sdf = df.loc[0:4,['Country Code','Country Name',df.columns[-1]]]\n",
    "print(sdf)"
   ]
  },
  {
   "cell_type": "code",
   "execution_count": 336,
   "id": "b994b6d1-599b-4876-a40a-4d19e89ee0a8",
   "metadata": {},
   "outputs": [
    {
     "data": {
      "text/html": [
       "<div>\n",
       "<style scoped>\n",
       "    .dataframe tbody tr th:only-of-type {\n",
       "        vertical-align: middle;\n",
       "    }\n",
       "\n",
       "    .dataframe tbody tr th {\n",
       "        vertical-align: top;\n",
       "    }\n",
       "\n",
       "    .dataframe thead th {\n",
       "        text-align: right;\n",
       "    }\n",
       "</style>\n",
       "<table border=\"1\" class=\"dataframe\">\n",
       "  <thead>\n",
       "    <tr style=\"text-align: right;\">\n",
       "      <th></th>\n",
       "      <th>Code</th>\n",
       "      <th>Country</th>\n",
       "      <th>GDP(2012)</th>\n",
       "    </tr>\n",
       "  </thead>\n",
       "  <tbody>\n",
       "    <tr>\n",
       "      <th>0</th>\n",
       "      <td>BR</td>\n",
       "      <td>Brazil</td>\n",
       "      <td>1.921176</td>\n",
       "    </tr>\n",
       "    <tr>\n",
       "      <th>1</th>\n",
       "      <td>RU</td>\n",
       "      <td>Russia</td>\n",
       "      <td>4.024086</td>\n",
       "    </tr>\n",
       "    <tr>\n",
       "      <th>2</th>\n",
       "      <td>IN</td>\n",
       "      <td>India</td>\n",
       "      <td>5.456388</td>\n",
       "    </tr>\n",
       "    <tr>\n",
       "      <th>3</th>\n",
       "      <td>CH</td>\n",
       "      <td>China</td>\n",
       "      <td>7.863736</td>\n",
       "    </tr>\n",
       "    <tr>\n",
       "      <th>4</th>\n",
       "      <td>SA</td>\n",
       "      <td>South Africa</td>\n",
       "      <td>2.396232</td>\n",
       "    </tr>\n",
       "  </tbody>\n",
       "</table>\n",
       "</div>"
      ],
      "text/plain": [
       "  Code       Country  GDP(2012)\n",
       "0   BR        Brazil   1.921176\n",
       "1   RU        Russia   4.024086\n",
       "2   IN         India   5.456388\n",
       "3   CH         China   7.863736\n",
       "4   SA  South Africa   2.396232"
      ]
     },
     "execution_count": 336,
     "metadata": {},
     "output_type": "execute_result"
    }
   ],
   "source": [
    "sdf.columns = ['Code','Country','GDP(2012)']\n",
    "sdf['Code'] = ['BR','RU','IN','CH','SA']\n",
    "sdf.loc[1,'Country'] = 'Russia'\n",
    "sdf.set_index = 'Code'\n",
    "sdf"
   ]
  },
  {
   "cell_type": "code",
   "execution_count": 337,
   "id": "4e65d6e1-5052-4261-a3dd-8431913da93b",
   "metadata": {},
   "outputs": [
    {
     "data": {
      "text/html": [
       "<div>\n",
       "<style scoped>\n",
       "    .dataframe tbody tr th:only-of-type {\n",
       "        vertical-align: middle;\n",
       "    }\n",
       "\n",
       "    .dataframe tbody tr th {\n",
       "        vertical-align: top;\n",
       "    }\n",
       "\n",
       "    .dataframe thead th {\n",
       "        text-align: right;\n",
       "    }\n",
       "</style>\n",
       "<table border=\"1\" class=\"dataframe\">\n",
       "  <thead>\n",
       "    <tr style=\"text-align: right;\">\n",
       "      <th></th>\n",
       "      <th>Code</th>\n",
       "      <th>Country</th>\n",
       "      <th>GDP(2012)</th>\n",
       "      <th>capital</th>\n",
       "      <th>area</th>\n",
       "      <th>population</th>\n",
       "    </tr>\n",
       "  </thead>\n",
       "  <tbody>\n",
       "    <tr>\n",
       "      <th>0</th>\n",
       "      <td>BR</td>\n",
       "      <td>Brazil</td>\n",
       "      <td>1.921176</td>\n",
       "      <td>Brasilia</td>\n",
       "      <td>8.516</td>\n",
       "      <td>200.40</td>\n",
       "    </tr>\n",
       "    <tr>\n",
       "      <th>1</th>\n",
       "      <td>RU</td>\n",
       "      <td>Russia</td>\n",
       "      <td>4.024086</td>\n",
       "      <td>Moscow</td>\n",
       "      <td>17.100</td>\n",
       "      <td>143.50</td>\n",
       "    </tr>\n",
       "    <tr>\n",
       "      <th>2</th>\n",
       "      <td>IN</td>\n",
       "      <td>India</td>\n",
       "      <td>5.456388</td>\n",
       "      <td>New Delhi</td>\n",
       "      <td>3.286</td>\n",
       "      <td>1251.00</td>\n",
       "    </tr>\n",
       "    <tr>\n",
       "      <th>3</th>\n",
       "      <td>CH</td>\n",
       "      <td>China</td>\n",
       "      <td>7.863736</td>\n",
       "      <td>Beijing</td>\n",
       "      <td>9.597</td>\n",
       "      <td>1657.00</td>\n",
       "    </tr>\n",
       "    <tr>\n",
       "      <th>4</th>\n",
       "      <td>SA</td>\n",
       "      <td>South Africa</td>\n",
       "      <td>2.396232</td>\n",
       "      <td>Pretoria</td>\n",
       "      <td>1.221</td>\n",
       "      <td>52.98</td>\n",
       "    </tr>\n",
       "  </tbody>\n",
       "</table>\n",
       "</div>"
      ],
      "text/plain": [
       "  Code       Country  GDP(2012)    capital    area  population\n",
       "0   BR        Brazil   1.921176   Brasilia   8.516      200.40\n",
       "1   RU        Russia   4.024086     Moscow  17.100      143.50\n",
       "2   IN         India   5.456388  New Delhi   3.286     1251.00\n",
       "3   CH         China   7.863736    Beijing   9.597     1657.00\n",
       "4   SA  South Africa   2.396232   Pretoria   1.221       52.98"
      ]
     },
     "execution_count": 337,
     "metadata": {},
     "output_type": "execute_result"
    }
   ],
   "source": [
    "brics = sdf\n",
    "area = [8.516,17.100,3.286,9.597,1.221]\n",
    "pop = [200.40,143.50,1251.00,1657.00,52.98]\n",
    "cap = ['Brasilia','Moscow','New Delhi','Beijing','Pretoria']\n",
    "\n",
    "brics['capital']=cap\n",
    "brics['area']=area\n",
    "brics['population']=pop\n",
    "brics"
   ]
  },
  {
   "cell_type": "code",
   "execution_count": 338,
   "id": "a23edcf6-e835-4cd0-884b-a88c412f6f79",
   "metadata": {},
   "outputs": [],
   "source": [
    "brics.index = brics['Code']\n",
    "brics.drop(columns='Code',inplace=True)"
   ]
  },
  {
   "cell_type": "code",
   "execution_count": 342,
   "id": "54876cf4-2b8d-49b8-9e2c-dce7387812a2",
   "metadata": {},
   "outputs": [
    {
     "data": {
      "text/html": [
       "<div>\n",
       "<style scoped>\n",
       "    .dataframe tbody tr th:only-of-type {\n",
       "        vertical-align: middle;\n",
       "    }\n",
       "\n",
       "    .dataframe tbody tr th {\n",
       "        vertical-align: top;\n",
       "    }\n",
       "\n",
       "    .dataframe thead th {\n",
       "        text-align: right;\n",
       "    }\n",
       "</style>\n",
       "<table border=\"1\" class=\"dataframe\">\n",
       "  <thead>\n",
       "    <tr style=\"text-align: right;\">\n",
       "      <th></th>\n",
       "      <th>Country</th>\n",
       "      <th>GDP(2012)</th>\n",
       "      <th>capital</th>\n",
       "      <th>area</th>\n",
       "      <th>population</th>\n",
       "    </tr>\n",
       "  </thead>\n",
       "  <tbody>\n",
       "    <tr>\n",
       "      <th>BR</th>\n",
       "      <td>Brazil</td>\n",
       "      <td>1.921176</td>\n",
       "      <td>Brasilia</td>\n",
       "      <td>8.516</td>\n",
       "      <td>200.40</td>\n",
       "    </tr>\n",
       "    <tr>\n",
       "      <th>RU</th>\n",
       "      <td>Russia</td>\n",
       "      <td>4.024086</td>\n",
       "      <td>Moscow</td>\n",
       "      <td>17.100</td>\n",
       "      <td>143.50</td>\n",
       "    </tr>\n",
       "    <tr>\n",
       "      <th>IN</th>\n",
       "      <td>India</td>\n",
       "      <td>5.456388</td>\n",
       "      <td>New Delhi</td>\n",
       "      <td>3.286</td>\n",
       "      <td>1251.00</td>\n",
       "    </tr>\n",
       "    <tr>\n",
       "      <th>CH</th>\n",
       "      <td>China</td>\n",
       "      <td>7.863736</td>\n",
       "      <td>Beijing</td>\n",
       "      <td>9.597</td>\n",
       "      <td>1657.00</td>\n",
       "    </tr>\n",
       "    <tr>\n",
       "      <th>SA</th>\n",
       "      <td>South Africa</td>\n",
       "      <td>2.396232</td>\n",
       "      <td>Pretoria</td>\n",
       "      <td>1.221</td>\n",
       "      <td>52.98</td>\n",
       "    </tr>\n",
       "  </tbody>\n",
       "</table>\n",
       "</div>"
      ],
      "text/plain": [
       "         Country  GDP(2012)    capital    area  population\n",
       "BR        Brazil   1.921176   Brasilia   8.516      200.40\n",
       "RU        Russia   4.024086     Moscow  17.100      143.50\n",
       "IN         India   5.456388  New Delhi   3.286     1251.00\n",
       "CH         China   7.863736    Beijing   9.597     1657.00\n",
       "SA  South Africa   2.396232   Pretoria   1.221       52.98"
      ]
     },
     "execution_count": 342,
     "metadata": {},
     "output_type": "execute_result"
    }
   ],
   "source": [
    "brics.index.name = None\n",
    "brics"
   ]
  },
  {
   "cell_type": "code",
   "execution_count": 343,
   "id": "278db38f-0df9-4f62-b97b-0a45eddd587b",
   "metadata": {},
   "outputs": [
    {
     "data": {
      "text/plain": [
       "BR     8.516\n",
       "RU    17.100\n",
       "IN     3.286\n",
       "CH     9.597\n",
       "SA     1.221\n",
       "Name: area, dtype: float64"
      ]
     },
     "execution_count": 343,
     "metadata": {},
     "output_type": "execute_result"
    }
   ],
   "source": [
    "brics['area']"
   ]
  },
  {
   "cell_type": "code",
   "execution_count": 344,
   "id": "8ccc0d10-8866-40ff-999d-9415eed4c69d",
   "metadata": {},
   "outputs": [
    {
     "data": {
      "text/plain": [
       "BR     True\n",
       "RU     True\n",
       "IN    False\n",
       "CH     True\n",
       "SA    False\n",
       "Name: area, dtype: bool"
      ]
     },
     "execution_count": 344,
     "metadata": {},
     "output_type": "execute_result"
    }
   ],
   "source": [
    "brics['area'] > 8"
   ]
  },
  {
   "cell_type": "code",
   "execution_count": 346,
   "id": "86495bbf-b0f5-4b4d-808d-0429a1014a93",
   "metadata": {},
   "outputs": [
    {
     "data": {
      "text/html": [
       "<div>\n",
       "<style scoped>\n",
       "    .dataframe tbody tr th:only-of-type {\n",
       "        vertical-align: middle;\n",
       "    }\n",
       "\n",
       "    .dataframe tbody tr th {\n",
       "        vertical-align: top;\n",
       "    }\n",
       "\n",
       "    .dataframe thead th {\n",
       "        text-align: right;\n",
       "    }\n",
       "</style>\n",
       "<table border=\"1\" class=\"dataframe\">\n",
       "  <thead>\n",
       "    <tr style=\"text-align: right;\">\n",
       "      <th></th>\n",
       "      <th>Country</th>\n",
       "      <th>GDP(2012)</th>\n",
       "      <th>capital</th>\n",
       "      <th>area</th>\n",
       "      <th>population</th>\n",
       "    </tr>\n",
       "  </thead>\n",
       "  <tbody>\n",
       "    <tr>\n",
       "      <th>BR</th>\n",
       "      <td>Brazil</td>\n",
       "      <td>1.921176</td>\n",
       "      <td>Brasilia</td>\n",
       "      <td>8.516</td>\n",
       "      <td>200.4</td>\n",
       "    </tr>\n",
       "    <tr>\n",
       "      <th>RU</th>\n",
       "      <td>Russia</td>\n",
       "      <td>4.024086</td>\n",
       "      <td>Moscow</td>\n",
       "      <td>17.100</td>\n",
       "      <td>143.5</td>\n",
       "    </tr>\n",
       "    <tr>\n",
       "      <th>CH</th>\n",
       "      <td>China</td>\n",
       "      <td>7.863736</td>\n",
       "      <td>Beijing</td>\n",
       "      <td>9.597</td>\n",
       "      <td>1657.0</td>\n",
       "    </tr>\n",
       "  </tbody>\n",
       "</table>\n",
       "</div>"
      ],
      "text/plain": [
       "   Country  GDP(2012)   capital    area  population\n",
       "BR  Brazil   1.921176  Brasilia   8.516       200.4\n",
       "RU  Russia   4.024086    Moscow  17.100       143.5\n",
       "CH   China   7.863736   Beijing   9.597      1657.0"
      ]
     },
     "execution_count": 346,
     "metadata": {},
     "output_type": "execute_result"
    }
   ],
   "source": [
    "is_huge = brics['area'] > 8\n",
    "brics[is_huge]"
   ]
  },
  {
   "cell_type": "markdown",
   "id": "4b01ed0c-c95a-4dd6-b3ca-090ffc871d56",
   "metadata": {},
   "source": [
    "Note that is_huge is a pandas **series** object.  So a series can be used to specify the entries/observations you want see."
   ]
  },
  {
   "cell_type": "code",
   "execution_count": 347,
   "id": "ca04e131-b578-445a-9c63-9b6ce2e7086e",
   "metadata": {},
   "outputs": [
    {
     "data": {
      "text/plain": [
       "pandas.core.series.Series"
      ]
     },
     "execution_count": 347,
     "metadata": {},
     "output_type": "execute_result"
    }
   ],
   "source": [
    "type(is_huge)"
   ]
  },
  {
   "cell_type": "code",
   "execution_count": 351,
   "id": "86aaa05b-09d3-4fa3-ba5d-148818217b89",
   "metadata": {},
   "outputs": [
    {
     "data": {
      "text/html": [
       "<div>\n",
       "<style scoped>\n",
       "    .dataframe tbody tr th:only-of-type {\n",
       "        vertical-align: middle;\n",
       "    }\n",
       "\n",
       "    .dataframe tbody tr th {\n",
       "        vertical-align: top;\n",
       "    }\n",
       "\n",
       "    .dataframe thead th {\n",
       "        text-align: right;\n",
       "    }\n",
       "</style>\n",
       "<table border=\"1\" class=\"dataframe\">\n",
       "  <thead>\n",
       "    <tr style=\"text-align: right;\">\n",
       "      <th></th>\n",
       "      <th>Country</th>\n",
       "      <th>GDP(2012)</th>\n",
       "      <th>capital</th>\n",
       "      <th>area</th>\n",
       "      <th>population</th>\n",
       "    </tr>\n",
       "  </thead>\n",
       "  <tbody>\n",
       "    <tr>\n",
       "      <th>BR</th>\n",
       "      <td>True</td>\n",
       "      <td>True</td>\n",
       "      <td>True</td>\n",
       "      <td>True</td>\n",
       "      <td>True</td>\n",
       "    </tr>\n",
       "    <tr>\n",
       "      <th>RU</th>\n",
       "      <td>True</td>\n",
       "      <td>True</td>\n",
       "      <td>True</td>\n",
       "      <td>True</td>\n",
       "      <td>True</td>\n",
       "    </tr>\n",
       "    <tr>\n",
       "      <th>CH</th>\n",
       "      <td>True</td>\n",
       "      <td>True</td>\n",
       "      <td>True</td>\n",
       "      <td>True</td>\n",
       "      <td>True</td>\n",
       "    </tr>\n",
       "  </tbody>\n",
       "</table>\n",
       "</div>"
      ],
      "text/plain": [
       "    Country  GDP(2012)  capital  area  population\n",
       "BR     True       True     True  True        True\n",
       "RU     True       True     True  True        True\n",
       "CH     True       True     True  True        True"
      ]
     },
     "execution_count": 351,
     "metadata": {},
     "output_type": "execute_result"
    }
   ],
   "source": [
    "brics[[True,True,False,True,False]] == brics[is_huge]"
   ]
  },
  {
   "cell_type": "markdown",
   "id": "f32308fe-8440-405a-8790-e60f73e15926",
   "metadata": {},
   "source": [
    "A simple one-liner, nesting the definition of is_huge inside the bracket:"
   ]
  },
  {
   "cell_type": "code",
   "execution_count": 352,
   "id": "6d4eb85f-ce8c-449f-98a8-cf2ff41d2fc4",
   "metadata": {},
   "outputs": [
    {
     "data": {
      "text/html": [
       "<div>\n",
       "<style scoped>\n",
       "    .dataframe tbody tr th:only-of-type {\n",
       "        vertical-align: middle;\n",
       "    }\n",
       "\n",
       "    .dataframe tbody tr th {\n",
       "        vertical-align: top;\n",
       "    }\n",
       "\n",
       "    .dataframe thead th {\n",
       "        text-align: right;\n",
       "    }\n",
       "</style>\n",
       "<table border=\"1\" class=\"dataframe\">\n",
       "  <thead>\n",
       "    <tr style=\"text-align: right;\">\n",
       "      <th></th>\n",
       "      <th>Country</th>\n",
       "      <th>GDP(2012)</th>\n",
       "      <th>capital</th>\n",
       "      <th>area</th>\n",
       "      <th>population</th>\n",
       "    </tr>\n",
       "  </thead>\n",
       "  <tbody>\n",
       "    <tr>\n",
       "      <th>BR</th>\n",
       "      <td>Brazil</td>\n",
       "      <td>1.921176</td>\n",
       "      <td>Brasilia</td>\n",
       "      <td>8.516</td>\n",
       "      <td>200.4</td>\n",
       "    </tr>\n",
       "    <tr>\n",
       "      <th>RU</th>\n",
       "      <td>Russia</td>\n",
       "      <td>4.024086</td>\n",
       "      <td>Moscow</td>\n",
       "      <td>17.100</td>\n",
       "      <td>143.5</td>\n",
       "    </tr>\n",
       "    <tr>\n",
       "      <th>CH</th>\n",
       "      <td>China</td>\n",
       "      <td>7.863736</td>\n",
       "      <td>Beijing</td>\n",
       "      <td>9.597</td>\n",
       "      <td>1657.0</td>\n",
       "    </tr>\n",
       "  </tbody>\n",
       "</table>\n",
       "</div>"
      ],
      "text/plain": [
       "   Country  GDP(2012)   capital    area  population\n",
       "BR  Brazil   1.921176  Brasilia   8.516       200.4\n",
       "RU  Russia   4.024086    Moscow  17.100       143.5\n",
       "CH   China   7.863736   Beijing   9.597      1657.0"
      ]
     },
     "execution_count": 352,
     "metadata": {},
     "output_type": "execute_result"
    }
   ],
   "source": [
    "brics[brics['area'] > 8]"
   ]
  },
  {
   "cell_type": "markdown",
   "id": "e039e3ae-2e48-44a3-bb22-15f2c50b21c6",
   "metadata": {
    "jp-MarkdownHeadingCollapsed": true
   },
   "source": [
    "#### Using numpy.logical_and() to join comparison operators and still have it work element-wise.\n",
    "Keep in mind that simply using python's and, or, not keywords will not work for whole dataframes, but since pandas is based on numpy, we can use the numpy equivalent methods.  Below is how we get rows that satisfy (10 > area > 8)."
   ]
  },
  {
   "cell_type": "code",
   "execution_count": 353,
   "id": "0e6ccd45-ce41-4d8e-9b2d-4c25dc71a56f",
   "metadata": {},
   "outputs": [
    {
     "data": {
      "text/plain": [
       "BR     True\n",
       "RU    False\n",
       "IN    False\n",
       "CH     True\n",
       "SA    False\n",
       "Name: area, dtype: bool"
      ]
     },
     "execution_count": 353,
     "metadata": {},
     "output_type": "execute_result"
    }
   ],
   "source": [
    "import numpy as np\n",
    "np.logical_and(brics['area'] > 8, brics['area'] < 10)"
   ]
  },
  {
   "cell_type": "code",
   "execution_count": 354,
   "id": "d1370c12-c3c6-4f6f-9571-6e985e300747",
   "metadata": {},
   "outputs": [
    {
     "data": {
      "text/html": [
       "<div>\n",
       "<style scoped>\n",
       "    .dataframe tbody tr th:only-of-type {\n",
       "        vertical-align: middle;\n",
       "    }\n",
       "\n",
       "    .dataframe tbody tr th {\n",
       "        vertical-align: top;\n",
       "    }\n",
       "\n",
       "    .dataframe thead th {\n",
       "        text-align: right;\n",
       "    }\n",
       "</style>\n",
       "<table border=\"1\" class=\"dataframe\">\n",
       "  <thead>\n",
       "    <tr style=\"text-align: right;\">\n",
       "      <th></th>\n",
       "      <th>Country</th>\n",
       "      <th>GDP(2012)</th>\n",
       "      <th>capital</th>\n",
       "      <th>area</th>\n",
       "      <th>population</th>\n",
       "    </tr>\n",
       "  </thead>\n",
       "  <tbody>\n",
       "    <tr>\n",
       "      <th>BR</th>\n",
       "      <td>Brazil</td>\n",
       "      <td>1.921176</td>\n",
       "      <td>Brasilia</td>\n",
       "      <td>8.516</td>\n",
       "      <td>200.4</td>\n",
       "    </tr>\n",
       "    <tr>\n",
       "      <th>CH</th>\n",
       "      <td>China</td>\n",
       "      <td>7.863736</td>\n",
       "      <td>Beijing</td>\n",
       "      <td>9.597</td>\n",
       "      <td>1657.0</td>\n",
       "    </tr>\n",
       "  </tbody>\n",
       "</table>\n",
       "</div>"
      ],
      "text/plain": [
       "   Country  GDP(2012)   capital   area  population\n",
       "BR  Brazil   1.921176  Brasilia  8.516       200.4\n",
       "CH   China   7.863736   Beijing  9.597      1657.0"
      ]
     },
     "execution_count": 354,
     "metadata": {},
     "output_type": "execute_result"
    }
   ],
   "source": [
    "brics[np.logical_and(brics['area'] > 8, brics['area'] < 10)]"
   ]
  },
  {
   "cell_type": "markdown",
   "id": "7d10f499-0ba6-476e-bcfd-9764c6bcca0a",
   "metadata": {
    "jp-MarkdownHeadingCollapsed": true
   },
   "source": [
    "## 5.4 - Loops"
   ]
  },
  {
   "cell_type": "code",
   "execution_count": null,
   "id": "567b3ba3-c2c9-42f5-a810-bd2159d81d49",
   "metadata": {},
   "outputs": [],
   "source": []
  },
  {
   "cell_type": "markdown",
   "id": "6df670de-2d27-4460-9cb1-e5a69d68abcd",
   "metadata": {},
   "source": [
    "## 5.5 - Case Study: Hacker Statistics"
   ]
  },
  {
   "cell_type": "code",
   "execution_count": null,
   "id": "9b4c128c-e0ef-4f2b-a3e7-4094ab3e312b",
   "metadata": {},
   "outputs": [],
   "source": [
    "def random_walk(walk_length):\n",
    "    cumulative_steps = []\n",
    "    "
   ]
  },
  {
   "cell_type": "markdown",
   "id": "cdc0a262-df92-4e98-9b85-44b1bc097932",
   "metadata": {},
   "source": [
    "## 5.6 - Netflix Mini-Project"
   ]
  },
  {
   "cell_type": "code",
   "execution_count": null,
   "id": "52a07966-58d1-4a5e-b0d9-709f9f90daca",
   "metadata": {},
   "outputs": [],
   "source": []
  },
  {
   "cell_type": "markdown",
   "id": "122b5fc5-46e6-4c5e-9a2e-90b3792ed43a",
   "metadata": {},
   "source": [
    "# UNIT 6 | PY201: INTERMEDIATE PYTHON I"
   ]
  },
  {
   "cell_type": "markdown",
   "id": "eae72896-d96b-4e39-a10f-39aa22a05d9a",
   "metadata": {
    "jp-MarkdownHeadingCollapsed": true
   },
   "source": [
    "# UNIT 7 | PY202: INTERMEDIATE PYTHON II"
   ]
  },
  {
   "cell_type": "markdown",
   "id": "c7492965-11dd-4316-a8dc-6df4e3b1928d",
   "metadata": {},
   "source": [
    "## 7.1\tDeveloping a Data Science Toolkit"
   ]
  },
  {
   "cell_type": "code",
   "execution_count": null,
   "id": "8eabe900-f6e4-49f5-99af-ba7e4b056ce9",
   "metadata": {},
   "outputs": [],
   "source": []
  },
  {
   "cell_type": "markdown",
   "id": "c4b8f88b-7a6c-489d-95a8-7f4024efee2f",
   "metadata": {},
   "source": [
    "## 7.2\tUser-defined functions"
   ]
  },
  {
   "cell_type": "code",
   "execution_count": null,
   "id": "b39b55e8-d4f9-44df-b94a-be0ff8efb966",
   "metadata": {},
   "outputs": [],
   "source": []
  },
  {
   "cell_type": "code",
   "execution_count": null,
   "id": "f0f9c924-e49d-4d37-9a43-25c956059733",
   "metadata": {},
   "outputs": [],
   "source": []
  },
  {
   "cell_type": "markdown",
   "id": "12bcf98b-9b84-4172-afdc-6d15b6e6bd84",
   "metadata": {},
   "source": [
    "## 7.3\tScoping Things Out"
   ]
  },
  {
   "cell_type": "code",
   "execution_count": null,
   "id": "31e70c5b-43fd-429e-878a-8132515a5820",
   "metadata": {},
   "outputs": [],
   "source": []
  },
  {
   "cell_type": "markdown",
   "id": "149ed788-7f84-46c0-a0ab-dbd7f6824a12",
   "metadata": {},
   "source": [
    "## 7.4\tLambda Functions and Error Handling"
   ]
  },
  {
   "cell_type": "code",
   "execution_count": null,
   "id": "00bfb2cf-6e07-4781-84d9-3fb5ccfd0961",
   "metadata": {},
   "outputs": [],
   "source": []
  },
  {
   "cell_type": "markdown",
   "id": "8e8af03d-3b1f-4f0b-99c6-091199a02841",
   "metadata": {},
   "source": [
    "## 7.5\tIterators"
   ]
  },
  {
   "cell_type": "code",
   "execution_count": null,
   "id": "62bf9d79-531a-4e06-a04b-db1171365118",
   "metadata": {},
   "outputs": [],
   "source": []
  },
  {
   "cell_type": "code",
   "execution_count": null,
   "id": "792418ad-6f52-4c1e-b8f6-cc89afa968a2",
   "metadata": {},
   "outputs": [],
   "source": []
  },
  {
   "cell_type": "code",
   "execution_count": null,
   "id": "51022db4-8734-4337-a35e-e84d83b96f19",
   "metadata": {},
   "outputs": [],
   "source": []
  },
  {
   "cell_type": "code",
   "execution_count": null,
   "id": "2b14a705-982d-409c-a424-f03f56e7e3c1",
   "metadata": {},
   "outputs": [],
   "source": []
  },
  {
   "cell_type": "code",
   "execution_count": null,
   "id": "1d36d7aa-1111-4ab7-ba94-752f5cc6cd57",
   "metadata": {},
   "outputs": [],
   "source": []
  },
  {
   "cell_type": "markdown",
   "id": "f8b7ec68-dfc7-430f-b78a-4d6053a457f1",
   "metadata": {},
   "source": [
    "## 7.6\tList Comprenensions"
   ]
  },
  {
   "cell_type": "code",
   "execution_count": null,
   "id": "93c8615e-4ab4-4b43-85d3-4f285dfd03a0",
   "metadata": {},
   "outputs": [],
   "source": []
  },
  {
   "cell_type": "code",
   "execution_count": null,
   "id": "f819c841-1e63-482d-96ed-4b0afc096682",
   "metadata": {},
   "outputs": [],
   "source": []
  }
 ],
 "metadata": {
  "kernelspec": {
   "display_name": "Python 3 (ipykernel)",
   "language": "python",
   "name": "python3"
  },
  "language_info": {
   "codemirror_mode": {
    "name": "ipython",
    "version": 3
   },
   "file_extension": ".py",
   "mimetype": "text/x-python",
   "name": "python",
   "nbconvert_exporter": "python",
   "pygments_lexer": "ipython3",
   "version": "3.12.7"
  }
 },
 "nbformat": 4,
 "nbformat_minor": 5
}
