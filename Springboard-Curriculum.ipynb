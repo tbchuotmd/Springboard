{
 "cells": [
  {
   "cell_type": "markdown",
   "id": "46af03a9-4857-4417-a9bc-4e688c856d57",
   "metadata": {
    "jp-MarkdownHeadingCollapsed": true
   },
   "source": [
    "# UNIT 3 | PY101: INTRO TO PYTHON I\n",
    "\n",
    "## 3.2 - LISTS"
   ]
  },
  {
   "cell_type": "code",
   "execution_count": 56,
   "id": "6d277449-e29e-4272-9f42-1b66d8fd7637",
   "metadata": {},
   "outputs": [
    {
     "name": "stdout",
     "output_type": "stream",
     "text": [
      "[3, 10, -1]\n"
     ]
    }
   ],
   "source": [
    "a = [3,10,-1] # define list with values 3, 10 and -1\n",
    "\n",
    "print(a)"
   ]
  },
  {
   "cell_type": "code",
   "execution_count": 57,
   "id": "88db9beb-a74e-47f1-8a15-2c68ff793af6",
   "metadata": {},
   "outputs": [
    {
     "name": "stdout",
     "output_type": "stream",
     "text": [
      "[3, 10, -1, 'hello']\n"
     ]
    }
   ],
   "source": [
    "a.append(\"hello\") #insert value \"hello\" at the end of the list\n",
    "\n",
    "print(a)"
   ]
  },
  {
   "cell_type": "code",
   "execution_count": 58,
   "id": "1e1a2e13-aab8-40aa-a736-8e95e83f8036",
   "metadata": {},
   "outputs": [
    {
     "name": "stdout",
     "output_type": "stream",
     "text": [
      "[3, 10, -1]\n"
     ]
    }
   ],
   "source": [
    "a.pop() # deletes the last item in the list\n",
    "\n",
    "print(a)"
   ]
  },
  {
   "cell_type": "code",
   "execution_count": 59,
   "id": "fc658504-75f8-4c9f-8c0a-6e00e1bead05",
   "metadata": {},
   "outputs": [
    {
     "name": "stdout",
     "output_type": "stream",
     "text": [
      "[4, 10, -1]\n"
     ]
    }
   ],
   "source": [
    "a[0] = 4 #reassigns the first item from 3 to 4\n",
    "\n",
    "print(a)"
   ]
  },
  {
   "cell_type": "code",
   "execution_count": 60,
   "id": "78c39eaa-e785-4897-9bfb-65b505d0b3bf",
   "metadata": {},
   "outputs": [
    {
     "name": "stdout",
     "output_type": "stream",
     "text": [
      "['new first item', 4, 10, -1]\n"
     ]
    }
   ],
   "source": [
    "a.insert(0,\"new first item\") #insert string value at index 0\n",
    "\n",
    "print(a)"
   ]
  },
  {
   "cell_type": "code",
   "execution_count": 61,
   "id": "4425877a-705e-4013-83df-554bf04f0b3f",
   "metadata": {},
   "outputs": [
    {
     "name": "stdout",
     "output_type": "stream",
     "text": [
      "[4, 10, -1]\n"
     ]
    }
   ],
   "source": [
    "# removing items using .remove() string method\n",
    "a.remove(a[0])\n",
    "\n",
    "print(a)"
   ]
  },
  {
   "cell_type": "code",
   "execution_count": 62,
   "id": "4a538fc4-c1e8-4520-92af-ea8e65ddbc3c",
   "metadata": {},
   "outputs": [
    {
     "name": "stdout",
     "output_type": "stream",
     "text": [
      "[10, -1]\n"
     ]
    }
   ],
   "source": [
    "# removing items using del keyword\n",
    "del a[0]\n",
    "\n",
    "print(a)"
   ]
  },
  {
   "cell_type": "code",
   "execution_count": 54,
   "id": "9c623746-c1d1-4874-ad33-2fdcb3245902",
   "metadata": {},
   "outputs": [],
   "source": [
    "a.insert(10,2) # specifying an index out of range - python automatically gives it a lower index?\n",
    "\n",
    "#print(a[10])\n",
    "#print(a[-1])"
   ]
  },
  {
   "cell_type": "code",
   "execution_count": 44,
   "id": "f34142c3-e12c-483f-b74d-cd33018ec4c2",
   "metadata": {},
   "outputs": [
    {
     "name": "stdout",
     "output_type": "stream",
     "text": [
      "['orange', 'orange', 'orange']\n"
     ]
    }
   ],
   "source": [
    "# Since assigning a = b actually assigns b to whatever value a was most RECENTLY assigned to\n",
    "# you can't swap items in a list using simple reassignment, as seen below:\n",
    "\n",
    "b = [\"banana\",\"apple\",\"orange\"]\n",
    "\n",
    "b[0]=b[2] # now b[0] = \"orange\"\n",
    "b[1]=b[0] # since b[0] most recently assigned to \"orange\", then b[1] will also be assigned to that\n",
    "b[2]=b[1] # same thing happens here\n",
    "\n",
    "\n",
    "# result is they all get the original value of b[2] instead of swapping values:\n",
    "print(b)"
   ]
  },
  {
   "cell_type": "code",
   "execution_count": 45,
   "id": "858731ca-eb71-4a7f-bf6d-66c0ca41fb04",
   "metadata": {},
   "outputs": [
    {
     "name": "stdout",
     "output_type": "stream",
     "text": [
      "['orange', 'banana', 'apple']\n"
     ]
    }
   ],
   "source": [
    "# One way of swapping values requires a temporary placeholder for one of the variables:\n",
    "\n",
    "b = [\"banana\",\"apple\",\"orange\"]\n",
    "\n",
    "temp_b0 = b[0]\n",
    "b[0]=b[2]\n",
    "b[2]=b[1]\n",
    "b[1] = temp_b0\n",
    "\n",
    "print(b)\n"
   ]
  },
  {
   "cell_type": "code",
   "execution_count": 47,
   "id": "209873d7-bcf2-4a20-8e3d-857ccdb753a5",
   "metadata": {},
   "outputs": [
    {
     "name": "stdout",
     "output_type": "stream",
     "text": [
      "['orange', 'banana', 'apple']\n"
     ]
    }
   ],
   "source": [
    "# Another way of swapping values is something like unpacking?\n",
    "\n",
    "b = [\"banana\",\"apple\",\"orange\"]\n",
    "\n",
    "b[0],b[1],b[2] = b[2],b[0],b[1]\n",
    "\n",
    "print(b)"
   ]
  },
  {
   "cell_type": "markdown",
   "id": "412bdea3-0135-4195-9241-b7ca8b14935e",
   "metadata": {},
   "source": [
    "## Functions & Packages\n",
    "\n",
    "### NumPy"
   ]
  },
  {
   "cell_type": "code",
   "execution_count": 74,
   "id": "41f17695-7f6d-4194-b7d0-9c36960bc424",
   "metadata": {},
   "outputs": [],
   "source": [
    "import numpy as np\n",
    "\n",
    "zero_dim = np.array(3845)\n",
    "one_dim = np.array([34,21,7])\n",
    "two_dim = np.array([[2,4],[6,3]])\n",
    "three_dim = np.array([[[2,3,4],[5,6,7]],[[3,4,1],[6,2,6]],[[9,3,5],[1,3,2]]])\n",
    "\n",
    "arrays = [zero_dim,one_dim,two_dim,three_dim]"
   ]
  },
  {
   "cell_type": "code",
   "execution_count": 86,
   "id": "64bf7c22-2515-4c65-bb8c-858093e1bbf8",
   "metadata": {},
   "outputs": [
    {
     "name": "stdout",
     "output_type": "stream",
     "text": [
      "0-dimensional array:\n",
      "\n",
      "3845\n",
      "\n",
      "\n",
      "\n",
      "1-dimensional array:\n",
      "\n",
      "[34 21  7]\n",
      "\n",
      "\n",
      "\n",
      "2-dimensional array:\n",
      "\n",
      "[[2 4]\n",
      " [6 3]]\n",
      "\n",
      "\n",
      "\n",
      "3-dimensional array:\n",
      "\n",
      "[[[2 3 4]\n",
      "  [5 6 7]]\n",
      "\n",
      " [[3 4 1]\n",
      "  [6 2 6]]\n",
      "\n",
      " [[9 3 5]\n",
      "  [1 3 2]]]\n",
      "\n",
      "\n",
      "\n"
     ]
    }
   ],
   "source": [
    "for a in arrays:\n",
    "    print(f\"{a.ndim}-dimensional array:\\n\\n{a}\\n\\n\\n\")"
   ]
  },
  {
   "cell_type": "code",
   "execution_count": 95,
   "id": "cf500357-e55b-44ed-ac8d-9c8c7053c3f6",
   "metadata": {},
   "outputs": [],
   "source": [
    "b = np.array([4], ndmin=2)"
   ]
  },
  {
   "cell_type": "code",
   "execution_count": 115,
   "id": "a6fa75a1-ff57-4dae-80c2-98e7277ecc44",
   "metadata": {},
   "outputs": [
    {
     "name": "stdout",
     "output_type": "stream",
     "text": [
      "[[[0.66461107 0.36203778]\n",
      "  [0.87916353 0.51338581]]\n",
      "\n",
      " [[0.0568425  0.47762111]\n",
      "  [0.58706278 0.65212653]]]\n",
      "\n",
      "[[[0. 0.]\n",
      "  [0. 0.]]\n",
      "\n",
      " [[0. 0.]\n",
      "  [0. 0.]]]\n",
      "\n",
      "[[[5 5]\n",
      "  [5 5]]\n",
      "\n",
      " [[5 5]\n",
      "  [5 5]]]\n",
      "\n",
      "[[[1. 1.]\n",
      "  [1. 1.]]\n",
      "\n",
      " [[1. 1.]\n",
      "  [1. 1.]]]\n"
     ]
    }
   ],
   "source": [
    "cubic_matrix = np.random.rand(2,2,2)\n",
    "cubic_zeros = np.zeros((2,2,2))\n",
    "cubic_full = np.full((2,2,2),5)\n",
    "cubic_ones = np.ones((2,2,2))\n",
    "print(f\"{cubic_matrix}\\n\\n{cubic_zeros}\\n\\n{cubic_full}\\n\\n{cubic_ones}\")"
   ]
  },
  {
   "cell_type": "code",
   "execution_count": 118,
   "id": "b9396fcf-2286-411f-b7fc-91b7561dffce",
   "metadata": {},
   "outputs": [
    {
     "name": "stdout",
     "output_type": "stream",
     "text": [
      "(2, 2, 2)\n",
      "8\n",
      "int64\n"
     ]
    }
   ],
   "source": [
    "# Attributes\n",
    "print(cubic_full.shape) # returns tuple with number of items spanning each dimension\n",
    "print(cubic_full.size) # total number of items in array\n",
    "print(cubic_full.dtype) # what types of data objects comprise the items of array"
   ]
  },
  {
   "cell_type": "code",
   "execution_count": 129,
   "id": "2bda2dc2-a2f1-4d67-a594-fa632d00a2d6",
   "metadata": {},
   "outputs": [
    {
     "name": "stdout",
     "output_type": "stream",
     "text": [
      "[[['B' 'B']\n",
      "  ['B' 'B']]\n",
      "\n",
      " [['B' 'B']\n",
      "  ['B' 'B']]] \n",
      "\n",
      " <U1\n",
      "[['2' '3' '4']\n",
      " ['0.1345' '385' '9.13']\n",
      " ['hello' '67' 'okay']] \n",
      "\n",
      " <U32\n"
     ]
    }
   ],
   "source": [
    "mixed = np.array([[2,3,4],[0.1345,385,9.13],[\"hello\",67,\"okay\"]])\n",
    "stringray = np.full((2,2,2),\"B\")\n",
    "print(stringray,\"\\n\\n\",stringray.dtype)\n",
    "print(mixed,\"\\n\\n\",mixed.dtype)"
   ]
  },
  {
   "cell_type": "code",
   "execution_count": 135,
   "id": "6b77b80c-a4b4-4609-803b-7b8d57f71161",
   "metadata": {},
   "outputs": [
    {
     "name": "stdout",
     "output_type": "stream",
     "text": [
      "[[[0.28253222 0.73872572 0.65330356]\n",
      "  [0.52444563 0.07969556 0.7127261 ]\n",
      "  [0.45774588 0.05427697 0.7507664 ]]\n",
      "\n",
      " [[0.64866425 0.94316782 0.95306996]\n",
      "  [0.26409158 0.4990588  0.55046182]\n",
      "  [0.31188666 0.6132854  0.70929749]]\n",
      "\n",
      " [[0.31877939 0.65486795 0.59067091]\n",
      "  [0.50938422 0.45909412 0.18535969]\n",
      "  [0.25829513 0.24855194 0.34130865]]]\n"
     ]
    }
   ],
   "source": [
    "r = np.random.rand(3,3,3)\n",
    "\n",
    "print(r)"
   ]
  },
  {
   "cell_type": "code",
   "execution_count": 140,
   "id": "885c0c5a-c157-465c-9375-d878c1507a62",
   "metadata": {},
   "outputs": [
    {
     "name": "stdout",
     "output_type": "stream",
     "text": [
      "[[0.28253222 0.73872572 0.65330356]\n",
      " [0.52444563 0.07969556 0.7127261 ]\n",
      " [0.45774588 0.05427697 0.7507664 ]]\n",
      "\n",
      "[0.28253222 0.73872572 0.65330356]\n",
      "\n",
      "[0.28253222 0.73872572]\n"
     ]
    }
   ],
   "source": [
    "print(f\"{r[0]}\\n\\n{r[0][0]}\\n\\n{r[0][0][0:2]}\")"
   ]
  },
  {
   "cell_type": "code",
   "execution_count": 142,
   "id": "fa5885de-1857-439d-8652-8de3c38c56f9",
   "metadata": {},
   "outputs": [
    {
     "name": "stdout",
     "output_type": "stream",
     "text": [
      "[[[2.12447225 7.29066426 9.34997445]\n",
      "  [9.25745699 9.67446042 3.22665703]\n",
      "  [4.16027514 6.24427415 5.044845  ]]\n",
      "\n",
      " [[6.62154361 2.08064498 6.41469841]\n",
      "  [4.40128501 9.40219429 0.29036262]\n",
      "  [0.81179368 5.7388288  6.55865397]]\n",
      "\n",
      " [[3.21516494 9.98269617 9.0812934 ]\n",
      "  [2.51370282 4.69944821 5.75239265]\n",
      "  [8.87461929 9.06872462 8.18238345]]]\n"
     ]
    }
   ],
   "source": [
    "s = np.random.rand(3,3,3)*10\n",
    "print(s)"
   ]
  },
  {
   "cell_type": "code",
   "execution_count": 151,
   "id": "13901563-a1e2-4684-8606-947f17309c1e",
   "metadata": {},
   "outputs": [
    {
     "name": "stdout",
     "output_type": "stream",
     "text": [
      "[[[ True  True  True]\n",
      "  [ True  True  True]\n",
      "  [ True  True  True]]\n",
      "\n",
      " [[ True  True  True]\n",
      "  [ True  True  True]\n",
      "  [ True  True  True]]\n",
      "\n",
      " [[ True  True  True]\n",
      "  [ True  True  True]\n",
      "  [ True  True  True]]]\n",
      "[[[ True  True  True]\n",
      "  [ True  True  True]\n",
      "  [ True  True  True]]\n",
      "\n",
      " [[ True  True  True]\n",
      "  [ True  True  True]\n",
      "  [ True  True  True]]\n",
      "\n",
      " [[ True  True  True]\n",
      "  [ True  True  True]\n",
      "  [ True  True  True]]]\n"
     ]
    }
   ],
   "source": [
    "print(np.add(r,s) == r + s)\n",
    "print(np.subtract(s,r) == s - r)"
   ]
  },
  {
   "cell_type": "code",
   "execution_count": 152,
   "id": "e190ac67-9b21-4026-b80d-6975ff5e246c",
   "metadata": {},
   "outputs": [
    {
     "name": "stdout",
     "output_type": "stream",
     "text": [
      "[[[0.60023186 5.38580121 6.10837155]\n",
      "  [4.85503289 0.77101154 2.29972267]\n",
      "  [1.9043488  0.33892025 3.78750009]]\n",
      "\n",
      " [[4.29515863 1.96239738 6.11365633]\n",
      "  [1.16234231 4.69224783 0.15983354]\n",
      "  [0.25318762 3.51953989 4.65203678]]\n",
      "\n",
      " [[1.02492833 6.53734781 5.36405585]\n",
      "  [1.28044055 2.15748904 1.06626174]\n",
      "  [2.29227092 2.25404906 2.79271822]]]\n"
     ]
    }
   ],
   "source": [
    "np.multiply(r,s) == r * s\n",
    "print(r * s)"
   ]
  },
  {
   "cell_type": "code",
   "execution_count": 159,
   "id": "c7565377-cc44-4cd9-8885-5d40da93806d",
   "metadata": {},
   "outputs": [
    {
     "name": "stdout",
     "output_type": "stream",
     "text": [
      "(3, 3, 3) (3, 3, 3)\n",
      "(3, 3, 3, 3) (3, 3, 3)\n"
     ]
    }
   ],
   "source": [
    "dp = np.dot(r,s)\n",
    "cp = np.cross(r,s)\n",
    "print(r.shape, s.shape)\n",
    "print(dp.shape, cp.shape)"
   ]
  },
  {
   "cell_type": "code",
   "execution_count": 160,
   "id": "4ed005c1-aa6f-4866-849c-3f1a8a051c48",
   "metadata": {},
   "outputs": [
    {
     "data": {
      "text/plain": [
       "array([[[0.28253222, 0.73872572, 0.65330356],\n",
       "        [0.52444563, 0.07969556, 0.7127261 ],\n",
       "        [0.45774588, 0.05427697, 0.7507664 ]],\n",
       "\n",
       "       [[0.64866425, 0.94316782, 0.95306996],\n",
       "        [0.26409158, 0.4990588 , 0.55046182],\n",
       "        [0.31188666, 0.6132854 , 0.70929749]],\n",
       "\n",
       "       [[0.31877939, 0.65486795, 0.59067091],\n",
       "        [0.50938422, 0.45909412, 0.18535969],\n",
       "        [0.25829513, 0.24855194, 0.34130865]]])"
      ]
     },
     "execution_count": 160,
     "metadata": {},
     "output_type": "execute_result"
    }
   ],
   "source": [
    "r"
   ]
  },
  {
   "cell_type": "code",
   "execution_count": 161,
   "id": "096a7285-cc8f-42d0-a08d-865b87d94060",
   "metadata": {},
   "outputs": [
    {
     "data": {
      "text/plain": [
       "array([[[2.12447225, 7.29066426, 9.34997445],\n",
       "        [9.25745699, 9.67446042, 3.22665703],\n",
       "        [4.16027514, 6.24427415, 5.044845  ]],\n",
       "\n",
       "       [[6.62154361, 2.08064498, 6.41469841],\n",
       "        [4.40128501, 9.40219429, 0.29036262],\n",
       "        [0.81179368, 5.7388288 , 6.55865397]],\n",
       "\n",
       "       [[3.21516494, 9.98269617, 9.0812934 ],\n",
       "        [2.51370282, 4.69944821, 5.75239265],\n",
       "        [8.87461929, 9.06872462, 8.18238345]]])"
      ]
     },
     "execution_count": 161,
     "metadata": {},
     "output_type": "execute_result"
    }
   ],
   "source": [
    "s"
   ]
  },
  {
   "cell_type": "code",
   "execution_count": 162,
   "id": "ff124e98-bbac-4587-8168-44c5273d5ab0",
   "metadata": {},
   "outputs": [
    {
     "data": {
      "text/plain": [
       "array([[[[10.15687599, 13.2860268 ,  8.32109875],\n",
       "         [ 5.65248956, 11.28268926,  6.31164927],\n",
       "         [ 8.56314495, 12.21666662, 12.16077859]],\n",
       "\n",
       "        [[ 4.81708508,  9.04502571,  8.75629619],\n",
       "         [ 4.40198904,  5.93071136,  8.06182502],\n",
       "         [ 8.21168293, 12.07342327, 11.05288304]],\n",
       "\n",
       "        [[ 4.59832985,  8.55036305,  8.24254551],\n",
       "         [ 3.8793401 ,  5.77124904,  7.87607875],\n",
       "         [ 8.27093059, 11.6331035 , 10.61220557]]],\n",
       "\n",
       "\n",
       "       [[[14.07443794, 19.80506307, 13.91636345],\n",
       "         [ 9.22000518, 15.68699239, 10.68570227],\n",
       "         [12.91453918, 19.55091543, 19.11456585]],\n",
       "\n",
       "        [[ 7.47114326, 10.19076217,  6.85653566],\n",
       "         [ 4.39205536,  8.40073479,  5.44926445],\n",
       "         [ 6.98872259,  9.97363364,  9.77316498]],\n",
       "\n",
       "        [[ 9.29093042, 12.63611414,  8.47328979],\n",
       "         [ 5.34021814, 10.48569069,  6.83077077],\n",
       "         [ 8.83912943, 12.42799628, 12.16393666]]],\n",
       "\n",
       "\n",
       "       [[[ 9.1970034 , 12.34791873,  8.07345667],\n",
       "         [ 5.47257508, 10.21022172,  6.10902896],\n",
       "         [ 7.91305121, 11.6164277 , 11.4950827 ]],\n",
       "\n",
       "        [[ 6.10336404,  9.31267396,  7.17917964],\n",
       "         [ 5.54398773,  6.44008738,  4.61656001],\n",
       "         [ 4.43677719,  8.92349297,  8.7834413 ]],\n",
       "\n",
       "        [[ 4.26963756,  6.41897368,  4.93889392],\n",
       "         [ 3.08133257,  4.83306594,  3.96758085],\n",
       "         [ 4.48423144,  6.84177286,  6.56814039]]]])"
      ]
     },
     "execution_count": 162,
     "metadata": {},
     "output_type": "execute_result"
    }
   ],
   "source": [
    "np.dot(r,s)"
   ]
  },
  {
   "cell_type": "code",
   "execution_count": 163,
   "id": "8ee1ab75-3b37-4cc7-85d9-be39bcc2f2ad",
   "metadata": {},
   "outputs": [
    {
     "data": {
      "text/plain": [
       "31.37"
      ]
     },
     "execution_count": 163,
     "metadata": {},
     "output_type": "execute_result"
    }
   ],
   "source": [
    "v1 = np.array([1,2,3])\n",
    "v2 = np.array([6,2.5,6.79])\n",
    "np.dot(v1,v2)"
   ]
  },
  {
   "cell_type": "code",
   "execution_count": 187,
   "id": "3b5132b9-4ff1-4117-9713-bc22ec241b52",
   "metadata": {},
   "outputs": [
    {
     "name": "stdout",
     "output_type": "stream",
     "text": [
      "5.0 42 1024 3.2188758248682006 [ 2.71828183 54.59815003] 1 3\n"
     ]
    }
   ],
   "source": [
    "# Statistical Functions - SAP LEMM\n",
    "\n",
    "sqrt = np.sqrt(25)\n",
    "ab = np.abs(-42)\n",
    "power = np.power(2,10) # takes first argument as base, and second argument as exponent\n",
    "log = np.log(25)\n",
    "exp = np.exp([1,4]) # converts each item of the array to e to the power of the original item value\n",
    "mins = np.min(v1)\n",
    "maxs = np.max(v1)\n",
    "\n",
    "print(sqrt,ab,power,log,exp,mins,maxs)"
   ]
  },
  {
   "cell_type": "code",
   "execution_count": 166,
   "id": "8f1b0ac7-0600-4a23-a0fd-c9000c47087a",
   "metadata": {},
   "outputs": [
    {
     "data": {
      "text/plain": [
       "True"
      ]
     },
     "execution_count": 166,
     "metadata": {},
     "output_type": "execute_result"
    }
   ],
   "source": [
    "np.power(2,10) == 2**10"
   ]
  },
  {
   "cell_type": "code",
   "execution_count": 177,
   "id": "7748fd78-a292-4d5a-87f9-882427fc4db7",
   "metadata": {},
   "outputs": [
    {
     "name": "stdout",
     "output_type": "stream",
     "text": [
      "[7.38905610e+00 2.20264658e+04]\n",
      "[7.38905610e+00 2.20264658e+04]\n"
     ]
    }
   ],
   "source": [
    "print(np.exp([2,10]))\n",
    "\n",
    "print(np.array([np.e ** 2, np.e ** 10]))"
   ]
  },
  {
   "cell_type": "code",
   "execution_count": 194,
   "id": "5b1a9fe2-7d00-4016-a88a-732210e365e7",
   "metadata": {},
   "outputs": [
    {
     "data": {
      "text/plain": [
       "array([ 1,  2,  3, 10])"
      ]
     },
     "execution_count": 194,
     "metadata": {},
     "output_type": "execute_result"
    }
   ],
   "source": [
    "np.append(v1,10) #note: doesn't permanently change the orignal array"
   ]
  },
  {
   "cell_type": "code",
   "execution_count": 195,
   "id": "42f02a5e-00d8-4ebf-a784-bbd5a29a0677",
   "metadata": {},
   "outputs": [
    {
     "data": {
      "text/plain": [
       "array([1, 2, 4, 3])"
      ]
     },
     "execution_count": 195,
     "metadata": {},
     "output_type": "execute_result"
    }
   ],
   "source": [
    "np.insert(v1,2,4) # see that the 10 disappeared"
   ]
  },
  {
   "cell_type": "code",
   "execution_count": 201,
   "id": "df04c211-208f-477f-b545-7ec7eedcb5d1",
   "metadata": {},
   "outputs": [
    {
     "data": {
      "text/plain": [
       "array([[[0.28253222, 0.65330356, 0.73872572],\n",
       "        [0.07969556, 0.52444563, 0.7127261 ],\n",
       "        [0.05427697, 0.45774588, 0.7507664 ]],\n",
       "\n",
       "       [[0.64866425, 0.94316782, 0.95306996],\n",
       "        [0.26409158, 0.4990588 , 0.55046182],\n",
       "        [0.31188666, 0.6132854 , 0.70929749]],\n",
       "\n",
       "       [[0.31877939, 0.59067091, 0.65486795],\n",
       "        [0.18535969, 0.45909412, 0.50938422],\n",
       "        [0.24855194, 0.25829513, 0.34130865]]])"
      ]
     },
     "execution_count": 201,
     "metadata": {},
     "output_type": "execute_result"
    }
   ],
   "source": [
    "r.sort()\n",
    "r"
   ]
  },
  {
   "cell_type": "code",
   "execution_count": 190,
   "id": "fe5e7351-fd86-4689-a669-87c19a4f7570",
   "metadata": {},
   "outputs": [
    {
     "data": {
      "text/plain": [
       "True"
      ]
     },
     "execution_count": 190,
     "metadata": {},
     "output_type": "execute_result"
    }
   ],
   "source": [
    "import math\n",
    "math.log(25) == np.log(25)"
   ]
  },
  {
   "cell_type": "code",
   "execution_count": 228,
   "id": "8dc58c0d-a913-40af-afd7-481b0a6f9a6b",
   "metadata": {},
   "outputs": [
    {
     "ename": "ValueError",
     "evalue": "cannot delete array elements",
     "output_type": "error",
     "traceback": [
      "\u001b[0;31m---------------------------------------------------------------------------\u001b[0m",
      "\u001b[0;31mValueError\u001b[0m                                Traceback (most recent call last)",
      "Cell \u001b[0;32mIn[228], line 1\u001b[0m\n\u001b[0;32m----> 1\u001b[0m \u001b[38;5;28;01mdel\u001b[39;00m r[\u001b[38;5;241m0\u001b[39m]\n",
      "\u001b[0;31mValueError\u001b[0m: cannot delete array elements"
     ]
    }
   ],
   "source": [
    "del r[0] # doesn't work like a list!"
   ]
  },
  {
   "cell_type": "code",
   "execution_count": 213,
   "id": "d6d6c28c-d1d4-449e-a6ac-0084ba488ced",
   "metadata": {},
   "outputs": [
    {
     "name": "stdout",
     "output_type": "stream",
     "text": [
      "[[2 4]\n",
      " [6 3]]\n"
     ]
    }
   ],
   "source": [
    "print(two_dim)"
   ]
  },
  {
   "cell_type": "code",
   "execution_count": 217,
   "id": "b8cb2eba-7b76-4ab7-8e64-2ffba72bd2e2",
   "metadata": {},
   "outputs": [
    {
     "data": {
      "text/plain": [
       "array([[6, 3]])"
      ]
     },
     "execution_count": 217,
     "metadata": {},
     "output_type": "execute_result"
    }
   ],
   "source": [
    "np.delete(two_dim, 0, axis=0) # axis=0 means rows, so it deletes the first row"
   ]
  },
  {
   "cell_type": "code",
   "execution_count": 216,
   "id": "c452a511-18f7-4782-aef6-53fcee41e53b",
   "metadata": {},
   "outputs": [
    {
     "data": {
      "text/plain": [
       "array([[4],\n",
       "       [3]])"
      ]
     },
     "execution_count": 216,
     "metadata": {},
     "output_type": "execute_result"
    }
   ],
   "source": [
    "np.delete(two_dim, 0, axis=1) # axis=1 means columns"
   ]
  },
  {
   "cell_type": "code",
   "execution_count": 221,
   "id": "4518ef98-afe5-450e-9f5e-ec63d3f26dcf",
   "metadata": {},
   "outputs": [
    {
     "data": {
      "text/plain": [
       "array([2, 6, 3])"
      ]
     },
     "execution_count": 221,
     "metadata": {},
     "output_type": "execute_result"
    }
   ],
   "source": [
    "np.delete(two_dim,[1,1]) # ???"
   ]
  },
  {
   "cell_type": "code",
   "execution_count": 215,
   "id": "86fc9b9c-e256-46cd-92fb-c3a6c8df3f95",
   "metadata": {},
   "outputs": [
    {
     "name": "stdout",
     "output_type": "stream",
     "text": [
      "[[[2 3 4]\n",
      "  [5 6 7]]\n",
      "\n",
      " [[3 4 1]\n",
      "  [6 2 6]]\n",
      "\n",
      " [[9 3 5]\n",
      "  [1 3 2]]]\n"
     ]
    }
   ],
   "source": [
    "print(three_dim) # 3D array composed of three 2D arrays"
   ]
  },
  {
   "cell_type": "code",
   "execution_count": 222,
   "id": "533968ef-f59d-4970-9627-e46c6c17689f",
   "metadata": {},
   "outputs": [
    {
     "data": {
      "text/plain": [
       "array([[[2, 3, 4],\n",
       "        [5, 6, 7]],\n",
       "\n",
       "       [[9, 3, 5],\n",
       "        [1, 3, 2]]])"
      ]
     },
     "execution_count": 222,
     "metadata": {},
     "output_type": "execute_result"
    }
   ],
   "source": [
    "np.delete(three_dim,1,axis=0) # axis 0 means delete the second of the three 2D arrays"
   ]
  },
  {
   "cell_type": "code",
   "execution_count": 223,
   "id": "777fe28b-ce10-400b-bdbf-88410a69419b",
   "metadata": {},
   "outputs": [
    {
     "data": {
      "text/plain": [
       "array([[[2, 3, 4]],\n",
       "\n",
       "       [[3, 4, 1]],\n",
       "\n",
       "       [[9, 3, 5]]])"
      ]
     },
     "execution_count": 223,
     "metadata": {},
     "output_type": "execute_result"
    }
   ],
   "source": [
    "np.delete(three_dim,1,axis=1) # axis 1 means delete the second of the two 1D arrays within each 2D array"
   ]
  },
  {
   "cell_type": "code",
   "execution_count": 224,
   "id": "0106c2fe-334e-4561-8ddd-3fc7e0ee1365",
   "metadata": {},
   "outputs": [
    {
     "data": {
      "text/plain": [
       "array([[[2, 4],\n",
       "        [5, 7]],\n",
       "\n",
       "       [[3, 1],\n",
       "        [6, 6]],\n",
       "\n",
       "       [[9, 5],\n",
       "        [1, 2]]])"
      ]
     },
     "execution_count": 224,
     "metadata": {},
     "output_type": "execute_result"
    }
   ],
   "source": [
    "np.delete(three_dim,1,axis=2) # axis 2 means delete the second of the three items within each 1D array"
   ]
  },
  {
   "cell_type": "code",
   "execution_count": 225,
   "id": "910d966b-c826-4ef4-986b-0a4165259522",
   "metadata": {},
   "outputs": [],
   "source": [
    "np.save(\"3D-Array\",three_dim) # saves to /path/to/jupyter/notebook/3D-Array.npy"
   ]
  },
  {
   "cell_type": "code",
   "execution_count": 226,
   "id": "a3126e06-11b7-4166-af4f-769cea08fbad",
   "metadata": {},
   "outputs": [
    {
     "data": {
      "text/plain": [
       "array([[[2, 3, 4],\n",
       "        [5, 6, 7]],\n",
       "\n",
       "       [[3, 4, 1],\n",
       "        [6, 2, 6]],\n",
       "\n",
       "       [[9, 3, 5],\n",
       "        [1, 3, 2]]])"
      ]
     },
     "execution_count": 226,
     "metadata": {},
     "output_type": "execute_result"
    }
   ],
   "source": [
    "np.load(\"3D-Array.npy\")"
   ]
  },
  {
   "cell_type": "markdown",
   "id": "15eec4bb-bcb5-4c78-9de2-d9871a8aa532",
   "metadata": {
    "jp-MarkdownHeadingCollapsed": true
   },
   "source": [
    "# UNIT 5 | PY102: INTRO TO PYTHON II"
   ]
  },
  {
   "cell_type": "markdown",
   "id": "d1d491a2-07e7-48c6-a1ad-94ad053df05a",
   "metadata": {},
   "source": [
    "## "
   ]
  },
  {
   "cell_type": "markdown",
   "id": "42ba68c2-0a72-4324-849b-ea5f8b5b581b",
   "metadata": {
    "jp-MarkdownHeadingCollapsed": true
   },
   "source": [
    "## 5.1 - Matplotlib"
   ]
  },
  {
   "cell_type": "code",
   "execution_count": null,
   "id": "a2943f5d-faf4-4988-b2a3-778bbdf92416",
   "metadata": {},
   "outputs": [],
   "source": []
  },
  {
   "cell_type": "markdown",
   "id": "6c7b7c33-ad99-4921-b2a9-fbd41b21c532",
   "metadata": {
    "jp-MarkdownHeadingCollapsed": true
   },
   "source": [
    "## 5.2 - Dictionaries & Pandas"
   ]
  },
  {
   "cell_type": "code",
   "execution_count": null,
   "id": "e080588f-4288-454f-bbf9-5d6733cbc57d",
   "metadata": {},
   "outputs": [],
   "source": []
  },
  {
   "cell_type": "markdown",
   "id": "e1d09f77-2deb-4455-a7bc-2764387afd9b",
   "metadata": {
    "jp-MarkdownHeadingCollapsed": true
   },
   "source": [
    "## 5.3 - Logic, Control Flow & Filtering"
   ]
  },
  {
   "cell_type": "markdown",
   "id": "9d62c025-eb1c-45d0-beb8-c33325c0d714",
   "metadata": {},
   "source": [
    "Within the bool() function, empty strings evaluate to False while all other strings evaluate to True.\n",
    "\n",
    "Within the str() function, all booleans get converted to a string of the same name.  In the case of False, the string is 'False', which is not an empty string - i.e., the boolean of the string of False is True!"
   ]
  },
  {
   "cell_type": "code",
   "execution_count": 263,
   "id": "5b66ce9e-a4a8-4db9-bcc3-0418c6e678d7",
   "metadata": {},
   "outputs": [
    {
     "data": {
      "text/plain": [
       "True"
      ]
     },
     "execution_count": 263,
     "metadata": {},
     "output_type": "execute_result"
    }
   ],
   "source": [
    "bool(str(False))"
   ]
  },
  {
   "cell_type": "markdown",
   "id": "a72b1e8c-f9bb-445e-a60a-7111417afdcd",
   "metadata": {
    "jp-MarkdownHeadingCollapsed": true
   },
   "source": [
    "### DataCamp - Intermediate Python\n",
    "Filtering pandas DataFrames"
   ]
  },
  {
   "cell_type": "code",
   "execution_count": 330,
   "id": "53dcdd31-f326-4847-bd05-f7c10c8fc05d",
   "metadata": {},
   "outputs": [
    {
     "data": {
      "text/plain": [
       "['NotebookTest.ipynb',\n",
       " 'script.py',\n",
       " 'Springboard-Curriculum.ipynb',\n",
       " '.git',\n",
       " 'BRICS_Series - Metadata.csv',\n",
       " '3D-Array.npy',\n",
       " '.ipynb_checkpoints',\n",
       " 'BRICS_Data.csv',\n",
       " 'Untitled.ipynb',\n",
       " 'subdir']"
      ]
     },
     "execution_count": 330,
     "metadata": {},
     "output_type": "execute_result"
    }
   ],
   "source": [
    "import os, pandas as pd, numpy as np, matplotlib.pyplot as plt\n",
    "os.listdir('.')"
   ]
  },
  {
   "cell_type": "code",
   "execution_count": 331,
   "id": "24197e32-2d3d-4b83-b973-f7004ed2a542",
   "metadata": {},
   "outputs": [
    {
     "data": {
      "text/html": [
       "<div>\n",
       "<style scoped>\n",
       "    .dataframe tbody tr th:only-of-type {\n",
       "        vertical-align: middle;\n",
       "    }\n",
       "\n",
       "    .dataframe tbody tr th {\n",
       "        vertical-align: top;\n",
       "    }\n",
       "\n",
       "    .dataframe thead th {\n",
       "        text-align: right;\n",
       "    }\n",
       "</style>\n",
       "<table border=\"1\" class=\"dataframe\">\n",
       "  <thead>\n",
       "    <tr style=\"text-align: right;\">\n",
       "      <th></th>\n",
       "      <th>Series Name</th>\n",
       "      <th>Series Code</th>\n",
       "      <th>Country Name</th>\n",
       "      <th>Country Code</th>\n",
       "      <th>2009 [YR2009]</th>\n",
       "      <th>2010 [YR2010]</th>\n",
       "      <th>2011 [YR2011]</th>\n",
       "      <th>2012 [YR2012]</th>\n",
       "    </tr>\n",
       "  </thead>\n",
       "  <tbody>\n",
       "    <tr>\n",
       "      <th>0</th>\n",
       "      <td>GDP growth (annual %)</td>\n",
       "      <td>NY.GDP.MKTP.KD.ZG</td>\n",
       "      <td>Brazil</td>\n",
       "      <td>BRA</td>\n",
       "      <td>-0.125812</td>\n",
       "      <td>7.528226</td>\n",
       "      <td>3.974423</td>\n",
       "      <td>1.921176</td>\n",
       "    </tr>\n",
       "    <tr>\n",
       "      <th>1</th>\n",
       "      <td>GDP growth (annual %)</td>\n",
       "      <td>NY.GDP.MKTP.KD.ZG</td>\n",
       "      <td>Russian Federation</td>\n",
       "      <td>RUS</td>\n",
       "      <td>-7.799994</td>\n",
       "      <td>4.500000</td>\n",
       "      <td>4.300029</td>\n",
       "      <td>4.024086</td>\n",
       "    </tr>\n",
       "    <tr>\n",
       "      <th>2</th>\n",
       "      <td>GDP growth (annual %)</td>\n",
       "      <td>NY.GDP.MKTP.KD.ZG</td>\n",
       "      <td>India</td>\n",
       "      <td>IND</td>\n",
       "      <td>7.861889</td>\n",
       "      <td>8.497585</td>\n",
       "      <td>5.241316</td>\n",
       "      <td>5.456388</td>\n",
       "    </tr>\n",
       "    <tr>\n",
       "      <th>3</th>\n",
       "      <td>GDP growth (annual %)</td>\n",
       "      <td>NY.GDP.MKTP.KD.ZG</td>\n",
       "      <td>China</td>\n",
       "      <td>CHN</td>\n",
       "      <td>9.398726</td>\n",
       "      <td>10.635871</td>\n",
       "      <td>9.550832</td>\n",
       "      <td>7.863736</td>\n",
       "    </tr>\n",
       "    <tr>\n",
       "      <th>4</th>\n",
       "      <td>GDP growth (annual %)</td>\n",
       "      <td>NY.GDP.MKTP.KD.ZG</td>\n",
       "      <td>South Africa</td>\n",
       "      <td>ZAF</td>\n",
       "      <td>-1.538089</td>\n",
       "      <td>3.039733</td>\n",
       "      <td>3.168556</td>\n",
       "      <td>2.396232</td>\n",
       "    </tr>\n",
       "    <tr>\n",
       "      <th>5</th>\n",
       "      <td>General government final consumption expenditu...</td>\n",
       "      <td>NE.CON.GOVT.ZS</td>\n",
       "      <td>Brazil</td>\n",
       "      <td>BRA</td>\n",
       "      <td>19.650638</td>\n",
       "      <td>19.016858</td>\n",
       "      <td>18.669257</td>\n",
       "      <td>18.530103</td>\n",
       "    </tr>\n",
       "    <tr>\n",
       "      <th>6</th>\n",
       "      <td>General government final consumption expenditu...</td>\n",
       "      <td>NE.CON.GOVT.ZS</td>\n",
       "      <td>Russian Federation</td>\n",
       "      <td>RUS</td>\n",
       "      <td>20.786597</td>\n",
       "      <td>18.725055</td>\n",
       "      <td>17.625512</td>\n",
       "      <td>17.967238</td>\n",
       "    </tr>\n",
       "    <tr>\n",
       "      <th>7</th>\n",
       "      <td>General government final consumption expenditu...</td>\n",
       "      <td>NE.CON.GOVT.ZS</td>\n",
       "      <td>India</td>\n",
       "      <td>IND</td>\n",
       "      <td>11.459667</td>\n",
       "      <td>11.007608</td>\n",
       "      <td>11.084462</td>\n",
       "      <td>10.683856</td>\n",
       "    </tr>\n",
       "    <tr>\n",
       "      <th>8</th>\n",
       "      <td>General government final consumption expenditu...</td>\n",
       "      <td>NE.CON.GOVT.ZS</td>\n",
       "      <td>China</td>\n",
       "      <td>CHN</td>\n",
       "      <td>14.752976</td>\n",
       "      <td>14.587021</td>\n",
       "      <td>15.238865</td>\n",
       "      <td>15.756078</td>\n",
       "    </tr>\n",
       "    <tr>\n",
       "      <th>9</th>\n",
       "      <td>General government final consumption expenditu...</td>\n",
       "      <td>NE.CON.GOVT.ZS</td>\n",
       "      <td>South Africa</td>\n",
       "      <td>ZAF</td>\n",
       "      <td>17.793633</td>\n",
       "      <td>17.996064</td>\n",
       "      <td>18.195143</td>\n",
       "      <td>18.820545</td>\n",
       "    </tr>\n",
       "    <tr>\n",
       "      <th>10</th>\n",
       "      <td>NaN</td>\n",
       "      <td>NaN</td>\n",
       "      <td>NaN</td>\n",
       "      <td>NaN</td>\n",
       "      <td>NaN</td>\n",
       "      <td>NaN</td>\n",
       "      <td>NaN</td>\n",
       "      <td>NaN</td>\n",
       "    </tr>\n",
       "    <tr>\n",
       "      <th>11</th>\n",
       "      <td>NaN</td>\n",
       "      <td>NaN</td>\n",
       "      <td>NaN</td>\n",
       "      <td>NaN</td>\n",
       "      <td>NaN</td>\n",
       "      <td>NaN</td>\n",
       "      <td>NaN</td>\n",
       "      <td>NaN</td>\n",
       "    </tr>\n",
       "    <tr>\n",
       "      <th>12</th>\n",
       "      <td>NaN</td>\n",
       "      <td>NaN</td>\n",
       "      <td>NaN</td>\n",
       "      <td>NaN</td>\n",
       "      <td>NaN</td>\n",
       "      <td>NaN</td>\n",
       "      <td>NaN</td>\n",
       "      <td>NaN</td>\n",
       "    </tr>\n",
       "    <tr>\n",
       "      <th>13</th>\n",
       "      <td>Data from database: World Development Indicators</td>\n",
       "      <td>NaN</td>\n",
       "      <td>NaN</td>\n",
       "      <td>NaN</td>\n",
       "      <td>NaN</td>\n",
       "      <td>NaN</td>\n",
       "      <td>NaN</td>\n",
       "      <td>NaN</td>\n",
       "    </tr>\n",
       "    <tr>\n",
       "      <th>14</th>\n",
       "      <td>Last Updated: 11/13/2024</td>\n",
       "      <td>NaN</td>\n",
       "      <td>NaN</td>\n",
       "      <td>NaN</td>\n",
       "      <td>NaN</td>\n",
       "      <td>NaN</td>\n",
       "      <td>NaN</td>\n",
       "      <td>NaN</td>\n",
       "    </tr>\n",
       "  </tbody>\n",
       "</table>\n",
       "</div>"
      ],
      "text/plain": [
       "                                          Series Name        Series Code  \\\n",
       "0                               GDP growth (annual %)  NY.GDP.MKTP.KD.ZG   \n",
       "1                               GDP growth (annual %)  NY.GDP.MKTP.KD.ZG   \n",
       "2                               GDP growth (annual %)  NY.GDP.MKTP.KD.ZG   \n",
       "3                               GDP growth (annual %)  NY.GDP.MKTP.KD.ZG   \n",
       "4                               GDP growth (annual %)  NY.GDP.MKTP.KD.ZG   \n",
       "5   General government final consumption expenditu...     NE.CON.GOVT.ZS   \n",
       "6   General government final consumption expenditu...     NE.CON.GOVT.ZS   \n",
       "7   General government final consumption expenditu...     NE.CON.GOVT.ZS   \n",
       "8   General government final consumption expenditu...     NE.CON.GOVT.ZS   \n",
       "9   General government final consumption expenditu...     NE.CON.GOVT.ZS   \n",
       "10                                                NaN                NaN   \n",
       "11                                                NaN                NaN   \n",
       "12                                                NaN                NaN   \n",
       "13   Data from database: World Development Indicators                NaN   \n",
       "14                           Last Updated: 11/13/2024                NaN   \n",
       "\n",
       "          Country Name Country Code  2009 [YR2009]  2010 [YR2010]  \\\n",
       "0               Brazil          BRA      -0.125812       7.528226   \n",
       "1   Russian Federation          RUS      -7.799994       4.500000   \n",
       "2                India          IND       7.861889       8.497585   \n",
       "3                China          CHN       9.398726      10.635871   \n",
       "4         South Africa          ZAF      -1.538089       3.039733   \n",
       "5               Brazil          BRA      19.650638      19.016858   \n",
       "6   Russian Federation          RUS      20.786597      18.725055   \n",
       "7                India          IND      11.459667      11.007608   \n",
       "8                China          CHN      14.752976      14.587021   \n",
       "9         South Africa          ZAF      17.793633      17.996064   \n",
       "10                 NaN          NaN            NaN            NaN   \n",
       "11                 NaN          NaN            NaN            NaN   \n",
       "12                 NaN          NaN            NaN            NaN   \n",
       "13                 NaN          NaN            NaN            NaN   \n",
       "14                 NaN          NaN            NaN            NaN   \n",
       "\n",
       "    2011 [YR2011]  2012 [YR2012]  \n",
       "0        3.974423       1.921176  \n",
       "1        4.300029       4.024086  \n",
       "2        5.241316       5.456388  \n",
       "3        9.550832       7.863736  \n",
       "4        3.168556       2.396232  \n",
       "5       18.669257      18.530103  \n",
       "6       17.625512      17.967238  \n",
       "7       11.084462      10.683856  \n",
       "8       15.238865      15.756078  \n",
       "9       18.195143      18.820545  \n",
       "10            NaN            NaN  \n",
       "11            NaN            NaN  \n",
       "12            NaN            NaN  \n",
       "13            NaN            NaN  \n",
       "14            NaN            NaN  "
      ]
     },
     "execution_count": 331,
     "metadata": {},
     "output_type": "execute_result"
    }
   ],
   "source": [
    "pd.read_csv('BRICS_Data.csv')"
   ]
  },
  {
   "cell_type": "code",
   "execution_count": 332,
   "id": "54b29b83-8fd8-4644-8dcf-f5fc31f26c0d",
   "metadata": {},
   "outputs": [
    {
     "name": "stdout",
     "output_type": "stream",
     "text": [
      "                                          Series Name        Series Code  \\\n",
      "0                               GDP growth (annual %)  NY.GDP.MKTP.KD.ZG   \n",
      "1                               GDP growth (annual %)  NY.GDP.MKTP.KD.ZG   \n",
      "2                               GDP growth (annual %)  NY.GDP.MKTP.KD.ZG   \n",
      "3                               GDP growth (annual %)  NY.GDP.MKTP.KD.ZG   \n",
      "4                               GDP growth (annual %)  NY.GDP.MKTP.KD.ZG   \n",
      "5   General government final consumption expenditu...     NE.CON.GOVT.ZS   \n",
      "6   General government final consumption expenditu...     NE.CON.GOVT.ZS   \n",
      "7   General government final consumption expenditu...     NE.CON.GOVT.ZS   \n",
      "8   General government final consumption expenditu...     NE.CON.GOVT.ZS   \n",
      "9   General government final consumption expenditu...     NE.CON.GOVT.ZS   \n",
      "10                                                NaN                NaN   \n",
      "11                                                NaN                NaN   \n",
      "12                                                NaN                NaN   \n",
      "13   Data from database: World Development Indicators                NaN   \n",
      "14                           Last Updated: 11/13/2024                NaN   \n",
      "\n",
      "          Country Name Country Code  2009 [YR2009]  2010 [YR2010]  \\\n",
      "0               Brazil          BRA      -0.125812       7.528226   \n",
      "1   Russian Federation          RUS      -7.799994       4.500000   \n",
      "2                India          IND       7.861889       8.497585   \n",
      "3                China          CHN       9.398726      10.635871   \n",
      "4         South Africa          ZAF      -1.538089       3.039733   \n",
      "5               Brazil          BRA      19.650638      19.016858   \n",
      "6   Russian Federation          RUS      20.786597      18.725055   \n",
      "7                India          IND      11.459667      11.007608   \n",
      "8                China          CHN      14.752976      14.587021   \n",
      "9         South Africa          ZAF      17.793633      17.996064   \n",
      "10                 NaN          NaN            NaN            NaN   \n",
      "11                 NaN          NaN            NaN            NaN   \n",
      "12                 NaN          NaN            NaN            NaN   \n",
      "13                 NaN          NaN            NaN            NaN   \n",
      "14                 NaN          NaN            NaN            NaN   \n",
      "\n",
      "    2011 [YR2011]  2012 [YR2012]  \n",
      "0        3.974423       1.921176  \n",
      "1        4.300029       4.024086  \n",
      "2        5.241316       5.456388  \n",
      "3        9.550832       7.863736  \n",
      "4        3.168556       2.396232  \n",
      "5       18.669257      18.530103  \n",
      "6       17.625512      17.967238  \n",
      "7       11.084462      10.683856  \n",
      "8       15.238865      15.756078  \n",
      "9       18.195143      18.820545  \n",
      "10            NaN            NaN  \n",
      "11            NaN            NaN  \n",
      "12            NaN            NaN  \n",
      "13            NaN            NaN  \n",
      "14            NaN            NaN  \n"
     ]
    }
   ],
   "source": [
    "df = pd.read_csv('BRICS_Data.csv')\n",
    "print(df)"
   ]
  },
  {
   "cell_type": "code",
   "execution_count": 333,
   "id": "3f612ab7-ce92-43d6-9b83-44cfbd8ff0c1",
   "metadata": {},
   "outputs": [],
   "source": [
    "df = df.drop([i for i in range(10,15)])"
   ]
  },
  {
   "cell_type": "code",
   "execution_count": 334,
   "id": "37eb3c3c-6a16-4bb1-bf0e-da8b901c0ba1",
   "metadata": {},
   "outputs": [
    {
     "data": {
      "text/html": [
       "<div>\n",
       "<style scoped>\n",
       "    .dataframe tbody tr th:only-of-type {\n",
       "        vertical-align: middle;\n",
       "    }\n",
       "\n",
       "    .dataframe tbody tr th {\n",
       "        vertical-align: top;\n",
       "    }\n",
       "\n",
       "    .dataframe thead th {\n",
       "        text-align: right;\n",
       "    }\n",
       "</style>\n",
       "<table border=\"1\" class=\"dataframe\">\n",
       "  <thead>\n",
       "    <tr style=\"text-align: right;\">\n",
       "      <th></th>\n",
       "      <th>Series Name</th>\n",
       "      <th>Series Code</th>\n",
       "      <th>Country Name</th>\n",
       "      <th>Country Code</th>\n",
       "      <th>2009 [YR2009]</th>\n",
       "      <th>2010 [YR2010]</th>\n",
       "      <th>2011 [YR2011]</th>\n",
       "      <th>2012 [YR2012]</th>\n",
       "    </tr>\n",
       "  </thead>\n",
       "  <tbody>\n",
       "    <tr>\n",
       "      <th>0</th>\n",
       "      <td>GDP growth (annual %)</td>\n",
       "      <td>NY.GDP.MKTP.KD.ZG</td>\n",
       "      <td>Brazil</td>\n",
       "      <td>BRA</td>\n",
       "      <td>-0.125812</td>\n",
       "      <td>7.528226</td>\n",
       "      <td>3.974423</td>\n",
       "      <td>1.921176</td>\n",
       "    </tr>\n",
       "    <tr>\n",
       "      <th>1</th>\n",
       "      <td>GDP growth (annual %)</td>\n",
       "      <td>NY.GDP.MKTP.KD.ZG</td>\n",
       "      <td>Russian Federation</td>\n",
       "      <td>RUS</td>\n",
       "      <td>-7.799994</td>\n",
       "      <td>4.500000</td>\n",
       "      <td>4.300029</td>\n",
       "      <td>4.024086</td>\n",
       "    </tr>\n",
       "    <tr>\n",
       "      <th>2</th>\n",
       "      <td>GDP growth (annual %)</td>\n",
       "      <td>NY.GDP.MKTP.KD.ZG</td>\n",
       "      <td>India</td>\n",
       "      <td>IND</td>\n",
       "      <td>7.861889</td>\n",
       "      <td>8.497585</td>\n",
       "      <td>5.241316</td>\n",
       "      <td>5.456388</td>\n",
       "    </tr>\n",
       "    <tr>\n",
       "      <th>3</th>\n",
       "      <td>GDP growth (annual %)</td>\n",
       "      <td>NY.GDP.MKTP.KD.ZG</td>\n",
       "      <td>China</td>\n",
       "      <td>CHN</td>\n",
       "      <td>9.398726</td>\n",
       "      <td>10.635871</td>\n",
       "      <td>9.550832</td>\n",
       "      <td>7.863736</td>\n",
       "    </tr>\n",
       "    <tr>\n",
       "      <th>4</th>\n",
       "      <td>GDP growth (annual %)</td>\n",
       "      <td>NY.GDP.MKTP.KD.ZG</td>\n",
       "      <td>South Africa</td>\n",
       "      <td>ZAF</td>\n",
       "      <td>-1.538089</td>\n",
       "      <td>3.039733</td>\n",
       "      <td>3.168556</td>\n",
       "      <td>2.396232</td>\n",
       "    </tr>\n",
       "    <tr>\n",
       "      <th>5</th>\n",
       "      <td>General government final consumption expenditu...</td>\n",
       "      <td>NE.CON.GOVT.ZS</td>\n",
       "      <td>Brazil</td>\n",
       "      <td>BRA</td>\n",
       "      <td>19.650638</td>\n",
       "      <td>19.016858</td>\n",
       "      <td>18.669257</td>\n",
       "      <td>18.530103</td>\n",
       "    </tr>\n",
       "    <tr>\n",
       "      <th>6</th>\n",
       "      <td>General government final consumption expenditu...</td>\n",
       "      <td>NE.CON.GOVT.ZS</td>\n",
       "      <td>Russian Federation</td>\n",
       "      <td>RUS</td>\n",
       "      <td>20.786597</td>\n",
       "      <td>18.725055</td>\n",
       "      <td>17.625512</td>\n",
       "      <td>17.967238</td>\n",
       "    </tr>\n",
       "    <tr>\n",
       "      <th>7</th>\n",
       "      <td>General government final consumption expenditu...</td>\n",
       "      <td>NE.CON.GOVT.ZS</td>\n",
       "      <td>India</td>\n",
       "      <td>IND</td>\n",
       "      <td>11.459667</td>\n",
       "      <td>11.007608</td>\n",
       "      <td>11.084462</td>\n",
       "      <td>10.683856</td>\n",
       "    </tr>\n",
       "    <tr>\n",
       "      <th>8</th>\n",
       "      <td>General government final consumption expenditu...</td>\n",
       "      <td>NE.CON.GOVT.ZS</td>\n",
       "      <td>China</td>\n",
       "      <td>CHN</td>\n",
       "      <td>14.752976</td>\n",
       "      <td>14.587021</td>\n",
       "      <td>15.238865</td>\n",
       "      <td>15.756078</td>\n",
       "    </tr>\n",
       "    <tr>\n",
       "      <th>9</th>\n",
       "      <td>General government final consumption expenditu...</td>\n",
       "      <td>NE.CON.GOVT.ZS</td>\n",
       "      <td>South Africa</td>\n",
       "      <td>ZAF</td>\n",
       "      <td>17.793633</td>\n",
       "      <td>17.996064</td>\n",
       "      <td>18.195143</td>\n",
       "      <td>18.820545</td>\n",
       "    </tr>\n",
       "  </tbody>\n",
       "</table>\n",
       "</div>"
      ],
      "text/plain": [
       "                                         Series Name        Series Code  \\\n",
       "0                              GDP growth (annual %)  NY.GDP.MKTP.KD.ZG   \n",
       "1                              GDP growth (annual %)  NY.GDP.MKTP.KD.ZG   \n",
       "2                              GDP growth (annual %)  NY.GDP.MKTP.KD.ZG   \n",
       "3                              GDP growth (annual %)  NY.GDP.MKTP.KD.ZG   \n",
       "4                              GDP growth (annual %)  NY.GDP.MKTP.KD.ZG   \n",
       "5  General government final consumption expenditu...     NE.CON.GOVT.ZS   \n",
       "6  General government final consumption expenditu...     NE.CON.GOVT.ZS   \n",
       "7  General government final consumption expenditu...     NE.CON.GOVT.ZS   \n",
       "8  General government final consumption expenditu...     NE.CON.GOVT.ZS   \n",
       "9  General government final consumption expenditu...     NE.CON.GOVT.ZS   \n",
       "\n",
       "         Country Name Country Code  2009 [YR2009]  2010 [YR2010]  \\\n",
       "0              Brazil          BRA      -0.125812       7.528226   \n",
       "1  Russian Federation          RUS      -7.799994       4.500000   \n",
       "2               India          IND       7.861889       8.497585   \n",
       "3               China          CHN       9.398726      10.635871   \n",
       "4        South Africa          ZAF      -1.538089       3.039733   \n",
       "5              Brazil          BRA      19.650638      19.016858   \n",
       "6  Russian Federation          RUS      20.786597      18.725055   \n",
       "7               India          IND      11.459667      11.007608   \n",
       "8               China          CHN      14.752976      14.587021   \n",
       "9        South Africa          ZAF      17.793633      17.996064   \n",
       "\n",
       "   2011 [YR2011]  2012 [YR2012]  \n",
       "0       3.974423       1.921176  \n",
       "1       4.300029       4.024086  \n",
       "2       5.241316       5.456388  \n",
       "3       9.550832       7.863736  \n",
       "4       3.168556       2.396232  \n",
       "5      18.669257      18.530103  \n",
       "6      17.625512      17.967238  \n",
       "7      11.084462      10.683856  \n",
       "8      15.238865      15.756078  \n",
       "9      18.195143      18.820545  "
      ]
     },
     "execution_count": 334,
     "metadata": {},
     "output_type": "execute_result"
    }
   ],
   "source": [
    "df"
   ]
  },
  {
   "cell_type": "code",
   "execution_count": 335,
   "id": "bc71397e-c5d8-4ae4-bfe7-55a77ef24ded",
   "metadata": {},
   "outputs": [
    {
     "name": "stdout",
     "output_type": "stream",
     "text": [
      "  Country Code        Country Name  2012 [YR2012]\n",
      "0          BRA              Brazil       1.921176\n",
      "1          RUS  Russian Federation       4.024086\n",
      "2          IND               India       5.456388\n",
      "3          CHN               China       7.863736\n",
      "4          ZAF        South Africa       2.396232\n"
     ]
    }
   ],
   "source": [
    "sdf = df.loc[0:4,['Country Code','Country Name',df.columns[-1]]]\n",
    "print(sdf)"
   ]
  },
  {
   "cell_type": "code",
   "execution_count": 336,
   "id": "b994b6d1-599b-4876-a40a-4d19e89ee0a8",
   "metadata": {},
   "outputs": [
    {
     "data": {
      "text/html": [
       "<div>\n",
       "<style scoped>\n",
       "    .dataframe tbody tr th:only-of-type {\n",
       "        vertical-align: middle;\n",
       "    }\n",
       "\n",
       "    .dataframe tbody tr th {\n",
       "        vertical-align: top;\n",
       "    }\n",
       "\n",
       "    .dataframe thead th {\n",
       "        text-align: right;\n",
       "    }\n",
       "</style>\n",
       "<table border=\"1\" class=\"dataframe\">\n",
       "  <thead>\n",
       "    <tr style=\"text-align: right;\">\n",
       "      <th></th>\n",
       "      <th>Code</th>\n",
       "      <th>Country</th>\n",
       "      <th>GDP(2012)</th>\n",
       "    </tr>\n",
       "  </thead>\n",
       "  <tbody>\n",
       "    <tr>\n",
       "      <th>0</th>\n",
       "      <td>BR</td>\n",
       "      <td>Brazil</td>\n",
       "      <td>1.921176</td>\n",
       "    </tr>\n",
       "    <tr>\n",
       "      <th>1</th>\n",
       "      <td>RU</td>\n",
       "      <td>Russia</td>\n",
       "      <td>4.024086</td>\n",
       "    </tr>\n",
       "    <tr>\n",
       "      <th>2</th>\n",
       "      <td>IN</td>\n",
       "      <td>India</td>\n",
       "      <td>5.456388</td>\n",
       "    </tr>\n",
       "    <tr>\n",
       "      <th>3</th>\n",
       "      <td>CH</td>\n",
       "      <td>China</td>\n",
       "      <td>7.863736</td>\n",
       "    </tr>\n",
       "    <tr>\n",
       "      <th>4</th>\n",
       "      <td>SA</td>\n",
       "      <td>South Africa</td>\n",
       "      <td>2.396232</td>\n",
       "    </tr>\n",
       "  </tbody>\n",
       "</table>\n",
       "</div>"
      ],
      "text/plain": [
       "  Code       Country  GDP(2012)\n",
       "0   BR        Brazil   1.921176\n",
       "1   RU        Russia   4.024086\n",
       "2   IN         India   5.456388\n",
       "3   CH         China   7.863736\n",
       "4   SA  South Africa   2.396232"
      ]
     },
     "execution_count": 336,
     "metadata": {},
     "output_type": "execute_result"
    }
   ],
   "source": [
    "sdf.columns = ['Code','Country','GDP(2012)']\n",
    "sdf['Code'] = ['BR','RU','IN','CH','SA']\n",
    "sdf.loc[1,'Country'] = 'Russia'\n",
    "sdf.set_index = 'Code'\n",
    "sdf"
   ]
  },
  {
   "cell_type": "code",
   "execution_count": 337,
   "id": "4e65d6e1-5052-4261-a3dd-8431913da93b",
   "metadata": {},
   "outputs": [
    {
     "data": {
      "text/html": [
       "<div>\n",
       "<style scoped>\n",
       "    .dataframe tbody tr th:only-of-type {\n",
       "        vertical-align: middle;\n",
       "    }\n",
       "\n",
       "    .dataframe tbody tr th {\n",
       "        vertical-align: top;\n",
       "    }\n",
       "\n",
       "    .dataframe thead th {\n",
       "        text-align: right;\n",
       "    }\n",
       "</style>\n",
       "<table border=\"1\" class=\"dataframe\">\n",
       "  <thead>\n",
       "    <tr style=\"text-align: right;\">\n",
       "      <th></th>\n",
       "      <th>Code</th>\n",
       "      <th>Country</th>\n",
       "      <th>GDP(2012)</th>\n",
       "      <th>capital</th>\n",
       "      <th>area</th>\n",
       "      <th>population</th>\n",
       "    </tr>\n",
       "  </thead>\n",
       "  <tbody>\n",
       "    <tr>\n",
       "      <th>0</th>\n",
       "      <td>BR</td>\n",
       "      <td>Brazil</td>\n",
       "      <td>1.921176</td>\n",
       "      <td>Brasilia</td>\n",
       "      <td>8.516</td>\n",
       "      <td>200.40</td>\n",
       "    </tr>\n",
       "    <tr>\n",
       "      <th>1</th>\n",
       "      <td>RU</td>\n",
       "      <td>Russia</td>\n",
       "      <td>4.024086</td>\n",
       "      <td>Moscow</td>\n",
       "      <td>17.100</td>\n",
       "      <td>143.50</td>\n",
       "    </tr>\n",
       "    <tr>\n",
       "      <th>2</th>\n",
       "      <td>IN</td>\n",
       "      <td>India</td>\n",
       "      <td>5.456388</td>\n",
       "      <td>New Delhi</td>\n",
       "      <td>3.286</td>\n",
       "      <td>1251.00</td>\n",
       "    </tr>\n",
       "    <tr>\n",
       "      <th>3</th>\n",
       "      <td>CH</td>\n",
       "      <td>China</td>\n",
       "      <td>7.863736</td>\n",
       "      <td>Beijing</td>\n",
       "      <td>9.597</td>\n",
       "      <td>1657.00</td>\n",
       "    </tr>\n",
       "    <tr>\n",
       "      <th>4</th>\n",
       "      <td>SA</td>\n",
       "      <td>South Africa</td>\n",
       "      <td>2.396232</td>\n",
       "      <td>Pretoria</td>\n",
       "      <td>1.221</td>\n",
       "      <td>52.98</td>\n",
       "    </tr>\n",
       "  </tbody>\n",
       "</table>\n",
       "</div>"
      ],
      "text/plain": [
       "  Code       Country  GDP(2012)    capital    area  population\n",
       "0   BR        Brazil   1.921176   Brasilia   8.516      200.40\n",
       "1   RU        Russia   4.024086     Moscow  17.100      143.50\n",
       "2   IN         India   5.456388  New Delhi   3.286     1251.00\n",
       "3   CH         China   7.863736    Beijing   9.597     1657.00\n",
       "4   SA  South Africa   2.396232   Pretoria   1.221       52.98"
      ]
     },
     "execution_count": 337,
     "metadata": {},
     "output_type": "execute_result"
    }
   ],
   "source": [
    "brics = sdf\n",
    "area = [8.516,17.100,3.286,9.597,1.221]\n",
    "pop = [200.40,143.50,1251.00,1657.00,52.98]\n",
    "cap = ['Brasilia','Moscow','New Delhi','Beijing','Pretoria']\n",
    "\n",
    "brics['capital']=cap\n",
    "brics['area']=area\n",
    "brics['population']=pop\n",
    "brics"
   ]
  },
  {
   "cell_type": "code",
   "execution_count": 338,
   "id": "a23edcf6-e835-4cd0-884b-a88c412f6f79",
   "metadata": {},
   "outputs": [],
   "source": [
    "brics.index = brics['Code']\n",
    "brics.drop(columns='Code',inplace=True)"
   ]
  },
  {
   "cell_type": "code",
   "execution_count": 342,
   "id": "54876cf4-2b8d-49b8-9e2c-dce7387812a2",
   "metadata": {},
   "outputs": [
    {
     "data": {
      "text/html": [
       "<div>\n",
       "<style scoped>\n",
       "    .dataframe tbody tr th:only-of-type {\n",
       "        vertical-align: middle;\n",
       "    }\n",
       "\n",
       "    .dataframe tbody tr th {\n",
       "        vertical-align: top;\n",
       "    }\n",
       "\n",
       "    .dataframe thead th {\n",
       "        text-align: right;\n",
       "    }\n",
       "</style>\n",
       "<table border=\"1\" class=\"dataframe\">\n",
       "  <thead>\n",
       "    <tr style=\"text-align: right;\">\n",
       "      <th></th>\n",
       "      <th>Country</th>\n",
       "      <th>GDP(2012)</th>\n",
       "      <th>capital</th>\n",
       "      <th>area</th>\n",
       "      <th>population</th>\n",
       "    </tr>\n",
       "  </thead>\n",
       "  <tbody>\n",
       "    <tr>\n",
       "      <th>BR</th>\n",
       "      <td>Brazil</td>\n",
       "      <td>1.921176</td>\n",
       "      <td>Brasilia</td>\n",
       "      <td>8.516</td>\n",
       "      <td>200.40</td>\n",
       "    </tr>\n",
       "    <tr>\n",
       "      <th>RU</th>\n",
       "      <td>Russia</td>\n",
       "      <td>4.024086</td>\n",
       "      <td>Moscow</td>\n",
       "      <td>17.100</td>\n",
       "      <td>143.50</td>\n",
       "    </tr>\n",
       "    <tr>\n",
       "      <th>IN</th>\n",
       "      <td>India</td>\n",
       "      <td>5.456388</td>\n",
       "      <td>New Delhi</td>\n",
       "      <td>3.286</td>\n",
       "      <td>1251.00</td>\n",
       "    </tr>\n",
       "    <tr>\n",
       "      <th>CH</th>\n",
       "      <td>China</td>\n",
       "      <td>7.863736</td>\n",
       "      <td>Beijing</td>\n",
       "      <td>9.597</td>\n",
       "      <td>1657.00</td>\n",
       "    </tr>\n",
       "    <tr>\n",
       "      <th>SA</th>\n",
       "      <td>South Africa</td>\n",
       "      <td>2.396232</td>\n",
       "      <td>Pretoria</td>\n",
       "      <td>1.221</td>\n",
       "      <td>52.98</td>\n",
       "    </tr>\n",
       "  </tbody>\n",
       "</table>\n",
       "</div>"
      ],
      "text/plain": [
       "         Country  GDP(2012)    capital    area  population\n",
       "BR        Brazil   1.921176   Brasilia   8.516      200.40\n",
       "RU        Russia   4.024086     Moscow  17.100      143.50\n",
       "IN         India   5.456388  New Delhi   3.286     1251.00\n",
       "CH         China   7.863736    Beijing   9.597     1657.00\n",
       "SA  South Africa   2.396232   Pretoria   1.221       52.98"
      ]
     },
     "execution_count": 342,
     "metadata": {},
     "output_type": "execute_result"
    }
   ],
   "source": [
    "brics.index.name = None\n",
    "brics"
   ]
  },
  {
   "cell_type": "code",
   "execution_count": 343,
   "id": "278db38f-0df9-4f62-b97b-0a45eddd587b",
   "metadata": {},
   "outputs": [
    {
     "data": {
      "text/plain": [
       "BR     8.516\n",
       "RU    17.100\n",
       "IN     3.286\n",
       "CH     9.597\n",
       "SA     1.221\n",
       "Name: area, dtype: float64"
      ]
     },
     "execution_count": 343,
     "metadata": {},
     "output_type": "execute_result"
    }
   ],
   "source": [
    "brics['area']"
   ]
  },
  {
   "cell_type": "code",
   "execution_count": 344,
   "id": "8ccc0d10-8866-40ff-999d-9415eed4c69d",
   "metadata": {},
   "outputs": [
    {
     "data": {
      "text/plain": [
       "BR     True\n",
       "RU     True\n",
       "IN    False\n",
       "CH     True\n",
       "SA    False\n",
       "Name: area, dtype: bool"
      ]
     },
     "execution_count": 344,
     "metadata": {},
     "output_type": "execute_result"
    }
   ],
   "source": [
    "brics['area'] > 8"
   ]
  },
  {
   "cell_type": "code",
   "execution_count": 346,
   "id": "86495bbf-b0f5-4b4d-808d-0429a1014a93",
   "metadata": {},
   "outputs": [
    {
     "data": {
      "text/html": [
       "<div>\n",
       "<style scoped>\n",
       "    .dataframe tbody tr th:only-of-type {\n",
       "        vertical-align: middle;\n",
       "    }\n",
       "\n",
       "    .dataframe tbody tr th {\n",
       "        vertical-align: top;\n",
       "    }\n",
       "\n",
       "    .dataframe thead th {\n",
       "        text-align: right;\n",
       "    }\n",
       "</style>\n",
       "<table border=\"1\" class=\"dataframe\">\n",
       "  <thead>\n",
       "    <tr style=\"text-align: right;\">\n",
       "      <th></th>\n",
       "      <th>Country</th>\n",
       "      <th>GDP(2012)</th>\n",
       "      <th>capital</th>\n",
       "      <th>area</th>\n",
       "      <th>population</th>\n",
       "    </tr>\n",
       "  </thead>\n",
       "  <tbody>\n",
       "    <tr>\n",
       "      <th>BR</th>\n",
       "      <td>Brazil</td>\n",
       "      <td>1.921176</td>\n",
       "      <td>Brasilia</td>\n",
       "      <td>8.516</td>\n",
       "      <td>200.4</td>\n",
       "    </tr>\n",
       "    <tr>\n",
       "      <th>RU</th>\n",
       "      <td>Russia</td>\n",
       "      <td>4.024086</td>\n",
       "      <td>Moscow</td>\n",
       "      <td>17.100</td>\n",
       "      <td>143.5</td>\n",
       "    </tr>\n",
       "    <tr>\n",
       "      <th>CH</th>\n",
       "      <td>China</td>\n",
       "      <td>7.863736</td>\n",
       "      <td>Beijing</td>\n",
       "      <td>9.597</td>\n",
       "      <td>1657.0</td>\n",
       "    </tr>\n",
       "  </tbody>\n",
       "</table>\n",
       "</div>"
      ],
      "text/plain": [
       "   Country  GDP(2012)   capital    area  population\n",
       "BR  Brazil   1.921176  Brasilia   8.516       200.4\n",
       "RU  Russia   4.024086    Moscow  17.100       143.5\n",
       "CH   China   7.863736   Beijing   9.597      1657.0"
      ]
     },
     "execution_count": 346,
     "metadata": {},
     "output_type": "execute_result"
    }
   ],
   "source": [
    "is_huge = brics['area'] > 8\n",
    "brics[is_huge]"
   ]
  },
  {
   "cell_type": "markdown",
   "id": "4b01ed0c-c95a-4dd6-b3ca-090ffc871d56",
   "metadata": {},
   "source": [
    "Note that is_huge is a pandas **series** object.  So a series can be used to specify the entries/observations you want see."
   ]
  },
  {
   "cell_type": "code",
   "execution_count": 347,
   "id": "ca04e131-b578-445a-9c63-9b6ce2e7086e",
   "metadata": {},
   "outputs": [
    {
     "data": {
      "text/plain": [
       "pandas.core.series.Series"
      ]
     },
     "execution_count": 347,
     "metadata": {},
     "output_type": "execute_result"
    }
   ],
   "source": [
    "type(is_huge)"
   ]
  },
  {
   "cell_type": "code",
   "execution_count": 351,
   "id": "86aaa05b-09d3-4fa3-ba5d-148818217b89",
   "metadata": {},
   "outputs": [
    {
     "data": {
      "text/html": [
       "<div>\n",
       "<style scoped>\n",
       "    .dataframe tbody tr th:only-of-type {\n",
       "        vertical-align: middle;\n",
       "    }\n",
       "\n",
       "    .dataframe tbody tr th {\n",
       "        vertical-align: top;\n",
       "    }\n",
       "\n",
       "    .dataframe thead th {\n",
       "        text-align: right;\n",
       "    }\n",
       "</style>\n",
       "<table border=\"1\" class=\"dataframe\">\n",
       "  <thead>\n",
       "    <tr style=\"text-align: right;\">\n",
       "      <th></th>\n",
       "      <th>Country</th>\n",
       "      <th>GDP(2012)</th>\n",
       "      <th>capital</th>\n",
       "      <th>area</th>\n",
       "      <th>population</th>\n",
       "    </tr>\n",
       "  </thead>\n",
       "  <tbody>\n",
       "    <tr>\n",
       "      <th>BR</th>\n",
       "      <td>True</td>\n",
       "      <td>True</td>\n",
       "      <td>True</td>\n",
       "      <td>True</td>\n",
       "      <td>True</td>\n",
       "    </tr>\n",
       "    <tr>\n",
       "      <th>RU</th>\n",
       "      <td>True</td>\n",
       "      <td>True</td>\n",
       "      <td>True</td>\n",
       "      <td>True</td>\n",
       "      <td>True</td>\n",
       "    </tr>\n",
       "    <tr>\n",
       "      <th>CH</th>\n",
       "      <td>True</td>\n",
       "      <td>True</td>\n",
       "      <td>True</td>\n",
       "      <td>True</td>\n",
       "      <td>True</td>\n",
       "    </tr>\n",
       "  </tbody>\n",
       "</table>\n",
       "</div>"
      ],
      "text/plain": [
       "    Country  GDP(2012)  capital  area  population\n",
       "BR     True       True     True  True        True\n",
       "RU     True       True     True  True        True\n",
       "CH     True       True     True  True        True"
      ]
     },
     "execution_count": 351,
     "metadata": {},
     "output_type": "execute_result"
    }
   ],
   "source": [
    "brics[[True,True,False,True,False]] == brics[is_huge]"
   ]
  },
  {
   "cell_type": "markdown",
   "id": "f32308fe-8440-405a-8790-e60f73e15926",
   "metadata": {},
   "source": [
    "A simple one-liner, nesting the definition of is_huge inside the bracket:"
   ]
  },
  {
   "cell_type": "code",
   "execution_count": 352,
   "id": "6d4eb85f-ce8c-449f-98a8-cf2ff41d2fc4",
   "metadata": {},
   "outputs": [
    {
     "data": {
      "text/html": [
       "<div>\n",
       "<style scoped>\n",
       "    .dataframe tbody tr th:only-of-type {\n",
       "        vertical-align: middle;\n",
       "    }\n",
       "\n",
       "    .dataframe tbody tr th {\n",
       "        vertical-align: top;\n",
       "    }\n",
       "\n",
       "    .dataframe thead th {\n",
       "        text-align: right;\n",
       "    }\n",
       "</style>\n",
       "<table border=\"1\" class=\"dataframe\">\n",
       "  <thead>\n",
       "    <tr style=\"text-align: right;\">\n",
       "      <th></th>\n",
       "      <th>Country</th>\n",
       "      <th>GDP(2012)</th>\n",
       "      <th>capital</th>\n",
       "      <th>area</th>\n",
       "      <th>population</th>\n",
       "    </tr>\n",
       "  </thead>\n",
       "  <tbody>\n",
       "    <tr>\n",
       "      <th>BR</th>\n",
       "      <td>Brazil</td>\n",
       "      <td>1.921176</td>\n",
       "      <td>Brasilia</td>\n",
       "      <td>8.516</td>\n",
       "      <td>200.4</td>\n",
       "    </tr>\n",
       "    <tr>\n",
       "      <th>RU</th>\n",
       "      <td>Russia</td>\n",
       "      <td>4.024086</td>\n",
       "      <td>Moscow</td>\n",
       "      <td>17.100</td>\n",
       "      <td>143.5</td>\n",
       "    </tr>\n",
       "    <tr>\n",
       "      <th>CH</th>\n",
       "      <td>China</td>\n",
       "      <td>7.863736</td>\n",
       "      <td>Beijing</td>\n",
       "      <td>9.597</td>\n",
       "      <td>1657.0</td>\n",
       "    </tr>\n",
       "  </tbody>\n",
       "</table>\n",
       "</div>"
      ],
      "text/plain": [
       "   Country  GDP(2012)   capital    area  population\n",
       "BR  Brazil   1.921176  Brasilia   8.516       200.4\n",
       "RU  Russia   4.024086    Moscow  17.100       143.5\n",
       "CH   China   7.863736   Beijing   9.597      1657.0"
      ]
     },
     "execution_count": 352,
     "metadata": {},
     "output_type": "execute_result"
    }
   ],
   "source": [
    "brics[brics['area'] > 8]"
   ]
  },
  {
   "cell_type": "markdown",
   "id": "e039e3ae-2e48-44a3-bb22-15f2c50b21c6",
   "metadata": {
    "jp-MarkdownHeadingCollapsed": true
   },
   "source": [
    "#### Using numpy.logical_and() to join comparison operators and still have it work element-wise.\n",
    "Keep in mind that simply using python's and, or, not keywords will not work for whole dataframes, but since pandas is based on numpy, we can use the numpy equivalent methods.  Below is how we get rows that satisfy (10 > area > 8)."
   ]
  },
  {
   "cell_type": "code",
   "execution_count": 353,
   "id": "0e6ccd45-ce41-4d8e-9b2d-4c25dc71a56f",
   "metadata": {},
   "outputs": [
    {
     "data": {
      "text/plain": [
       "BR     True\n",
       "RU    False\n",
       "IN    False\n",
       "CH     True\n",
       "SA    False\n",
       "Name: area, dtype: bool"
      ]
     },
     "execution_count": 353,
     "metadata": {},
     "output_type": "execute_result"
    }
   ],
   "source": [
    "import numpy as np\n",
    "np.logical_and(brics['area'] > 8, brics['area'] < 10)"
   ]
  },
  {
   "cell_type": "code",
   "execution_count": 354,
   "id": "d1370c12-c3c6-4f6f-9571-6e985e300747",
   "metadata": {},
   "outputs": [
    {
     "data": {
      "text/html": [
       "<div>\n",
       "<style scoped>\n",
       "    .dataframe tbody tr th:only-of-type {\n",
       "        vertical-align: middle;\n",
       "    }\n",
       "\n",
       "    .dataframe tbody tr th {\n",
       "        vertical-align: top;\n",
       "    }\n",
       "\n",
       "    .dataframe thead th {\n",
       "        text-align: right;\n",
       "    }\n",
       "</style>\n",
       "<table border=\"1\" class=\"dataframe\">\n",
       "  <thead>\n",
       "    <tr style=\"text-align: right;\">\n",
       "      <th></th>\n",
       "      <th>Country</th>\n",
       "      <th>GDP(2012)</th>\n",
       "      <th>capital</th>\n",
       "      <th>area</th>\n",
       "      <th>population</th>\n",
       "    </tr>\n",
       "  </thead>\n",
       "  <tbody>\n",
       "    <tr>\n",
       "      <th>BR</th>\n",
       "      <td>Brazil</td>\n",
       "      <td>1.921176</td>\n",
       "      <td>Brasilia</td>\n",
       "      <td>8.516</td>\n",
       "      <td>200.4</td>\n",
       "    </tr>\n",
       "    <tr>\n",
       "      <th>CH</th>\n",
       "      <td>China</td>\n",
       "      <td>7.863736</td>\n",
       "      <td>Beijing</td>\n",
       "      <td>9.597</td>\n",
       "      <td>1657.0</td>\n",
       "    </tr>\n",
       "  </tbody>\n",
       "</table>\n",
       "</div>"
      ],
      "text/plain": [
       "   Country  GDP(2012)   capital   area  population\n",
       "BR  Brazil   1.921176  Brasilia  8.516       200.4\n",
       "CH   China   7.863736   Beijing  9.597      1657.0"
      ]
     },
     "execution_count": 354,
     "metadata": {},
     "output_type": "execute_result"
    }
   ],
   "source": [
    "brics[np.logical_and(brics['area'] > 8, brics['area'] < 10)]"
   ]
  },
  {
   "cell_type": "markdown",
   "id": "7d10f499-0ba6-476e-bcfd-9764c6bcca0a",
   "metadata": {
    "jp-MarkdownHeadingCollapsed": true
   },
   "source": [
    "## 5.4 - Loops"
   ]
  },
  {
   "cell_type": "code",
   "execution_count": null,
   "id": "567b3ba3-c2c9-42f5-a810-bd2159d81d49",
   "metadata": {},
   "outputs": [],
   "source": []
  },
  {
   "cell_type": "markdown",
   "id": "6df670de-2d27-4460-9cb1-e5a69d68abcd",
   "metadata": {},
   "source": [
    "## 5.5 - Case Study: Hacker Statistics"
   ]
  },
  {
   "cell_type": "code",
   "execution_count": null,
   "id": "9b4c128c-e0ef-4f2b-a3e7-4094ab3e312b",
   "metadata": {},
   "outputs": [],
   "source": [
    "\n",
    "    "
   ]
  },
  {
   "cell_type": "markdown",
   "id": "cdc0a262-df92-4e98-9b85-44b1bc097932",
   "metadata": {
    "jp-MarkdownHeadingCollapsed": true
   },
   "source": [
    "## 5.6 - Netflix Mini-Project"
   ]
  },
  {
   "cell_type": "code",
   "execution_count": null,
   "id": "52a07966-58d1-4a5e-b0d9-709f9f90daca",
   "metadata": {},
   "outputs": [],
   "source": []
  },
  {
   "cell_type": "markdown",
   "id": "122b5fc5-46e6-4c5e-9a2e-90b3792ed43a",
   "metadata": {
    "jp-MarkdownHeadingCollapsed": true
   },
   "source": [
    "# UNIT 6 | PY201: INTERMEDIATE PYTHON I"
   ]
  },
  {
   "cell_type": "markdown",
   "id": "687772a1-3d15-42a6-9738-d3cb51a9d286",
   "metadata": {},
   "source": [
    "## 6.4 The Collections Module"
   ]
  },
  {
   "cell_type": "markdown",
   "id": "411d12db-5254-4e76-ae64-efe952b4d0b4",
   "metadata": {},
   "source": [
    "## 6.5 Dates & Times"
   ]
  },
  {
   "cell_type": "markdown",
   "id": "0b1858dd-8c9e-44a3-9e9e-1efada38d855",
   "metadata": {},
   "source": [
    "### [Socratica: Dates & Times](https://www.youtube.com/watch?v=RjMbCUpvIgw)"
   ]
  },
  {
   "cell_type": "code",
   "execution_count": 17,
   "id": "a3ce6eea-0320-4aea-93ef-4054976800ad",
   "metadata": {},
   "outputs": [
    {
     "name": "stdout",
     "output_type": "stream",
     "text": [
      "MAXYEAR\n",
      "MINYEAR\n",
      "UTC\n",
      "__all__\n",
      "__builtins__\n",
      "__cached__\n",
      "__doc__\n",
      "__file__\n",
      "__loader__\n",
      "__name__\n",
      "__package__\n",
      "__spec__\n",
      "date\n",
      "datetime\n",
      "datetime_CAPI\n",
      "time\n",
      "timedelta\n",
      "timezone\n",
      "tzinfo\n"
     ]
    }
   ],
   "source": [
    "import datetime\n",
    "for method_name in dir(datetime):\n",
    "    print(method_name)"
   ]
  },
  {
   "cell_type": "code",
   "execution_count": 20,
   "id": "deb2d1c3-9bcd-4de8-92bf-076aeb813e25",
   "metadata": {
    "scrolled": true
   },
   "outputs": [
    {
     "name": "stdout",
     "output_type": "stream",
     "text": [
      "1984-06-10\n"
     ]
    }
   ],
   "source": [
    "# The .date() method:\n",
    "d = datetime.date(1984,6,10)\n",
    "print(d)"
   ]
  },
  {
   "cell_type": "code",
   "execution_count": 21,
   "id": "6b83324c-3b6a-4487-8297-c5853c8cd878",
   "metadata": {},
   "outputs": [
    {
     "name": "stdout",
     "output_type": "stream",
     "text": [
      "23:12:55\n"
     ]
    }
   ],
   "source": [
    "# The .time() method:\n",
    "t = datetime.time(23,12,55)\n",
    "print(t)"
   ]
  },
  {
   "cell_type": "code",
   "execution_count": 29,
   "id": "7ed4cb18-66b4-4dfb-9a38-08f2702037ef",
   "metadata": {},
   "outputs": [
    {
     "name": "stdout",
     "output_type": "stream",
     "text": [
      "4 days, 3:26:36 <class 'datetime.timedelta'>\n"
     ]
    }
   ],
   "source": [
    "# The .timedelta() method\n",
    "# datetime.timedelta(days,seconds, microseconds, ...)\n",
    "# note, doesn't take in hours or minutes as args, only days and different subdivisions of seconds\n",
    "\n",
    "dt = datetime.timedelta(3,98796) # dt is a timedelta object representing 4 days, 3 h, 26 m, 36 s\n",
    "\n",
    "print(dt, type(dt))"
   ]
  },
  {
   "cell_type": "code",
   "execution_count": 30,
   "id": "7873799e-35cd-4169-ae3a-5b60b5e530ef",
   "metadata": {},
   "outputs": [
    {
     "name": "stdout",
     "output_type": "stream",
     "text": [
      "2024-12-06 12:29:44.311816\n"
     ]
    }
   ],
   "source": [
    "# Suppose a process is estimated to take dt amount of time to complete \n",
    "# and is started right at this instant.\n",
    "# This instant can be capured using the .today() method of the datetime.datetime submodule:\n",
    "\n",
    "start = datetime.datetime.today()\n",
    "print(start)"
   ]
  },
  {
   "cell_type": "code",
   "execution_count": 31,
   "id": "418c437c-7245-4f88-8b9b-a99272bb90e6",
   "metadata": {},
   "outputs": [
    {
     "name": "stdout",
     "output_type": "stream",
     "text": [
      "2024-12-10 15:56:20.311816\n"
     ]
    }
   ],
   "source": [
    "# Then, you can simply add dt to the time at that moment \n",
    "# to get the predicted completion date/time.\n",
    "\n",
    "end = start + dt\n",
    "print(end)"
   ]
  },
  {
   "cell_type": "code",
   "execution_count": 53,
   "id": "426262be-f21a-4031-a56a-5bbea196b3ac",
   "metadata": {},
   "outputs": [
    {
     "name": "stdout",
     "output_type": "stream",
     "text": [
      "Job started on Friday, December 06th, 2024 at 12:29:44 PM\n",
      "Job will be completed by Tuesday, December 10th, 2024 at 03:56:20 PM\n",
      "4 days, 3:26:36\n"
     ]
    }
   ],
   "source": [
    "# Formatting & Codes\n",
    "my_preferred_format = \"%A, %B %dth, %Y at %I:%M:%S %p\"\n",
    "\n",
    "start_datetime = start.strftime(my_preferred_format)\n",
    "print(f\"Job started on {start_datetime}\")\n",
    "\n",
    "end_datetime = end.strftime(my_preferred_format)\n",
    "print(f\"Job will be completed by {end_datetime}\")\n",
    "\n",
    "print(dt)"
   ]
  },
  {
   "cell_type": "code",
   "execution_count": 73,
   "id": "78688997-4ee8-4d30-bd54-8a4cdab26d5e",
   "metadata": {},
   "outputs": [
    {
     "name": "stdout",
     "output_type": "stream",
     "text": [
      "   Directive  ... Try it\n",
      "0         %a  ...    NaN\n",
      "1         %A  ...    NaN\n",
      "2         %w  ...    NaN\n",
      "3         %d  ...    NaN\n",
      "4         %b  ...    NaN\n",
      "5         %B  ...    NaN\n",
      "6         %m  ...    NaN\n",
      "7         %y  ...    NaN\n",
      "8         %Y  ...    NaN\n",
      "9         %H  ...    NaN\n",
      "10        %I  ...    NaN\n",
      "11        %p  ...    NaN\n",
      "12        %M  ...    NaN\n",
      "13        %S  ...    NaN\n",
      "14        %f  ...    NaN\n",
      "15        %z  ...    NaN\n",
      "16        %Z  ...    NaN\n",
      "17        %j  ...    NaN\n",
      "18        %U  ...    NaN\n",
      "19        %W  ...    NaN\n",
      "20        %c  ...    NaN\n",
      "21        %x  ...    NaN\n",
      "22        %X  ...    NaN\n",
      "23        %%  ...    NaN\n",
      "\n",
      "[24 rows x 4 columns]\n"
     ]
    }
   ],
   "source": [
    "datetime_format_codes = pd.read_clipboard()\n",
    "print(datetime_format_codes)\n",
    "datetime_format_codes.to_csv('datetime_formate_codes.csv')"
   ]
  },
  {
   "cell_type": "markdown",
   "id": "9c70b36d-c33e-4a83-939f-358df5a72ae8",
   "metadata": {},
   "source": [
    "[w3schools table for date time codes](https://www.w3schools.com/python/gloss_python_date_format_codes.asp)"
   ]
  },
  {
   "cell_type": "code",
   "execution_count": 55,
   "id": "c0c73925-91bb-496b-99a1-811b3df857d7",
   "metadata": {},
   "outputs": [
    {
     "name": "stdout",
     "output_type": "stream",
     "text": [
      "12:29:44.311816 <class 'datetime.time'>\n",
      "2024-12-06 <class 'datetime.date'>\n",
      "2024-12-06 12:29:44.311816 <class 'datetime.datetime'>\n"
     ]
    }
   ],
   "source": [
    "start_time = start.time()\n",
    "print(start_time, type(start_time))\n",
    "start_date = start.date()\n",
    "print(start_date, type(start_date))\n",
    "print(start,type(start))"
   ]
  },
  {
   "cell_type": "code",
   "execution_count": 68,
   "id": "0fd0fdc1-e3a8-4731-9683-fe466007f0de",
   "metadata": {},
   "outputs": [
    {
     "name": "stdout",
     "output_type": "stream",
     "text": [
      "12 h 29 m 44 s 311816 microseconds\n",
      "12 / 6 / 2024\n"
     ]
    }
   ],
   "source": [
    "print(start_time.hour,'h',\n",
    "      start_time.minute,'m',\n",
    "     start_time.second,'s',\n",
    "     start_time.microsecond,'microseconds')\n",
    "\n",
    "print(start_date.month,\"/\",\n",
    "      start_date.day,\"/\",\n",
    "      start_date.year)"
   ]
  },
  {
   "cell_type": "code",
   "execution_count": 69,
   "id": "260a3c0f-ed97-404e-bbc1-7da533190f58",
   "metadata": {},
   "outputs": [
    {
     "name": "stdout",
     "output_type": "stream",
     "text": [
      "1969-07-20 00:00:00\n"
     ]
    }
   ],
   "source": [
    "# Converting strings to datetime objects\n",
    "\n",
    "moon_landing = \"7/20/1969\"\n",
    "ml_datetime = datetime.datetime.strptime(moon_landing,\"%m/%d/%Y\")\n",
    "print(ml_datetime)"
   ]
  },
  {
   "cell_type": "code",
   "execution_count": 83,
   "id": "108e3caf-ccea-433f-b595-f8956a072e7f",
   "metadata": {},
   "outputs": [
    {
     "name": "stdout",
     "output_type": "stream",
     "text": [
      "[datetime.datetime(1987, 11, 5, 0, 0), datetime.datetime(1994, 10, 23, 0, 0), datetime.datetime(2003, 8, 12, 0, 0), datetime.datetime(2021, 6, 4, 0, 0)]\n"
     ]
    }
   ],
   "source": [
    "# The caveat with using .strptime() is you need to specify the format in the second argument; \n",
    "# it is not intelligent enough determine the format automatically for some standard strings like\n",
    "# with the Linux date command (e.g., date -d \"next Thursday\" will echo the \n",
    "# date of next Thursday in \"%a %b %d %I:%M:%S %p %Z %Y\" format).\n",
    "\n",
    "date_strings = [\n",
    "    'November 5th, 1987',\n",
    "    '10/23/94',\n",
    "    'Aug 12th, 2003',\n",
    "    '2021 June 4'\n",
    "]\n",
    "\n",
    "date_formats = [\n",
    "    '%B %dth, %Y',\n",
    "    '%m/%d/%y',\n",
    "    '%b %dth, %Y',\n",
    "    '%Y %B %d'\n",
    "]\n",
    "\n",
    "datetime_list = []\n",
    "for s,f in zip(date_strings,date_formats):\n",
    "    dto = datetime.datetime.strptime(s,f)\n",
    "    datetime_list.append(dto)\n",
    "    \n",
    "print(datetime_list)"
   ]
  },
  {
   "cell_type": "code",
   "execution_count": 72,
   "id": "4a84d911-bd25-4e40-b080-75362d50b29b",
   "metadata": {},
   "outputs": [
    {
     "data": {
      "text/html": [
       "<div>\n",
       "<style scoped>\n",
       "    .dataframe tbody tr th:only-of-type {\n",
       "        vertical-align: middle;\n",
       "    }\n",
       "\n",
       "    .dataframe tbody tr th {\n",
       "        vertical-align: top;\n",
       "    }\n",
       "\n",
       "    .dataframe thead th {\n",
       "        text-align: right;\n",
       "    }\n",
       "</style>\n",
       "<table border=\"1\" class=\"dataframe\">\n",
       "  <thead>\n",
       "    <tr style=\"text-align: right;\">\n",
       "      <th></th>\n",
       "      <th>Directive</th>\n",
       "      <th>Description</th>\n",
       "      <th>Example</th>\n",
       "      <th>Try it</th>\n",
       "    </tr>\n",
       "  </thead>\n",
       "  <tbody>\n",
       "    <tr>\n",
       "      <th>0</th>\n",
       "      <td>%a</td>\n",
       "      <td>Weekday, short version</td>\n",
       "      <td>Wed</td>\n",
       "      <td>NaN</td>\n",
       "    </tr>\n",
       "    <tr>\n",
       "      <th>1</th>\n",
       "      <td>%A</td>\n",
       "      <td>Weekday, full version</td>\n",
       "      <td>Wednesday</td>\n",
       "      <td>NaN</td>\n",
       "    </tr>\n",
       "    <tr>\n",
       "      <th>2</th>\n",
       "      <td>%w</td>\n",
       "      <td>Weekday as a number 0-6, 0 is Sunday</td>\n",
       "      <td>3</td>\n",
       "      <td>NaN</td>\n",
       "    </tr>\n",
       "    <tr>\n",
       "      <th>3</th>\n",
       "      <td>%d</td>\n",
       "      <td>Day of month 01-31</td>\n",
       "      <td>31</td>\n",
       "      <td>NaN</td>\n",
       "    </tr>\n",
       "    <tr>\n",
       "      <th>4</th>\n",
       "      <td>%b</td>\n",
       "      <td>Month name, short version</td>\n",
       "      <td>Dec</td>\n",
       "      <td>NaN</td>\n",
       "    </tr>\n",
       "    <tr>\n",
       "      <th>5</th>\n",
       "      <td>%B</td>\n",
       "      <td>Month name, full version</td>\n",
       "      <td>December</td>\n",
       "      <td>NaN</td>\n",
       "    </tr>\n",
       "    <tr>\n",
       "      <th>6</th>\n",
       "      <td>%m</td>\n",
       "      <td>Month as a number 01-12</td>\n",
       "      <td>12</td>\n",
       "      <td>NaN</td>\n",
       "    </tr>\n",
       "    <tr>\n",
       "      <th>7</th>\n",
       "      <td>%y</td>\n",
       "      <td>Year, short version, without century</td>\n",
       "      <td>18</td>\n",
       "      <td>NaN</td>\n",
       "    </tr>\n",
       "    <tr>\n",
       "      <th>8</th>\n",
       "      <td>%Y</td>\n",
       "      <td>Year, full version</td>\n",
       "      <td>2018</td>\n",
       "      <td>NaN</td>\n",
       "    </tr>\n",
       "    <tr>\n",
       "      <th>9</th>\n",
       "      <td>%H</td>\n",
       "      <td>Hour 00-23</td>\n",
       "      <td>17</td>\n",
       "      <td>NaN</td>\n",
       "    </tr>\n",
       "    <tr>\n",
       "      <th>10</th>\n",
       "      <td>%I</td>\n",
       "      <td>Hour 01-12</td>\n",
       "      <td>05</td>\n",
       "      <td>NaN</td>\n",
       "    </tr>\n",
       "    <tr>\n",
       "      <th>11</th>\n",
       "      <td>%p</td>\n",
       "      <td>AM/PM</td>\n",
       "      <td>PM</td>\n",
       "      <td>NaN</td>\n",
       "    </tr>\n",
       "    <tr>\n",
       "      <th>12</th>\n",
       "      <td>%M</td>\n",
       "      <td>Minute 00-59</td>\n",
       "      <td>41</td>\n",
       "      <td>NaN</td>\n",
       "    </tr>\n",
       "    <tr>\n",
       "      <th>13</th>\n",
       "      <td>%S</td>\n",
       "      <td>Second 00-59</td>\n",
       "      <td>08</td>\n",
       "      <td>NaN</td>\n",
       "    </tr>\n",
       "    <tr>\n",
       "      <th>14</th>\n",
       "      <td>%f</td>\n",
       "      <td>Microsecond 000000-999999</td>\n",
       "      <td>548513</td>\n",
       "      <td>NaN</td>\n",
       "    </tr>\n",
       "    <tr>\n",
       "      <th>15</th>\n",
       "      <td>%z</td>\n",
       "      <td>UTC offset</td>\n",
       "      <td>+0100</td>\n",
       "      <td>NaN</td>\n",
       "    </tr>\n",
       "    <tr>\n",
       "      <th>16</th>\n",
       "      <td>%Z</td>\n",
       "      <td>Timezone</td>\n",
       "      <td>CST</td>\n",
       "      <td>NaN</td>\n",
       "    </tr>\n",
       "    <tr>\n",
       "      <th>17</th>\n",
       "      <td>%j</td>\n",
       "      <td>Day number of year 001-366</td>\n",
       "      <td>365</td>\n",
       "      <td>NaN</td>\n",
       "    </tr>\n",
       "    <tr>\n",
       "      <th>18</th>\n",
       "      <td>%U</td>\n",
       "      <td>Week number of year, Sunday as the first day o...</td>\n",
       "      <td>52</td>\n",
       "      <td>NaN</td>\n",
       "    </tr>\n",
       "    <tr>\n",
       "      <th>19</th>\n",
       "      <td>%W</td>\n",
       "      <td>Week number of year, Monday as the first day o...</td>\n",
       "      <td>52</td>\n",
       "      <td>NaN</td>\n",
       "    </tr>\n",
       "    <tr>\n",
       "      <th>20</th>\n",
       "      <td>%c</td>\n",
       "      <td>Local version of date and time</td>\n",
       "      <td>Mon Dec 31 17:41:00 2018</td>\n",
       "      <td>NaN</td>\n",
       "    </tr>\n",
       "    <tr>\n",
       "      <th>21</th>\n",
       "      <td>%x</td>\n",
       "      <td>Local version of date</td>\n",
       "      <td>12/31/18</td>\n",
       "      <td>NaN</td>\n",
       "    </tr>\n",
       "    <tr>\n",
       "      <th>22</th>\n",
       "      <td>%X</td>\n",
       "      <td>Local version of time</td>\n",
       "      <td>17:41:00</td>\n",
       "      <td>NaN</td>\n",
       "    </tr>\n",
       "    <tr>\n",
       "      <th>23</th>\n",
       "      <td>%%</td>\n",
       "      <td>A % character</td>\n",
       "      <td>%</td>\n",
       "      <td>NaN</td>\n",
       "    </tr>\n",
       "  </tbody>\n",
       "</table>\n",
       "</div>"
      ],
      "text/plain": [
       "   Directive  ... Try it\n",
       "0         %a  ...    NaN\n",
       "1         %A  ...    NaN\n",
       "2         %w  ...    NaN\n",
       "3         %d  ...    NaN\n",
       "4         %b  ...    NaN\n",
       "5         %B  ...    NaN\n",
       "6         %m  ...    NaN\n",
       "7         %y  ...    NaN\n",
       "8         %Y  ...    NaN\n",
       "9         %H  ...    NaN\n",
       "10        %I  ...    NaN\n",
       "11        %p  ...    NaN\n",
       "12        %M  ...    NaN\n",
       "13        %S  ...    NaN\n",
       "14        %f  ...    NaN\n",
       "15        %z  ...    NaN\n",
       "16        %Z  ...    NaN\n",
       "17        %j  ...    NaN\n",
       "18        %U  ...    NaN\n",
       "19        %W  ...    NaN\n",
       "20        %c  ...    NaN\n",
       "21        %x  ...    NaN\n",
       "22        %X  ...    NaN\n",
       "23        %%  ...    NaN\n",
       "\n",
       "[24 rows x 4 columns]"
      ]
     },
     "execution_count": 72,
     "metadata": {},
     "output_type": "execute_result"
    }
   ],
   "source": []
  },
  {
   "cell_type": "markdown",
   "id": "980ceb81-83f4-4f5c-919d-0a3f81034c7c",
   "metadata": {},
   "source": [
    "### Dates & Times in pandas"
   ]
  },
  {
   "cell_type": "code",
   "execution_count": 2,
   "id": "b50227d6-85e0-420d-a6e7-1da87da2f425",
   "metadata": {},
   "outputs": [],
   "source": [
    "import pandas as pd"
   ]
  },
  {
   "cell_type": "code",
   "execution_count": 7,
   "id": "54888a80-51c3-4f60-a7af-481a84485ff3",
   "metadata": {},
   "outputs": [
    {
     "name": "stdout",
     "output_type": "stream",
     "text": [
      "       Date  Reps  Sets\n",
      "0  10/30/24     5     4\n",
      "1  10/31/24    11     3\n",
      "2  11/01/24    16     2\n"
     ]
    }
   ],
   "source": [
    "gdf_unparsed = pd.read_csv('gymstatsdemo.csv')\n",
    "print(gdf_unparsed)"
   ]
  },
  {
   "cell_type": "code",
   "execution_count": 9,
   "id": "516e9703-8857-4672-9315-5ea3c9a7f05e",
   "metadata": {},
   "outputs": [
    {
     "name": "stdout",
     "output_type": "stream",
     "text": [
      "        Date  Reps  Sets\n",
      "0 2024-10-30     5     4\n",
      "1 2024-10-31    11     3\n",
      "2 2024-11-01    16     2\n"
     ]
    },
    {
     "name": "stderr",
     "output_type": "stream",
     "text": [
      "/tmp/ipykernel_1105974/1577301352.py:1: UserWarning: Could not infer format, so each element will be parsed individually, falling back to `dateutil`. To ensure parsing is consistent and as-expected, please specify a format.\n",
      "  gdf = pd.read_csv('gymstatsdemo.csv', parse_dates=['Date'])\n"
     ]
    }
   ],
   "source": [
    "gdf = pd.read_csv('gymstatsdemo.csv', parse_dates=['Date'])\n",
    "print(gdf)"
   ]
  },
  {
   "cell_type": "code",
   "execution_count": 85,
   "id": "20e8c989-9d43-49d3-ab6a-39a2a89a3e4a",
   "metadata": {},
   "outputs": [
    {
     "data": {
      "text/html": [
       "<div>\n",
       "<style scoped>\n",
       "    .dataframe tbody tr th:only-of-type {\n",
       "        vertical-align: middle;\n",
       "    }\n",
       "\n",
       "    .dataframe tbody tr th {\n",
       "        vertical-align: top;\n",
       "    }\n",
       "\n",
       "    .dataframe thead th {\n",
       "        text-align: right;\n",
       "    }\n",
       "</style>\n",
       "<table border=\"1\" class=\"dataframe\">\n",
       "  <thead>\n",
       "    <tr style=\"text-align: right;\">\n",
       "      <th></th>\n",
       "      <th>Project</th>\n",
       "      <th>Start</th>\n",
       "      <th>End</th>\n",
       "    </tr>\n",
       "  </thead>\n",
       "  <tbody>\n",
       "    <tr>\n",
       "      <th>0</th>\n",
       "      <td>A</td>\n",
       "      <td>10/30/24</td>\n",
       "      <td>11/04/24</td>\n",
       "    </tr>\n",
       "    <tr>\n",
       "      <th>1</th>\n",
       "      <td>B</td>\n",
       "      <td>10/31/24</td>\n",
       "      <td>11/11/24</td>\n",
       "    </tr>\n",
       "    <tr>\n",
       "      <th>2</th>\n",
       "      <td>C</td>\n",
       "      <td>11/01/24</td>\n",
       "      <td>11/17/24</td>\n",
       "    </tr>\n",
       "    <tr>\n",
       "      <th>3</th>\n",
       "      <td>D</td>\n",
       "      <td>11/02/24</td>\n",
       "      <td>12/28/24</td>\n",
       "    </tr>\n",
       "    <tr>\n",
       "      <th>4</th>\n",
       "      <td>E</td>\n",
       "      <td>11/03/24</td>\n",
       "      <td>04/08/25</td>\n",
       "    </tr>\n",
       "    <tr>\n",
       "      <th>5</th>\n",
       "      <td>F</td>\n",
       "      <td>11/04/24</td>\n",
       "      <td>11/06/24</td>\n",
       "    </tr>\n",
       "    <tr>\n",
       "      <th>6</th>\n",
       "      <td>G</td>\n",
       "      <td>11/05/24</td>\n",
       "      <td>08/03/37</td>\n",
       "    </tr>\n",
       "    <tr>\n",
       "      <th>7</th>\n",
       "      <td>H</td>\n",
       "      <td>11/06/24</td>\n",
       "      <td>12/21/24</td>\n",
       "    </tr>\n",
       "    <tr>\n",
       "      <th>8</th>\n",
       "      <td>I</td>\n",
       "      <td>11/07/24</td>\n",
       "      <td>11/14/24</td>\n",
       "    </tr>\n",
       "  </tbody>\n",
       "</table>\n",
       "</div>"
      ],
      "text/plain": [
       "  Project     Start       End\n",
       "0       A  10/30/24  11/04/24\n",
       "1       B  10/31/24  11/11/24\n",
       "2       C  11/01/24  11/17/24\n",
       "3       D  11/02/24  12/28/24\n",
       "4       E  11/03/24  04/08/25\n",
       "5       F  11/04/24  11/06/24\n",
       "6       G  11/05/24  08/03/37\n",
       "7       H  11/06/24  12/21/24\n",
       "8       I  11/07/24  11/14/24"
      ]
     },
     "execution_count": 85,
     "metadata": {},
     "output_type": "execute_result"
    }
   ],
   "source": [
    "projects_unparsed = pd.read_csv('project_dates.csv')\n",
    "projects_unparsed"
   ]
  },
  {
   "cell_type": "code",
   "execution_count": 86,
   "id": "686dc800-e6c0-434b-9ed0-f171ba285a59",
   "metadata": {},
   "outputs": [
    {
     "name": "stderr",
     "output_type": "stream",
     "text": [
      "/tmp/ipykernel_1105974/4146637807.py:1: UserWarning: Could not infer format, so each element will be parsed individually, falling back to `dateutil`. To ensure parsing is consistent and as-expected, please specify a format.\n",
      "  projects = pd.read_csv('project_dates.csv', parse_dates=['Start','End'])\n",
      "/tmp/ipykernel_1105974/4146637807.py:1: UserWarning: Could not infer format, so each element will be parsed individually, falling back to `dateutil`. To ensure parsing is consistent and as-expected, please specify a format.\n",
      "  projects = pd.read_csv('project_dates.csv', parse_dates=['Start','End'])\n"
     ]
    },
    {
     "data": {
      "text/html": [
       "<div>\n",
       "<style scoped>\n",
       "    .dataframe tbody tr th:only-of-type {\n",
       "        vertical-align: middle;\n",
       "    }\n",
       "\n",
       "    .dataframe tbody tr th {\n",
       "        vertical-align: top;\n",
       "    }\n",
       "\n",
       "    .dataframe thead th {\n",
       "        text-align: right;\n",
       "    }\n",
       "</style>\n",
       "<table border=\"1\" class=\"dataframe\">\n",
       "  <thead>\n",
       "    <tr style=\"text-align: right;\">\n",
       "      <th></th>\n",
       "      <th>Project</th>\n",
       "      <th>Start</th>\n",
       "      <th>End</th>\n",
       "    </tr>\n",
       "  </thead>\n",
       "  <tbody>\n",
       "    <tr>\n",
       "      <th>0</th>\n",
       "      <td>A</td>\n",
       "      <td>2024-10-30</td>\n",
       "      <td>2024-11-04</td>\n",
       "    </tr>\n",
       "    <tr>\n",
       "      <th>1</th>\n",
       "      <td>B</td>\n",
       "      <td>2024-10-31</td>\n",
       "      <td>2024-11-11</td>\n",
       "    </tr>\n",
       "    <tr>\n",
       "      <th>2</th>\n",
       "      <td>C</td>\n",
       "      <td>2024-11-01</td>\n",
       "      <td>2024-11-17</td>\n",
       "    </tr>\n",
       "    <tr>\n",
       "      <th>3</th>\n",
       "      <td>D</td>\n",
       "      <td>2024-11-02</td>\n",
       "      <td>2024-12-28</td>\n",
       "    </tr>\n",
       "    <tr>\n",
       "      <th>4</th>\n",
       "      <td>E</td>\n",
       "      <td>2024-11-03</td>\n",
       "      <td>2025-04-08</td>\n",
       "    </tr>\n",
       "    <tr>\n",
       "      <th>5</th>\n",
       "      <td>F</td>\n",
       "      <td>2024-11-04</td>\n",
       "      <td>2024-11-06</td>\n",
       "    </tr>\n",
       "    <tr>\n",
       "      <th>6</th>\n",
       "      <td>G</td>\n",
       "      <td>2024-11-05</td>\n",
       "      <td>2037-08-03</td>\n",
       "    </tr>\n",
       "    <tr>\n",
       "      <th>7</th>\n",
       "      <td>H</td>\n",
       "      <td>2024-11-06</td>\n",
       "      <td>2024-12-21</td>\n",
       "    </tr>\n",
       "    <tr>\n",
       "      <th>8</th>\n",
       "      <td>I</td>\n",
       "      <td>2024-11-07</td>\n",
       "      <td>2024-11-14</td>\n",
       "    </tr>\n",
       "  </tbody>\n",
       "</table>\n",
       "</div>"
      ],
      "text/plain": [
       "  Project      Start        End\n",
       "0       A 2024-10-30 2024-11-04\n",
       "1       B 2024-10-31 2024-11-11\n",
       "2       C 2024-11-01 2024-11-17\n",
       "3       D 2024-11-02 2024-12-28\n",
       "4       E 2024-11-03 2025-04-08\n",
       "5       F 2024-11-04 2024-11-06\n",
       "6       G 2024-11-05 2037-08-03\n",
       "7       H 2024-11-06 2024-12-21\n",
       "8       I 2024-11-07 2024-11-14"
      ]
     },
     "execution_count": 86,
     "metadata": {},
     "output_type": "execute_result"
    }
   ],
   "source": [
    "projects = pd.read_csv('project_dates.csv', parse_dates=['Start','End'])\n",
    "projects"
   ]
  },
  {
   "cell_type": "code",
   "execution_count": 94,
   "id": "f64f3d4e-bdca-4edb-960c-1873ce06fa8c",
   "metadata": {},
   "outputs": [
    {
     "name": "stdout",
     "output_type": "stream",
     "text": [
      "<class 'pandas.core.series.Series'> \n",
      "\n",
      "\n",
      "0      5 days\n",
      "1     11 days\n",
      "2     16 days\n",
      "3     56 days\n",
      "4    156 days\n",
      "5      2 days\n",
      "6   4654 days\n",
      "7     45 days\n",
      "8      7 days\n",
      "dtype: timedelta64[ns] \n",
      "\n",
      " <class 'pandas.core.series.Series'>\n"
     ]
    }
   ],
   "source": [
    "# Remember that extracting a single field from a Dataframe yields a Series object.\n",
    "print(type(projects['End']),'\\n\\n')\n",
    "\n",
    "# Thus, subtracting one Series from another also yields a Series.\n",
    "pdts = projects['End'] - projects['Start']\n",
    "\n",
    "# In this case, each item in the Series are Timestamp objects, which\n",
    "# turn into timedelta objects when you subtract one from another\n",
    "\n",
    "print(pdts, '\\n\\n', type(pdts))"
   ]
  },
  {
   "cell_type": "code",
   "execution_count": 97,
   "id": "83ff8f8a-f172-46e7-9bb1-ac36c7521520",
   "metadata": {
    "scrolled": true
   },
   "outputs": [
    {
     "ename": "TypeError",
     "evalue": "cannot add DatetimeArray and DatetimeArray",
     "output_type": "error",
     "traceback": [
      "\u001b[0;31m---------------------------------------------------------------------------\u001b[0m",
      "\u001b[0;31mTypeError\u001b[0m                                 Traceback (most recent call last)",
      "Cell \u001b[0;32mIn[97], line 4\u001b[0m\n\u001b[1;32m      1\u001b[0m \u001b[38;5;66;03m# Note that subtraction is the only arithmetic operator that seems to work\u001b[39;00m\n\u001b[1;32m      2\u001b[0m \u001b[38;5;66;03m# For example, the following gives an error:\u001b[39;00m\n\u001b[0;32m----> 4\u001b[0m projects[\u001b[38;5;124m'\u001b[39m\u001b[38;5;124mStart\u001b[39m\u001b[38;5;124m'\u001b[39m] \u001b[38;5;241m+\u001b[39m projects[\u001b[38;5;124m'\u001b[39m\u001b[38;5;124mEnd\u001b[39m\u001b[38;5;124m'\u001b[39m]\n",
      "File \u001b[0;32m~/anaconda3/lib/python3.12/site-packages/pandas/core/ops/common.py:76\u001b[0m, in \u001b[0;36m_unpack_zerodim_and_defer.<locals>.new_method\u001b[0;34m(self, other)\u001b[0m\n\u001b[1;32m     72\u001b[0m             \u001b[38;5;28;01mreturn\u001b[39;00m \u001b[38;5;28mNotImplemented\u001b[39m\n\u001b[1;32m     74\u001b[0m other \u001b[38;5;241m=\u001b[39m item_from_zerodim(other)\n\u001b[0;32m---> 76\u001b[0m \u001b[38;5;28;01mreturn\u001b[39;00m method(\u001b[38;5;28mself\u001b[39m, other)\n",
      "File \u001b[0;32m~/anaconda3/lib/python3.12/site-packages/pandas/core/arraylike.py:186\u001b[0m, in \u001b[0;36mOpsMixin.__add__\u001b[0;34m(self, other)\u001b[0m\n\u001b[1;32m     98\u001b[0m \u001b[38;5;129m@unpack_zerodim_and_defer\u001b[39m(\u001b[38;5;124m\"\u001b[39m\u001b[38;5;124m__add__\u001b[39m\u001b[38;5;124m\"\u001b[39m)\n\u001b[1;32m     99\u001b[0m \u001b[38;5;28;01mdef\u001b[39;00m \u001b[38;5;21m__add__\u001b[39m(\u001b[38;5;28mself\u001b[39m, other):\n\u001b[1;32m    100\u001b[0m \u001b[38;5;250m    \u001b[39m\u001b[38;5;124;03m\"\"\"\u001b[39;00m\n\u001b[1;32m    101\u001b[0m \u001b[38;5;124;03m    Get Addition of DataFrame and other, column-wise.\u001b[39;00m\n\u001b[1;32m    102\u001b[0m \n\u001b[0;32m   (...)\u001b[0m\n\u001b[1;32m    184\u001b[0m \u001b[38;5;124;03m    moose     3.0     NaN\u001b[39;00m\n\u001b[1;32m    185\u001b[0m \u001b[38;5;124;03m    \"\"\"\u001b[39;00m\n\u001b[0;32m--> 186\u001b[0m     \u001b[38;5;28;01mreturn\u001b[39;00m \u001b[38;5;28mself\u001b[39m\u001b[38;5;241m.\u001b[39m_arith_method(other, operator\u001b[38;5;241m.\u001b[39madd)\n",
      "File \u001b[0;32m~/anaconda3/lib/python3.12/site-packages/pandas/core/series.py:6135\u001b[0m, in \u001b[0;36mSeries._arith_method\u001b[0;34m(self, other, op)\u001b[0m\n\u001b[1;32m   6133\u001b[0m \u001b[38;5;28;01mdef\u001b[39;00m \u001b[38;5;21m_arith_method\u001b[39m(\u001b[38;5;28mself\u001b[39m, other, op):\n\u001b[1;32m   6134\u001b[0m     \u001b[38;5;28mself\u001b[39m, other \u001b[38;5;241m=\u001b[39m \u001b[38;5;28mself\u001b[39m\u001b[38;5;241m.\u001b[39m_align_for_op(other)\n\u001b[0;32m-> 6135\u001b[0m     \u001b[38;5;28;01mreturn\u001b[39;00m base\u001b[38;5;241m.\u001b[39mIndexOpsMixin\u001b[38;5;241m.\u001b[39m_arith_method(\u001b[38;5;28mself\u001b[39m, other, op)\n",
      "File \u001b[0;32m~/anaconda3/lib/python3.12/site-packages/pandas/core/base.py:1382\u001b[0m, in \u001b[0;36mIndexOpsMixin._arith_method\u001b[0;34m(self, other, op)\u001b[0m\n\u001b[1;32m   1379\u001b[0m     rvalues \u001b[38;5;241m=\u001b[39m np\u001b[38;5;241m.\u001b[39marange(rvalues\u001b[38;5;241m.\u001b[39mstart, rvalues\u001b[38;5;241m.\u001b[39mstop, rvalues\u001b[38;5;241m.\u001b[39mstep)\n\u001b[1;32m   1381\u001b[0m \u001b[38;5;28;01mwith\u001b[39;00m np\u001b[38;5;241m.\u001b[39merrstate(\u001b[38;5;28mall\u001b[39m\u001b[38;5;241m=\u001b[39m\u001b[38;5;124m\"\u001b[39m\u001b[38;5;124mignore\u001b[39m\u001b[38;5;124m\"\u001b[39m):\n\u001b[0;32m-> 1382\u001b[0m     result \u001b[38;5;241m=\u001b[39m ops\u001b[38;5;241m.\u001b[39marithmetic_op(lvalues, rvalues, op)\n\u001b[1;32m   1384\u001b[0m \u001b[38;5;28;01mreturn\u001b[39;00m \u001b[38;5;28mself\u001b[39m\u001b[38;5;241m.\u001b[39m_construct_result(result, name\u001b[38;5;241m=\u001b[39mres_name)\n",
      "File \u001b[0;32m~/anaconda3/lib/python3.12/site-packages/pandas/core/ops/array_ops.py:273\u001b[0m, in \u001b[0;36marithmetic_op\u001b[0;34m(left, right, op)\u001b[0m\n\u001b[1;32m    260\u001b[0m \u001b[38;5;66;03m# NB: We assume that extract_array and ensure_wrapped_if_datetimelike\u001b[39;00m\n\u001b[1;32m    261\u001b[0m \u001b[38;5;66;03m#  have already been called on `left` and `right`,\u001b[39;00m\n\u001b[1;32m    262\u001b[0m \u001b[38;5;66;03m#  and `maybe_prepare_scalar_for_op` has already been called on `right`\u001b[39;00m\n\u001b[1;32m    263\u001b[0m \u001b[38;5;66;03m# We need to special-case datetime64/timedelta64 dtypes (e.g. because numpy\u001b[39;00m\n\u001b[1;32m    264\u001b[0m \u001b[38;5;66;03m# casts integer dtypes to timedelta64 when operating with timedelta64 - GH#22390)\u001b[39;00m\n\u001b[1;32m    266\u001b[0m \u001b[38;5;28;01mif\u001b[39;00m (\n\u001b[1;32m    267\u001b[0m     should_extension_dispatch(left, right)\n\u001b[1;32m    268\u001b[0m     \u001b[38;5;129;01mor\u001b[39;00m \u001b[38;5;28misinstance\u001b[39m(right, (Timedelta, BaseOffset, Timestamp))\n\u001b[0;32m   (...)\u001b[0m\n\u001b[1;32m    271\u001b[0m     \u001b[38;5;66;03m# Timedelta/Timestamp and other custom scalars are included in the check\u001b[39;00m\n\u001b[1;32m    272\u001b[0m     \u001b[38;5;66;03m# because numexpr will fail on it, see GH#31457\u001b[39;00m\n\u001b[0;32m--> 273\u001b[0m     res_values \u001b[38;5;241m=\u001b[39m op(left, right)\n\u001b[1;32m    274\u001b[0m \u001b[38;5;28;01melse\u001b[39;00m:\n\u001b[1;32m    275\u001b[0m     \u001b[38;5;66;03m# TODO we should handle EAs consistently and move this check before the if/else\u001b[39;00m\n\u001b[1;32m    276\u001b[0m     \u001b[38;5;66;03m# (https://github.com/pandas-dev/pandas/issues/41165)\u001b[39;00m\n\u001b[1;32m    277\u001b[0m     \u001b[38;5;66;03m# error: Argument 2 to \"_bool_arith_check\" has incompatible type\u001b[39;00m\n\u001b[1;32m    278\u001b[0m     \u001b[38;5;66;03m# \"Union[ExtensionArray, ndarray[Any, Any]]\"; expected \"ndarray[Any, Any]\"\u001b[39;00m\n\u001b[1;32m    279\u001b[0m     _bool_arith_check(op, left, right)  \u001b[38;5;66;03m# type: ignore[arg-type]\u001b[39;00m\n",
      "File \u001b[0;32m~/anaconda3/lib/python3.12/site-packages/pandas/core/ops/common.py:76\u001b[0m, in \u001b[0;36m_unpack_zerodim_and_defer.<locals>.new_method\u001b[0;34m(self, other)\u001b[0m\n\u001b[1;32m     72\u001b[0m             \u001b[38;5;28;01mreturn\u001b[39;00m \u001b[38;5;28mNotImplemented\u001b[39m\n\u001b[1;32m     74\u001b[0m other \u001b[38;5;241m=\u001b[39m item_from_zerodim(other)\n\u001b[0;32m---> 76\u001b[0m \u001b[38;5;28;01mreturn\u001b[39;00m method(\u001b[38;5;28mself\u001b[39m, other)\n",
      "File \u001b[0;32m~/anaconda3/lib/python3.12/site-packages/pandas/core/arrays/datetimelike.py:1398\u001b[0m, in \u001b[0;36mDatetimeLikeArrayMixin.__add__\u001b[0;34m(self, other)\u001b[0m\n\u001b[1;32m   1393\u001b[0m     result \u001b[38;5;241m=\u001b[39m \u001b[38;5;28mself\u001b[39m\u001b[38;5;241m.\u001b[39m_addsub_object_array(other, operator\u001b[38;5;241m.\u001b[39madd)\n\u001b[1;32m   1394\u001b[0m \u001b[38;5;28;01melif\u001b[39;00m lib\u001b[38;5;241m.\u001b[39mis_np_dtype(other_dtype, \u001b[38;5;124m\"\u001b[39m\u001b[38;5;124mM\u001b[39m\u001b[38;5;124m\"\u001b[39m) \u001b[38;5;129;01mor\u001b[39;00m \u001b[38;5;28misinstance\u001b[39m(\n\u001b[1;32m   1395\u001b[0m     other_dtype, DatetimeTZDtype\n\u001b[1;32m   1396\u001b[0m ):\n\u001b[1;32m   1397\u001b[0m     \u001b[38;5;66;03m# DatetimeIndex, ndarray[datetime64]\u001b[39;00m\n\u001b[0;32m-> 1398\u001b[0m     \u001b[38;5;28;01mreturn\u001b[39;00m \u001b[38;5;28mself\u001b[39m\u001b[38;5;241m.\u001b[39m_add_datetime_arraylike(other)\n\u001b[1;32m   1399\u001b[0m \u001b[38;5;28;01melif\u001b[39;00m is_integer_dtype(other_dtype):\n\u001b[1;32m   1400\u001b[0m     \u001b[38;5;28;01mif\u001b[39;00m \u001b[38;5;129;01mnot\u001b[39;00m \u001b[38;5;28misinstance\u001b[39m(\u001b[38;5;28mself\u001b[39m\u001b[38;5;241m.\u001b[39mdtype, PeriodDtype):\n",
      "File \u001b[0;32m~/anaconda3/lib/python3.12/site-packages/pandas/core/arrays/datetimelike.py:1119\u001b[0m, in \u001b[0;36mDatetimeLikeArrayMixin._add_datetime_arraylike\u001b[0;34m(self, other)\u001b[0m\n\u001b[1;32m   1116\u001b[0m \u001b[38;5;129m@final\u001b[39m\n\u001b[1;32m   1117\u001b[0m \u001b[38;5;28;01mdef\u001b[39;00m \u001b[38;5;21m_add_datetime_arraylike\u001b[39m(\u001b[38;5;28mself\u001b[39m, other: DatetimeArray) \u001b[38;5;241m-\u001b[39m\u001b[38;5;241m>\u001b[39m DatetimeArray:\n\u001b[1;32m   1118\u001b[0m     \u001b[38;5;28;01mif\u001b[39;00m \u001b[38;5;129;01mnot\u001b[39;00m lib\u001b[38;5;241m.\u001b[39mis_np_dtype(\u001b[38;5;28mself\u001b[39m\u001b[38;5;241m.\u001b[39mdtype, \u001b[38;5;124m\"\u001b[39m\u001b[38;5;124mm\u001b[39m\u001b[38;5;124m\"\u001b[39m):\n\u001b[0;32m-> 1119\u001b[0m         \u001b[38;5;28;01mraise\u001b[39;00m \u001b[38;5;167;01mTypeError\u001b[39;00m(\n\u001b[1;32m   1120\u001b[0m             \u001b[38;5;124mf\u001b[39m\u001b[38;5;124m\"\u001b[39m\u001b[38;5;124mcannot add \u001b[39m\u001b[38;5;132;01m{\u001b[39;00m\u001b[38;5;28mtype\u001b[39m(\u001b[38;5;28mself\u001b[39m)\u001b[38;5;241m.\u001b[39m\u001b[38;5;18m__name__\u001b[39m\u001b[38;5;132;01m}\u001b[39;00m\u001b[38;5;124m and \u001b[39m\u001b[38;5;132;01m{\u001b[39;00m\u001b[38;5;28mtype\u001b[39m(other)\u001b[38;5;241m.\u001b[39m\u001b[38;5;18m__name__\u001b[39m\u001b[38;5;132;01m}\u001b[39;00m\u001b[38;5;124m\"\u001b[39m\n\u001b[1;32m   1121\u001b[0m         )\n\u001b[1;32m   1123\u001b[0m     \u001b[38;5;66;03m# defer to DatetimeArray.__add__\u001b[39;00m\n\u001b[1;32m   1124\u001b[0m     \u001b[38;5;28;01mreturn\u001b[39;00m other \u001b[38;5;241m+\u001b[39m \u001b[38;5;28mself\u001b[39m\n",
      "\u001b[0;31mTypeError\u001b[0m: cannot add DatetimeArray and DatetimeArray"
     ]
    }
   ],
   "source": [
    "# Note that subtraction is the only arithmetic operator that seems to work\n",
    "# For example, the following gives an error:\n",
    "\n",
    "projects['Start'] + projects['End']"
   ]
  },
  {
   "cell_type": "code",
   "execution_count": 100,
   "id": "eadc1c30-0b9f-4cc6-ab8e-58268fc28fd7",
   "metadata": {},
   "outputs": [
    {
     "data": {
      "text/plain": [
       "Timedelta('5 days 00:00:00')"
      ]
     },
     "execution_count": 100,
     "metadata": {},
     "output_type": "execute_result"
    }
   ],
   "source": [
    "pdts[0]"
   ]
  },
  {
   "cell_type": "code",
   "execution_count": 102,
   "id": "29dd340f-acfc-44c1-80fc-562b60a2c652",
   "metadata": {},
   "outputs": [
    {
     "data": {
      "text/plain": [
       "<pandas.core.indexes.accessors.TimedeltaProperties object at 0x7fb506fe5220>"
      ]
     },
     "execution_count": 102,
     "metadata": {},
     "output_type": "execute_result"
    }
   ],
   "source": [
    "# In this case, the Timedeltas are reported in units of days \n",
    "# to convert to other units, first use the .dt attribute\n",
    "\n",
    "pdts.dt"
   ]
  },
  {
   "cell_type": "code",
   "execution_count": 115,
   "id": "273bded3-34e3-4cc6-8e75-610179048644",
   "metadata": {},
   "outputs": [
    {
     "name": "stdout",
     "output_type": "stream",
     "text": [
      "as_unit\n",
      "ceil\n",
      "components\n",
      "days\n",
      "floor\n",
      "freq\n",
      "microseconds\n",
      "nanoseconds\n",
      "round\n",
      "seconds\n",
      "to_pytimedelta\n",
      "total_seconds\n",
      "unit\n"
     ]
    }
   ],
   "source": [
    "# Within pdts.dt, the following non-dunder methods exist:\n",
    "for method in dir(pdts.dt):\n",
    "    if method.startswith('_'):\n",
    "        pass\n",
    "    else:\n",
    "        print(method)"
   ]
  },
  {
   "cell_type": "code",
   "execution_count": 119,
   "id": "e59e5031-af95-4d1c-8c74-03c8f911ef16",
   "metadata": {},
   "outputs": [
    {
     "data": {
      "text/plain": [
       "0       432000.0\n",
       "1       950400.0\n",
       "2      1382400.0\n",
       "3      4838400.0\n",
       "4     13478400.0\n",
       "5       172800.0\n",
       "6    402105600.0\n",
       "7      3888000.0\n",
       "8       604800.0\n",
       "dtype: float64"
      ]
     },
     "execution_count": 119,
     "metadata": {},
     "output_type": "execute_result"
    }
   ],
   "source": [
    "# The .total_seconds() method converts the timedeltas \n",
    "# to floats representing the number of seconds.\n",
    "\n",
    "pdts.dt.total_seconds()"
   ]
  },
  {
   "cell_type": "code",
   "execution_count": 126,
   "id": "5f6d097f-8964-412f-b8b5-9ca69b41e3cc",
   "metadata": {},
   "outputs": [],
   "source": [
    "projects['Duration (s)'] = pdts.dt.total_seconds()"
   ]
  },
  {
   "cell_type": "code",
   "execution_count": 129,
   "id": "871dc430-58f6-4c3c-998a-ba5bbcb8a730",
   "metadata": {},
   "outputs": [
    {
     "data": {
      "text/html": [
       "<div>\n",
       "<style scoped>\n",
       "    .dataframe tbody tr th:only-of-type {\n",
       "        vertical-align: middle;\n",
       "    }\n",
       "\n",
       "    .dataframe tbody tr th {\n",
       "        vertical-align: top;\n",
       "    }\n",
       "\n",
       "    .dataframe thead th {\n",
       "        text-align: right;\n",
       "    }\n",
       "</style>\n",
       "<table border=\"1\" class=\"dataframe\">\n",
       "  <thead>\n",
       "    <tr style=\"text-align: right;\">\n",
       "      <th></th>\n",
       "      <th>Project</th>\n",
       "      <th>Start</th>\n",
       "      <th>End</th>\n",
       "      <th>Duration (s)</th>\n",
       "    </tr>\n",
       "  </thead>\n",
       "  <tbody>\n",
       "    <tr>\n",
       "      <th>0</th>\n",
       "      <td>A</td>\n",
       "      <td>2024-10-30</td>\n",
       "      <td>2024-11-04</td>\n",
       "      <td>432000.0</td>\n",
       "    </tr>\n",
       "    <tr>\n",
       "      <th>1</th>\n",
       "      <td>B</td>\n",
       "      <td>2024-10-31</td>\n",
       "      <td>2024-11-11</td>\n",
       "      <td>950400.0</td>\n",
       "    </tr>\n",
       "    <tr>\n",
       "      <th>2</th>\n",
       "      <td>C</td>\n",
       "      <td>2024-11-01</td>\n",
       "      <td>2024-11-17</td>\n",
       "      <td>1382400.0</td>\n",
       "    </tr>\n",
       "    <tr>\n",
       "      <th>3</th>\n",
       "      <td>D</td>\n",
       "      <td>2024-11-02</td>\n",
       "      <td>2024-12-28</td>\n",
       "      <td>4838400.0</td>\n",
       "    </tr>\n",
       "    <tr>\n",
       "      <th>4</th>\n",
       "      <td>E</td>\n",
       "      <td>2024-11-03</td>\n",
       "      <td>2025-04-08</td>\n",
       "      <td>13478400.0</td>\n",
       "    </tr>\n",
       "    <tr>\n",
       "      <th>5</th>\n",
       "      <td>F</td>\n",
       "      <td>2024-11-04</td>\n",
       "      <td>2024-11-06</td>\n",
       "      <td>172800.0</td>\n",
       "    </tr>\n",
       "    <tr>\n",
       "      <th>6</th>\n",
       "      <td>G</td>\n",
       "      <td>2024-11-05</td>\n",
       "      <td>2037-08-03</td>\n",
       "      <td>402105600.0</td>\n",
       "    </tr>\n",
       "    <tr>\n",
       "      <th>7</th>\n",
       "      <td>H</td>\n",
       "      <td>2024-11-06</td>\n",
       "      <td>2024-12-21</td>\n",
       "      <td>3888000.0</td>\n",
       "    </tr>\n",
       "    <tr>\n",
       "      <th>8</th>\n",
       "      <td>I</td>\n",
       "      <td>2024-11-07</td>\n",
       "      <td>2024-11-14</td>\n",
       "      <td>604800.0</td>\n",
       "    </tr>\n",
       "  </tbody>\n",
       "</table>\n",
       "</div>"
      ],
      "text/plain": [
       "  Project      Start        End  Duration (s)\n",
       "0       A 2024-10-30 2024-11-04      432000.0\n",
       "1       B 2024-10-31 2024-11-11      950400.0\n",
       "2       C 2024-11-01 2024-11-17     1382400.0\n",
       "3       D 2024-11-02 2024-12-28     4838400.0\n",
       "4       E 2024-11-03 2025-04-08    13478400.0\n",
       "5       F 2024-11-04 2024-11-06      172800.0\n",
       "6       G 2024-11-05 2037-08-03   402105600.0\n",
       "7       H 2024-11-06 2024-12-21     3888000.0\n",
       "8       I 2024-11-07 2024-11-14      604800.0"
      ]
     },
     "execution_count": 129,
     "metadata": {},
     "output_type": "execute_result"
    }
   ],
   "source": [
    "projects"
   ]
  },
  {
   "cell_type": "code",
   "execution_count": 136,
   "id": "c07e0868-4962-49e6-acbe-ac3feb1b8825",
   "metadata": {},
   "outputs": [
    {
     "name": "stdout",
     "output_type": "stream",
     "text": [
      "427852800.0 \n",
      " 47539200.0 \n",
      " 1382400.0\n",
      "\n",
      "\n",
      " 0       172800.0\n",
      "1       432000.0\n",
      "2       604800.0\n",
      "3       950400.0\n",
      "4      1382400.0\n",
      "5      3888000.0\n",
      "6      4838400.0\n",
      "7     13478400.0\n",
      "8    402105600.0\n",
      "Name: Duration (s), dtype: float64\n"
     ]
    }
   ],
   "source": [
    "durs = projects['Duration (s)']\n",
    "\n",
    "total_dur = durs.sum()\n",
    "mean_dur = durs.mean()\n",
    "mode_dur = durs.mode()\n",
    "med_dur = durs.median()\n",
    "\n",
    "print(total_dur,'\\n',\n",
    "      mean_dur,'\\n',\n",
    "      #mode_dur,'\\n',\n",
    "      med_dur)\n",
    "print('\\n\\n',mode_dur)\n"
   ]
  },
  {
   "cell_type": "code",
   "execution_count": 141,
   "id": "7a38720f-202b-403e-8cda-eaafbe9e2764",
   "metadata": {},
   "outputs": [
    {
     "name": "stdout",
     "output_type": "stream",
     "text": [
      "91 days, 0:00:00 <class 'datetime.timedelta'>\n",
      "5 days 00:00:00 <class 'pandas._libs.tslibs.timedeltas.Timedelta'>\n"
     ]
    }
   ],
   "source": [
    "d91 = datetime.timedelta(days=91)\n",
    "print(d91, type(d91))\n",
    "print(pdts[0],type(pdts[0]))"
   ]
  },
  {
   "cell_type": "code",
   "execution_count": 145,
   "id": "e5a04dc0-14bf-4a95-b694-f130411291f3",
   "metadata": {},
   "outputs": [],
   "source": [
    "from pandas._libs.tslibs.timedeltas import Timedelta"
   ]
  },
  {
   "cell_type": "code",
   "execution_count": 147,
   "id": "0da86e25-b2b9-4be8-ae28-1991d97bf9c5",
   "metadata": {},
   "outputs": [
    {
     "name": "stdout",
     "output_type": "stream",
     "text": [
      "0 days 00:00:00.000000010\n",
      "10 days 00:00:00\n"
     ]
    }
   ],
   "source": [
    "print(Timedelta(10))\n",
    "print(Timedelta(days=10))"
   ]
  },
  {
   "cell_type": "code",
   "execution_count": 153,
   "id": "25a5ee82-c79c-4648-9f7b-440213e3cb12",
   "metadata": {},
   "outputs": [
    {
     "data": {
      "text/plain": [
       "Project\n",
       "A    0.111111\n",
       "B    0.111111\n",
       "C    0.111111\n",
       "D    0.111111\n",
       "E    0.111111\n",
       "F    0.111111\n",
       "G    0.111111\n",
       "H    0.111111\n",
       "I    0.111111\n",
       "Name: count, dtype: float64"
      ]
     },
     "execution_count": 153,
     "metadata": {},
     "output_type": "execute_result"
    }
   ],
   "source": [
    "projects['Project'].value_counts() / len(projects)"
   ]
  },
  {
   "cell_type": "code",
   "execution_count": 155,
   "id": "0b73ce59-0f1b-4c9f-979c-7045cfbe7f00",
   "metadata": {},
   "outputs": [
    {
     "name": "stdout",
     "output_type": "stream",
     "text": [
      "['AM', 'PM', 'AM', 'PM', 'PM', 'AM', 'AM', 'PM', 'PM']\n"
     ]
    }
   ],
   "source": [
    "from random import choice\n",
    "\n",
    "tod = ['AM','PM']\n",
    "\n",
    "ptype = [ choice(tod) for i in range(9) ]\n",
    "\n",
    "print(ptype)"
   ]
  },
  {
   "cell_type": "code",
   "execution_count": 158,
   "id": "24fb0870-3ee0-4ca4-a022-39196e68a011",
   "metadata": {},
   "outputs": [
    {
     "data": {
      "text/html": [
       "<div>\n",
       "<style scoped>\n",
       "    .dataframe tbody tr th:only-of-type {\n",
       "        vertical-align: middle;\n",
       "    }\n",
       "\n",
       "    .dataframe tbody tr th {\n",
       "        vertical-align: top;\n",
       "    }\n",
       "\n",
       "    .dataframe thead th {\n",
       "        text-align: right;\n",
       "    }\n",
       "</style>\n",
       "<table border=\"1\" class=\"dataframe\">\n",
       "  <thead>\n",
       "    <tr style=\"text-align: right;\">\n",
       "      <th></th>\n",
       "      <th>Project</th>\n",
       "      <th>Start</th>\n",
       "      <th>End</th>\n",
       "      <th>Duration (s)</th>\n",
       "      <th>Type</th>\n",
       "    </tr>\n",
       "  </thead>\n",
       "  <tbody>\n",
       "    <tr>\n",
       "      <th>0</th>\n",
       "      <td>A</td>\n",
       "      <td>2024-10-30</td>\n",
       "      <td>2024-11-04</td>\n",
       "      <td>432000.0</td>\n",
       "      <td>AM</td>\n",
       "    </tr>\n",
       "    <tr>\n",
       "      <th>1</th>\n",
       "      <td>B</td>\n",
       "      <td>2024-10-31</td>\n",
       "      <td>2024-11-11</td>\n",
       "      <td>950400.0</td>\n",
       "      <td>PM</td>\n",
       "    </tr>\n",
       "    <tr>\n",
       "      <th>2</th>\n",
       "      <td>C</td>\n",
       "      <td>2024-11-01</td>\n",
       "      <td>2024-11-17</td>\n",
       "      <td>1382400.0</td>\n",
       "      <td>AM</td>\n",
       "    </tr>\n",
       "    <tr>\n",
       "      <th>3</th>\n",
       "      <td>D</td>\n",
       "      <td>2024-11-02</td>\n",
       "      <td>2024-12-28</td>\n",
       "      <td>4838400.0</td>\n",
       "      <td>PM</td>\n",
       "    </tr>\n",
       "    <tr>\n",
       "      <th>4</th>\n",
       "      <td>E</td>\n",
       "      <td>2024-11-03</td>\n",
       "      <td>2025-04-08</td>\n",
       "      <td>13478400.0</td>\n",
       "      <td>PM</td>\n",
       "    </tr>\n",
       "    <tr>\n",
       "      <th>5</th>\n",
       "      <td>F</td>\n",
       "      <td>2024-11-04</td>\n",
       "      <td>2024-11-06</td>\n",
       "      <td>172800.0</td>\n",
       "      <td>AM</td>\n",
       "    </tr>\n",
       "    <tr>\n",
       "      <th>6</th>\n",
       "      <td>G</td>\n",
       "      <td>2024-11-05</td>\n",
       "      <td>2037-08-03</td>\n",
       "      <td>402105600.0</td>\n",
       "      <td>AM</td>\n",
       "    </tr>\n",
       "    <tr>\n",
       "      <th>7</th>\n",
       "      <td>H</td>\n",
       "      <td>2024-11-06</td>\n",
       "      <td>2024-12-21</td>\n",
       "      <td>3888000.0</td>\n",
       "      <td>PM</td>\n",
       "    </tr>\n",
       "    <tr>\n",
       "      <th>8</th>\n",
       "      <td>I</td>\n",
       "      <td>2024-11-07</td>\n",
       "      <td>2024-11-14</td>\n",
       "      <td>604800.0</td>\n",
       "      <td>PM</td>\n",
       "    </tr>\n",
       "  </tbody>\n",
       "</table>\n",
       "</div>"
      ],
      "text/plain": [
       "  Project      Start        End  Duration (s) Type\n",
       "0       A 2024-10-30 2024-11-04      432000.0   AM\n",
       "1       B 2024-10-31 2024-11-11      950400.0   PM\n",
       "2       C 2024-11-01 2024-11-17     1382400.0   AM\n",
       "3       D 2024-11-02 2024-12-28     4838400.0   PM\n",
       "4       E 2024-11-03 2025-04-08    13478400.0   PM\n",
       "5       F 2024-11-04 2024-11-06      172800.0   AM\n",
       "6       G 2024-11-05 2037-08-03   402105600.0   AM\n",
       "7       H 2024-11-06 2024-12-21     3888000.0   PM\n",
       "8       I 2024-11-07 2024-11-14      604800.0   PM"
      ]
     },
     "execution_count": 158,
     "metadata": {},
     "output_type": "execute_result"
    }
   ],
   "source": [
    "projects['Type'] = ptype\n",
    "projects"
   ]
  },
  {
   "cell_type": "code",
   "execution_count": 170,
   "id": "646eb611-3f58-4182-824e-c8d87c1ffd6b",
   "metadata": {},
   "outputs": [
    {
     "data": {
      "text/plain": [
       "<Axes: xlabel='Type'>"
      ]
     },
     "execution_count": 170,
     "metadata": {},
     "output_type": "execute_result"
    },
    {
     "data": {
      "image/png": "[encoded data removed]",
      "text/plain": [
       "<Figure size 640x480 with 1 Axes>"
      ]
     },
     "metadata": {},
     "output_type": "display_data"
    }
   ],
   "source": [
    "projects.groupby('Type')['Duration (s)'].mean().plot()"
   ]
  },
  {
   "cell_type": "code",
   "execution_count": 173,
   "id": "35514bc2-857a-433d-b478-c9dce0af24a5",
   "metadata": {},
   "outputs": [
    {
     "data": {
      "text/html": [
       "<div>\n",
       "<style scoped>\n",
       "    .dataframe tbody tr th:only-of-type {\n",
       "        vertical-align: middle;\n",
       "    }\n",
       "\n",
       "    .dataframe tbody tr th {\n",
       "        vertical-align: top;\n",
       "    }\n",
       "\n",
       "    .dataframe thead th {\n",
       "        text-align: right;\n",
       "    }\n",
       "</style>\n",
       "<table border=\"1\" class=\"dataframe\">\n",
       "  <thead>\n",
       "    <tr style=\"text-align: right;\">\n",
       "      <th></th>\n",
       "      <th>Start Date</th>\n",
       "      <th>Start Time</th>\n",
       "      <th>End Date</th>\n",
       "      <th>End Time</th>\n",
       "      <th>Station</th>\n",
       "      <th>Station No.</th>\n",
       "      <th>Duration</th>\n",
       "    </tr>\n",
       "  </thead>\n",
       "  <tbody>\n",
       "    <tr>\n",
       "      <th>0</th>\n",
       "      <td>2017-10-01</td>\n",
       "      <td>03:23:25 PM</td>\n",
       "      <td>2017-10-01</td>\n",
       "      <td>03:26:26 PM</td>\n",
       "      <td>Glebe Rd &amp; 11th St N</td>\n",
       "      <td>31038</td>\n",
       "      <td>181</td>\n",
       "    </tr>\n",
       "    <tr>\n",
       "      <th>1</th>\n",
       "      <td>2017-10-01</td>\n",
       "      <td>03:42:57 PM</td>\n",
       "      <td>2017-10-01</td>\n",
       "      <td>05:49:59 PM</td>\n",
       "      <td>George Mason Dr &amp; Wilson Blvd</td>\n",
       "      <td>31036</td>\n",
       "      <td>7622</td>\n",
       "    </tr>\n",
       "    <tr>\n",
       "      <th>2</th>\n",
       "      <td>2017-10-02</td>\n",
       "      <td>06:37:10 AM</td>\n",
       "      <td>2017-10-02</td>\n",
       "      <td>06:42:53 AM</td>\n",
       "      <td>George Mason Dr &amp; Wilson Blvd</td>\n",
       "      <td>31036</td>\n",
       "      <td>343</td>\n",
       "    </tr>\n",
       "    <tr>\n",
       "      <th>3</th>\n",
       "      <td>2017-10-02</td>\n",
       "      <td>08:56:45 AM</td>\n",
       "      <td>2017-10-02</td>\n",
       "      <td>09:18:03 AM</td>\n",
       "      <td>Ballston Metro / N Stuart &amp; 9th St N</td>\n",
       "      <td>31037</td>\n",
       "      <td>1278</td>\n",
       "    </tr>\n",
       "    <tr>\n",
       "      <th>4</th>\n",
       "      <td>2017-10-02</td>\n",
       "      <td>06:23:48 PM</td>\n",
       "      <td>2017-10-02</td>\n",
       "      <td>06:45:05 PM</td>\n",
       "      <td>Potomac &amp; M St NW</td>\n",
       "      <td>31295</td>\n",
       "      <td>1277</td>\n",
       "    </tr>\n",
       "    <tr>\n",
       "      <th>5</th>\n",
       "      <td>2017-10-02</td>\n",
       "      <td>06:48:08 PM</td>\n",
       "      <td>2017-10-02</td>\n",
       "      <td>07:10:54 PM</td>\n",
       "      <td>Metro Center / 12th &amp; G St NW</td>\n",
       "      <td>31230</td>\n",
       "      <td>1366</td>\n",
       "    </tr>\n",
       "    <tr>\n",
       "      <th>6</th>\n",
       "      <td>2017-10-02</td>\n",
       "      <td>07:18:10 PM</td>\n",
       "      <td>2017-10-02</td>\n",
       "      <td>07:31:45 PM</td>\n",
       "      <td>6th &amp; K St NE</td>\n",
       "      <td>31645</td>\n",
       "      <td>815</td>\n",
       "    </tr>\n",
       "    <tr>\n",
       "      <th>7</th>\n",
       "      <td>2017-10-02</td>\n",
       "      <td>07:37:32 PM</td>\n",
       "      <td>2017-10-02</td>\n",
       "      <td>07:46:37 PM</td>\n",
       "      <td>11th &amp; F St NW</td>\n",
       "      <td>31262</td>\n",
       "      <td>545</td>\n",
       "    </tr>\n",
       "    <tr>\n",
       "      <th>8</th>\n",
       "      <td>2017-10-03</td>\n",
       "      <td>08:24:16 AM</td>\n",
       "      <td>2017-10-03</td>\n",
       "      <td>08:32:27 AM</td>\n",
       "      <td>12th &amp; U St NW</td>\n",
       "      <td>31268</td>\n",
       "      <td>491</td>\n",
       "    </tr>\n",
       "    <tr>\n",
       "      <th>9</th>\n",
       "      <td>2017-10-03</td>\n",
       "      <td>06:17:07 PM</td>\n",
       "      <td>2017-10-03</td>\n",
       "      <td>06:27:46 PM</td>\n",
       "      <td>Tenleytown / Wisconsin Ave &amp; Albemarle St NW</td>\n",
       "      <td>31303</td>\n",
       "      <td>639</td>\n",
       "    </tr>\n",
       "  </tbody>\n",
       "</table>\n",
       "</div>"
      ],
      "text/plain": [
       "   Start Date   Start Time  ... Station No. Duration\n",
       "0  2017-10-01  03:23:25 PM  ...       31038      181\n",
       "1  2017-10-01  03:42:57 PM  ...       31036     7622\n",
       "2  2017-10-02  06:37:10 AM  ...       31036      343\n",
       "3  2017-10-02  08:56:45 AM  ...       31037     1278\n",
       "4  2017-10-02  06:23:48 PM  ...       31295     1277\n",
       "5  2017-10-02  06:48:08 PM  ...       31230     1366\n",
       "6  2017-10-02  07:18:10 PM  ...       31645      815\n",
       "7  2017-10-02  07:37:32 PM  ...       31262      545\n",
       "8  2017-10-03  08:24:16 AM  ...       31268      491\n",
       "9  2017-10-03  06:17:07 PM  ...       31303      639\n",
       "\n",
       "[10 rows x 7 columns]"
      ]
     },
     "execution_count": 173,
     "metadata": {},
     "output_type": "execute_result"
    }
   ],
   "source": [
    "rida = pd.read_clipboard()\n",
    "rida\n"
   ]
  },
  {
   "cell_type": "code",
   "execution_count": 176,
   "id": "1942a9f0-406a-4806-8569-57cd586b0231",
   "metadata": {},
   "outputs": [
    {
     "data": {
      "text/plain": [
       "727.0"
      ]
     },
     "execution_count": 176,
     "metadata": {},
     "output_type": "execute_result"
    }
   ],
   "source": [
    "rida['Duration'].median()"
   ]
  },
  {
   "cell_type": "code",
   "execution_count": 180,
   "id": "55d58dd9-1486-4c9f-84c5-8171a84c6fb0",
   "metadata": {},
   "outputs": [
    {
     "data": {
      "text/plain": [
       "0    False\n",
       "1     True\n",
       "2     True\n",
       "3    False\n",
       "4    False\n",
       "5    False\n",
       "6    False\n",
       "7    False\n",
       "8    False\n",
       "9    False\n",
       "Name: Station, dtype: bool"
      ]
     },
     "execution_count": 180,
     "metadata": {},
     "output_type": "execute_result"
    }
   ],
   "source": [
    "GMW = (rida['Station'] == 'George Mason Dr & Wilson Blvd')\n",
    "GMW"
   ]
  },
  {
   "cell_type": "code",
   "execution_count": 182,
   "id": "b69072bf-9e47-4526-b9b9-828218f6f645",
   "metadata": {},
   "outputs": [
    {
     "data": {
      "text/plain": [
       "3982.5"
      ]
     },
     "execution_count": 182,
     "metadata": {},
     "output_type": "execute_result"
    }
   ],
   "source": [
    "rida[GMW]['Duration'].mean()"
   ]
  },
  {
   "cell_type": "code",
   "execution_count": 189,
   "id": "418c88a3-7d7b-493b-80f8-8f596d2a310d",
   "metadata": {},
   "outputs": [
    {
     "data": {
      "text/plain": [
       "0    2017-10-01 03:23:25 PM\n",
       "1    2017-10-01 03:42:57 PM\n",
       "2    2017-10-02 06:37:10 AM\n",
       "3    2017-10-02 08:56:45 AM\n",
       "4    2017-10-02 06:23:48 PM\n",
       "5    2017-10-02 06:48:08 PM\n",
       "6    2017-10-02 07:18:10 PM\n",
       "7    2017-10-02 07:37:32 PM\n",
       "8    2017-10-03 08:24:16 AM\n",
       "9    2017-10-03 06:17:07 PM\n",
       "dtype: object"
      ]
     },
     "execution_count": 189,
     "metadata": {},
     "output_type": "execute_result"
    }
   ],
   "source": [
    "start_dt = rida['Start Date']+\" \"+rida['Start Time']\n",
    "start_dt"
   ]
  },
  {
   "cell_type": "code",
   "execution_count": 193,
   "id": "d25c44ba-dd95-4d3b-8687-ca13d30a5bbc",
   "metadata": {},
   "outputs": [
    {
     "name": "stderr",
     "output_type": "stream",
     "text": [
      "/tmp/ipykernel_1105974/3299822676.py:1: UserWarning: Could not infer format, so each element will be parsed individually, falling back to `dateutil`. To ensure parsing is consistent and as-expected, please specify a format.\n",
      "  start_dtfld = pd.to_datetime(start_dt)\n"
     ]
    },
    {
     "data": {
      "text/plain": [
       "0   2017-10-01 15:23:25\n",
       "1   2017-10-01 15:42:57\n",
       "2   2017-10-02 06:37:10\n",
       "3   2017-10-02 08:56:45\n",
       "4   2017-10-02 18:23:48\n",
       "5   2017-10-02 18:48:08\n",
       "6   2017-10-02 19:18:10\n",
       "7   2017-10-02 19:37:32\n",
       "8   2017-10-03 08:24:16\n",
       "9   2017-10-03 18:17:07\n",
       "dtype: datetime64[ns]"
      ]
     },
     "execution_count": 193,
     "metadata": {},
     "output_type": "execute_result"
    }
   ],
   "source": [
    "start_dtfld = pd.to_datetime(start_dt)\n",
    "start_dtfld"
   ]
  },
  {
   "cell_type": "code",
   "execution_count": 194,
   "id": "6370fb20-cefb-44e1-bdcb-eb9ad7904e83",
   "metadata": {},
   "outputs": [
    {
     "data": {
      "text/html": [
       "<div>\n",
       "<style scoped>\n",
       "    .dataframe tbody tr th:only-of-type {\n",
       "        vertical-align: middle;\n",
       "    }\n",
       "\n",
       "    .dataframe tbody tr th {\n",
       "        vertical-align: top;\n",
       "    }\n",
       "\n",
       "    .dataframe thead th {\n",
       "        text-align: right;\n",
       "    }\n",
       "</style>\n",
       "<table border=\"1\" class=\"dataframe\">\n",
       "  <thead>\n",
       "    <tr style=\"text-align: right;\">\n",
       "      <th></th>\n",
       "      <th>Start Date</th>\n",
       "      <th>Start Time</th>\n",
       "      <th>End Date</th>\n",
       "      <th>End Time</th>\n",
       "      <th>Station</th>\n",
       "      <th>Station No.</th>\n",
       "      <th>Duration</th>\n",
       "      <th>Start date</th>\n",
       "    </tr>\n",
       "  </thead>\n",
       "  <tbody>\n",
       "    <tr>\n",
       "      <th>0</th>\n",
       "      <td>2017-10-01</td>\n",
       "      <td>03:23:25 PM</td>\n",
       "      <td>2017-10-01</td>\n",
       "      <td>03:26:26 PM</td>\n",
       "      <td>Glebe Rd &amp; 11th St N</td>\n",
       "      <td>31038</td>\n",
       "      <td>181</td>\n",
       "      <td>2017-10-01 15:23:25</td>\n",
       "    </tr>\n",
       "    <tr>\n",
       "      <th>1</th>\n",
       "      <td>2017-10-01</td>\n",
       "      <td>03:42:57 PM</td>\n",
       "      <td>2017-10-01</td>\n",
       "      <td>05:49:59 PM</td>\n",
       "      <td>George Mason Dr &amp; Wilson Blvd</td>\n",
       "      <td>31036</td>\n",
       "      <td>7622</td>\n",
       "      <td>2017-10-01 15:42:57</td>\n",
       "    </tr>\n",
       "    <tr>\n",
       "      <th>2</th>\n",
       "      <td>2017-10-02</td>\n",
       "      <td>06:37:10 AM</td>\n",
       "      <td>2017-10-02</td>\n",
       "      <td>06:42:53 AM</td>\n",
       "      <td>George Mason Dr &amp; Wilson Blvd</td>\n",
       "      <td>31036</td>\n",
       "      <td>343</td>\n",
       "      <td>2017-10-02 06:37:10</td>\n",
       "    </tr>\n",
       "    <tr>\n",
       "      <th>3</th>\n",
       "      <td>2017-10-02</td>\n",
       "      <td>08:56:45 AM</td>\n",
       "      <td>2017-10-02</td>\n",
       "      <td>09:18:03 AM</td>\n",
       "      <td>Ballston Metro / N Stuart &amp; 9th St N</td>\n",
       "      <td>31037</td>\n",
       "      <td>1278</td>\n",
       "      <td>2017-10-02 08:56:45</td>\n",
       "    </tr>\n",
       "    <tr>\n",
       "      <th>4</th>\n",
       "      <td>2017-10-02</td>\n",
       "      <td>06:23:48 PM</td>\n",
       "      <td>2017-10-02</td>\n",
       "      <td>06:45:05 PM</td>\n",
       "      <td>Potomac &amp; M St NW</td>\n",
       "      <td>31295</td>\n",
       "      <td>1277</td>\n",
       "      <td>2017-10-02 18:23:48</td>\n",
       "    </tr>\n",
       "    <tr>\n",
       "      <th>5</th>\n",
       "      <td>2017-10-02</td>\n",
       "      <td>06:48:08 PM</td>\n",
       "      <td>2017-10-02</td>\n",
       "      <td>07:10:54 PM</td>\n",
       "      <td>Metro Center / 12th &amp; G St NW</td>\n",
       "      <td>31230</td>\n",
       "      <td>1366</td>\n",
       "      <td>2017-10-02 18:48:08</td>\n",
       "    </tr>\n",
       "    <tr>\n",
       "      <th>6</th>\n",
       "      <td>2017-10-02</td>\n",
       "      <td>07:18:10 PM</td>\n",
       "      <td>2017-10-02</td>\n",
       "      <td>07:31:45 PM</td>\n",
       "      <td>6th &amp; K St NE</td>\n",
       "      <td>31645</td>\n",
       "      <td>815</td>\n",
       "      <td>2017-10-02 19:18:10</td>\n",
       "    </tr>\n",
       "    <tr>\n",
       "      <th>7</th>\n",
       "      <td>2017-10-02</td>\n",
       "      <td>07:37:32 PM</td>\n",
       "      <td>2017-10-02</td>\n",
       "      <td>07:46:37 PM</td>\n",
       "      <td>11th &amp; F St NW</td>\n",
       "      <td>31262</td>\n",
       "      <td>545</td>\n",
       "      <td>2017-10-02 19:37:32</td>\n",
       "    </tr>\n",
       "    <tr>\n",
       "      <th>8</th>\n",
       "      <td>2017-10-03</td>\n",
       "      <td>08:24:16 AM</td>\n",
       "      <td>2017-10-03</td>\n",
       "      <td>08:32:27 AM</td>\n",
       "      <td>12th &amp; U St NW</td>\n",
       "      <td>31268</td>\n",
       "      <td>491</td>\n",
       "      <td>2017-10-03 08:24:16</td>\n",
       "    </tr>\n",
       "    <tr>\n",
       "      <th>9</th>\n",
       "      <td>2017-10-03</td>\n",
       "      <td>06:17:07 PM</td>\n",
       "      <td>2017-10-03</td>\n",
       "      <td>06:27:46 PM</td>\n",
       "      <td>Tenleytown / Wisconsin Ave &amp; Albemarle St NW</td>\n",
       "      <td>31303</td>\n",
       "      <td>639</td>\n",
       "      <td>2017-10-03 18:17:07</td>\n",
       "    </tr>\n",
       "  </tbody>\n",
       "</table>\n",
       "</div>"
      ],
      "text/plain": [
       "   Start Date   Start Time  ... Duration          Start date\n",
       "0  2017-10-01  03:23:25 PM  ...      181 2017-10-01 15:23:25\n",
       "1  2017-10-01  03:42:57 PM  ...     7622 2017-10-01 15:42:57\n",
       "2  2017-10-02  06:37:10 AM  ...      343 2017-10-02 06:37:10\n",
       "3  2017-10-02  08:56:45 AM  ...     1278 2017-10-02 08:56:45\n",
       "4  2017-10-02  06:23:48 PM  ...     1277 2017-10-02 18:23:48\n",
       "5  2017-10-02  06:48:08 PM  ...     1366 2017-10-02 18:48:08\n",
       "6  2017-10-02  07:18:10 PM  ...      815 2017-10-02 19:18:10\n",
       "7  2017-10-02  07:37:32 PM  ...      545 2017-10-02 19:37:32\n",
       "8  2017-10-03  08:24:16 AM  ...      491 2017-10-03 08:24:16\n",
       "9  2017-10-03  06:17:07 PM  ...      639 2017-10-03 18:17:07\n",
       "\n",
       "[10 rows x 8 columns]"
      ]
     },
     "execution_count": 194,
     "metadata": {},
     "output_type": "execute_result"
    }
   ],
   "source": [
    "rida['Start date'] = start_dtfld\n",
    "rida"
   ]
  },
  {
   "cell_type": "code",
   "execution_count": 195,
   "id": "6916be5d-39ba-4ee7-99e5-8c07a53f6977",
   "metadata": {},
   "outputs": [
    {
     "data": {
      "text/html": [
       "<div>\n",
       "<style scoped>\n",
       "    .dataframe tbody tr th:only-of-type {\n",
       "        vertical-align: middle;\n",
       "    }\n",
       "\n",
       "    .dataframe tbody tr th {\n",
       "        vertical-align: top;\n",
       "    }\n",
       "\n",
       "    .dataframe thead th {\n",
       "        text-align: right;\n",
       "    }\n",
       "</style>\n",
       "<table border=\"1\" class=\"dataframe\">\n",
       "  <thead>\n",
       "    <tr style=\"text-align: right;\">\n",
       "      <th></th>\n",
       "      <th>End Date</th>\n",
       "      <th>End Time</th>\n",
       "      <th>Station</th>\n",
       "      <th>Station No.</th>\n",
       "      <th>Duration</th>\n",
       "      <th>Start date</th>\n",
       "    </tr>\n",
       "  </thead>\n",
       "  <tbody>\n",
       "    <tr>\n",
       "      <th>0</th>\n",
       "      <td>2017-10-01</td>\n",
       "      <td>03:26:26 PM</td>\n",
       "      <td>Glebe Rd &amp; 11th St N</td>\n",
       "      <td>31038</td>\n",
       "      <td>181</td>\n",
       "      <td>2017-10-01 15:23:25</td>\n",
       "    </tr>\n",
       "    <tr>\n",
       "      <th>1</th>\n",
       "      <td>2017-10-01</td>\n",
       "      <td>05:49:59 PM</td>\n",
       "      <td>George Mason Dr &amp; Wilson Blvd</td>\n",
       "      <td>31036</td>\n",
       "      <td>7622</td>\n",
       "      <td>2017-10-01 15:42:57</td>\n",
       "    </tr>\n",
       "    <tr>\n",
       "      <th>2</th>\n",
       "      <td>2017-10-02</td>\n",
       "      <td>06:42:53 AM</td>\n",
       "      <td>George Mason Dr &amp; Wilson Blvd</td>\n",
       "      <td>31036</td>\n",
       "      <td>343</td>\n",
       "      <td>2017-10-02 06:37:10</td>\n",
       "    </tr>\n",
       "    <tr>\n",
       "      <th>3</th>\n",
       "      <td>2017-10-02</td>\n",
       "      <td>09:18:03 AM</td>\n",
       "      <td>Ballston Metro / N Stuart &amp; 9th St N</td>\n",
       "      <td>31037</td>\n",
       "      <td>1278</td>\n",
       "      <td>2017-10-02 08:56:45</td>\n",
       "    </tr>\n",
       "    <tr>\n",
       "      <th>4</th>\n",
       "      <td>2017-10-02</td>\n",
       "      <td>06:45:05 PM</td>\n",
       "      <td>Potomac &amp; M St NW</td>\n",
       "      <td>31295</td>\n",
       "      <td>1277</td>\n",
       "      <td>2017-10-02 18:23:48</td>\n",
       "    </tr>\n",
       "    <tr>\n",
       "      <th>5</th>\n",
       "      <td>2017-10-02</td>\n",
       "      <td>07:10:54 PM</td>\n",
       "      <td>Metro Center / 12th &amp; G St NW</td>\n",
       "      <td>31230</td>\n",
       "      <td>1366</td>\n",
       "      <td>2017-10-02 18:48:08</td>\n",
       "    </tr>\n",
       "    <tr>\n",
       "      <th>6</th>\n",
       "      <td>2017-10-02</td>\n",
       "      <td>07:31:45 PM</td>\n",
       "      <td>6th &amp; K St NE</td>\n",
       "      <td>31645</td>\n",
       "      <td>815</td>\n",
       "      <td>2017-10-02 19:18:10</td>\n",
       "    </tr>\n",
       "    <tr>\n",
       "      <th>7</th>\n",
       "      <td>2017-10-02</td>\n",
       "      <td>07:46:37 PM</td>\n",
       "      <td>11th &amp; F St NW</td>\n",
       "      <td>31262</td>\n",
       "      <td>545</td>\n",
       "      <td>2017-10-02 19:37:32</td>\n",
       "    </tr>\n",
       "    <tr>\n",
       "      <th>8</th>\n",
       "      <td>2017-10-03</td>\n",
       "      <td>08:32:27 AM</td>\n",
       "      <td>12th &amp; U St NW</td>\n",
       "      <td>31268</td>\n",
       "      <td>491</td>\n",
       "      <td>2017-10-03 08:24:16</td>\n",
       "    </tr>\n",
       "    <tr>\n",
       "      <th>9</th>\n",
       "      <td>2017-10-03</td>\n",
       "      <td>06:27:46 PM</td>\n",
       "      <td>Tenleytown / Wisconsin Ave &amp; Albemarle St NW</td>\n",
       "      <td>31303</td>\n",
       "      <td>639</td>\n",
       "      <td>2017-10-03 18:17:07</td>\n",
       "    </tr>\n",
       "  </tbody>\n",
       "</table>\n",
       "</div>"
      ],
      "text/plain": [
       "     End Date     End Time  ... Duration          Start date\n",
       "0  2017-10-01  03:26:26 PM  ...      181 2017-10-01 15:23:25\n",
       "1  2017-10-01  05:49:59 PM  ...     7622 2017-10-01 15:42:57\n",
       "2  2017-10-02  06:42:53 AM  ...      343 2017-10-02 06:37:10\n",
       "3  2017-10-02  09:18:03 AM  ...     1278 2017-10-02 08:56:45\n",
       "4  2017-10-02  06:45:05 PM  ...     1277 2017-10-02 18:23:48\n",
       "5  2017-10-02  07:10:54 PM  ...     1366 2017-10-02 18:48:08\n",
       "6  2017-10-02  07:31:45 PM  ...      815 2017-10-02 19:18:10\n",
       "7  2017-10-02  07:46:37 PM  ...      545 2017-10-02 19:37:32\n",
       "8  2017-10-03  08:32:27 AM  ...      491 2017-10-03 08:24:16\n",
       "9  2017-10-03  06:27:46 PM  ...      639 2017-10-03 18:17:07\n",
       "\n",
       "[10 rows x 6 columns]"
      ]
     },
     "execution_count": 195,
     "metadata": {},
     "output_type": "execute_result"
    }
   ],
   "source": [
    "rida = rida.drop(columns=['Start Date','Start Time'])\n",
    "rida"
   ]
  },
  {
   "cell_type": "code",
   "execution_count": 197,
   "id": "bdf4c8e1-d829-485a-a2c1-3c8ad62745e7",
   "metadata": {},
   "outputs": [
    {
     "name": "stderr",
     "output_type": "stream",
     "text": [
      "/tmp/ipykernel_1105974/3336279103.py:2: UserWarning: Could not infer format, so each element will be parsed individually, falling back to `dateutil`. To ensure parsing is consistent and as-expected, please specify a format.\n",
      "  end_dtfld = pd.to_datetime(end_dt)\n"
     ]
    },
    {
     "data": {
      "text/html": [
       "<div>\n",
       "<style scoped>\n",
       "    .dataframe tbody tr th:only-of-type {\n",
       "        vertical-align: middle;\n",
       "    }\n",
       "\n",
       "    .dataframe tbody tr th {\n",
       "        vertical-align: top;\n",
       "    }\n",
       "\n",
       "    .dataframe thead th {\n",
       "        text-align: right;\n",
       "    }\n",
       "</style>\n",
       "<table border=\"1\" class=\"dataframe\">\n",
       "  <thead>\n",
       "    <tr style=\"text-align: right;\">\n",
       "      <th></th>\n",
       "      <th>Station</th>\n",
       "      <th>Station No.</th>\n",
       "      <th>Duration</th>\n",
       "      <th>Start date</th>\n",
       "      <th>End date</th>\n",
       "    </tr>\n",
       "  </thead>\n",
       "  <tbody>\n",
       "    <tr>\n",
       "      <th>0</th>\n",
       "      <td>Glebe Rd &amp; 11th St N</td>\n",
       "      <td>31038</td>\n",
       "      <td>181</td>\n",
       "      <td>2017-10-01 15:23:25</td>\n",
       "      <td>2017-10-01 15:26:26</td>\n",
       "    </tr>\n",
       "    <tr>\n",
       "      <th>1</th>\n",
       "      <td>George Mason Dr &amp; Wilson Blvd</td>\n",
       "      <td>31036</td>\n",
       "      <td>7622</td>\n",
       "      <td>2017-10-01 15:42:57</td>\n",
       "      <td>2017-10-01 17:49:59</td>\n",
       "    </tr>\n",
       "    <tr>\n",
       "      <th>2</th>\n",
       "      <td>George Mason Dr &amp; Wilson Blvd</td>\n",
       "      <td>31036</td>\n",
       "      <td>343</td>\n",
       "      <td>2017-10-02 06:37:10</td>\n",
       "      <td>2017-10-02 06:42:53</td>\n",
       "    </tr>\n",
       "    <tr>\n",
       "      <th>3</th>\n",
       "      <td>Ballston Metro / N Stuart &amp; 9th St N</td>\n",
       "      <td>31037</td>\n",
       "      <td>1278</td>\n",
       "      <td>2017-10-02 08:56:45</td>\n",
       "      <td>2017-10-02 09:18:03</td>\n",
       "    </tr>\n",
       "    <tr>\n",
       "      <th>4</th>\n",
       "      <td>Potomac &amp; M St NW</td>\n",
       "      <td>31295</td>\n",
       "      <td>1277</td>\n",
       "      <td>2017-10-02 18:23:48</td>\n",
       "      <td>2017-10-02 18:45:05</td>\n",
       "    </tr>\n",
       "    <tr>\n",
       "      <th>5</th>\n",
       "      <td>Metro Center / 12th &amp; G St NW</td>\n",
       "      <td>31230</td>\n",
       "      <td>1366</td>\n",
       "      <td>2017-10-02 18:48:08</td>\n",
       "      <td>2017-10-02 19:10:54</td>\n",
       "    </tr>\n",
       "    <tr>\n",
       "      <th>6</th>\n",
       "      <td>6th &amp; K St NE</td>\n",
       "      <td>31645</td>\n",
       "      <td>815</td>\n",
       "      <td>2017-10-02 19:18:10</td>\n",
       "      <td>2017-10-02 19:31:45</td>\n",
       "    </tr>\n",
       "    <tr>\n",
       "      <th>7</th>\n",
       "      <td>11th &amp; F St NW</td>\n",
       "      <td>31262</td>\n",
       "      <td>545</td>\n",
       "      <td>2017-10-02 19:37:32</td>\n",
       "      <td>2017-10-02 19:46:37</td>\n",
       "    </tr>\n",
       "    <tr>\n",
       "      <th>8</th>\n",
       "      <td>12th &amp; U St NW</td>\n",
       "      <td>31268</td>\n",
       "      <td>491</td>\n",
       "      <td>2017-10-03 08:24:16</td>\n",
       "      <td>2017-10-03 08:32:27</td>\n",
       "    </tr>\n",
       "    <tr>\n",
       "      <th>9</th>\n",
       "      <td>Tenleytown / Wisconsin Ave &amp; Albemarle St NW</td>\n",
       "      <td>31303</td>\n",
       "      <td>639</td>\n",
       "      <td>2017-10-03 18:17:07</td>\n",
       "      <td>2017-10-03 18:27:46</td>\n",
       "    </tr>\n",
       "  </tbody>\n",
       "</table>\n",
       "</div>"
      ],
      "text/plain": [
       "                                        Station  ...            End date\n",
       "0                          Glebe Rd & 11th St N  ... 2017-10-01 15:26:26\n",
       "1                 George Mason Dr & Wilson Blvd  ... 2017-10-01 17:49:59\n",
       "2                 George Mason Dr & Wilson Blvd  ... 2017-10-02 06:42:53\n",
       "3          Ballston Metro / N Stuart & 9th St N  ... 2017-10-02 09:18:03\n",
       "4                             Potomac & M St NW  ... 2017-10-02 18:45:05\n",
       "5                 Metro Center / 12th & G St NW  ... 2017-10-02 19:10:54\n",
       "6                                 6th & K St NE  ... 2017-10-02 19:31:45\n",
       "7                                11th & F St NW  ... 2017-10-02 19:46:37\n",
       "8                                12th & U St NW  ... 2017-10-03 08:32:27\n",
       "9  Tenleytown / Wisconsin Ave & Albemarle St NW  ... 2017-10-03 18:27:46\n",
       "\n",
       "[10 rows x 5 columns]"
      ]
     },
     "execution_count": 197,
     "metadata": {},
     "output_type": "execute_result"
    }
   ],
   "source": [
    "end_dt = rida['End Date'] + \" \" + rida['End Time']\n",
    "end_dtfld = pd.to_datetime(end_dt)\n",
    "rida['End date'] = end_dtfld\n",
    "rida = rida.drop(columns=['End Date','End Time'])\n",
    "rida"
   ]
  },
  {
   "cell_type": "code",
   "execution_count": 206,
   "id": "6b65d71b-f1f4-455f-875a-47d7234c66ff",
   "metadata": {},
   "outputs": [
    {
     "name": "stdout",
     "output_type": "stream",
     "text": [
      "Start date\n",
      "2017-10-01 15:00:00    2\n",
      "2017-10-01 16:00:00    0\n",
      "2017-10-01 17:00:00    0\n",
      "2017-10-01 18:00:00    0\n",
      "2017-10-01 19:00:00    0\n",
      "2017-10-01 20:00:00    0\n",
      "2017-10-01 21:00:00    0\n",
      "2017-10-01 22:00:00    0\n",
      "2017-10-01 23:00:00    0\n",
      "2017-10-02 00:00:00    0\n",
      "2017-10-02 01:00:00    0\n",
      "2017-10-02 02:00:00    0\n",
      "2017-10-02 03:00:00    0\n",
      "2017-10-02 04:00:00    0\n",
      "2017-10-02 05:00:00    0\n",
      "2017-10-02 06:00:00    1\n",
      "2017-10-02 07:00:00    0\n",
      "2017-10-02 08:00:00    1\n",
      "2017-10-02 09:00:00    0\n",
      "2017-10-02 10:00:00    0\n",
      "2017-10-02 11:00:00    0\n",
      "2017-10-02 12:00:00    0\n",
      "2017-10-02 13:00:00    0\n",
      "2017-10-02 14:00:00    0\n",
      "2017-10-02 15:00:00    0\n",
      "2017-10-02 16:00:00    0\n",
      "2017-10-02 17:00:00    0\n",
      "2017-10-02 18:00:00    2\n",
      "2017-10-02 19:00:00    2\n",
      "2017-10-02 20:00:00    0\n",
      "2017-10-02 21:00:00    0\n",
      "2017-10-02 22:00:00    0\n",
      "2017-10-02 23:00:00    0\n",
      "2017-10-03 00:00:00    0\n",
      "2017-10-03 01:00:00    0\n",
      "2017-10-03 02:00:00    0\n",
      "2017-10-03 03:00:00    0\n",
      "2017-10-03 04:00:00    0\n",
      "2017-10-03 05:00:00    0\n",
      "2017-10-03 06:00:00    0\n",
      "2017-10-03 07:00:00    0\n",
      "2017-10-03 08:00:00    1\n",
      "2017-10-03 09:00:00    0\n",
      "2017-10-03 10:00:00    0\n",
      "2017-10-03 11:00:00    0\n",
      "2017-10-03 12:00:00    0\n",
      "2017-10-03 13:00:00    0\n",
      "2017-10-03 14:00:00    0\n",
      "2017-10-03 15:00:00    0\n",
      "2017-10-03 16:00:00    0\n",
      "2017-10-03 17:00:00    0\n",
      "2017-10-03 18:00:00    1\n",
      "Freq: h, dtype: int64\n",
      "\n",
      "\n",
      "\n",
      "Start date\n",
      "2017-10-01    2\n",
      "2017-10-02    6\n",
      "2017-10-03    2\n",
      "Freq: D, dtype: int64\n",
      "\n",
      "\n",
      "\n",
      "Start date\n",
      "2017-10-31    10\n",
      "Freq: ME, dtype: int64\n",
      "\n",
      "\n",
      "\n"
     ]
    },
    {
     "name": "stderr",
     "output_type": "stream",
     "text": [
      "/tmp/ipykernel_1105974/1312938179.py:2: FutureWarning: 'H' is deprecated and will be removed in a future version, please use 'h' instead.\n",
      "  print(rida.resample(rss,on='Start date').size())\n",
      "/tmp/ipykernel_1105974/1312938179.py:2: FutureWarning: 'M' is deprecated and will be removed in a future version, please use 'ME' instead.\n",
      "  print(rida.resample(rss,on='Start date').size())\n"
     ]
    }
   ],
   "source": [
    "for rss in ['H','D','M']:\n",
    "    print(rida.resample(rss,on='Start date').size())\n",
    "    print('\\n\\n')"
   ]
  },
  {
   "cell_type": "code",
   "execution_count": 209,
   "id": "47371e69-40dd-47cf-8015-5a15b982997f",
   "metadata": {},
   "outputs": [
    {
     "data": {
      "text/plain": [
       "<Axes: xlabel='Start date'>"
      ]
     },
     "execution_count": 209,
     "metadata": {},
     "output_type": "execute_result"
    },
    {
     "data": {
      "image/png": "[encoded data removed]",
      "text/plain": [
       "<Figure size 640x480 with 1 Axes>"
      ]
     },
     "metadata": {},
     "output_type": "display_data"
    }
   ],
   "source": [
    "rida.resample('D',on='Start date').size().plot(ylim=[0,10])"
   ]
  },
  {
   "cell_type": "code",
   "execution_count": 212,
   "id": "32ab8c82-dc99-4160-92e4-4f2bf8c73c35",
   "metadata": {},
   "outputs": [
    {
     "name": "stderr",
     "output_type": "stream",
     "text": [
      "/tmp/ipykernel_1105974/1646954426.py:1: FutureWarning: 'H' is deprecated and will be removed in a future version, please use 'h' instead.\n",
      "  rida.resample('H',on='Start date').size().plot()\n"
     ]
    },
    {
     "data": {
      "text/plain": [
       "<Axes: xlabel='Start date'>"
      ]
     },
     "execution_count": 212,
     "metadata": {},
     "output_type": "execute_result"
    },
    {
     "data": {
      "image/png": "[encoded data removed]",
      "text/plain": [
       "<Figure size 640x480 with 1 Axes>"
      ]
     },
     "metadata": {},
     "output_type": "display_data"
    }
   ],
   "source": [
    "rida.resample('H',on='Start date').size().plot()"
   ]
  },
  {
   "cell_type": "code",
   "execution_count": 218,
   "id": "365cf6a2-6f4f-4744-a2ad-5fc62b9d381b",
   "metadata": {},
   "outputs": [
    {
     "data": {
      "text/html": [
       "<div>\n",
       "<style scoped>\n",
       "    .dataframe tbody tr th:only-of-type {\n",
       "        vertical-align: middle;\n",
       "    }\n",
       "\n",
       "    .dataframe tbody tr th {\n",
       "        vertical-align: top;\n",
       "    }\n",
       "\n",
       "    .dataframe thead th {\n",
       "        text-align: right;\n",
       "    }\n",
       "</style>\n",
       "<table border=\"1\" class=\"dataframe\">\n",
       "  <thead>\n",
       "    <tr style=\"text-align: right;\">\n",
       "      <th></th>\n",
       "      <th>Station</th>\n",
       "      <th>Station No.</th>\n",
       "      <th>Duration</th>\n",
       "      <th>Start date</th>\n",
       "      <th>End date</th>\n",
       "      <th>Member type</th>\n",
       "    </tr>\n",
       "  </thead>\n",
       "  <tbody>\n",
       "    <tr>\n",
       "      <th>0</th>\n",
       "      <td>Glebe Rd &amp; 11th St N</td>\n",
       "      <td>31038</td>\n",
       "      <td>181</td>\n",
       "      <td>2017-10-01 15:23:25</td>\n",
       "      <td>2017-10-01 15:26:26</td>\n",
       "      <td>Casual</td>\n",
       "    </tr>\n",
       "    <tr>\n",
       "      <th>1</th>\n",
       "      <td>George Mason Dr &amp; Wilson Blvd</td>\n",
       "      <td>31036</td>\n",
       "      <td>7622</td>\n",
       "      <td>2017-10-01 15:42:57</td>\n",
       "      <td>2017-10-01 17:49:59</td>\n",
       "      <td>Casual</td>\n",
       "    </tr>\n",
       "    <tr>\n",
       "      <th>2</th>\n",
       "      <td>George Mason Dr &amp; Wilson Blvd</td>\n",
       "      <td>31036</td>\n",
       "      <td>343</td>\n",
       "      <td>2017-10-02 06:37:10</td>\n",
       "      <td>2017-10-02 06:42:53</td>\n",
       "      <td>Member</td>\n",
       "    </tr>\n",
       "    <tr>\n",
       "      <th>3</th>\n",
       "      <td>Ballston Metro / N Stuart &amp; 9th St N</td>\n",
       "      <td>31037</td>\n",
       "      <td>1278</td>\n",
       "      <td>2017-10-02 08:56:45</td>\n",
       "      <td>2017-10-02 09:18:03</td>\n",
       "      <td>Casual</td>\n",
       "    </tr>\n",
       "    <tr>\n",
       "      <th>4</th>\n",
       "      <td>Potomac &amp; M St NW</td>\n",
       "      <td>31295</td>\n",
       "      <td>1277</td>\n",
       "      <td>2017-10-02 18:23:48</td>\n",
       "      <td>2017-10-02 18:45:05</td>\n",
       "      <td>Member</td>\n",
       "    </tr>\n",
       "    <tr>\n",
       "      <th>5</th>\n",
       "      <td>Metro Center / 12th &amp; G St NW</td>\n",
       "      <td>31230</td>\n",
       "      <td>1366</td>\n",
       "      <td>2017-10-02 18:48:08</td>\n",
       "      <td>2017-10-02 19:10:54</td>\n",
       "      <td>Member</td>\n",
       "    </tr>\n",
       "    <tr>\n",
       "      <th>6</th>\n",
       "      <td>6th &amp; K St NE</td>\n",
       "      <td>31645</td>\n",
       "      <td>815</td>\n",
       "      <td>2017-10-02 19:18:10</td>\n",
       "      <td>2017-10-02 19:31:45</td>\n",
       "      <td>Member</td>\n",
       "    </tr>\n",
       "    <tr>\n",
       "      <th>7</th>\n",
       "      <td>11th &amp; F St NW</td>\n",
       "      <td>31262</td>\n",
       "      <td>545</td>\n",
       "      <td>2017-10-02 19:37:32</td>\n",
       "      <td>2017-10-02 19:46:37</td>\n",
       "      <td>Member</td>\n",
       "    </tr>\n",
       "    <tr>\n",
       "      <th>8</th>\n",
       "      <td>12th &amp; U St NW</td>\n",
       "      <td>31268</td>\n",
       "      <td>491</td>\n",
       "      <td>2017-10-03 08:24:16</td>\n",
       "      <td>2017-10-03 08:32:27</td>\n",
       "      <td>Casual</td>\n",
       "    </tr>\n",
       "    <tr>\n",
       "      <th>9</th>\n",
       "      <td>Tenleytown / Wisconsin Ave &amp; Albemarle St NW</td>\n",
       "      <td>31303</td>\n",
       "      <td>639</td>\n",
       "      <td>2017-10-03 18:17:07</td>\n",
       "      <td>2017-10-03 18:27:46</td>\n",
       "      <td>Casual</td>\n",
       "    </tr>\n",
       "  </tbody>\n",
       "</table>\n",
       "</div>"
      ],
      "text/plain": [
       "                                        Station  ...  Member type\n",
       "0                          Glebe Rd & 11th St N  ...       Casual\n",
       "1                 George Mason Dr & Wilson Blvd  ...       Casual\n",
       "2                 George Mason Dr & Wilson Blvd  ...       Member\n",
       "3          Ballston Metro / N Stuart & 9th St N  ...       Casual\n",
       "4                             Potomac & M St NW  ...       Member\n",
       "5                 Metro Center / 12th & G St NW  ...       Member\n",
       "6                                 6th & K St NE  ...       Member\n",
       "7                                11th & F St NW  ...       Member\n",
       "8                                12th & U St NW  ...       Casual\n",
       "9  Tenleytown / Wisconsin Ave & Albemarle St NW  ...       Casual\n",
       "\n",
       "[10 rows x 6 columns]"
      ]
     },
     "execution_count": 218,
     "metadata": {},
     "output_type": "execute_result"
    }
   ],
   "source": [
    "rida['Member type'] = [choice(['Member','Casual']) for i in range(10)]\n",
    "rida"
   ]
  },
  {
   "cell_type": "code",
   "execution_count": 222,
   "id": "344b86c7-a374-44e1-b5e1-50abee8c942b",
   "metadata": {},
   "outputs": [
    {
     "data": {
      "text/plain": [
       "Member type\n",
       "Casual    5\n",
       "Member    5\n",
       "Name: count, dtype: int64"
      ]
     },
     "execution_count": 222,
     "metadata": {},
     "output_type": "execute_result"
    }
   ],
   "source": [
    "rida['Member type'].value_counts()"
   ]
  },
  {
   "cell_type": "markdown",
   "id": "de9c3088-86aa-43d6-8288-5fee5c7a5404",
   "metadata": {
    "jp-MarkdownHeadingCollapsed": true
   },
   "source": [
    "\n",
    "\n",
    "\n",
    "\n",
    "# UNIT 7 | PY202: INTERMEDIATE PYTHON II"
   ]
  },
  {
   "cell_type": "markdown",
   "id": "c7492965-11dd-4316-a8dc-6df4e3b1928d",
   "metadata": {
    "jp-MarkdownHeadingCollapsed": true
   },
   "source": [
    "## 7.1\tDeveloping a Data Science Toolkit"
   ]
  },
  {
   "cell_type": "code",
   "execution_count": null,
   "id": "8eabe900-f6e4-49f5-99af-ba7e4b056ce9",
   "metadata": {},
   "outputs": [],
   "source": []
  },
  {
   "cell_type": "markdown",
   "id": "c4b8f88b-7a6c-489d-95a8-7f4024efee2f",
   "metadata": {
    "jp-MarkdownHeadingCollapsed": true
   },
   "source": [
    "## 7.2\tUser-defined functions"
   ]
  },
  {
   "cell_type": "code",
   "execution_count": null,
   "id": "b39b55e8-d4f9-44df-b94a-be0ff8efb966",
   "metadata": {},
   "outputs": [],
   "source": []
  },
  {
   "cell_type": "code",
   "execution_count": null,
   "id": "f0f9c924-e49d-4d37-9a43-25c956059733",
   "metadata": {},
   "outputs": [],
   "source": []
  },
  {
   "cell_type": "markdown",
   "id": "12bcf98b-9b84-4172-afdc-6d15b6e6bd84",
   "metadata": {
    "jp-MarkdownHeadingCollapsed": true
   },
   "source": [
    "## 7.3\tScoping Things Out"
   ]
  },
  {
   "cell_type": "markdown",
   "id": "6319a73d-f9aa-46de-ba4d-e1a46380d70f",
   "metadata": {},
   "source": [
    "### [Variable Scope - Corey Schafer](https://www.youtube.com/watch?v=QVdf0LgmICw&t=107s)\n",
    "\n",
    "#### **LEGB**\n",
    "\n",
    "**L**ocal\n",
    "**E**nclosing\n",
    "**G**lobal\n",
    "**B**uilt-in"
   ]
  },
  {
   "cell_type": "markdown",
   "id": "d42917b6-db4e-4b71-8eac-52d80766beed",
   "metadata": {},
   "source": [
    "\n",
    "**Example 1**: The variable ***lv*** is defined locally to the function ***print_local()***"
   ]
  },
  {
   "cell_type": "code",
   "execution_count": 232,
   "id": "557982b2-0568-4911-8821-7daeea2da30c",
   "metadata": {},
   "outputs": [
    {
     "name": "stdout",
     "output_type": "stream",
     "text": [
      "local variable\n"
     ]
    }
   ],
   "source": [
    "def print_custom():\n",
    "    lv = 'local variable'\n",
    "    print(lv)\n",
    "    \n",
    "print_custom()"
   ]
  },
  {
   "cell_type": "markdown",
   "id": "1039b4d4-4e16-499f-86c6-5c1a33f1660d",
   "metadata": {},
   "source": [
    "**Example 2**: A global variable ***gv*** is defined in the global space outside of the function, and the function is modified to print out gv.  \n",
    "\n",
    "Going by the LEGB mnemonic, Python first searches locally for the gv variable.  \n",
    "\n",
    "When nothing is found, it then looks for gv within an enclosing function (i.e., in the case that the function is nested within another function, where a variable could be defined).\n",
    "\n",
    "Since there is no enclosing function, it then looks in the global space where gv is defined."
   ]
  },
  {
   "cell_type": "code",
   "execution_count": 233,
   "id": "9951e869-2236-485c-9c23-f002f206cf86",
   "metadata": {},
   "outputs": [
    {
     "name": "stdout",
     "output_type": "stream",
     "text": [
      "global variable\n"
     ]
    }
   ],
   "source": [
    "gv = 'global variable'\n",
    "\n",
    "def print_custom():\n",
    "    lv = 'local variable'\n",
    "    print(gv)\n",
    "    \n",
    "print_custom()"
   ]
  },
  {
   "cell_type": "markdown",
   "id": "593c268f-0f27-401d-9883-d3b3e4c3899a",
   "metadata": {},
   "source": [
    "The global variable is of course accessible for printing in the global space but not the local variable.  That is, ***lv*** was only defined within the function call and does not exist outside of it."
   ]
  },
  {
   "cell_type": "code",
   "execution_count": 234,
   "id": "4deec4d9-b21b-420d-a3d5-3df93d525c37",
   "metadata": {},
   "outputs": [
    {
     "name": "stdout",
     "output_type": "stream",
     "text": [
      "global variable\n"
     ]
    },
    {
     "ename": "NameError",
     "evalue": "name 'lv' is not defined",
     "output_type": "error",
     "traceback": [
      "\u001b[0;31m---------------------------------------------------------------------------\u001b[0m",
      "\u001b[0;31mNameError\u001b[0m                                 Traceback (most recent call last)",
      "Cell \u001b[0;32mIn[234], line 2\u001b[0m\n\u001b[1;32m      1\u001b[0m \u001b[38;5;28mprint\u001b[39m(gv)\n\u001b[0;32m----> 2\u001b[0m \u001b[38;5;28mprint\u001b[39m(lv)\n",
      "\u001b[0;31mNameError\u001b[0m: name 'lv' is not defined"
     ]
    }
   ],
   "source": [
    "print(gv)\n",
    "print(lv)"
   ]
  },
  {
   "cell_type": "code",
   "execution_count": 235,
   "id": "95ce2661-9be7-46fd-8cee-1e4e9b53eb32",
   "metadata": {},
   "outputs": [
    {
     "name": "stdout",
     "output_type": "stream",
     "text": [
      "global variable\n",
      "modified global variable\n"
     ]
    }
   ],
   "source": [
    "print(gv)\n",
    "\n",
    "def globmod(new_value):\n",
    "    global gv\n",
    "    gv = new_value\n",
    "\n",
    "globmod('modified global variable')\n",
    "\n",
    "print(gv)"
   ]
  },
  {
   "cell_type": "markdown",
   "id": "d424fd14-9397-43bc-8cd2-15052943bea4",
   "metadata": {},
   "source": [
    "#### Enclosing Functions"
   ]
  },
  {
   "cell_type": "code",
   "execution_count": 286,
   "id": "68fea4c8-aadc-40df-a32f-57be54b097af",
   "metadata": {},
   "outputs": [
    {
     "name": "stdout",
     "output_type": "stream",
     "text": [
      "inner value\n"
     ]
    }
   ],
   "source": [
    "def outer():\n",
    "    x = 'outer value'\n",
    "    def inner():\n",
    "        x = 'inner value'\n",
    "        print(x)\n",
    "    inner()\n",
    "\n",
    "outer()"
   ]
  },
  {
   "cell_type": "code",
   "execution_count": 287,
   "id": "5ef479a2-98ca-42d0-9c4b-afb455443129",
   "metadata": {},
   "outputs": [
    {
     "name": "stdout",
     "output_type": "stream",
     "text": [
      "outer value\n"
     ]
    }
   ],
   "source": [
    "def outer():\n",
    "    x = 'outer value'\n",
    "    def inner():\n",
    "        # x = 'inner value'\n",
    "        print(x)\n",
    "    inner()\n",
    "\n",
    "outer()"
   ]
  },
  {
   "cell_type": "markdown",
   "id": "d40fe5ec-7f5a-4611-bc57-bb2de2c5c594",
   "metadata": {},
   "source": [
    "Since a variable defined within an enclosing function is not technically in the global space, you can't use the **global** keyword to access it within a nested function.  \n",
    "\n",
    "Instead, use the **nonlocal** keyword to access a variable that was defined in the enclosing function."
   ]
  },
  {
   "cell_type": "code",
   "execution_count": 290,
   "id": "c7f01278-e086-450b-807b-050af4c79e6f",
   "metadata": {},
   "outputs": [
    {
     "name": "stdout",
     "output_type": "stream",
     "text": [
      "modified value\n"
     ]
    }
   ],
   "source": [
    "def print_custom():\n",
    "    x = 'original value'\n",
    "    def xmod():\n",
    "        nonlocal x\n",
    "        x = 'modified value'\n",
    "    xmod()\n",
    "    print(x)\n",
    "\n",
    "print_custom()"
   ]
  },
  {
   "cell_type": "code",
   "execution_count": 236,
   "id": "0bed5d2e-d5af-4d7c-bd21-bc5fa6f62279",
   "metadata": {
    "scrolled": true
   },
   "outputs": [
    {
     "name": "stdout",
     "output_type": "stream",
     "text": [
      "ArithmeticError\n",
      "AssertionError\n",
      "AttributeError\n",
      "BaseException\n",
      "BaseExceptionGroup\n",
      "BlockingIOError\n",
      "BrokenPipeError\n",
      "BufferError\n",
      "BytesWarning\n",
      "ChildProcessError\n",
      "ConnectionAbortedError\n",
      "ConnectionError\n",
      "ConnectionRefusedError\n",
      "ConnectionResetError\n",
      "DeprecationWarning\n",
      "EOFError\n",
      "Ellipsis\n",
      "EncodingWarning\n",
      "EnvironmentError\n",
      "Exception\n",
      "ExceptionGroup\n",
      "False\n",
      "FileExistsError\n",
      "FileNotFoundError\n",
      "FloatingPointError\n",
      "FutureWarning\n",
      "GeneratorExit\n",
      "IOError\n",
      "ImportError\n",
      "ImportWarning\n",
      "IndentationError\n",
      "IndexError\n",
      "InterruptedError\n",
      "IsADirectoryError\n",
      "KeyError\n",
      "KeyboardInterrupt\n",
      "LookupError\n",
      "MemoryError\n",
      "ModuleNotFoundError\n",
      "NameError\n",
      "None\n",
      "NotADirectoryError\n",
      "NotImplemented\n",
      "NotImplementedError\n",
      "OSError\n",
      "OverflowError\n",
      "PendingDeprecationWarning\n",
      "PermissionError\n",
      "ProcessLookupError\n",
      "RecursionError\n",
      "ReferenceError\n",
      "ResourceWarning\n",
      "RuntimeError\n",
      "RuntimeWarning\n",
      "StopAsyncIteration\n",
      "StopIteration\n",
      "SyntaxError\n",
      "SyntaxWarning\n",
      "SystemError\n",
      "SystemExit\n",
      "TabError\n",
      "TimeoutError\n",
      "True\n",
      "TypeError\n",
      "UnboundLocalError\n",
      "UnicodeDecodeError\n",
      "UnicodeEncodeError\n",
      "UnicodeError\n",
      "UnicodeTranslateError\n",
      "UnicodeWarning\n",
      "UserWarning\n",
      "ValueError\n",
      "Warning\n",
      "ZeroDivisionError\n",
      "__IPYTHON__\n",
      "__build_class__\n",
      "__debug__\n",
      "__doc__\n",
      "__import__\n",
      "__loader__\n",
      "__name__\n",
      "__package__\n",
      "__spec__\n",
      "abs\n",
      "aiter\n",
      "all\n",
      "anext\n",
      "any\n",
      "ascii\n",
      "bin\n",
      "bool\n",
      "breakpoint\n",
      "bytearray\n",
      "bytes\n",
      "callable\n",
      "chr\n",
      "classmethod\n",
      "compile\n",
      "complex\n",
      "copyright\n",
      "credits\n",
      "delattr\n",
      "dict\n",
      "dir\n",
      "display\n",
      "divmod\n",
      "enumerate\n",
      "eval\n",
      "exec\n",
      "execfile\n",
      "filter\n",
      "float\n",
      "format\n",
      "frozenset\n",
      "get_ipython\n",
      "getattr\n",
      "globals\n",
      "hasattr\n",
      "hash\n",
      "help\n",
      "hex\n",
      "id\n",
      "input\n",
      "int\n",
      "isinstance\n",
      "issubclass\n",
      "iter\n",
      "len\n",
      "license\n",
      "list\n",
      "locals\n",
      "map\n",
      "max\n",
      "memoryview\n",
      "min\n",
      "next\n",
      "object\n",
      "oct\n",
      "open\n",
      "ord\n",
      "pow\n",
      "print\n",
      "property\n",
      "range\n",
      "repr\n",
      "reversed\n",
      "round\n",
      "runfile\n",
      "set\n",
      "setattr\n",
      "slice\n",
      "sorted\n",
      "staticmethod\n",
      "str\n",
      "sum\n",
      "super\n",
      "tuple\n",
      "type\n",
      "vars\n",
      "zip\n"
     ]
    }
   ],
   "source": [
    "import builtins\n",
    "for i in dir(builtins):\n",
    "    print(i)"
   ]
  },
  {
   "cell_type": "code",
   "execution_count": 248,
   "id": "63a95fc9-832b-4b0c-a67c-a57f66a7eb80",
   "metadata": {
    "scrolled": true
   },
   "outputs": [
    {
     "name": "stdout",
     "output_type": "stream",
     "text": [
      "ArithmeticError\n",
      "AssertionError\n",
      "AttributeError\n",
      "BaseException\n",
      "BaseExceptionGroup\n",
      "BlockingIOError\n",
      "BrokenPipeError\n",
      "BufferError\n",
      "ChildProcessError\n",
      "ConnectionAbortedError\n",
      "ConnectionError\n",
      "ConnectionRefusedError\n",
      "ConnectionResetError\n",
      "EOFError\n",
      "EnvironmentError\n",
      "Exception\n",
      "ExceptionGroup\n",
      "FileExistsError\n",
      "FileNotFoundError\n",
      "FloatingPointError\n",
      "IOError\n",
      "ImportError\n",
      "IndentationError\n",
      "IndexError\n",
      "InterruptedError\n",
      "IsADirectoryError\n",
      "KeyError\n",
      "LookupError\n",
      "MemoryError\n",
      "ModuleNotFoundError\n",
      "NameError\n",
      "NotADirectoryError\n",
      "NotImplementedError\n",
      "OSError\n",
      "OverflowError\n",
      "PermissionError\n",
      "ProcessLookupError\n",
      "RecursionError\n",
      "ReferenceError\n",
      "RuntimeError\n",
      "SyntaxError\n",
      "SystemError\n",
      "TabError\n",
      "TimeoutError\n",
      "TypeError\n",
      "UnboundLocalError\n",
      "UnicodeDecodeError\n",
      "UnicodeEncodeError\n",
      "UnicodeError\n",
      "UnicodeTranslateError\n",
      "ValueError\n",
      "ZeroDivisionError\n"
     ]
    }
   ],
   "source": [
    "bi_exceptions = [ i for i in dir(builtins) if i.endswith('Error') or i.lower().find('exception') >= 0 ]\n",
    "\n",
    "def print_list(list_name):\n",
    "    for i in list_name:\n",
    "        print(i)\n",
    "\n",
    "print_list(bi_exceptions)"
   ]
  },
  {
   "cell_type": "code",
   "execution_count": 251,
   "id": "7cc55327-dfdd-4705-b498-7c6e7addee99",
   "metadata": {},
   "outputs": [
    {
     "name": "stdout",
     "output_type": "stream",
     "text": [
      "BytesWarning\n",
      "DeprecationWarning\n",
      "EncodingWarning\n",
      "FutureWarning\n",
      "ImportWarning\n",
      "PendingDeprecationWarning\n",
      "ResourceWarning\n",
      "RuntimeWarning\n",
      "SyntaxWarning\n",
      "UnicodeWarning\n",
      "UserWarning\n",
      "Warning\n"
     ]
    }
   ],
   "source": [
    "bi_warnings = [ i for i in dir(builtins) if i.lower().find('warning') >= 0 ]\n",
    "print_list(bi_warnings)"
   ]
  },
  {
   "cell_type": "code",
   "execution_count": 249,
   "id": "133d506b-d335-4d9f-a1f5-598f464f4819",
   "metadata": {},
   "outputs": [
    {
     "name": "stdout",
     "output_type": "stream",
     "text": [
      "__IPYTHON__\n",
      "__build_class__\n",
      "__debug__\n",
      "__doc__\n",
      "__import__\n",
      "__loader__\n",
      "__name__\n",
      "__package__\n",
      "__spec__\n"
     ]
    }
   ],
   "source": [
    "bi_dunders = [ i for i in dir(builtins) if i.endswith('_') ]\n",
    "print_list(bi_dunders)"
   ]
  },
  {
   "cell_type": "code",
   "execution_count": 252,
   "id": "7f6acb80-0e5c-4bc9-92c6-1d88b97326e1",
   "metadata": {
    "scrolled": true
   },
   "outputs": [
    {
     "name": "stdout",
     "output_type": "stream",
     "text": [
      "Ellipsis\n",
      "False\n",
      "GeneratorExit\n",
      "KeyboardInterrupt\n",
      "None\n",
      "NotImplemented\n",
      "StopAsyncIteration\n",
      "StopIteration\n",
      "SystemExit\n",
      "True\n",
      "abs\n",
      "aiter\n",
      "all\n",
      "anext\n",
      "any\n",
      "ascii\n",
      "bin\n",
      "bool\n",
      "breakpoint\n",
      "bytearray\n",
      "bytes\n",
      "callable\n",
      "chr\n",
      "classmethod\n",
      "compile\n",
      "complex\n",
      "copyright\n",
      "credits\n",
      "delattr\n",
      "dict\n",
      "dir\n",
      "display\n",
      "divmod\n",
      "enumerate\n",
      "eval\n",
      "exec\n",
      "execfile\n",
      "filter\n",
      "float\n",
      "format\n",
      "frozenset\n",
      "get_ipython\n",
      "getattr\n",
      "globals\n",
      "hasattr\n",
      "hash\n",
      "help\n",
      "hex\n",
      "id\n",
      "input\n",
      "int\n",
      "isinstance\n",
      "issubclass\n",
      "iter\n",
      "len\n",
      "license\n",
      "list\n",
      "locals\n",
      "map\n",
      "max\n",
      "memoryview\n",
      "min\n",
      "next\n",
      "object\n",
      "oct\n",
      "open\n",
      "ord\n",
      "pow\n",
      "print\n",
      "property\n",
      "range\n",
      "repr\n",
      "reversed\n",
      "round\n",
      "runfile\n",
      "set\n",
      "setattr\n",
      "slice\n",
      "sorted\n",
      "staticmethod\n",
      "str\n",
      "sum\n",
      "super\n",
      "tuple\n",
      "type\n",
      "vars\n",
      "zip\n"
     ]
    }
   ],
   "source": [
    "bi_others = [ i for i in dir(builtins) if i not in (bi_dunders + bi_exceptions + bi_warnings) ]\n",
    "print_list(bi_others)"
   ]
  },
  {
   "cell_type": "code",
   "execution_count": 269,
   "id": "589e8cc2-89a5-4595-b5a2-73b851edc13b",
   "metadata": {},
   "outputs": [
    {
     "data": {
      "text/plain": [
       "[52, 12, 10, 87]"
      ]
     },
     "execution_count": 269,
     "metadata": {},
     "output_type": "execute_result"
    }
   ],
   "source": [
    "bi_dict = {'Exceptions':bi_exceptions,'Warnings':bi_warnings,'Specials':bi_dunders,'Others':bi_others}\n",
    "list(map(len,bi_dict.values()))"
   ]
  },
  {
   "cell_type": "code",
   "execution_count": 270,
   "id": "194b37a0-87e5-4af9-80c5-42906e449fce",
   "metadata": {},
   "outputs": [
    {
     "data": {
      "text/plain": [
       "[87, 87, 87, 87]"
      ]
     },
     "execution_count": 270,
     "metadata": {},
     "output_type": "execute_result"
    }
   ],
   "source": [
    "def list_fill(list_name,offset):\n",
    "    for i in range(offset):\n",
    "        list_name.append(\"\")\n",
    "\n",
    "list_fill(bi_warnings,87-12)\n",
    "list_fill(bi_dunders,87-10)\n",
    "list_fill(bi_exceptions,87-52)\n",
    "\n",
    "bi_dict = {'Exceptions':bi_exceptions,'Warnings':bi_warnings,'Specials':bi_dunders,'Others':bi_others}\n",
    "list(map(len,bi_dict.values()))\n"
   ]
  },
  {
   "cell_type": "code",
   "execution_count": 271,
   "id": "f3d8b5c7-7155-4b23-9940-025a5ccc45f8",
   "metadata": {},
   "outputs": [
    {
     "data": {
      "text/html": [
       "<div>\n",
       "<style scoped>\n",
       "    .dataframe tbody tr th:only-of-type {\n",
       "        vertical-align: middle;\n",
       "    }\n",
       "\n",
       "    .dataframe tbody tr th {\n",
       "        vertical-align: top;\n",
       "    }\n",
       "\n",
       "    .dataframe thead th {\n",
       "        text-align: right;\n",
       "    }\n",
       "</style>\n",
       "<table border=\"1\" class=\"dataframe\">\n",
       "  <thead>\n",
       "    <tr style=\"text-align: right;\">\n",
       "      <th></th>\n",
       "      <th>Exceptions</th>\n",
       "      <th>Warnings</th>\n",
       "      <th>Specials</th>\n",
       "      <th>Others</th>\n",
       "    </tr>\n",
       "  </thead>\n",
       "  <tbody>\n",
       "    <tr>\n",
       "      <th>0</th>\n",
       "      <td>ArithmeticError</td>\n",
       "      <td>BytesWarning</td>\n",
       "      <td>__IPYTHON__</td>\n",
       "      <td>Ellipsis</td>\n",
       "    </tr>\n",
       "    <tr>\n",
       "      <th>1</th>\n",
       "      <td>AssertionError</td>\n",
       "      <td>DeprecationWarning</td>\n",
       "      <td>__build_class__</td>\n",
       "      <td>False</td>\n",
       "    </tr>\n",
       "    <tr>\n",
       "      <th>2</th>\n",
       "      <td>AttributeError</td>\n",
       "      <td>EncodingWarning</td>\n",
       "      <td>__debug__</td>\n",
       "      <td>GeneratorExit</td>\n",
       "    </tr>\n",
       "    <tr>\n",
       "      <th>3</th>\n",
       "      <td>BaseException</td>\n",
       "      <td>FutureWarning</td>\n",
       "      <td>__doc__</td>\n",
       "      <td>KeyboardInterrupt</td>\n",
       "    </tr>\n",
       "    <tr>\n",
       "      <th>4</th>\n",
       "      <td>BaseExceptionGroup</td>\n",
       "      <td>ImportWarning</td>\n",
       "      <td>__import__</td>\n",
       "      <td>None</td>\n",
       "    </tr>\n",
       "    <tr>\n",
       "      <th>...</th>\n",
       "      <td>...</td>\n",
       "      <td>...</td>\n",
       "      <td>...</td>\n",
       "      <td>...</td>\n",
       "    </tr>\n",
       "    <tr>\n",
       "      <th>82</th>\n",
       "      <td></td>\n",
       "      <td></td>\n",
       "      <td></td>\n",
       "      <td>super</td>\n",
       "    </tr>\n",
       "    <tr>\n",
       "      <th>83</th>\n",
       "      <td></td>\n",
       "      <td></td>\n",
       "      <td></td>\n",
       "      <td>tuple</td>\n",
       "    </tr>\n",
       "    <tr>\n",
       "      <th>84</th>\n",
       "      <td></td>\n",
       "      <td></td>\n",
       "      <td></td>\n",
       "      <td>type</td>\n",
       "    </tr>\n",
       "    <tr>\n",
       "      <th>85</th>\n",
       "      <td></td>\n",
       "      <td></td>\n",
       "      <td></td>\n",
       "      <td>vars</td>\n",
       "    </tr>\n",
       "    <tr>\n",
       "      <th>86</th>\n",
       "      <td></td>\n",
       "      <td></td>\n",
       "      <td></td>\n",
       "      <td>zip</td>\n",
       "    </tr>\n",
       "  </tbody>\n",
       "</table>\n",
       "<p>87 rows × 4 columns</p>\n",
       "</div>"
      ],
      "text/plain": [
       "            Exceptions            Warnings         Specials             Others\n",
       "0      ArithmeticError        BytesWarning      __IPYTHON__           Ellipsis\n",
       "1       AssertionError  DeprecationWarning  __build_class__              False\n",
       "2       AttributeError     EncodingWarning        __debug__      GeneratorExit\n",
       "3        BaseException       FutureWarning          __doc__  KeyboardInterrupt\n",
       "4   BaseExceptionGroup       ImportWarning       __import__               None\n",
       "..                 ...                 ...              ...                ...\n",
       "82                                                                       super\n",
       "83                                                                       tuple\n",
       "84                                                                        type\n",
       "85                                                                        vars\n",
       "86                                                                         zip\n",
       "\n",
       "[87 rows x 4 columns]"
      ]
     },
     "execution_count": 271,
     "metadata": {},
     "output_type": "execute_result"
    }
   ],
   "source": [
    "pd.DataFrame(bi_dict)"
   ]
  },
  {
   "cell_type": "markdown",
   "id": "f0e0c74a-fc8e-4a42-8229-e8759b028f7e",
   "metadata": {},
   "source": [
    "#### Why you should keep in mind built-in names when naming variables \n",
    "\n",
    "Note that most if not all of these built-in names are not simple variables with objects assigned to them.  Many are built-in functions, such as max(), min(), tuple(), type().  Nevertheless, the names are generally reserved for these functions, so it would generally be a good idea not to name any variables after these exact names.\n",
    "\n",
    "Let's take the example of the built-in ***dict()*** function.  Among other things, it can convert lists of nested two-item lists into dictionaries, as seen below:"
   ]
  },
  {
   "cell_type": "code",
   "execution_count": 282,
   "id": "6ac88ca5-0120-4e61-8bea-8876439ad57f",
   "metadata": {},
   "outputs": [
    {
     "data": {
      "text/plain": [
       "{2: 3, 6: 2}"
      ]
     },
     "execution_count": 282,
     "metadata": {},
     "output_type": "execute_result"
    }
   ],
   "source": [
    "dict([[2,3],[6,2]])"
   ]
  },
  {
   "cell_type": "markdown",
   "id": "725420eb-9933-433a-a578-fedded1c9e58",
   "metadata": {},
   "source": [
    "However, should you accidentally assign a specific dictionary to **dict**, you've now created a global variable named **dict**.  Since it is global, its definition comes before the built-in one according to LEGB.  Thus, if you try to call dict(), Python will unfortunately stop at your globally defined variable before reaching the built-in defined function, and hence **dict** will no longer be a callable function but instead a dictionary:"
   ]
  },
  {
   "cell_type": "code",
   "execution_count": 283,
   "id": "2b66b796-42e7-487c-8044-0f49c0a1b5d4",
   "metadata": {
    "scrolled": true
   },
   "outputs": [
    {
     "ename": "SyntaxError",
     "evalue": "':' expected after dictionary key (3930727896.py, line 1)",
     "output_type": "error",
     "traceback": [
      "\u001b[0;36m  Cell \u001b[0;32mIn[283], line 1\u001b[0;36m\u001b[0m\n\u001b[0;31m    dict = {'key1':'val1','key2','val2'}\u001b[0m\n\u001b[0m                               ^\u001b[0m\n\u001b[0;31mSyntaxError\u001b[0m\u001b[0;31m:\u001b[0m ':' expected after dictionary key\n"
     ]
    }
   ],
   "source": [
    "dict = {'key1':'val1','key2','val2'}\n",
    "dict([[2,3],[6,2]])"
   ]
  },
  {
   "cell_type": "markdown",
   "id": "9b6d1a4b-85a3-4e12-9937-c912772301ea",
   "metadata": {},
   "source": [
    "To rectify this, you can use the builtins module to summon the original definition and reassign it to the **dict** name:"
   ]
  },
  {
   "cell_type": "code",
   "execution_count": 284,
   "id": "4c7d7932-e47a-4188-ba13-6dae815640e0",
   "metadata": {},
   "outputs": [
    {
     "data": {
      "text/plain": [
       "{2: 3, 6: 2}"
      ]
     },
     "execution_count": 284,
     "metadata": {},
     "output_type": "execute_result"
    }
   ],
   "source": [
    "dict = builtins.dict\n",
    "dict([[2,3],[6,2]])"
   ]
  },
  {
   "cell_type": "markdown",
   "id": "149ed788-7f84-46c0-a0ab-dbd7f6824a12",
   "metadata": {
    "jp-MarkdownHeadingCollapsed": true
   },
   "source": [
    "## 7.4\tLambda Functions and Error Handling"
   ]
  },
  {
   "cell_type": "code",
   "execution_count": null,
   "id": "00bfb2cf-6e07-4781-84d9-3fb5ccfd0961",
   "metadata": {},
   "outputs": [],
   "source": []
  },
  {
   "cell_type": "markdown",
   "id": "8e8af03d-3b1f-4f0b-99c6-091199a02841",
   "metadata": {},
   "source": [
    "## 7.5\tIterators"
   ]
  },
  {
   "cell_type": "markdown",
   "id": "456f8175-753f-4375-960c-0ce0a082e56e",
   "metadata": {},
   "source": [
    "## [Iters vs Gen - ritvikmath](https://www.youtube.com/watch?v=u0JnTdAcGns)\n",
    "\n",
    "In python2, range() and xrange() work differently:\n",
    "\n",
    "range() is an **iterator**, meaning the whole set of values within the range are loaded into RAM to be readily iterated through.\n",
    "\n",
    "xrange() is a **generator**, meaning it generates the next value as needed.\n",
    "\n",
    "The advantage of an iterator is that everything is already loaded into memory, so you can rapidly access multiple items back and forth if needed.  On the other hand, if you have a very large range of items and only want to iterate through a few, it can be advantageous to use a generator as it bypasses the time necessary to load everything into memory."
   ]
  },
  {
   "cell_type": "markdown",
   "id": "f8b7ec68-dfc7-430f-b78a-4d6053a457f1",
   "metadata": {},
   "source": [
    "## 7.6\tList Comprenensions"
   ]
  },
  {
   "cell_type": "markdown",
   "id": "104164eb-a1bd-4d3b-b319-c7601283333f",
   "metadata": {},
   "source": [
    "## [Socratica - List Comprehension || Python](https://www.youtube.com/watch?app=desktop&v=AhSvKGTh28Q&t=2m21s)"
   ]
  },
  {
   "cell_type": "code",
   "execution_count": 298,
   "id": "f819c841-1e63-482d-96ed-4b0afc096682",
   "metadata": {},
   "outputs": [
    {
     "name": "stdout",
     "output_type": "stream",
     "text": [
      "[1, 4, 9, 16, 25, 36, 49, 64, 81, 100, 121, 144, 169, 196, 225, 256, 289, 324, 361, 400, 441, 484, 529, 576, 625, 676, 729, 784, 841, 900, 961, 1024, 1089, 1156, 1225, 1296, 1369, 1444, 1521, 1600, 1681, 1764, 1849, 1936, 2025, 2116, 2209, 2304, 2401, 2500, 2601, 2704, 2809, 2916, 3025, 3136, 3249, 3364, 3481, 3600, 3721, 3844, 3969, 4096, 4225, 4356, 4489, 4624, 4761, 4900, 5041, 5184, 5329, 5476, 5625, 5776, 5929, 6084, 6241, 6400, 6561, 6724, 6889, 7056, 7225, 7396, 7569, 7744, 7921, 8100, 8281, 8464, 8649, 8836, 9025, 9216, 9409, 9604, 9801, 10000]\n"
     ]
    }
   ],
   "source": [
    "hundo_squares = [ x**2 for x in range(1,101) ]\n",
    "print(hundo_squares)"
   ]
  },
  {
   "cell_type": "code",
   "execution_count": 299,
   "id": "30622c72-04dc-4811-ba24-9620871ff835",
   "metadata": {},
   "outputs": [
    {
     "name": "stdout",
     "output_type": "stream",
     "text": [
      "[1, 4, 4, 1, 0, 1, 4, 4, 1, 0, 1, 4, 4, 1, 0, 1, 4, 4, 1, 0, 1, 4, 4, 1, 0, 1, 4, 4, 1, 0, 1, 4, 4, 1, 0, 1, 4, 4, 1, 0, 1, 4, 4, 1, 0, 1, 4, 4, 1, 0, 1, 4, 4, 1, 0, 1, 4, 4, 1, 0, 1, 4, 4, 1, 0, 1, 4, 4, 1, 0, 1, 4, 4, 1, 0, 1, 4, 4, 1, 0, 1, 4, 4, 1, 0, 1, 4, 4, 1, 0, 1, 4, 4, 1, 0, 1, 4, 4, 1, 0]\n"
     ]
    }
   ],
   "source": [
    "rems_o5 = [ n % 5 for n in hundo_squares ]\n",
    "print(rems_o5)"
   ]
  },
  {
   "cell_type": "markdown",
   "id": "9981a02d-365c-40bc-8d49-b041581d7cab",
   "metadata": {},
   "source": [
    "[Quadratic Reciprocity (3:12)](https://www.youtube.com/watch?app=desktop&v=AhSvKGTh28Q&t=3m12s)\n",
    "\n",
    "Gauss"
   ]
  },
  {
   "cell_type": "code",
   "execution_count": 316,
   "id": "7d5cb814-4fd3-4081-a0a4-466caf4bb94a",
   "metadata": {},
   "outputs": [],
   "source": [
    "def primes(n):\n",
    "    for num in range(1, n+1):\n",
    "        moduli = [ num % i for i in range(2,num) ]\n",
    "        if 0 in moduli:\n",
    "            pass\n",
    "        else:\n",
    "            yield num"
   ]
  },
  {
   "cell_type": "code",
   "execution_count": 325,
   "id": "472345d1-c0a4-4fbc-b0c7-fb7fee2088d5",
   "metadata": {},
   "outputs": [
    {
     "data": {
      "text/plain": [
       "[1, 2, 3, 5, 7, 11, 13, 17, 19, 23, 29, 31, 37, 41, 43, 47]"
      ]
     },
     "execution_count": 325,
     "metadata": {},
     "output_type": "execute_result"
    }
   ],
   "source": [
    "p50 = list(primes(50))\n",
    "p50"
   ]
  },
  {
   "cell_type": "markdown",
   "id": "7cdc4709-f572-4126-bba1-15babd10a927",
   "metadata": {},
   "source": [
    "...\n",
    "\n",
    "\n",
    "Something about the number of remainders generated by the following formula equating to 1 + p / 2 for all prime numbers p?"
   ]
  },
  {
   "cell_type": "code",
   "execution_count": 305,
   "id": "64780e88-36c1-44c4-afe0-bd95a9d512ae",
   "metadata": {},
   "outputs": [],
   "source": [
    "p_remainders = lambda p: set([ x**2 % p for x in range(0,p) ])"
   ]
  },
  {
   "cell_type": "code",
   "execution_count": 324,
   "id": "6fa7ef0f-d9bf-491b-b484-d5572143b0da",
   "metadata": {},
   "outputs": [
    {
     "name": "stdout",
     "output_type": "stream",
     "text": [
      "1 True\n",
      "2 False\n",
      "3 True\n",
      "5 True\n",
      "7 True\n",
      "11 True\n",
      "13 True\n",
      "17 True\n",
      "19 True\n",
      "23 True\n",
      "29 True\n",
      "31 True\n",
      "37 True\n",
      "41 True\n",
      "43 True\n",
      "47 True\n"
     ]
    }
   ],
   "source": [
    "for p in p50:\n",
    "    print(p, len(p_remainders(p)) == (1+p) / 2)"
   ]
  },
  {
   "cell_type": "markdown",
   "id": "c8b54151-29e6-4d04-b390-78cbd69a2009",
   "metadata": {},
   "source": [
    "[Cartesian Product (5:48)](https://youtu.be/AhSvKGTh28Q?feature=shared&t=348)\n",
    "\n",
    "The Cartesian product of two sets of numbers A and B are a set of all possible pairs of numbers respectively from A and B - i.e., it is a set of all pairs (a,b) where a is an element of A and b is an element of B.\n",
    "\n",
    "This can be accomplished in a list comprehension via the following syntax:"
   ]
  },
  {
   "cell_type": "code",
   "execution_count": 329,
   "id": "ffd70622-ddef-4188-be12-f01d7d25be93",
   "metadata": {},
   "outputs": [
    {
     "data": {
      "text/plain": [
       "[(2, 1),\n",
       " (2, 3),\n",
       " (2, 5),\n",
       " (2, 7),\n",
       " (4, 1),\n",
       " (4, 3),\n",
       " (4, 5),\n",
       " (4, 7),\n",
       " (6, 1),\n",
       " (6, 3),\n",
       " (6, 5),\n",
       " (6, 7),\n",
       " (8, 1),\n",
       " (8, 3),\n",
       " (8, 5),\n",
       " (8, 7)]"
      ]
     },
     "execution_count": 329,
     "metadata": {},
     "output_type": "execute_result"
    }
   ],
   "source": [
    "A = [2,4,6,8]\n",
    "B = [1,3,5,7]\n",
    "\n",
    "AB = [ (a,b) for a in A for b in B ]\n",
    "\n",
    "AB"
   ]
  },
  {
   "cell_type": "markdown",
   "id": "08c1e833-5425-4e4b-a363-05064fd1953e",
   "metadata": {},
   "source": [
    "This is list comprehension is equivalent to using a nested for loop:"
   ]
  },
  {
   "cell_type": "code",
   "execution_count": 330,
   "id": "5a29146f-8cad-4cea-8cee-14ab34ab516b",
   "metadata": {},
   "outputs": [
    {
     "data": {
      "text/plain": [
       "[(2, 1),\n",
       " (2, 3),\n",
       " (2, 5),\n",
       " (2, 7),\n",
       " (4, 1),\n",
       " (4, 3),\n",
       " (4, 5),\n",
       " (4, 7),\n",
       " (6, 1),\n",
       " (6, 3),\n",
       " (6, 5),\n",
       " (6, 7),\n",
       " (8, 1),\n",
       " (8, 3),\n",
       " (8, 5),\n",
       " (8, 7)]"
      ]
     },
     "execution_count": 330,
     "metadata": {},
     "output_type": "execute_result"
    }
   ],
   "source": [
    "AB = []\n",
    "for a in A:\n",
    "    for b in B:\n",
    "        AB.append((a,b))\n",
    "\n",
    "AB"
   ]
  },
  {
   "cell_type": "markdown",
   "id": "260a7489-4d65-480d-aa78-4d17f633479c",
   "metadata": {},
   "source": [
    "# UNIT 8 & 9 | Intro Statistics I & II"
   ]
  },
  {
   "cell_type": "code",
   "execution_count": 332,
   "id": "15eb1c47-b5dd-40a4-bb20-4eb90393763d",
   "metadata": {},
   "outputs": [],
   "source": [
    "bdf = pd.read_csv('BRICS_Data.csv')"
   ]
  },
  {
   "cell_type": "markdown",
   "id": "afc5d8c0-6bfd-4414-b17b-b7b5a1ca9a2b",
   "metadata": {},
   "source": [
    "## Probability & Set Theory\n",
    "\n",
    "### Basic Terminology and Notation\n",
    "\n",
    "mostly inspired by this [American Board Page](https://americanboard.org/Subjects/mathematics/independent-and-dependent-events/).\n",
    "\n",
    "\n",
    "The probability of an event $A$ occuring is denoted $P(A)$, of $B$ occuring $P(B)$, of $C$ occuring $P(C)$, and so on.\n",
    "\n",
    "If all possible events are known, then a simple definition of probability for a given event $A$ is:\n",
    "\n",
    "$$P(A) = \\frac{\\text{All possible ways A can happen}}{\\text{All possible events overall}}$$\n",
    "\n",
    "To determine all of the possibilities, it can be helpful to know how to calculate combinations and permutations:\n",
    "\n",
    "**Combinations** (no specific order)\n",
    "$$C(n,r) = \\binom{n}{r} = \\frac{n!}{r!(n-r)!}$$\n",
    "\n",
    "**Permutations** (order matters)\n",
    "$$ P(n,r) = \\frac{n!}{(n-r)!} $$\n",
    "\n",
    "In each case,<br/>\n",
    "&nbsp; $n$ = total number of items to choose from <br/>\n",
    "&nbsp; $r$ = number of items chosen\n",
    "\n",
    "#### Set Operations\n",
    "**Intersection**:\n",
    "$A \\cap B$, comprising all events where A **and** B occurred together\n",
    "\n",
    "**Union**:\n",
    "$A \\cup B$, comprising all events where either A **or** B occurred\n",
    "\n",
    "**Empty**:\n",
    "$\\emptyset$\n",
    "\n",
    "#### Set Membership\n",
    "$x \\in A$\n",
    "\n",
    "$x \\notin A$\n",
    "\n",
    "\n",
    "\n",
    "\n",
    "**Mutually Exclusive** A and B can NOT occur simultaneously.\n",
    "\n",
    "**Independent** A and B can occur simultaneously, and neither P(A) depends on P(B) nor P(B) depends on P(A).\n",
    "\n",
    "**Dependent** A and B can occur simultaneously, and the probability of one occuring influences the probability of the other.\n",
    "\n",
    "### Basic Probability Rules\n",
    "\n",
    "$$\n",
    "\\begin{array}{|c|c|c|c|}\n",
    "\\hline\n",
    "\\textbf{} & \\textbf{Mutually Exclusive} & \\textbf{Independent} & \\textbf{Dependent} \\\\\n",
    "\\hline\n",
    "P(A \\cap B) & 0 & P(A) \\times P(B) & P(A) \\times P(B|A) \\\\\n",
    "\\hline\n",
    "P(A \\cup B) & P(A) + P(B) & P(A) + P(B) - P(A) \\times P(B) & P(A) + P(B) - P(A \\cap B) \\\\\n",
    "\\hline\n",
    "\\end{array}\n",
    "$$\n",
    "\n",
    "If $A$ and $B$ are **mutually exclusive**, then by definition $A \\cap B$ does not occur.  Hence, $P(A \\cap B)$ = 0.  Meanwhile, $P(A \\cup B)$ is simply the sum of their respective probabilities.  For example, in a single coin toss, you can either get $H$ or $T$, not both at the same time.  For an ideal coin toss (perfectly weighted, no biases), $P(H)=P(T)=0.5$ and $P(H \\cup T) = P(H) + P(T) = 1$, while $P(H \\cap T) = 0$.\n",
    "\n",
    "If $A$ and $B$ are **independent**, then there is some overlap of when they could occur.  Since one event does not influence to probability of the other, we can take their respective probabilities and multiply them to get the chance of them co-occuring.  However, in the case of either $A$ or $B$ occuring, a portion of both $P(A)$ and $P(B)$ each independently account for the region of overlap.  That is, $P(A)$ includes both situations where $A$ alone and situations while $A$ occurs with $B$.  Similarly, $P(B)$, includes both $B$ alone and $B$ co-occuring with $A$.  Given this fact, if we were to simply add $P(A) + P(B)$, we would count the probability of co-ccurence twice.  Thus, we must subtract $P(A \\cap B)$ once from the sum of $P(A)$ and $P(B)$ to get $P(A \\cup B)$.  Since we already determined $(P \\cap B) = P(A)P(B)$, we can substitute that into the equation.\n",
    "\n",
    "If $A$ and $B$ are **dependent**, then it, quite literally, depends (on the relationship between them).  \n",
    "\n",
    "<u>Example</u><br/>\n",
    "The distinction between indpendent and dependent can be established based on how you phrase the question.  \n",
    "\n",
    "Consider a bag containing six colored marbles: 3 red, 2 blue, 1 green.  \n",
    "\n",
    "You grab two marbles from the bag at random.  What is $P(R \\cap G)$, the probability that the two are comprised of one red and one green?\n",
    "\n",
    "Let's consider two ways of grabbing the marbles: simultaneously and sequentially.\n",
    "\n",
    "**Simultaneously** - you pick two together.  Going back to the basic definition of probability, first consider the denominator (total possible outcomes): how many distinct combinations of two marbles can you get from six total?  \n",
    "\n",
    "$$C(n,r) = \\binom{n}{r} = \\frac{n!}{r!(n-r)!}$$\n",
    "\n",
    "$$ = \\binom{6}{2} = \\frac{6!}{2!(6-2)!} = \\frac{6 \\cdot 5}{2} = 15 $$\n",
    "\n",
    "Next, the number of ways you can get 1 red and 1 green marble.  In order for that to happen, we need two simultaneous and independent events to occur: 1 of 3 total red marbles is chosen, and 1 of 1 total green marbles is chosen.\n",
    "\n",
    "$$ C(3,1) \\times C(1,1) = \\frac{3!}{1!(3-1)!} \\times \\frac{1!}{1!(1-1)!} $$\n",
    "$$ = \\frac{3 \\cdot 2 \\cdot 1}{2 \\cdot 1} \\times 1 = 3 $$\n",
    "\n",
    "Thus, \n",
    "\n",
    "$$P(R \\cap G) = \\frac{3}{15} = \\frac{1}{5}$$\n",
    "\n",
    "    \n",
    "\n",
    "**Sequentially** - you pick one after the other.  Well, if you put the first marble back before grabbing the second one, then we should treat the events $R$ and $G$ independently; the result is the same as if you grabbed two simultaneously.  However, if you hold onto the first one, then the probabilities for the second one have changed - we must treat them dependently.\n",
    "\n",
    "$$P( R \\cap G ) = P(R) \\times P(G | R)$$\n",
    "\n",
    "We can easily calculate $P(R) = \\frac{3}{6} = \\frac{1}{2}$.  If we consider if red was already drawn, that means there are only 5 total left, of which still includes the 1 green; $P(G|R) = \\frac{1}{5}$.\n",
    "\n",
    "$$P( R \\cap G ) = \\frac{1}{2} \\times \\frac{1}{5} = \\frac{1}{10}$$\n",
    "\n",
    "\n",
    "These results make some sense intuitively.  In the sequential case, the probability of first grabbing red, then green is 0.1.  If order didn't matter, there's no reason to believe that green then red is any more likely than red then green - so the probability of either one is twice that of one by itself: 0.2."
   ]
  },
  {
   "cell_type": "markdown",
   "id": "b0c9222e-85bb-456f-b552-ec1c328cc9cd",
   "metadata": {},
   "source": [
    "Let's try to confirm this with a simulation.  First, I'll create a function for picking the marbles - i.e., pass in the number of marbles to pick in one go."
   ]
  },
  {
   "cell_type": "code",
   "execution_count": 8,
   "id": "dcf838be-8e09-401a-b118-08f77237d532",
   "metadata": {},
   "outputs": [
    {
     "data": {
      "text/plain": [
       "('r', 'g')"
      ]
     },
     "execution_count": 8,
     "metadata": {},
     "output_type": "execute_result"
    }
   ],
   "source": [
    "from random import choice\n",
    "\n",
    "def pick_marbles(n:int):\n",
    "    \"\"\"Pass in number of marbles (1-6), it returns the colors.\"\"\"\n",
    "    if n > 6 or n < 0:\n",
    "        print('Error: please enter integer from 1 to 6')\n",
    "    else:\n",
    "        bag = ['r','r','r','b','b','g']\n",
    "        marbles_picked = []\n",
    "        for i in range(n):\n",
    "            m = choice(bag)\n",
    "            bag.remove(m)\n",
    "            marbles_picked.append(m)\n",
    "        bag = ['r','r','r','b','b','g']\n",
    "        return tuple(marbles_picked)\n",
    "\n",
    "pick_marbles(2)"
   ]
  },
  {
   "cell_type": "code",
   "execution_count": 20,
   "id": "7b50bd0d-d37b-4712-9c57-5795cd3d3fc7",
   "metadata": {},
   "outputs": [
    {
     "name": "stdout",
     "output_type": "stream",
     "text": [
      "P(R and G) = 0.19935 if order doesn't matter (simultaneous, or sequentially but you put it back each time\n",
      "P(R and G) = 0.10046 if order matters (sequential without putting any back)\n"
     ]
    }
   ],
   "source": [
    "def marblepairs(n_pairs):\n",
    "    mpairs = [pick_marbles(2) for i in range(n_pairs)]\n",
    "    return mpairs\n",
    "\n",
    "np = 10**5\n",
    "rggr = [ mp for mp in marblepairs(np) if mp == ('r','g') or mp == ('g','r') ]\n",
    "print(f\"P(R and G) = {len(rggr) / np} if order doesn't matter (simultaneous, or sequentially but you put it back each time\")\n",
    "rg = [ mp for mp in marblepairs(np) if mp == ('r','g') ]\n",
    "print(f'P(R and G) = {len(rg) / np} if order matters (sequential without putting any back)')\n",
    "\n",
    "    "
   ]
  },
  {
   "attachments": {
    "757d4626-9d89-4f4c-9c57-f6d98d4ddf78.png": {
     "image/png": "[encoded data removed]"
    }
   },
   "cell_type": "markdown",
   "id": "47eb7b0a-460a-4263-ad56-c0c9d5829510",
   "metadata": {},
   "source": [
    "### Conditional Probability\n",
    "The conditional probability is the probability of an event $A$ given that event $B$ has occurred, denoted $ P(A | B) $.  In the case that $A$ and $B$ are **mutually exclusive**, then this evaluates to 0 - i.e., if we know $B$ definitely occurred, then by virtue of them being mutually exclusive (can't occur simultaneously), then $A$ definitely didn't happen.  If $A$ and $B$ are **independent**, then $P(A|B)$ is simply $P(A)$, as $P(A)$ never really depended on $B$ in the first place.  So it seems the concept of conditional probability only really becomes relevant when we consider events that are **dependent**.\n",
    "\n",
    "In the most general form, conditional probability can be defined as:\n",
    "\n",
    "$$P(A|B)=\\frac{P(A \\cap B)}{P(B)}$$\n",
    "\n",
    "![image.png](attachment:757d4626-9d89-4f4c-9c57-f6d98d4ddf78.png)\n",
    "\n",
    "\n",
    "Take a look at the diagram.  The \"given B\" part of P(A|B) means we already know B occurred, which means all events that could have occurred is narrowed from the whole sample space S to only what's within the green circle B.  Now \"A given B\" is asking for the situations within that green circle where A also occurs - that's $A \\cap B$.  Going back to basics, probability is the desired outcome divided by total possible outcomes, right?  In this case, the total possible outcomes, as we said, is now limited to the green circle because we already know B occurred.  And the desired outcome is $A \\cap B$.  Hence, you divide $P(A \\cap B)$ by $P(B)$.\n",
    "\n",
    "For the reverse condition (i.e., $P(B|A)$ instead of $P(A|B)$), we simply need to swap out the denominator, since the $P(A \\cap B)$ doesn't depend on order:\n",
    "\n",
    "$$P(B|A)=\\frac{P(A \\cap B)}{P(A)}$$\n",
    "\n",
    "Now imagine we rearrange both equations to solve for $P(A \\cap B)$:\n",
    "\n",
    "$$P(A \\cap B) = P(A|B) \\cdot P(B) \n",
    "= P(B|A) \\cdot P(A)$$\n",
    "\n",
    "We can substitute either of the expressions on the right into the numerator of the original definition of conditional probability:\n",
    "\n",
    "In the first case, we get\n",
    "\n",
    "$$P(A | B) = \\frac{P(A|B) \\cdot P(B)}{P(B)}$$\n",
    "\n",
    "which is not very useful, as it reduces to the identity:\n",
    "\n",
    "$$P(A|B) = P(A|B)$$\n",
    "\n",
    "However, in the second case we get\n",
    "\n",
    "$$P(A | B) = \\frac{P(B|A) \\cdot P(A)}{P(B)}$$\n",
    "\n",
    "This is known as **Bayes Theorem**, named after The Reverend Thomas Bayes (c. 1701-1761), an English Presbyterian minister, statistician, and philospher who provided a special case of this theorem as a solution to a problem in inferential statistics (at the time, known as \"inverse probability\" problems) - i.e., the \"inverse probability\" is the probability distribution of an unobserved variable.  The term \"unobserved variable\" refers to something like a parameter of a probability distribution.  In inferential statistics, one seeks to infer properties of an underlying probability distribution (unobserved variables) through analysis of the observed data.  In order to do this, we need a way to assess how well the unobserved variable fits the observed data - i.e., we need a separate probability distribution that is a measure of probability as a function of this unobserved variable, rather than the observed data.\n",
    "\n",
    "Let $X$ be the population and $x$ a sample within that population containing a set of individual observations ${x_1,x_2,x_3,...x_n}$.  Our aim is to infer the underlying probability distribution function that describes this population.  Such a function might have a single parameter $\\theta$ - this is our unobserved variable that we want to infer with our analysis of $x$, the observed data.  The PDF can thus be denoted $p(x | \\theta)$, which is probability as a function of $x$ for a given $\\theta$.  There are thus a variety of potential PDFs depending on what $\\theta$ is used.  How do we assess which one is the best?  Well, instead of considering $x$ given $\\theta$, what if we looked at the \"inverse\" of that: $p(\\theta|x)$ ?  This is the inverse probability, which is the probability distribution of the unobserved variable.  In the situation at hand, the set of obervations $x$ truly is given, so we technically have the \"parameter\" of this inverse probability function.  Thus, we can essentially plot probability as a function of $\\theta$ with $x$ as the known \"parameter\" of the function - the $\\theta$ at which probability is maximized is our best guess for what $\\theta$ is for the distribution of the whole population $p(X,\\theta)$.\n",
    "\n",
    "This particular approach to statistical inference is known as **Bayesian inference**, whereby one inverts the $p(x|\\theta)$ to $p(\\theta|x)$, thereby looking at probability of the model itself given the observations in order to infer the probability of the observations given the model.\n",
    "\n",
    "\n",
    "\n",
    "\n",
    "\n",
    "\n",
    "#### Posterior Probability\n",
    "Posterior probability is a type of conditional probability that is obtained using Bayes Theorem.  In the Bayesian framework, you have a **prior probability** that is updated given information from a **likelihood function**, yielding a **posterior probability**.\n",
    "\n",
    "$$P(A|B) = \\frac{P(B|A) \\cdot P(A)}{P(B)}$$\n",
    "\n",
    "$P(A)$ is the **prior**\n",
    "\n",
    "$P(B|A)$ is the **likelihood**\n",
    "\n",
    "$P(A|B)$ is the **posterior**\n",
    "\n",
    "$P(B)$ is the **marginal**\n",
    "\n",
    "Likelihood is a measure of how well a statistical model explains observed data - i.e., how likely one is to observe a given data point under the model.  In the notation $P(B|A)$, this means the probability that B represents reality given that we've observed A.  If B is a positive screening test and A is the observed incidence of disease, you can see how if P(B|A) is higher it means that the screening test is a better model of the disease than not.  The screening test itself is essentially a complex function that is a model of diseased vs nondiseased patients; input a patient sample and it returns either +ive or -ive.  \n",
    "\n",
    "<u>Continuous Variables</u></br>\n",
    "<b>Single Parameter</b></br>\n",
    "For a random variable $X$, say we make one observation / take one sample $x$.  And let's say we have a probability density function that we think best encapsulates the data as a whole - this will be our statistical model.  If the model has a single parameter $\\theta$ (e.g., the mean), then the probability of observing $x$ as a function of $\\theta$ is the likelihood function, $L(\\theta | x)$.  At some point along the plot of $L(\\theta | x)$, the probability may reach a peak - i.e., the **maximum likelihood**.  This represents the parameter at which the model is best fitted to the data.\n",
    "\n",
    "</br><b>Multiple Parameters</b></br>\n",
    "You could potentially have more complex models with more parameters.  For example, if we wanted to model a population as being normally distrubtion, then our PDF would be the equation for the Gaussian distribution:\n",
    "\n",
    "$$p(x | \\mu,\\sigma) = \\frac{1}{\\sqrt{2\\pi\\sigma^2}}e^{-\\frac{(x-\\mu)^2}{2\\sigma^2}}$$\n",
    "\n",
    "The $\\mu$ and $\\sigma$ are the two parameters of this statistical model, which can be tweaked until the PDF best fits the data.  Again, the likelihood function is the measure of how well it fits the data.  So basically, the goal is to adjust $\\mu$ and $\\sigma$ until likelihood is maximized - the resulting values of $\\mu$ and $\\sigma$ are our best estimate of the \"true\" mean and standard deviation of the population.\n",
    "\n",
    "$$\\arg \\max_{\\mu,\\sigma}L(\\mu,\\sigma | x)$$\n"
   ]
  },
  {
   "cell_type": "code",
   "execution_count": null,
   "id": "40ca88d8-eb54-4ad8-bcd6-8d9a903c8aed",
   "metadata": {},
   "outputs": [],
   "source": []
  }
 ],
 "metadata": {
  "kernelspec": {
   "display_name": "Python 3 (ipykernel)",
   "language": "python",
   "name": "python3"
  },
  "language_info": {
   "codemirror_mode": {
    "name": "ipython",
    "version": 3
   },
   "file_extension": ".py",
   "mimetype": "text/x-python",
   "name": "python",
   "nbconvert_exporter": "python",
   "pygments_lexer": "ipython3",
   "version": "3.12.7"
  }
 },
 "nbformat": 4,
 "nbformat_minor": 5
}
