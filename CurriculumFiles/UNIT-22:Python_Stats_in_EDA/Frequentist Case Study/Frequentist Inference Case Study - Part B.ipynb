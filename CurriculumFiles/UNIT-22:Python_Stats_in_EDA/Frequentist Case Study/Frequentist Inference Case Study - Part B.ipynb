{
 "cells": [
  {
   "cell_type": "markdown",
   "metadata": {},
   "source": [
    "# Frequentist Inference Case Study - Part B"
   ]
  },
  {
   "cell_type": "markdown",
   "metadata": {},
   "source": [
    "## Learning objectives"
   ]
  },
  {
   "cell_type": "markdown",
   "metadata": {},
   "source": [
    "Welcome to Part B of the Frequentist inference case study! The purpose of this case study is to help you apply the concepts associated with Frequentist inference in Python. In particular, you'll practice writing Python code to apply the following statistical concepts: \n",
    "* the _z_-statistic\n",
    "* the _t_-statistic\n",
    "* the difference and relationship between the two\n",
    "* the Central Limit Theorem, including its assumptions and consequences\n",
    "* how to estimate the population mean and standard deviation from a sample\n",
    "* the concept of a sampling distribution of a test statistic, particularly for the mean\n",
    "* how to combine these concepts to calculate a confidence interval"
   ]
  },
  {
   "cell_type": "markdown",
   "metadata": {},
   "source": [
    "In the previous notebook, we used only data from a known normal distribution. **You'll now tackle real data, rather than simulated data, and answer some relevant real-world business problems using the data.**"
   ]
  },
  {
   "cell_type": "markdown",
   "metadata": {},
   "source": [
    "## Hospital medical charges"
   ]
  },
  {
   "cell_type": "markdown",
   "metadata": {},
   "source": [
    "Imagine that a hospital has hired you as their data scientist. An administrator is working on the hospital's business operations plan and needs you to help them answer some business questions. \n",
    "\n",
    "In this assignment notebook, you're going to use frequentist statistical inference on a data sample to answer the questions:\n",
    "* has the hospital's revenue stream fallen below a key threshold?\n",
    "* are patients with insurance really charged different amounts than those without?\n",
    "\n",
    "Answering that last question with a frequentist approach makes some assumptions, and requires some knowledge, about the two groups."
   ]
  },
  {
   "cell_type": "markdown",
   "metadata": {},
   "source": [
    "We are going to use some data on medical charges obtained from [Kaggle](https://www.kaggle.com/easonlai/sample-insurance-claim-prediction-dataset). \n",
    "\n",
    "For the purposes of this exercise, assume the observations are the result of random sampling from our single hospital. Recall that in the previous assignment, we introduced the Central Limit Theorem (CLT), and its consequence that the distributions of sample statistics approach a normal distribution as $n$ increases. The amazing thing about this is that it applies to the sampling distributions of statistics that have been calculated from even highly non-normal distributions of data! Recall, also, that hypothesis testing is very much based on making inferences about such sample statistics. You're going to rely heavily on the CLT to apply frequentist (parametric) tests to answer the questions in this notebook."
   ]
  },
  {
   "cell_type": "code",
   "execution_count": 2,
   "metadata": {},
   "outputs": [],
   "source": [
    "import pandas as pd\n",
    "import numpy as np\n",
    "import matplotlib.pyplot as plt\n",
    "from scipy.stats import t\n",
    "from numpy.random import seed\n",
    "medical = pd.read_csv('insurance2.csv')"
   ]
  },
  {
   "cell_type": "code",
   "execution_count": 3,
   "metadata": {},
   "outputs": [
    {
     "data": {
      "text/plain": [
       "(1338, 8)"
      ]
     },
     "execution_count": 3,
     "metadata": {},
     "output_type": "execute_result"
    }
   ],
   "source": [
    "medical.shape"
   ]
  },
  {
   "cell_type": "code",
   "execution_count": 4,
   "metadata": {},
   "outputs": [
    {
     "data": {
      "text/html": [
       "<div>\n",
       "<style scoped>\n",
       "    .dataframe tbody tr th:only-of-type {\n",
       "        vertical-align: middle;\n",
       "    }\n",
       "\n",
       "    .dataframe tbody tr th {\n",
       "        vertical-align: top;\n",
       "    }\n",
       "\n",
       "    .dataframe thead th {\n",
       "        text-align: right;\n",
       "    }\n",
       "</style>\n",
       "<table border=\"1\" class=\"dataframe\">\n",
       "  <thead>\n",
       "    <tr style=\"text-align: right;\">\n",
       "      <th></th>\n",
       "      <th>age</th>\n",
       "      <th>sex</th>\n",
       "      <th>bmi</th>\n",
       "      <th>children</th>\n",
       "      <th>smoker</th>\n",
       "      <th>region</th>\n",
       "      <th>charges</th>\n",
       "      <th>insuranceclaim</th>\n",
       "    </tr>\n",
       "  </thead>\n",
       "  <tbody>\n",
       "    <tr>\n",
       "      <th>0</th>\n",
       "      <td>19</td>\n",
       "      <td>0</td>\n",
       "      <td>27.900</td>\n",
       "      <td>0</td>\n",
       "      <td>1</td>\n",
       "      <td>3</td>\n",
       "      <td>16884.92400</td>\n",
       "      <td>1</td>\n",
       "    </tr>\n",
       "    <tr>\n",
       "      <th>1</th>\n",
       "      <td>18</td>\n",
       "      <td>1</td>\n",
       "      <td>33.770</td>\n",
       "      <td>1</td>\n",
       "      <td>0</td>\n",
       "      <td>2</td>\n",
       "      <td>1725.55230</td>\n",
       "      <td>1</td>\n",
       "    </tr>\n",
       "    <tr>\n",
       "      <th>2</th>\n",
       "      <td>28</td>\n",
       "      <td>1</td>\n",
       "      <td>33.000</td>\n",
       "      <td>3</td>\n",
       "      <td>0</td>\n",
       "      <td>2</td>\n",
       "      <td>4449.46200</td>\n",
       "      <td>0</td>\n",
       "    </tr>\n",
       "    <tr>\n",
       "      <th>3</th>\n",
       "      <td>33</td>\n",
       "      <td>1</td>\n",
       "      <td>22.705</td>\n",
       "      <td>0</td>\n",
       "      <td>0</td>\n",
       "      <td>1</td>\n",
       "      <td>21984.47061</td>\n",
       "      <td>0</td>\n",
       "    </tr>\n",
       "    <tr>\n",
       "      <th>4</th>\n",
       "      <td>32</td>\n",
       "      <td>1</td>\n",
       "      <td>28.880</td>\n",
       "      <td>0</td>\n",
       "      <td>0</td>\n",
       "      <td>1</td>\n",
       "      <td>3866.85520</td>\n",
       "      <td>1</td>\n",
       "    </tr>\n",
       "  </tbody>\n",
       "</table>\n",
       "</div>"
      ],
      "text/plain": [
       "   age  sex     bmi  children  smoker  region      charges  insuranceclaim\n",
       "0   19    0  27.900         0       1       3  16884.92400               1\n",
       "1   18    1  33.770         1       0       2   1725.55230               1\n",
       "2   28    1  33.000         3       0       2   4449.46200               0\n",
       "3   33    1  22.705         0       0       1  21984.47061               0\n",
       "4   32    1  28.880         0       0       1   3866.85520               1"
      ]
     },
     "execution_count": 4,
     "metadata": {},
     "output_type": "execute_result"
    }
   ],
   "source": [
    "medical.head()"
   ]
  },
  {
   "cell_type": "markdown",
   "metadata": {},
   "source": [
    "__Q1:__ Plot the histogram of charges and calculate the mean and standard deviation. Comment on the appropriateness of these statistics for the data."
   ]
  },
  {
   "cell_type": "markdown",
   "metadata": {},
   "source": [
    "__A:__"
   ]
  },
  {
   "cell_type": "code",
   "execution_count": 5,
   "metadata": {},
   "outputs": [
    {
     "data": {
      "text/plain": [
       "Text(0.5, 0, 'Charges')"
      ]
     },
     "execution_count": 5,
     "metadata": {},
     "output_type": "execute_result"
    },
    {
     "data": {
      "image/png": "[encoded data removed]",
      "text/plain": [
       "<Figure size 640x480 with 1 Axes>"
      ]
     },
     "metadata": {},
     "output_type": "display_data"
    }
   ],
   "source": [
    "plt.hist(medical.charges, bins=int(len(medical)/30))\n",
    "plt.ylabel('No. of Patients')\n",
    "plt.xlabel('Charges')"
   ]
  },
  {
   "cell_type": "code",
   "execution_count": 227,
   "metadata": {},
   "outputs": [
    {
     "name": "stdout",
     "output_type": "stream",
     "text": [
      "Mean of Charges: \t 13,270.42\n",
      "Stdev of Charges: \t 12,110.01\n"
     ]
    }
   ],
   "source": [
    "mean_charges = medical.charges.mean(); print(f\"Mean of Charges: \\t {mean_charges:,.2f}\") \n",
    "\n",
    "# Since observations were randomly sampled from hospital, will use Bessel's correction (ddof=1):\n",
    "stdev_charges = medical.charges.std(ddof=1); print(f\"Stdev of Charges: \\t {stdev_charges:,.2f}\")"
   ]
  },
  {
   "cell_type": "markdown",
   "metadata": {},
   "source": [
    "<div style=\"font-size:16px; font-family:Courier New;\">\n",
    "    \n",
    "As the distribution is skewed, the median may be a better measure of central tendency than the mean for this specific sample.  However, this is irrelevant in the context of a sampling distribution as such a distribution will tend towards normality and thus more symmetry with repeated samples due to the Central Limit Theorem. "
   ]
  },
  {
   "cell_type": "markdown",
   "metadata": {},
   "source": [
    "__Q2:__ The administrator is concerned that the actual average charge has fallen below 12,000, threatening the hospital's operational model. On the assumption that these data represent a random sample of charges, how would you justify that these data allow you to answer that question? And what would be the most appropriate frequentist test, of the ones discussed so far, to apply?"
   ]
  },
  {
   "cell_type": "markdown",
   "metadata": {},
   "source": [
    "__A:__"
   ]
  },
  {
   "cell_type": "markdown",
   "metadata": {},
   "source": [
    "<div style=\"font-size:16px; font-family:Courier New;\">\n",
    "\n",
    "Given that:\n",
    "\n",
    "* the data is assumed to be a randomly sampled\n",
    "* the sample size is $\\ge 30$ ($\\text{n} = 1338$)\n",
    "\n",
    "By the Central Limit Theorem, we can perform statistical testing to make educated guesses about the true population average charge, even if the underlying shape and parameters are unknown, and even if the underlying shape is not Gaussian.\n",
    "\n",
    "As the population standard deviation $\\sigma$ is unknown, a t-test would be appropriate.  \n",
    "\n",
    "As we are concerned about a single group (medical charges), this would be a **one-sample t-test**."
   ]
  },
  {
   "cell_type": "markdown",
   "metadata": {},
   "source": [
    "__Q3:__ Given the nature of the administrator's concern, what is the appropriate confidence interval in this case? A ***one-sided*** or ***two-sided*** interval? (Refresh your understanding of this concept on p. 399 of the *AoS*). Calculate the critical value and the relevant 95% confidence interval for the mean, and comment on whether the administrator should be concerned."
   ]
  },
  {
   "cell_type": "markdown",
   "metadata": {},
   "source": [
    "__A:__"
   ]
  },
  {
   "cell_type": "markdown",
   "metadata": {},
   "source": [
    "<div style=\"font-size:16px; font-family:Courier New;\">\n",
    "    \n",
    "<u>one- vs. two-sided</u>\n",
    "\n",
    "Since the administrator is concerned about the population average falling below 12,000, not above, a **one-sided** interval would be most appropriate.  More appropriately, this will be the lower confidence bound."
   ]
  },
  {
   "cell_type": "markdown",
   "metadata": {},
   "source": [
    "<div style=\"font-size:16px; font-family:Courier New;\">\n",
    "<u>Critical Value ($t^*$)</u>"
   ]
  },
  {
   "cell_type": "markdown",
   "metadata": {},
   "source": [
    "<div style=\"font-size:16px; font-family:Courier New;\">\n",
    "    \n",
    "To get $t^*$ for a lower bound with a confidence level of $\\gamma=0.95$, we essentially want to find the value along the t-distribution for which everything below it constitutes 95% of the probability.  In other words, the area under the curve for the interval $(-\\infty,t^*]$ should be 0.95 in total. \n",
    "\n",
    "Using the PPF, this is\n",
    "\n",
    "$$t^* = PPF(\\gamma,\\text{df})$$\n",
    "$$ = PPF(0.95, 1338-1) $$\n",
    "\n",
    "which evaluates to:"
   ]
  },
  {
   "cell_type": "code",
   "execution_count": 85,
   "metadata": {},
   "outputs": [
    {
     "data": {
      "text/plain": [
       "1.65"
      ]
     },
     "execution_count": 85,
     "metadata": {},
     "output_type": "execute_result"
    }
   ],
   "source": [
    "# Critical t-value for one-sided interval, lower bound:\n",
    "n=len(medical.charges)\n",
    "t_star = t.ppf(0.95,df=n-1)\n",
    "t_star.round(2)"
   ]
  },
  {
   "cell_type": "markdown",
   "metadata": {},
   "source": [
    "<div style=\"font-size:16px; font-family:Courier New;\">\n",
    "\n",
    "<u>Margin of Error</u>"
   ]
  },
  {
   "cell_type": "code",
   "execution_count": 86,
   "metadata": {},
   "outputs": [
    {
     "data": {
      "text/plain": [
       "544.94"
      ]
     },
     "execution_count": 86,
     "metadata": {},
     "output_type": "execute_result"
    }
   ],
   "source": [
    "# Margin of Error for 95% CI using t*: \n",
    "n = len(medical.charges)\n",
    "moe95t = t_star * (stdev_charges / np.sqrt(n))\n",
    "moe95t.round(2)"
   ]
  },
  {
   "cell_type": "markdown",
   "metadata": {},
   "source": [
    "<div style=\"font-size:16px; font-family:Courier New;\">\n",
    "\n",
    "<u>95% Confidence Interval, lower bound</u>\n",
    "\n",
    "Since we are only concerned about the true mean being below 12,000, we only need the lower bound:\n",
    "\n",
    "$$ \\text{l.b.} = \\bar{x} - t^* \\left(\\frac{s}{\\sqrt{n}}\\right) $$\n",
    "\n",
    "while the relationship with the upper bound, $\\bar{x} + t^* \\left(\\frac{s}{\\sqrt{n}}\\right) $, is irrelevant.\n",
    "\n",
    "If generating $\\text{l.b.}$ repeated times, then it should be found that $\\mu > \\text{l.b.}$ 95% of the time, and the administrator should be concerned if $12,000 > \\text{l.b.}$, suggesting a not insignificant chance that $\\mu \\le 12,000$."
   ]
  },
  {
   "cell_type": "code",
   "execution_count": 91,
   "metadata": {},
   "outputs": [
    {
     "data": {
      "text/plain": [
       "12725.49"
      ]
     },
     "execution_count": 91,
     "metadata": {},
     "output_type": "execute_result"
    }
   ],
   "source": [
    "# 95% Confidence Bound using t*:\n",
    "cb95t = mean_charges - moe95t\n",
    "cb95t.round(2)"
   ]
  },
  {
   "cell_type": "code",
   "execution_count": 90,
   "metadata": {},
   "outputs": [
    {
     "data": {
      "text/plain": [
       "False"
      ]
     },
     "execution_count": 90,
     "metadata": {},
     "output_type": "execute_result"
    }
   ],
   "source": [
    "12000 > cb95t "
   ]
  },
  {
   "cell_type": "markdown",
   "metadata": {},
   "source": [
    "<div style=\"font-size:16px; font-family:Courier New;\">\n",
    " \n",
    "Given that the lower bound of the confidence interval is well above $12,000$, this is fairly reassuring - i.e., the administrator need not be concerned.  With repeated samples taken from the population, this interval would drop below 12,725.49 only ~5% of the time and would drop below 12,000 less than 5% of the time."
   ]
  },
  {
   "cell_type": "markdown",
   "metadata": {},
   "source": [
    "The administrator then wants to know whether people with insurance really are charged a different amount to those without.\n",
    "\n",
    "__Q4:__ State the null and alternative hypothesis here. Use the _t_-test for the difference between means, where the pooled standard deviation of the two groups is given by:\n",
    "\\begin{equation}\n",
    "s_p = \\sqrt{\\frac{(n_0 - 1)s^2_0 + (n_1 - 1)s^2_1}{n_0 + n_1 - 2}}\n",
    "\\end{equation}\n",
    "\n",
    "and the *t*-test statistic is then given by:\n",
    "\n",
    "\\begin{equation}\n",
    "t = \\frac{\\bar{x}_0 - \\bar{x}_1}{s_p \\sqrt{1/n_0 + 1/n_1}}.\n",
    "\\end{equation}\n",
    "\n",
    "(If you need some reminding of the general definition of ***t-statistic***, check out the definition on p. 404 of *AoS*). \n",
    "\n",
    "What assumption about the variances of the two groups are we making here?"
   ]
  },
  {
   "cell_type": "markdown",
   "metadata": {},
   "source": [
    "__A:__\n",
    "<div style=\"font-size:16px; font-family:Courier New;\">\n",
    "\n",
    "#### <u>Hypotheses</u>\n",
    "\n",
    "\n",
    "\n",
    "* $H_0: \\mu_{I} = \\mu_{U}$\n",
    "* $H_1: \\mu_{I} \\ne \\mu_{U}$ (--> two-sided test)\n",
    "\n",
    "where \n",
    "* $\\mu_{I}$ is the population mean of charges for insured individuals\n",
    "* $\\mu_{U}$ is the population mean of charges for those without insurance (uninsured)"
   ]
  },
  {
   "cell_type": "markdown",
   "metadata": {},
   "source": [
    "<div style=\"font-size:16px; font-family:Courier New;\"\n",
    "\n",
    "#### <u>Assumption Regarding Variances</u>\n",
    "\n",
    "The underlying assumption for the pooled two-sample t-test is that the true population variances are equal, even if the sample variances are different. "
   ]
  },
  {
   "cell_type": "markdown",
   "metadata": {},
   "source": [
    "__Q5:__ Perform this hypothesis test both manually, using the above formulae, and then using the appropriate function from [scipy.stats](https://docs.scipy.org/doc/scipy/reference/stats.html#statistical-tests) (hint, you're looking for a function to perform a _t_-test on two independent samples). For the manual approach, calculate the value of the test statistic and then its probability (the p-value). Verify you get the same results from both."
   ]
  },
  {
   "cell_type": "markdown",
   "metadata": {},
   "source": [
    "__A:__ "
   ]
  },
  {
   "cell_type": "markdown",
   "metadata": {},
   "source": [
    "<div style=\"font-size:16px; font-family:Courier New;\">\n",
    "    \n",
    "### <u>Pooled t-test</u>"
   ]
  },
  {
   "cell_type": "code",
   "execution_count": 96,
   "metadata": {},
   "outputs": [],
   "source": [
    "insured = medical[medical.insuranceclaim == True]\n",
    "uninsured = medical[medical.insuranceclaim == False]"
   ]
  },
  {
   "cell_type": "markdown",
   "metadata": {},
   "source": [
    "<div style=\"font-size:16px; font-family:Courier New;\">\n",
    "\n",
    "#### Manual Calculation"
   ]
  },
  {
   "cell_type": "code",
   "execution_count": 203,
   "metadata": {},
   "outputs": [
    {
     "name": "stdout",
     "output_type": "stream",
     "text": [
      "783 16423.93 197288105.15\n"
     ]
    }
   ],
   "source": [
    "# Calculate sample n, mean, and var for insured\n",
    "n_insu = len(insured)\n",
    "mean_insu = np.mean(insured.charges)\n",
    "var_insu = np.var(insured.charges,ddof=1)\n",
    "print(n_insu,mean_insu.round(2),round(var_insu,2))"
   ]
  },
  {
   "cell_type": "code",
   "execution_count": 202,
   "metadata": {},
   "outputs": [
    {
     "name": "stdout",
     "output_type": "stream",
     "text": [
      "555 8821.42 41557492.82\n"
     ]
    }
   ],
   "source": [
    "# Calculate sample n, mean, and var for uninsured\n",
    "n_unin = len(uninsured)\n",
    "mean_unin = np.mean(uninsured.charges)\n",
    "var_unin = np.var(uninsured.charges,ddof=1)\n",
    "print(n_unin,mean_unin.round(2),round(var_unin,2))"
   ]
  },
  {
   "cell_type": "code",
   "execution_count": 204,
   "metadata": {},
   "outputs": [
    {
     "name": "stdout",
     "output_type": "stream",
     "text": [
      "1336\n",
      "11520.03\n"
     ]
    }
   ],
   "source": [
    "# Pooled degrees of freedom (denominator)\n",
    "df_pool = n_insu + n_unin - 2\n",
    "print(df_pool)\n",
    "\n",
    "# Pooled standard deviation\n",
    "s_pool = np.sqrt( ((n_insu-1)*var_insu + (n_unin-1)*var_unin) / df_pool )\n",
    "print(s_pool.round(2))"
   ]
  },
  {
   "cell_type": "code",
   "execution_count": 214,
   "metadata": {},
   "outputs": [
    {
     "data": {
      "text/plain": [
       "11.8933"
      ]
     },
     "execution_count": 214,
     "metadata": {},
     "output_type": "execute_result"
    }
   ],
   "source": [
    "# t-statistic\n",
    "t_stat_manual = (mean_insu - mean_unin) / ( s_pool * np.sqrt( (1/n_insu)+ (1/n_unin) ) )\n",
    "t_stat_manual.round(4)"
   ]
  },
  {
   "cell_type": "code",
   "execution_count": 215,
   "metadata": {},
   "outputs": [
    {
     "name": "stdout",
     "output_type": "stream",
     "text": [
      "0.0\n"
     ]
    }
   ],
   "source": [
    "# p-value (two-sided)\n",
    "p_value = 2 * (1 - t.cdf(t_stat_manual,df_pool))\n",
    "print(p_value)"
   ]
  },
  {
   "cell_type": "markdown",
   "metadata": {},
   "source": [
    "<div style=\"font-size:16px; font-family:Courier New;\">\n",
    "\n",
    "#### Using ``scipy.stats``"
   ]
  },
  {
   "cell_type": "code",
   "execution_count": 211,
   "metadata": {},
   "outputs": [
    {
     "name": "stdout",
     "output_type": "stream",
     "text": [
      "Help on function ttest_ind in module scipy.stats._stats_py:\n",
      "\n",
      "ttest_ind(a, b, *, axis=0, equal_var=True, nan_policy='propagate', permutations=None, random_state=None, alternative='two-sided', trim=0, method=None, keepdims=False)\n",
      "    Calculate the T-test for the means of *two independent* samples of scores.\n",
      "\n",
      "    This is a test for the null hypothesis that 2 independent samples\n",
      "    have identical average (expected) values. This test assumes that the\n",
      "    populations have identical variances by default.\n",
      "\n",
      "    .. deprecated:: 1.17.0\n",
      "        Use of argument(s) ``{'keepdims', 'method', 'equal_var', 'nan_policy', 'axis', 'trim', 'alternative'}`` by position is deprecated; beginning in\n",
      "        SciPy 1.17.0, these will be keyword-only. Argument(s) ``{'permutations', 'random_state'}`` are deprecated, whether passed by position or keyword; they will be removed in SciPy 1.17.0. Use ``method`` to perform a permutation test.\n",
      "\n",
      "    Parameters\n",
      "    ----------\n",
      "    a, b : array_like\n",
      "        The arrays must have the same shape, except in the dimension\n",
      "        corresponding to `axis` (the first, by default).\n",
      "    axis : int or None, default: 0\n",
      "        If an int, the axis of the input along which to compute the statistic.\n",
      "        The statistic of each axis-slice (e.g. row) of the input will appear in a\n",
      "        corresponding element of the output.\n",
      "        If ``None``, the input will be raveled before computing the statistic.\n",
      "    equal_var : bool, optional\n",
      "        If True (default), perform a standard independent 2 sample test\n",
      "        that assumes equal population variances [1]_.\n",
      "        If False, perform Welch's t-test, which does not assume equal\n",
      "        population variance [2]_.\n",
      "\n",
      "        .. versionadded:: 0.11.0\n",
      "    nan_policy : {'propagate', 'omit', 'raise'}\n",
      "        Defines how to handle input NaNs.\n",
      "\n",
      "        - ``propagate``: if a NaN is present in the axis slice (e.g. row) along\n",
      "          which the  statistic is computed, the corresponding entry of the output\n",
      "          will be NaN.\n",
      "        - ``omit``: NaNs will be omitted when performing the calculation.\n",
      "          If insufficient data remains in the axis slice along which the\n",
      "          statistic is computed, the corresponding entry of the output will be\n",
      "          NaN.\n",
      "        - ``raise``: if a NaN is present, a ``ValueError`` will be raised.\n",
      "    permutations : non-negative int, np.inf, or None (default), optional\n",
      "        If 0 or None (default), use the t-distribution to calculate p-values.\n",
      "        Otherwise, `permutations` is  the number of random permutations that\n",
      "        will be used to estimate p-values using a permutation test. If\n",
      "        `permutations` equals or exceeds the number of distinct partitions of\n",
      "        the pooled data, an exact test is performed instead (i.e. each\n",
      "        distinct partition is used exactly once). See Notes for details.\n",
      "\n",
      "        .. deprecated:: 1.17.0\n",
      "            `permutations` is deprecated and will be removed in SciPy 1.7.0.\n",
      "            Use the `n_resamples` argument of `PermutationMethod`, instead,\n",
      "            and pass the instance as the `method` argument.\n",
      "    random_state : {None, int, `numpy.random.Generator`,\n",
      "            `numpy.random.RandomState`}, optional\n",
      "\n",
      "        If `seed` is None (or `np.random`), the `numpy.random.RandomState`\n",
      "        singleton is used.\n",
      "        If `seed` is an int, a new ``RandomState`` instance is used,\n",
      "        seeded with `seed`.\n",
      "        If `seed` is already a ``Generator`` or ``RandomState`` instance then\n",
      "        that instance is used.\n",
      "\n",
      "        Pseudorandom number generator state used to generate permutations\n",
      "        (used only when `permutations` is not None).\n",
      "\n",
      "        .. deprecated:: 1.17.0\n",
      "            `random_state` is deprecated and will be removed in SciPy 1.7.0.\n",
      "            Use the `rng` argument of `PermutationMethod`, instead,\n",
      "            and pass the instance as the `method` argument.\n",
      "    alternative : {'two-sided', 'less', 'greater'}, optional\n",
      "        Defines the alternative hypothesis.\n",
      "        The following options are available (default is 'two-sided'):\n",
      "\n",
      "        * 'two-sided': the means of the distributions underlying the samples\n",
      "          are unequal.\n",
      "        * 'less': the mean of the distribution underlying the first sample\n",
      "          is less than the mean of the distribution underlying the second\n",
      "          sample.\n",
      "        * 'greater': the mean of the distribution underlying the first\n",
      "          sample is greater than the mean of the distribution underlying\n",
      "          the second sample.\n",
      "    trim : float, optional\n",
      "        If nonzero, performs a trimmed (Yuen's) t-test.\n",
      "        Defines the fraction of elements to be trimmed from each end of the\n",
      "        input samples. If 0 (default), no elements will be trimmed from either\n",
      "        side. The number of trimmed elements from each tail is the floor of the\n",
      "        trim times the number of elements. Valid range is [0, .5).\n",
      "    method : ResamplingMethod, optional\n",
      "        Defines the method used to compute the p-value. If `method` is an\n",
      "        instance of `PermutationMethod`/`MonteCarloMethod`, the p-value is\n",
      "        computed using\n",
      "        `scipy.stats.permutation_test`/`scipy.stats.monte_carlo_test` with the\n",
      "        provided configuration options and other appropriate settings.\n",
      "        Otherwise, the p-value is computed by comparing the test statistic\n",
      "        against a theoretical t-distribution.\n",
      "\n",
      "        .. versionadded:: 1.15.0\n",
      "    keepdims : bool, default: False\n",
      "        If this is set to True, the axes which are reduced are left\n",
      "        in the result as dimensions with size one. With this option,\n",
      "        the result will broadcast correctly against the input array.\n",
      "\n",
      "    Returns\n",
      "    -------\n",
      "    result : `~scipy.stats._result_classes.TtestResult`\n",
      "        An object with the following attributes:\n",
      "\n",
      "        statistic : float or ndarray\n",
      "            The t-statistic.\n",
      "        pvalue : float or ndarray\n",
      "            The p-value associated with the given alternative.\n",
      "        df : float or ndarray\n",
      "            The number of degrees of freedom used in calculation of the\n",
      "            t-statistic. This is always NaN for a permutation t-test.\n",
      "\n",
      "            .. versionadded:: 1.11.0\n",
      "\n",
      "        The object also has the following method:\n",
      "\n",
      "        confidence_interval(confidence_level=0.95)\n",
      "            Computes a confidence interval around the difference in\n",
      "            population means for the given confidence level.\n",
      "            The confidence interval is returned in a ``namedtuple`` with\n",
      "            fields ``low`` and ``high``.\n",
      "            When a permutation t-test is performed, the confidence interval\n",
      "            is not computed, and fields ``low`` and ``high`` contain NaN.\n",
      "\n",
      "            .. versionadded:: 1.11.0\n",
      "\n",
      "    Notes\n",
      "    -----\n",
      "    Suppose we observe two independent samples, e.g. flower petal lengths, and\n",
      "    we are considering whether the two samples were drawn from the same\n",
      "    population (e.g. the same species of flower or two species with similar\n",
      "    petal characteristics) or two different populations.\n",
      "\n",
      "    The t-test quantifies the difference between the arithmetic means\n",
      "    of the two samples. The p-value quantifies the probability of observing\n",
      "    as or more extreme values assuming the null hypothesis, that the\n",
      "    samples are drawn from populations with the same population means, is true.\n",
      "    A p-value larger than a chosen threshold (e.g. 5% or 1%) indicates that\n",
      "    our observation is not so unlikely to have occurred by chance. Therefore,\n",
      "    we do not reject the null hypothesis of equal population means.\n",
      "    If the p-value is smaller than our threshold, then we have evidence\n",
      "    against the null hypothesis of equal population means.\n",
      "\n",
      "    By default, the p-value is determined by comparing the t-statistic of the\n",
      "    observed data against a theoretical t-distribution.\n",
      "\n",
      "    (In the following, note that the argument `permutations` itself is\n",
      "    deprecated, but a nearly identical test may be performed by creating\n",
      "    an instance of `scipy.stats.PermutationMethod` with ``n_resamples=permutuations``\n",
      "    and passing it as the `method` argument.)\n",
      "    When ``1 < permutations < binom(n, k)``, where\n",
      "\n",
      "    * ``k`` is the number of observations in `a`,\n",
      "    * ``n`` is the total number of observations in `a` and `b`, and\n",
      "    * ``binom(n, k)`` is the binomial coefficient (``n`` choose ``k``),\n",
      "\n",
      "    the data are pooled (concatenated), randomly assigned to either group `a`\n",
      "    or `b`, and the t-statistic is calculated. This process is performed\n",
      "    repeatedly (`permutation` times), generating a distribution of the\n",
      "    t-statistic under the null hypothesis, and the t-statistic of the observed\n",
      "    data is compared to this distribution to determine the p-value.\n",
      "    Specifically, the p-value reported is the \"achieved significance level\"\n",
      "    (ASL) as defined in 4.4 of [3]_. Note that there are other ways of\n",
      "    estimating p-values using randomized permutation tests; for other\n",
      "    options, see the more general `permutation_test`.\n",
      "\n",
      "    When ``permutations >= binom(n, k)``, an exact test is performed: the data\n",
      "    are partitioned between the groups in each distinct way exactly once.\n",
      "\n",
      "    The permutation test can be computationally expensive and not necessarily\n",
      "    more accurate than the analytical test, but it does not make strong\n",
      "    assumptions about the shape of the underlying distribution.\n",
      "\n",
      "    Use of trimming is commonly referred to as the trimmed t-test. At times\n",
      "    called Yuen's t-test, this is an extension of Welch's t-test, with the\n",
      "    difference being the use of winsorized means in calculation of the variance\n",
      "    and the trimmed sample size in calculation of the statistic. Trimming is\n",
      "    recommended if the underlying distribution is long-tailed or contaminated\n",
      "    with outliers [4]_.\n",
      "\n",
      "    The statistic is calculated as ``(np.mean(a) - np.mean(b))/se``, where\n",
      "    ``se`` is the standard error. Therefore, the statistic will be positive\n",
      "    when the sample mean of `a` is greater than the sample mean of `b` and\n",
      "    negative when the sample mean of `a` is less than the sample mean of\n",
      "    `b`.\n",
      "\n",
      "    Beginning in SciPy 1.9, ``np.matrix`` inputs (not recommended for new\n",
      "    code) are converted to ``np.ndarray`` before the calculation is performed. In\n",
      "    this case, the output will be a scalar or ``np.ndarray`` of appropriate shape\n",
      "    rather than a 2D ``np.matrix``. Similarly, while masked elements of masked\n",
      "    arrays are ignored, the output will be a scalar or ``np.ndarray`` rather than a\n",
      "    masked array with ``mask=False``.\n",
      "\n",
      "    References\n",
      "    ----------\n",
      "    .. [1] https://en.wikipedia.org/wiki/T-test#Independent_two-sample_t-test\n",
      "\n",
      "    .. [2] https://en.wikipedia.org/wiki/Welch%27s_t-test\n",
      "\n",
      "    .. [3] B. Efron and T. Hastie. Computer Age Statistical Inference. (2016).\n",
      "\n",
      "    .. [4] Yuen, Karen K. \"The Two-Sample Trimmed t for Unequal Population\n",
      "           Variances.\" Biometrika, vol. 61, no. 1, 1974, pp. 165-170. JSTOR,\n",
      "           www.jstor.org/stable/2334299. Accessed 30 Mar. 2021.\n",
      "\n",
      "    .. [5] Yuen, Karen K., and W. J. Dixon. \"The Approximate Behaviour and\n",
      "           Performance of the Two-Sample Trimmed t.\" Biometrika, vol. 60,\n",
      "           no. 2, 1973, pp. 369-374. JSTOR, www.jstor.org/stable/2334550.\n",
      "           Accessed 30 Mar. 2021.\n",
      "\n",
      "    Examples\n",
      "    --------\n",
      "    >>> import numpy as np\n",
      "    >>> from scipy import stats\n",
      "    >>> rng = np.random.default_rng()\n",
      "\n",
      "    Test with sample with identical means:\n",
      "\n",
      "    >>> rvs1 = stats.norm.rvs(loc=5, scale=10, size=500, random_state=rng)\n",
      "    >>> rvs2 = stats.norm.rvs(loc=5, scale=10, size=500, random_state=rng)\n",
      "    >>> stats.ttest_ind(rvs1, rvs2)\n",
      "    TtestResult(statistic=-0.4390847099199348,\n",
      "                pvalue=0.6606952038870015,\n",
      "                df=998.0)\n",
      "    >>> stats.ttest_ind(rvs1, rvs2, equal_var=False)\n",
      "    TtestResult(statistic=-0.4390847099199348,\n",
      "                pvalue=0.6606952553131064,\n",
      "                df=997.4602304121448)\n",
      "\n",
      "    `ttest_ind` underestimates p for unequal variances:\n",
      "\n",
      "    >>> rvs3 = stats.norm.rvs(loc=5, scale=20, size=500, random_state=rng)\n",
      "    >>> stats.ttest_ind(rvs1, rvs3)\n",
      "    TtestResult(statistic=-1.6370984482905417,\n",
      "                pvalue=0.1019251574705033,\n",
      "                df=998.0)\n",
      "    >>> stats.ttest_ind(rvs1, rvs3, equal_var=False)\n",
      "    TtestResult(statistic=-1.637098448290542,\n",
      "                pvalue=0.10202110497954867,\n",
      "                df=765.1098655246868)\n",
      "\n",
      "    When ``n1 != n2``, the equal variance t-statistic is no longer equal to the\n",
      "    unequal variance t-statistic:\n",
      "\n",
      "    >>> rvs4 = stats.norm.rvs(loc=5, scale=20, size=100, random_state=rng)\n",
      "    >>> stats.ttest_ind(rvs1, rvs4)\n",
      "    TtestResult(statistic=-1.9481646859513422,\n",
      "                pvalue=0.05186270935842703,\n",
      "                df=598.0)\n",
      "    >>> stats.ttest_ind(rvs1, rvs4, equal_var=False)\n",
      "    TtestResult(statistic=-1.3146566100751664,\n",
      "                pvalue=0.1913495266513811,\n",
      "                df=110.41349083985212)\n",
      "\n",
      "    T-test with different means, variance, and n:\n",
      "\n",
      "    >>> rvs5 = stats.norm.rvs(loc=8, scale=20, size=100, random_state=rng)\n",
      "    >>> stats.ttest_ind(rvs1, rvs5)\n",
      "    TtestResult(statistic=-2.8415950600298774,\n",
      "                pvalue=0.0046418707568707885,\n",
      "                df=598.0)\n",
      "    >>> stats.ttest_ind(rvs1, rvs5, equal_var=False)\n",
      "    TtestResult(statistic=-1.8686598649188084,\n",
      "                pvalue=0.06434714193919686,\n",
      "                df=109.32167496550137)\n",
      "\n",
      "    Take these two samples, one of which has an extreme tail.\n",
      "\n",
      "    >>> a = (56, 128.6, 12, 123.8, 64.34, 78, 763.3)\n",
      "    >>> b = (1.1, 2.9, 4.2)\n",
      "\n",
      "    Use the `trim` keyword to perform a trimmed (Yuen) t-test. For example,\n",
      "    using 20% trimming, ``trim=.2``, the test will reduce the impact of one\n",
      "    (``np.floor(trim*len(a))``) element from each tail of sample `a`. It will\n",
      "    have no effect on sample `b` because ``np.floor(trim*len(b))`` is 0.\n",
      "\n",
      "    >>> stats.ttest_ind(a, b, trim=.2)\n",
      "    TtestResult(statistic=3.4463884028073513,\n",
      "                pvalue=0.01369338726499547,\n",
      "                df=6.0)\n",
      "\n"
     ]
    }
   ],
   "source": [
    "from scipy.stats import ttest_ind\n",
    "\n",
    "help(ttest_ind)"
   ]
  },
  {
   "cell_type": "code",
   "execution_count": 220,
   "metadata": {},
   "outputs": [
    {
     "name": "stdout",
     "output_type": "stream",
     "text": [
      "11.8933\n",
      "0.0\n"
     ]
    }
   ],
   "source": [
    "t_statistic,pvalue = ttest_ind(insured.charges,uninsured.charges,equal_var=True)\n",
    "print(t_statistic.round(4))\n",
    "print(pvalue.round(2))"
   ]
  },
  {
   "cell_type": "markdown",
   "metadata": {},
   "source": [
    "Congratulations! Hopefully you got the exact same numerical results. This shows that you correctly calculated the numbers by hand. Secondly, you used the correct function and saw that it's much easier to use. All you need to do is pass your data to it."
   ]
  },
  {
   "cell_type": "markdown",
   "metadata": {},
   "source": [
    "__Q6:__ Conceptual question: look through the documentation for statistical test functions in scipy.stats. You'll see the above _t_-test for a sample, but can you see an equivalent one for performing a *z*-test from a sample? Comment on your answer."
   ]
  },
  {
   "cell_type": "markdown",
   "metadata": {},
   "source": [
    "__A:__\n",
    "\n",
    "<div style=\"font-size:16px; font-family:Courier New;\">\n",
    "    \n",
    "Looking at the section on [hypothesis tests](https://docs.scipy.org/doc/scipy/reference/stats.html#hypotests), there doesn't seem to be a function that does the exact equivalent to `scipy.stats.ttest_ind()`, performing a two-sampled test for independent samples but with the z-distribution. However, it is possible to calculate a z-score for a single sample using `scipy.stats.mstats.zscore()`, which could then be used in a one-sample z-test.\n",
    "\n"
   ]
  },
  {
   "cell_type": "markdown",
   "metadata": {
    "jp-MarkdownHeadingCollapsed": true
   },
   "source": [
    "## "
   ]
  },
  {
   "cell_type": "markdown",
   "metadata": {},
   "source": [
    "## Learning outcomes"
   ]
  },
  {
   "cell_type": "markdown",
   "metadata": {},
   "source": [
    "Having completed this project notebook, you now have good hands-on experience:\n",
    "* using the central limit theorem to help you apply frequentist techniques to answer questions that pertain to very non-normally distributed data from the real world\n",
    "* performing inference using such data to answer business questions\n",
    "* forming a hypothesis and framing the null and alternative hypotheses\n",
    "* testing this using a _t_-test"
   ]
  }
 ],
 "metadata": {
  "kernelspec": {
   "display_name": "Python 3 (ipykernel)",
   "language": "python",
   "name": "python3"
  },
  "language_info": {
   "codemirror_mode": {
    "name": "ipython",
    "version": 3
   },
   "file_extension": ".py",
   "mimetype": "text/x-python",
   "name": "python",
   "nbconvert_exporter": "python",
   "pygments_lexer": "ipython3",
   "version": "3.12.7"
  }
 },
 "nbformat": 4,
 "nbformat_minor": 4
}
