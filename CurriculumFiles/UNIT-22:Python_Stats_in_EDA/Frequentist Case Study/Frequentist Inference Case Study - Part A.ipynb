{
 "cells": [
  {
   "cell_type": "markdown",
   "metadata": {},
   "source": [
    "# Frequentist Inference Case Study - Part A "
   ]
  },
  {
   "cell_type": "markdown",
   "metadata": {},
   "source": [
    "## 1. Learning objectives"
   ]
  },
  {
   "cell_type": "markdown",
   "metadata": {},
   "source": [
    "Welcome to part A of the Frequentist inference case study! The purpose of this case study is to help you apply the concepts associated with Frequentist inference in Python. Frequentist inference is the process of deriving conclusions about an underlying distribution via the observation of data. In particular, you'll practice writing Python code to apply the following statistical concepts: \n",
    "* the _z_-statistic\n",
    "* the _t_-statistic\n",
    "* the difference and relationship between the two\n",
    "* the Central Limit Theorem, including its assumptions and consequences\n",
    "* how to estimate the population mean and standard deviation from a sample\n",
    "* the concept of a sampling distribution of a test statistic, particularly for the mean\n",
    "* how to combine these concepts to calculate a confidence interval"
   ]
  },
  {
   "cell_type": "markdown",
   "metadata": {},
   "source": [
    "## Prerequisites"
   ]
  },
  {
   "cell_type": "markdown",
   "metadata": {},
   "source": [
    "To be able to complete this notebook, you are expected to have a basic understanding of:\n",
    "* what a random variable is (p.400 of Professor Spiegelhalter's *The Art of Statistics, hereinafter AoS*)\n",
    "* what a population, and a population distribution, are (p. 397 of *AoS*)\n",
    "* a high-level sense of what the normal distribution is (p. 394 of *AoS*)\n",
    "* what the t-statistic is (p. 275 of *AoS*)\n",
    "\n",
    "Happily, these should all be concepts with which you are reasonably familiar after having read ten chapters of Professor Spiegelhalter's book, *The Art of Statistics*.\n",
    "\n",
    "We'll try to relate the concepts in this case study back to page numbers in *The Art of Statistics* so that you can focus on the Python aspects of this case study. The second part (part B) of this case study will involve another, more real-world application of these tools. "
   ]
  },
  {
   "cell_type": "markdown",
   "metadata": {},
   "source": [
    "For this notebook, we will use data sampled from a known normal distribution. This allows us to compare our results with theoretical expectations."
   ]
  },
  {
   "cell_type": "markdown",
   "metadata": {},
   "source": [
    "## 2. An introduction to sampling from the normal distribution"
   ]
  },
  {
   "cell_type": "markdown",
   "metadata": {},
   "source": [
    "First, let's explore the ways we can generate the normal distribution. While there's a fair amount of interest in [sklearn](https://scikit-learn.org/stable/) within the machine learning community, you're likely to have heard of [scipy](https://docs.scipy.org/doc/scipy-0.15.1/reference/index.html) if you're coming from the sciences. For this assignment, you'll use [scipy.stats](https://docs.scipy.org/doc/scipy-0.15.1/reference/tutorial/stats.html) to complete your work. \n",
    "\n",
    "This assignment will require some digging around and getting your hands dirty (your learning is maximized that way)! You should have the research skills and the tenacity to do these tasks independently, but if you struggle, reach out to your immediate community and your mentor for help. "
   ]
  },
  {
   "cell_type": "code",
   "execution_count": 2,
   "metadata": {},
   "outputs": [],
   "source": [
    "from scipy.stats import norm\n",
    "from scipy.stats import t\n",
    "import numpy as np\n",
    "import pandas as pd\n",
    "from numpy.random import seed\n",
    "import matplotlib.pyplot as plt"
   ]
  },
  {
   "cell_type": "markdown",
   "metadata": {},
   "source": [
    "__Q1:__ Call up the documentation for the `norm` function imported above. (Hint: that documentation is [here](https://docs.scipy.org/doc/scipy/reference/generated/scipy.stats.norm.html)). What is the second listed method?"
   ]
  },
  {
   "cell_type": "markdown",
   "metadata": {},
   "source": [
    "__A:__\n",
    "\n",
    "<div style=\"font-size:16px; font-family:Courier New;\">\n",
    "    \n",
    "Under the <u>Methods</u> section, the second listed method (after ``norm.rvs()``) is ``norm.pdf()`` which takes in an ``x`` value for the first argument, and the key-word arguments ``loc`` (mean, default of 0) and ``scale`` (stdev, default of 1).  The method returns the probability for x when plugged into the PDF of the Gaussian distribution with the specified mean and stdev.  \n",
    "\n",
    "</div>"
   ]
  },
  {
   "cell_type": "markdown",
   "metadata": {},
   "source": [
    "__Q2:__ Use the method that generates random variates to draw five samples from the standard normal distribution. "
   ]
  },
  {
   "cell_type": "markdown",
   "metadata": {},
   "source": [
    "__A:__"
   ]
  },
  {
   "cell_type": "code",
   "execution_count": 260,
   "metadata": {},
   "outputs": [],
   "source": [
    "seed(47)\n",
    "# draw five samples here\n",
    "data = norm.rvs(size=5)"
   ]
  },
  {
   "cell_type": "markdown",
   "metadata": {},
   "source": [
    "__Q3:__ What is the mean of this sample? Is it exactly equal to the value you expected? Hint: the sample was drawn from the standard normal distribution. If you want a reminder of the properties of this distribution, check out p. 85 of *AoS*. "
   ]
  },
  {
   "cell_type": "markdown",
   "metadata": {},
   "source": [
    "__A:__"
   ]
  },
  {
   "cell_type": "code",
   "execution_count": 62,
   "metadata": {},
   "outputs": [
    {
     "name": "stdout",
     "output_type": "stream",
     "text": [
      "0.19355593334131074\n"
     ]
    }
   ],
   "source": [
    "# Calculate and print the mean here, hint: use np.mean()\n",
    "mean = np.mean(data)\n",
    "print(mean)"
   ]
  },
  {
   "cell_type": "markdown",
   "metadata": {},
   "source": [
    "<div style=\"font-size:16px; font-family:Courier New;\">\n",
    "    \n",
    "No, this sample mean $\\bar{x} \\approx 0.19356$ is not exactly equal to the expected value of $\\mu = 0$ for the standard normal distribution.\n",
    "\n",
    "</div>"
   ]
  },
  {
   "cell_type": "markdown",
   "metadata": {},
   "source": [
    "__Q4:__ What is the standard deviation of these numbers? Calculate this manually here as $\\sqrt{\\frac{\\sum_i(x_i - \\bar{x})^2}{n}}$ (This is just the definition of **standard deviation** given by Professor Spiegelhalter on p.403 of *AoS*). Hint: np.sqrt() and np.sum() will be useful here and remember that numPy supports [broadcasting](https://docs.scipy.org/doc/numpy/user/basics.broadcasting.html)."
   ]
  },
  {
   "cell_type": "markdown",
   "metadata": {},
   "source": [
    "__A:__"
   ]
  },
  {
   "cell_type": "markdown",
   "metadata": {},
   "source": [
    "<div style=\"font-size:16px; font-family:Courier New;\">\n",
    "\n",
    "#### Standard Deviation w/o Bessel's Correction($\\text{df} = n$)"
   ]
  },
  {
   "cell_type": "code",
   "execution_count": 263,
   "metadata": {},
   "outputs": [
    {
     "name": "stdout",
     "output_type": "stream",
     "text": [
      "\n",
      "0.9606\n",
      "\n"
     ]
    }
   ],
   "source": [
    "# Generate array of deviations from the mean\n",
    "deviations = data - mean\n",
    "\n",
    "# Square each deviation in the array\n",
    "square_devs = devs**2\n",
    "\n",
    "# Sum the squared deviations\n",
    "sum_sq_devs = np.sum(square_devs)\n",
    "\n",
    "# Calculate population variance using df = n in the denominator\n",
    "n = len(data)\n",
    "pop_var = sum_sq_devs / n\n",
    "\n",
    "# Take the square-root of the variance to get standard deviation\n",
    "pop_stdev = np.sqrt(pop_var)\n",
    "\n",
    "# Print the result\n",
    "print(f\"\\n{pop_stdev:.4f}\\n\")"
   ]
  },
  {
   "cell_type": "markdown",
   "metadata": {},
   "source": [
    "Here we have calculated the actual standard deviation of a small data set (of size 5). But in this case, this small data set is actually a sample from our larger (infinite) population. In this case, the population is infinite because we could keep drawing our normal random variates until our computers die! \n",
    "\n",
    "In general, the sample mean we calculate will not be equal to the population mean (as we saw above). A consequence of this is that the sum of squares of the deviations from the _population_ mean will be bigger than the sum of squares of the deviations from the _sample_ mean. In other words, the sum of squares of the deviations from the _sample_ mean is too small to give an unbiased estimate of the _population_ variance. An example of this effect is given [here](https://en.wikipedia.org/wiki/Bessel%27s_correction#Source_of_bias). Scaling our estimate of the variance by the factor $n/(n-1)$ gives an unbiased estimator of the population variance. This factor is known as [Bessel's correction](https://en.wikipedia.org/wiki/Bessel%27s_correction). The consequence of this is that the $n$ in the denominator is replaced by $n-1$.\n",
    "\n",
    "You can see Bessel's correction reflected in Professor Spiegelhalter's definition of **variance** on p. 405 of *AoS*.\n",
    "\n",
    "<hr>\n",
    "\n",
    "__Q5:__ If all we had to go on was our five samples, what would be our best estimate of the population standard deviation? Use Bessel's correction ($n-1$ in the denominator), thus $\\sqrt{\\frac{\\sum_i(x_i - \\bar{x})^2}{n-1}}$.\n",
    "\n",
    "<hr style=\"height:1px;border-width:0\">"
   ]
  },
  {
   "cell_type": "markdown",
   "metadata": {},
   "source": [
    "__A:__"
   ]
  },
  {
   "cell_type": "markdown",
   "metadata": {},
   "source": [
    "<div style=\"font-size:16px; font-family:Courier New;\">\n",
    "\n",
    "#### Standard Deviation using Bessel's Correction($\\text{df} = n - 1$)"
   ]
  },
  {
   "cell_type": "code",
   "execution_count": 259,
   "metadata": {},
   "outputs": [
    {
     "name": "stdout",
     "output_type": "stream",
     "text": [
      "\n",
      "1.0740\n",
      "\n"
     ]
    }
   ],
   "source": [
    "# \"Undo\" the usage of df=n for calculating variance (i.e. multipy by n), and apply df=n-1 instead (divide by n-1):\n",
    "sample_var = pop_var * n / (n-1)\n",
    "\n",
    "# Take the square-root as before to get stdev:\n",
    "sample_stdev = np.sqrt(sample_var)\n",
    "\n",
    "# Print result\n",
    "print(f\"\\n{sample_stdev:.4f}\\n\")"
   ]
  },
  {
   "cell_type": "markdown",
   "metadata": {},
   "source": [
    "<hr>\n",
    "\n",
    "__Q6:__ Now use numpy's std function to calculate the standard deviation of our random samples. Which of the above standard deviations did it return?\n",
    "\n",
    "<hr style=\"height:1px;border-width:0\">"
   ]
  },
  {
   "cell_type": "markdown",
   "metadata": {},
   "source": [
    "__A:__"
   ]
  },
  {
   "cell_type": "code",
   "execution_count": 264,
   "metadata": {},
   "outputs": [
    {
     "name": "stdout",
     "output_type": "stream",
     "text": [
      "\n",
      "0.9606\n",
      "\n"
     ]
    }
   ],
   "source": [
    "np_stdev = np.std(data)\n",
    "\n",
    "print(f\"\\n{np_stdev:.4f}\\n\")"
   ]
  },
  {
   "cell_type": "markdown",
   "metadata": {},
   "source": [
    "<div style=\"font-size:16px; font-family:Courier New;\">\n",
    "This is the standard deviation calculated without using Bessel's correction (i.e., df=n), which would have been more appropriate for the population standard deviation."
   ]
  },
  {
   "cell_type": "markdown",
   "metadata": {},
   "source": [
    "<hr>\n",
    "\n",
    "__Q7:__ Consult the documentation for np.std() to see how to apply the correction for estimating the population parameter and verify this produces the expected result.\n",
    "<hr style=\"height:1px;border-width:0\">"
   ]
  },
  {
   "cell_type": "markdown",
   "metadata": {},
   "source": [
    "__A:__"
   ]
  },
  {
   "cell_type": "markdown",
   "metadata": {},
   "source": [
    "<div style=\"font-size:16px; font-family:Courier New;\">\n",
    "    \n",
    "For `numpy>=2.0.0`, you can use the kwarg `correction=1`; otherwise, use `ddof=1` to apply Bessel's correction."
   ]
  },
  {
   "cell_type": "code",
   "execution_count": 9,
   "metadata": {},
   "outputs": [
    {
     "data": {
      "text/plain": [
       "'1.26.4'"
      ]
     },
     "execution_count": 9,
     "metadata": {},
     "output_type": "execute_result"
    }
   ],
   "source": [
    "np.__version__"
   ]
  },
  {
   "cell_type": "code",
   "execution_count": 266,
   "metadata": {},
   "outputs": [
    {
     "name": "stdout",
     "output_type": "stream",
     "text": [
      "\n",
      "1.0740\n",
      "\n"
     ]
    }
   ],
   "source": [
    "# Calculate & print stdev using numpy and df = n - 1\n",
    "np_stdev_bessel = np.std(data,ddof=1)\n",
    "print(f\"\\n{np_stdev_bessel:.4f}\\n\")"
   ]
  },
  {
   "cell_type": "code",
   "execution_count": 267,
   "metadata": {},
   "outputs": [
    {
     "data": {
      "text/plain": [
       "True"
      ]
     },
     "execution_count": 267,
     "metadata": {},
     "output_type": "execute_result"
    }
   ],
   "source": [
    "# Verify this is the expected result\n",
    "np_stdev_bessel == sample_stdev"
   ]
  },
  {
   "cell_type": "markdown",
   "metadata": {},
   "source": [
    "<hr>"
   ]
  },
  {
   "cell_type": "markdown",
   "metadata": {},
   "source": [
    "### Summary of section"
   ]
  },
  {
   "cell_type": "markdown",
   "metadata": {},
   "source": [
    "In this section, you've been introduced to the scipy.stats package and used it to draw a small sample from the standard normal distribution. You've calculated the average (the mean) of this sample and seen that this is not exactly equal to the expected population parameter (which we know because we're generating the random variates from a specific, known distribution). You've been introduced to two ways of calculating the standard deviation; one uses $n$ in the denominator and the other uses $n-1$ (Bessel's correction). You've also seen which of these calculations np.std() performs by default and how to get it to generate the other."
   ]
  },
  {
   "cell_type": "markdown",
   "metadata": {},
   "source": [
    "You use $n$ as the denominator if you want to calculate the standard deviation of a sequence of numbers. You use $n-1$ if you are using this sequence of numbers to estimate the population parameter. This brings us to some terminology that can be a little confusing.\n",
    "\n",
    "The population parameter is traditionally written as $\\sigma$ and the sample statistic as $s$. Rather unhelpfully, $s$ is also called the sample standard deviation (using $n-1$) whereas the standard deviation of the sample uses $n$. That's right, we have the sample standard deviation and the standard deviation of the sample and they're not the same thing!\n",
    "\n",
    "The sample standard deviation\n",
    "\\begin{equation}\n",
    "s = \\sqrt{\\frac{\\sum_i(x_i - \\bar{x})^2}{n-1}} \\approx \\sigma,\n",
    "\\end{equation}\n",
    "is our best (unbiased) estimate of the population parameter ($\\sigma$).\n",
    "\n",
    "If your dataset _is_ your entire population, you simply want to calculate the population parameter, $\\sigma$, via\n",
    "\\begin{equation}\n",
    "\\sigma = \\sqrt{\\frac{\\sum_i(x_i - \\bar{x})^2}{n}}\n",
    "\\end{equation}\n",
    "as you have complete, full knowledge of your population. In other words, your sample _is_ your population. It's worth noting that we're dealing with what Professor Spiegehalter describes on p. 92 of *AoS* as a **metaphorical population**: we have all the data, and we act as if the data-point is taken from a population at random. We can think of this population as an imaginary space of possibilities. \n",
    "\n",
    "If, however, you have sampled _from_ your population, you only have partial knowledge of the state of your population. In this case, the standard deviation of your sample is not an unbiased estimate of the standard deviation of the population, in which case you seek to estimate that population parameter via the sample standard deviation, which uses the $n-1$ denominator."
   ]
  },
  {
   "cell_type": "markdown",
   "metadata": {},
   "source": [
    "Great work so far! Now let's dive deeper.\n",
    "<hr>"
   ]
  },
  {
   "cell_type": "markdown",
   "metadata": {},
   "source": [
    "## 3. Sampling distributions"
   ]
  },
  {
   "cell_type": "markdown",
   "metadata": {},
   "source": [
    "So far we've been dealing with the concept of taking a sample from a population to infer the population parameters. One statistic we calculated for a sample was the mean. As our samples will be expected to vary from one draw to another, so will our sample statistics. If we were to perform repeat draws of size $n$ and calculate the mean of each, we would expect to obtain a distribution of values. This is the sampling distribution of the mean. **The Central Limit Theorem (CLT)** tells us that such a distribution will approach a normal distribution as $n$ increases (the intuitions behind the CLT are covered in full on p. 236 of *AoS*). For the sampling distribution of the mean, the standard deviation of this distribution is given by\n",
    "\n",
    "\\begin{equation}\n",
    "\\sigma_{mean} = \\frac{\\sigma}{\\sqrt n}\n",
    "\\end{equation}\n",
    "\n",
    "where $\\sigma_{mean}$ is the standard deviation of the sampling distribution of the mean and $\\sigma$ is the standard deviation of the population (the population parameter)."
   ]
  },
  {
   "cell_type": "markdown",
   "metadata": {},
   "source": [
    "This is important because typically we are dealing with samples from populations and all we know about the population is what we see in the sample. From this sample, we want to make inferences about the population. We may do this, for example, by looking at the histogram of the values and by calculating the mean and standard deviation (as estimates of the population parameters), and so we are intrinsically interested in how these quantities vary across samples. \n",
    "\n",
    "In other words, now that we've taken one sample of size $n$ and made some claims about the general population, what if we were to take another sample of size $n$? Would we get the same result? Would we make the same claims about the general population? This brings us to a fundamental question: _when we make some inference about a population based on our sample, how confident can we be that we've got it 'right'?_\n",
    "\n",
    "We need to think about **estimates and confidence intervals**: those concepts covered in Chapter 7, p. 189, of *AoS*."
   ]
  },
  {
   "cell_type": "markdown",
   "metadata": {},
   "source": [
    "Now, the standard normal distribution (with its variance equal to its standard deviation of one) would not be a great illustration of a key point. Instead, let's imagine we live in a town of 50,000 people and we know the height of everyone in this town. We will have 50,000 numbers that tell us everything about our population. We'll simulate these numbers now and put ourselves in one particular town, called 'town 47', where the population mean height is 172 cm and population standard deviation is 5 cm."
   ]
  },
  {
   "cell_type": "code",
   "execution_count": 11,
   "metadata": {},
   "outputs": [],
   "source": [
    "seed(47)\n",
    "pop_heights = norm.rvs(172, 5, size=50000)"
   ]
  },
  {
   "cell_type": "code",
   "execution_count": 12,
   "metadata": {},
   "outputs": [
    {
     "data": {
      "image/png": "[encoded data removed]",
      "text/plain": [
       "<Figure size 640x480 with 1 Axes>"
      ]
     },
     "metadata": {},
     "output_type": "display_data"
    }
   ],
   "source": [
    "_ = plt.hist(pop_heights, bins=30)\n",
    "_ = plt.xlabel('height (cm)')\n",
    "_ = plt.ylabel('number of people')\n",
    "_ = plt.title('Distribution of heights in entire town population')\n",
    "_ = plt.axvline(172, color='r')\n",
    "_ = plt.axvline(172+5, color='r', linestyle='--')\n",
    "_ = plt.axvline(172-5, color='r', linestyle='--')\n",
    "_ = plt.axvline(172+10, color='r', linestyle='-.')\n",
    "_ = plt.axvline(172-10, color='r', linestyle='-.')"
   ]
  },
  {
   "cell_type": "markdown",
   "metadata": {},
   "source": [
    "Now, 50,000 people is rather a lot to chase after with a tape measure. If all you want to know is the average height of the townsfolk, then can you just go out and measure a sample to get a pretty good estimate of the average height?"
   ]
  },
  {
   "cell_type": "code",
   "execution_count": 13,
   "metadata": {},
   "outputs": [],
   "source": [
    "def townsfolk_sampler(n):\n",
    "    return np.random.choice(pop_heights, n)"
   ]
  },
  {
   "cell_type": "markdown",
   "metadata": {},
   "source": [
    "Let's say you go out one day and randomly sample 10 people to measure."
   ]
  },
  {
   "cell_type": "code",
   "execution_count": 14,
   "metadata": {},
   "outputs": [],
   "source": [
    "seed(47)\n",
    "daily_sample1 = townsfolk_sampler(10)"
   ]
  },
  {
   "cell_type": "code",
   "execution_count": 15,
   "metadata": {},
   "outputs": [
    {
     "data": {
      "image/png": "[encoded data removed]",
      "text/plain": [
       "<Figure size 640x480 with 1 Axes>"
      ]
     },
     "metadata": {},
     "output_type": "display_data"
    }
   ],
   "source": [
    "_ = plt.hist(daily_sample1, bins=10)\n",
    "_ = plt.xlabel('height (cm)')\n",
    "_ = plt.ylabel('number of people')\n",
    "_ = plt.title('Distribution of heights in sample size 10')"
   ]
  },
  {
   "cell_type": "markdown",
   "metadata": {},
   "source": [
    "The sample distribution doesn't resemble what we take the population distribution to be. What do we get for the mean?"
   ]
  },
  {
   "cell_type": "code",
   "execution_count": 16,
   "metadata": {},
   "outputs": [
    {
     "data": {
      "text/plain": [
       "173.47911444163503"
      ]
     },
     "execution_count": 16,
     "metadata": {},
     "output_type": "execute_result"
    }
   ],
   "source": [
    "np.mean(daily_sample1)"
   ]
  },
  {
   "cell_type": "markdown",
   "metadata": {},
   "source": [
    "And if we went out and repeated this experiment?"
   ]
  },
  {
   "cell_type": "code",
   "execution_count": 17,
   "metadata": {},
   "outputs": [],
   "source": [
    "daily_sample2 = townsfolk_sampler(10)"
   ]
  },
  {
   "cell_type": "code",
   "execution_count": 18,
   "metadata": {},
   "outputs": [
    {
     "data": {
      "text/plain": [
       "173.7317666636263"
      ]
     },
     "execution_count": 18,
     "metadata": {},
     "output_type": "execute_result"
    }
   ],
   "source": [
    "np.mean(daily_sample2)"
   ]
  },
  {
   "cell_type": "markdown",
   "metadata": {},
   "source": [
    "<hr>\n",
    "__Q8:__ Simulate performing this random trial every day for a year, calculating the mean of each daily sample of 10, and plot the resultant sampling distribution of the mean.\n",
    "<hr style=\"height:1px;border-width:0\">\n"
   ]
  },
  {
   "cell_type": "markdown",
   "metadata": {},
   "source": [
    "__A:__\n"
   ]
  },
  {
   "cell_type": "code",
   "execution_count": 272,
   "metadata": {},
   "outputs": [],
   "source": [
    "seed(47)\n",
    "# take your samples here\n",
    "\n",
    "#initialize list of daily samples and empty array of daily sample means for 365 days total / 1 year\n",
    "daily_samples=[]\n",
    "daily_means=np.empty(365)\n",
    "\n",
    "for i in range(365):\n",
    "    # Draw daily sample of size n=10\n",
    "    qdsample = townsfolk_sampler(10)\n",
    "    \n",
    "    # Append daily sample to list of all daily samples\n",
    "    daily_samples.append(qdsample)\n",
    "\n",
    "    # Calculate daily mean and update array of daily sample means\n",
    "    daily_means[i] = np.mean(qdsample)"
   ]
  },
  {
   "cell_type": "code",
   "execution_count": 274,
   "metadata": {},
   "outputs": [
    {
     "data": {
      "image/png": "[encoded data removed]",
      "text/plain": [
       "<Figure size 640x480 with 1 Axes>"
      ]
     },
     "metadata": {},
     "output_type": "display_data"
    }
   ],
   "source": [
    "# Plot the Sampling Distribution of the Mean:\n",
    "_ = plt.hist(daily_means,bins=50,color='brown')\n",
    "_ = plt.xlabel('mean daily height (cm)')\n",
    "_ = plt.ylabel('number of samples')\n",
    "_ = plt.title('Sampling Distrubtion for Daily Samples of Size 10 Over a Year')"
   ]
  },
  {
   "cell_type": "markdown",
   "metadata": {},
   "source": [
    "The above is the distribution of the means of samples of size 10 taken from our population. The Central Limit Theorem tells us the expected mean of this distribution will be equal to the population mean, and standard deviation will be $\\sigma / \\sqrt n$, which, in this case, should be approximately 1.58."
   ]
  },
  {
   "cell_type": "markdown",
   "metadata": {},
   "source": [
    "<hr>"
   ]
  },
  {
   "cell_type": "markdown",
   "metadata": {},
   "source": [
    "__Q9:__ Verify the above results from the CLT.\n",
    "<hr style=\"height:1px;border-width:0\">"
   ]
  },
  {
   "cell_type": "markdown",
   "metadata": {},
   "source": [
    "__A:__"
   ]
  },
  {
   "cell_type": "markdown",
   "metadata": {},
   "source": [
    "<div style=\"font-size:16px; font-family:Courier New;\">\n",
    "\n",
    "#### Verifying $\\mathbf{E}[\\bar{X}] \\approx \\mu$"
   ]
  },
  {
   "cell_type": "code",
   "execution_count": 275,
   "metadata": {},
   "outputs": [
    {
     "name": "stdout",
     "output_type": "stream",
     "text": [
      "Bootstrap Mean (Expected Mean): \u001b[1m\u001b[41m171.87\u001b[0m\n"
     ]
    }
   ],
   "source": [
    "bs_mean = daily_means.mean()\n",
    "print(f\"Bootstrap Mean (Expected Mean): \\033[1m\\033[41m{bs_mean.round(2)}\\033[0m\")"
   ]
  },
  {
   "cell_type": "markdown",
   "metadata": {},
   "source": [
    "<div style=\"font-size:16px; font-family:Courier New;\">\n",
    "\n",
    "This expected mean of **171.87** is approximately equal to the population mean, which was set at **172** when defining `pop_heights` earlier in this section."
   ]
  },
  {
   "cell_type": "markdown",
   "metadata": {},
   "source": [
    "<div style=\"font-size:16px; font-family:Courier New;\">\n",
    "\n",
    "#### Verifying $s_{\\bar{X}} \\approx \\frac{\\sigma}{\\sqrt{n}} \\approx 1.58$"
   ]
  },
  {
   "cell_type": "code",
   "execution_count": 293,
   "metadata": {},
   "outputs": [
    {
     "name": "stdout",
     "output_type": "stream",
     "text": [
      "Bootstrap Stdev: \u001b[1m1.58\u001b[0m\n",
      "Standard Error: \u001b[1m\u001b[41m1.58\u001b[0m\n"
     ]
    }
   ],
   "source": [
    "# Calculate standard deviation of the bootstrap sample means (bs_std)\n",
    "bs_std = daily_means.std(ddof=1)\n",
    "\n",
    "# Using the population standard deviation that was set at 5, calculate standard error of the mean:\n",
    "standard_error =  5 / np.sqrt(10)\n",
    "\n",
    "print(f\"Bootstrap Stdev: \\033[1m{bs_std.round(2)}\\033[0m\")\n",
    "print(f\"Standard Error: \\033[1m\\033[41m{standard_error.round(2)}\\033[0m\")"
   ]
  },
  {
   "cell_type": "markdown",
   "metadata": {},
   "source": [
    "<div style=\"font-size:16px; font-family:Courier New;\">\n",
    "\n",
    "Rounding up each to 2 decimal places, it is clear that $s_{\\bar{X}} \\approx \\frac{\\sigma}{\\sqrt{n}} \\approx 1.58$"
   ]
  },
  {
   "cell_type": "markdown",
   "metadata": {},
   "source": [
    "<hr>"
   ]
  },
  {
   "cell_type": "markdown",
   "metadata": {},
   "source": [
    "Remember, in this instance, we knew our population parameters, that the average height really is 172 cm and the standard deviation is 5 cm, and we see some of our daily estimates of the population mean were as low as around 168 and some as high as 176."
   ]
  },
  {
   "cell_type": "markdown",
   "metadata": {},
   "source": [
    "__Q10:__ Repeat the above year's worth of samples but for a sample size of 50 (perhaps you had a bigger budget for conducting surveys that year)! Would you expect your distribution of sample means to be wider (more variable) or narrower (more consistent)? Compare your resultant summary statistics to those predicted by the CLT.\n",
    "<hr style=\"height:1px;border-width:0\">"
   ]
  },
  {
   "cell_type": "markdown",
   "metadata": {},
   "source": [
    "__A:__"
   ]
  },
  {
   "cell_type": "code",
   "execution_count": 288,
   "metadata": {},
   "outputs": [],
   "source": [
    "seed(47)\n",
    "# calculate daily means from the larger sample size here\n",
    "daily_samples_n50=[]\n",
    "daily_means_n50=np.empty(365)\n",
    "for i in range(365):\n",
    "    qdsample = townsfolk_sampler(50)\n",
    "    daily_samples_n50.append(qdsample)\n",
    "    daily_means_n50[i] = np.mean(qdsample)"
   ]
  },
  {
   "cell_type": "markdown",
   "metadata": {},
   "source": [
    "<div style=\"font-size:16px; font-family:Courier New;\">\n",
    "\n",
    "I would expect the sampling distribution of means to be more narrow / consistent due to the larger sample size of n = 50 compared to n = 10.  As seen in the plot below, this is true &mdash; the values fall roughly between 170 and 174 &mdash; when compared to the plot with n = 10 &mdash for which values fell roughly between 167 and 176."
   ]
  },
  {
   "cell_type": "code",
   "execution_count": 289,
   "metadata": {},
   "outputs": [
    {
     "data": {
      "image/png": "[encoded data removed]",
      "text/plain": [
       "<Figure size 640x480 with 1 Axes>"
      ]
     },
     "metadata": {},
     "output_type": "display_data"
    }
   ],
   "source": [
    "_ = plt.hist(daily_means_n50,bins=50,color='purple')\n",
    "_ = plt.xlabel('mean daily height (cm)')\n",
    "_ = plt.ylabel('number of samples')\n",
    "_ = plt.title('Sampling Distrubtion for Daily Samples of Size 50 Over a Year')"
   ]
  },
  {
   "cell_type": "code",
   "execution_count": 328,
   "metadata": {},
   "outputs": [
    {
     "data": {
      "text/html": [
       "<div>\n",
       "<style scoped>\n",
       "    .dataframe tbody tr th:only-of-type {\n",
       "        vertical-align: middle;\n",
       "    }\n",
       "\n",
       "    .dataframe tbody tr th {\n",
       "        vertical-align: top;\n",
       "    }\n",
       "\n",
       "    .dataframe thead th {\n",
       "        text-align: right;\n",
       "    }\n",
       "</style>\n",
       "<table border=\"1\" class=\"dataframe\">\n",
       "  <thead>\n",
       "    <tr style=\"text-align: right;\">\n",
       "      <th></th>\n",
       "      <th>n=10</th>\n",
       "      <th>n=50</th>\n",
       "    </tr>\n",
       "  </thead>\n",
       "  <tbody>\n",
       "    <tr>\n",
       "      <th>mean</th>\n",
       "      <td>171.87</td>\n",
       "      <td>171.94</td>\n",
       "    </tr>\n",
       "    <tr>\n",
       "      <th>stdev</th>\n",
       "      <td>1.58</td>\n",
       "      <td>0.67</td>\n",
       "    </tr>\n",
       "    <tr>\n",
       "      <th>S.E.</th>\n",
       "      <td>1.58</td>\n",
       "      <td>0.71</td>\n",
       "    </tr>\n",
       "  </tbody>\n",
       "</table>\n",
       "</div>"
      ],
      "text/plain": [
       "         n=10    n=50\n",
       "mean   171.87  171.94\n",
       "stdev    1.58    0.67\n",
       "S.E.     1.58    0.71"
      ]
     },
     "execution_count": 328,
     "metadata": {},
     "output_type": "execute_result"
    }
   ],
   "source": [
    "# Calculate boostrap mean for n = 50\n",
    "bs_mean_n50 = daily_means_n50.mean()\n",
    "\n",
    "# Calculate boostrap standard deviation for n = 50 \n",
    "bs_std_n50 = daily_means_n50.std(ddof=1)\n",
    "\n",
    "# Calculate standard error for n = 50\n",
    "standard_error_n50 = 5 / np.sqrt(50)\n",
    "\n",
    "# Compare with n = 10\n",
    "import pandas as pd\n",
    "indices = [ \"n=10\",\"n=50\"]\n",
    "n10 = [ bs_mean, bs_std, standard_error ] \n",
    "n50 = [ bs_mean_n50, bs_std_n50, standard_error_n50 ]\n",
    "cols = [ 'mean', \"stdev\",'S.E.' ]\n",
    "comparison = pd.DataFrame([n10,n50],columns=cols,index=indices)\n",
    "comparison.T.round(2)"
   ]
  },
  {
   "cell_type": "markdown",
   "metadata": {},
   "source": [
    "<div style=\"font-size:16px; font-family:Courier New;\">\n",
    "\n",
    "With the increased size (n = 50):\n",
    "* the bootstrap mean is about the same as with n = 10, and is slightly closer to the population mean of 172\n",
    "* the bootstrap standard deviation (stdev) / standard error of the mean (S.E.) is smaller, indicating less variation in the sample means\n",
    "* bootstrapping 50,000 samples seemed to generate a standard deviation slightly less than the theoretical calculation (0.67 vs. 0.71); perhaps a different run with a different seed might generate something closer to 0.71, although it still is approximately the same."
   ]
  },
  {
   "cell_type": "markdown",
   "metadata": {},
   "source": [
    "<hr>"
   ]
  },
  {
   "cell_type": "markdown",
   "metadata": {},
   "source": [
    "What we've seen so far, then, is that we can estimate population parameters from a sample from the population, and that samples have their own distributions. Furthermore, the larger the sample size, the narrower are those sampling distributions."
   ]
  },
  {
   "cell_type": "markdown",
   "metadata": {},
   "source": [
    "### Normally testing time!"
   ]
  },
  {
   "cell_type": "markdown",
   "metadata": {},
   "source": [
    "All of the above is well and good. We've been sampling from a population we know is normally distributed, we've come to understand when to use $n$ and when to use $n-1$ in the denominator to calculate the spread of a distribution, and we've  seen the Central Limit Theorem in action for a sampling distribution. All seems very well behaved in Frequentist land. But, well, why should we really care?"
   ]
  },
  {
   "cell_type": "markdown",
   "metadata": {},
   "source": [
    "Remember, we rarely (if ever) actually know our population parameters but we still have to estimate them somehow. If we want to make inferences to conclusions like \"this observation is unusual\" or \"my population mean has changed\" then we need to have some idea of what the underlying distribution is so we can calculate relevant probabilities. In frequentist inference, we use the formulae above to deduce these population parameters. Take a moment in the next part of this assignment to refresh your understanding of how these probabilities work."
   ]
  },
  {
   "cell_type": "markdown",
   "metadata": {},
   "source": [
    "Recall some basic properties of the standard normal distribution, such as that about 68% of observations are within plus or minus 1 standard deviation of the mean. Check out the precise definition of a normal distribution on p. 394 of *AoS*. \n",
    "\n",
    "__Q11:__ Using this fact, calculate the probability of observing the value 1 or less in a single observation from the standard normal distribution. Hint: you may find it helpful to sketch the standard normal distribution (the familiar bell shape) and mark the number of standard deviations from the mean on the x-axis and shade the regions of the curve that contain certain percentages of the population.\n",
    "<hr style=\"height:1px;border-width:0\">"
   ]
  },
  {
   "cell_type": "markdown",
   "metadata": {},
   "source": [
    "__A:__"
   ]
  },
  {
   "cell_type": "markdown",
   "metadata": {},
   "source": [
    "<div style=\"font-size:16px; font-family:Courier New;\">\n",
    "\n",
    "<u>Calculation using Standard Normal Distribution Features</u><br>\n",
    "<i>Since the <u>standard</u> normal distribution is such that $ \\mu = 0 $ and $\\sigma = 1 $, the fact that ~68% of the area lies between $-1\\sigma$ and $+1\\sigma$ is equivalent to saying that the probability between -1 and +1 is ~0.68\n",
    "\n",
    "Consequently, half of that probability is between 0 and 1 (0.68 / 2 = 0.34).  Meanwhile everything below zero has the probability 0.5, since the normal distribution is symmetric.  Thus, the probability of everything below and including 1 in the standard normal distribution is:</i>\n",
    "\n",
    "$$ P(x\\le0) + P(0 \\le x \\le 1) $$\n",
    "\n",
    "$$\\approx (0.5) + \\Big(\\frac{0.68}{2}\\Big) $$\n",
    "\n",
    "which evaluates to:\n"
   ]
  },
  {
   "cell_type": "code",
   "execution_count": 77,
   "metadata": {},
   "outputs": [
    {
     "data": {
      "text/plain": [
       "0.84"
      ]
     },
     "execution_count": 77,
     "metadata": {},
     "output_type": "execute_result"
    }
   ],
   "source": [
    "(50 + 68/2)/100"
   ]
  },
  {
   "cell_type": "markdown",
   "metadata": {},
   "source": [
    "\n",
    "<hr>"
   ]
  },
  {
   "cell_type": "markdown",
   "metadata": {},
   "source": [
    "Calculating this probability involved calculating the area under the curve from the value of 1 and below. To put it in mathematical terms, we need to *integrate* the probability density function. We could just add together the known areas of chunks (from -Inf to 0 and then 0 to $+\\sigma$ in the example above). One way to do this is to look up tables (literally). Fortunately, scipy has this functionality built in with the cdf() function."
   ]
  },
  {
   "cell_type": "markdown",
   "metadata": {},
   "source": [
    "__Q12:__ Use the cdf() function to answer the question above again and verify you get the same answer.\n",
    "<hr style=\"height:1px;border-width:0\">"
   ]
  },
  {
   "cell_type": "markdown",
   "metadata": {},
   "source": [
    "__A:__"
   ]
  },
  {
   "cell_type": "markdown",
   "metadata": {},
   "source": [
    "<div style=\"font-size:16px; font-family:Courier New;\">\n",
    "\n",
    "<u>Calculation using ``scipy.stats.norm.cdf()``</u><br>"
   ]
  },
  {
   "cell_type": "code",
   "execution_count": 329,
   "metadata": {},
   "outputs": [
    {
     "data": {
      "text/plain": [
       "0.84"
      ]
     },
     "execution_count": 329,
     "metadata": {},
     "output_type": "execute_result"
    }
   ],
   "source": [
    "p_1nbelow = norm.cdf(1)\n",
    "\n",
    "p_1nbelow.round(2)"
   ]
  },
  {
   "cell_type": "markdown",
   "metadata": {},
   "source": [
    "<hr>\n",
    "\n",
    "__Q13:__ Using our knowledge of the population parameters for our townsfolks' heights, what is the probability of selecting one person at random and their height being 177 cm or less? Calculate this using both of the approaches given above.\n",
    "<hr style=\"height:1px;border-width:0\">"
   ]
  },
  {
   "cell_type": "markdown",
   "metadata": {},
   "source": [
    "__A:__"
   ]
  },
  {
   "cell_type": "markdown",
   "metadata": {},
   "source": [
    "<div style=\"font-size:16px; font-family:Courier New;\">\n",
    "    \n",
    "<u>Calculation using Standard Normal Distribution Features</u><br>\n",
    "$\\mu = 172 $ cm <br>\n",
    "$\\sigma = 5 $ cm\n",
    "\n",
    "$P(\\text{height}\\le177) = ?$\n",
    "\n",
    "Since 177 cm is exactly 5 cm above the mean of 172 cm, it is equivalent to $1\\sigma$\n",
    "\n",
    "As we are calculating the probability for 177 or less (and hence $1\\sigma$ and below), will yield the same result as before -- the answer is **0.84**"
   ]
  },
  {
   "cell_type": "markdown",
   "metadata": {},
   "source": [
    "<div style=\"font-size:16px; font-family:Courier New;\">\n",
    "\n",
    "<u>Calculation using ``scipy.stats.norm.cdf()``</u><br>"
   ]
  },
  {
   "cell_type": "code",
   "execution_count": 330,
   "metadata": {},
   "outputs": [
    {
     "data": {
      "text/plain": [
       "0.84"
      ]
     },
     "execution_count": 330,
     "metadata": {},
     "output_type": "execute_result"
    }
   ],
   "source": [
    "norm.cdf(177,loc=172,scale=5).round(2)"
   ]
  },
  {
   "cell_type": "markdown",
   "metadata": {},
   "source": [
    "<hr>\n",
    "\n",
    "__Q14:__ Turning this question around — suppose we randomly pick one person and measure their height and find they are 2.00 m tall. How surprised should we be at this result, given what we know about the population distribution? In other words, how likely would it be to obtain a value at least as extreme as this? Express this as a probability. \n",
    "\n",
    "<hr style=\"height:1px;border-width:0\">"
   ]
  },
  {
   "cell_type": "markdown",
   "metadata": {},
   "source": [
    "__A:__"
   ]
  },
  {
   "cell_type": "markdown",
   "metadata": {},
   "source": [
    "<div style=\"font-size:16px; font-family:Courier New;\">\n",
    "\n",
    "Convert to $\\text{cm}$:<br>\n",
    "\n",
    "$ 2.00 \\text{m} = (2.00 \\text{m}) \\frac{100 \\text{cm}}{\\text{m}} = 200 \\text{cm} $\n",
    "\n",
    "While ``norm.cdf(x)`` calculates probablity for values *below* ``x``, we can get probability for values *above* ``x`` by subtracting from 1:"
   ]
  },
  {
   "cell_type": "code",
   "execution_count": 220,
   "metadata": {},
   "outputs": [
    {
     "name": "stdout",
     "output_type": "stream",
     "text": [
      "1.0718e-08\n"
     ]
    }
   ],
   "source": [
    "p2mabove = 1 - norm.cdf(200,loc=172,scale=5)\n",
    "\n",
    "print(f\"{p2mabove:.4e}\")"
   ]
  },
  {
   "cell_type": "markdown",
   "metadata": {},
   "source": [
    "<div style=\"font-size:16px; font-family:Courier New;\">\n",
    "\n",
    "In other words, a height of 2.00 m or higher would be quite surprising / rare based on what is known about the population, with a probability of $1.0718 \\times 10^{-8}$ (~ 1 in every 100 million townsfolk).\n",
    "<hr>"
   ]
  },
  {
   "cell_type": "markdown",
   "metadata": {},
   "source": [
    "What we've just done is calculate the ***p-value*** of the observation of someone 2.00m tall (review *p*-values if you need to on p. 399 of *AoS*). We could calculate this probability by virtue of knowing the population parameters. We were then able to use the known properties of the relevant normal distribution to calculate the probability of observing a value at least as extreme as our test value."
   ]
  },
  {
   "cell_type": "markdown",
   "metadata": {},
   "source": [
    "We're about to come to a pinch, though. We've said a couple of times that we rarely, if ever, know the true population parameters; we have to estimate them from our sample and we cannot even begin to estimate the standard deviation from a single observation. \n",
    "\n",
    "This is very true and usually we have sample sizes larger than one. This means we can calculate the mean of the sample as our best estimate of the population mean and the standard deviation as our best estimate of the population standard deviation. \n",
    "\n",
    "In other words, we are now coming to deal with the sampling distributions we mentioned above as we are generally concerned with the properties of the sample means we obtain. \n",
    "\n",
    "Above, we highlighted one result from the CLT, whereby the sampling distribution (of the mean) becomes narrower and narrower with the square root of the sample size. We remind ourselves that another result from the CLT is that _even if the underlying population distribution is not normal, the sampling distribution will tend to become normal with sufficiently large sample size_. (**Check out p. 199 of AoS if you need to revise this**). This is the key driver for us 'requiring' a certain sample size, for example you may frequently see a minimum sample size of 30 stated in many places. In reality this is simply a rule of thumb; if the underlying distribution is approximately normal then your sampling distribution will already be pretty normal, but if the underlying distribution is heavily skewed then you'd want to increase your sample size."
   ]
  },
  {
   "cell_type": "markdown",
   "metadata": {},
   "source": [
    "<hr>\n",
    "\n",
    "__Q15:__ Let's now start from the position of knowing nothing about the heights of people in our town.\n",
    "* Use the random seed of 47, to randomly sample the heights of 50 townsfolk\n",
    "* Estimate the population mean using np.mean\n",
    "* Estimate the population standard deviation using np.std (remember which denominator to use!)\n",
    "* Calculate the (95%) [margin of error](https://www.statisticshowto.datasciencecentral.com/probability-and-statistics/hypothesis-testing/margin-of-error/#WhatMofE) (use the exact critial z value to 2 decimal places - [look this up](https://www.statisticshowto.datasciencecentral.com/probability-and-statistics/find-critical-values/) or use norm.ppf()) Recall that the ***margin of error*** is mentioned on p. 189 of the *AoS* and discussed in depth in that chapter). \n",
    "* Calculate the 95% Confidence Interval of the mean (***confidence intervals*** are defined on p. 385 of *AoS*) \n",
    "* Does this interval include the true population mean?\n",
    "\n",
    "<hr style=\"height:1px;border-width:0\">"
   ]
  },
  {
   "cell_type": "markdown",
   "metadata": {},
   "source": [
    "__A:__"
   ]
  },
  {
   "cell_type": "code",
   "execution_count": 29,
   "metadata": {},
   "outputs": [],
   "source": [
    "seed(47)\n",
    "# take your sample now\n",
    "h50 = townsfolk_sampler(50)"
   ]
  },
  {
   "cell_type": "markdown",
   "metadata": {},
   "source": [
    "<div style=\"font-size:16px; font-family:Courier New;\">\n",
    "\n",
    "<br>**1. Sample Mean**"
   ]
  },
  {
   "cell_type": "code",
   "execution_count": 110,
   "metadata": {},
   "outputs": [
    {
     "name": "stdout",
     "output_type": "stream",
     "text": [
      "172.78\n"
     ]
    }
   ],
   "source": [
    "#Sample mean (x-bar) / estimated mu:\n",
    "h50avg = np.mean(h50); print(h50avg.round(2))"
   ]
  },
  {
   "cell_type": "markdown",
   "metadata": {},
   "source": [
    "<div style=\"font-size:16px; font-family:Courier New;\">\n",
    "    \n",
    "<br>**2. Sample Standard Deviation**"
   ]
  },
  {
   "cell_type": "code",
   "execution_count": 111,
   "metadata": {},
   "outputs": [
    {
     "name": "stdout",
     "output_type": "stream",
     "text": [
      "4.1954\n"
     ]
    }
   ],
   "source": [
    "# Sample standard deviation (s) / estimated sigma:\n",
    "h50std = np.std(h50,ddof=1); print(h50std.round(4))"
   ]
  },
  {
   "cell_type": "markdown",
   "metadata": {},
   "source": [
    "<div style=\"font-size:16px; font-family:Courier New;\">\n",
    "    \n",
    "<br>**3. Critical Value ($z^*$):**\n",
    "\n",
    "We can calculate the critical value for any distrubtion if we have the point-percent function (PPF) of the distribution, which is the inverse of the CDF.  In python, we can use ``scipy.stats.norm.ppf()`` for the PPF of the z-distribution ($\\text{PPF}_z$).  Specifically, the critical value for a z-distribution for a given confidence level $\\gamma$ (i.e., the percent of the CI we are trying to calculate expressed as a decimal) is denoted $z^*_\\gamma$ and can be calculated by:\n",
    "\n",
    "$$z^*_{\\gamma} = - \\text{PPF}_z\\left(\\frac{1-\\gamma}{2}\\right) = \\text{PPF}_z\\left(\\gamma+\\frac{1-\\gamma}{2}\\right) = \\left|\\text{PPF}_z\\left(\\frac{1-\\gamma}{2}\\right)\\right|$$\n",
    "\n",
    "Note that that $\\gamma$ has a simple relationship with the signficance level $\\alpha$:\n",
    "\n",
    "$$\\gamma = 1 - \\alpha$$\n",
    "\n",
    "So we could also say:\n",
    "\n",
    "$$z^* = - \\text{PPF}_z\\left(\\frac{\\alpha}{2}\\right) $$\n",
    "\n",
    "For a 95% CI, and thus $\\gamma = 0.95$ and $\\alpha=0.05$:\n",
    "\n",
    "$$z^*_{\\gamma=0.95} = z^*_{\\alpha=0.05} = -\\text{PPF}_z\\left(\\frac{0.05}{2}\\right)$$\n",
    "\n",
    "which evaluates to:"
   ]
  },
  {
   "cell_type": "code",
   "execution_count": 225,
   "metadata": {},
   "outputs": [
    {
     "name": "stdout",
     "output_type": "stream",
     "text": [
      "\n",
      "z*(95% CI):\t1.96\n",
      "\n"
     ]
    }
   ],
   "source": [
    "# Calculate critical value (z*):\n",
    "zs_95ci = -norm.ppf(0.05/2)\n",
    "print(f\"\\nz*(95% CI):\\t{zs_95ci.round(2)}\\n\")"
   ]
  },
  {
   "cell_type": "markdown",
   "metadata": {},
   "source": [
    "<div style=\"font-size:16px; font-family:Courier New;\">\n",
    "\n",
    "<br>**4. Margin of Error (MoE)**\n",
    "$$ \\text{MoE}_{0.95} = z^*_{0.95}\\left( \\frac{\\sigma}{\\sqrt{n}} \\right) $$\n",
    "\n",
    "Using $z^*_\\gamma$ assumes knowledge of the population standard deviation, $\\sigma$. However, for the sake of this exercise, we are pretending not to know this...  so using the sample standard deviation in place of this:\n",
    "\n",
    "$$ \\text{MoE}_{0.95} \\approx z^*_{0.95}\\left( \\frac{s}{\\sqrt{n}} \\right) $$"
   ]
  },
  {
   "cell_type": "code",
   "execution_count": 243,
   "metadata": {},
   "outputs": [
    {
     "name": "stdout",
     "output_type": "stream",
     "text": [
      "MoE(95% CI):\t1.1629\n",
      "\n"
     ]
    }
   ],
   "source": [
    "# Margin of error:\n",
    "moe95z = zs_95ci * h50std / np.sqrt(len(h50))\n",
    "print(f\"MoE(95% CI):\\t{moe95z.round(4)}\\n\")"
   ]
  },
  {
   "cell_type": "markdown",
   "metadata": {},
   "source": [
    "<div style=\"font-size:16px; font-family:Courier New;\">\n",
    "    \n",
    "<br>**5. Confidence Interval**\n",
    "$$ \\text{95\\% CI} = \\bar{x} \\pm \\text{MoE}_{0.95} $$"
   ]
  },
  {
   "cell_type": "code",
   "execution_count": 246,
   "metadata": {},
   "outputs": [
    {
     "name": "stdout",
     "output_type": "stream",
     "text": [
      "[171.6186, 173.9444]\n"
     ]
    }
   ],
   "source": [
    "# 95% CI using z*:\n",
    "ci95z = [h50avg - moe95z, h50avg + moe95z]\n",
    "print(list(np.array(ci95z).round(4)))"
   ]
  },
  {
   "cell_type": "markdown",
   "metadata": {},
   "source": [
    "<div style=\"font-size:16px; font-family:Courier New;\">\n",
    "    \n",
    "<br>**6. Verification**<br>\n",
    "Yes, the true population mean of 172cm is included within this interval."
   ]
  },
  {
   "cell_type": "code",
   "execution_count": 241,
   "metadata": {},
   "outputs": [
    {
     "data": {
      "text/plain": [
       "True"
      ]
     },
     "execution_count": 241,
     "metadata": {},
     "output_type": "execute_result"
    }
   ],
   "source": [
    "pop_mean = 172\n",
    "ci95z[0] < pop_mean < ci95z[1]"
   ]
  },
  {
   "cell_type": "markdown",
   "metadata": {},
   "source": [
    "<hr>\n",
    "\n",
    "__Q16:__ Above, we calculated the confidence interval using the critical z value. What is the problem with this? What requirement, or requirements, are we (strictly) failing?\n",
    "\n",
    "<hr style=\"height:1px;border-width:0\">"
   ]
  },
  {
   "cell_type": "markdown",
   "metadata": {},
   "source": [
    "__A:__"
   ]
  },
  {
   "cell_type": "markdown",
   "metadata": {},
   "source": [
    "<div style=\"font-size:16px; font-family:Courier New;\">\n",
    "\n",
    "Some general requirements for using $z^*$ are that:\n",
    "\n",
    "1. The data are roughly normally distributed, or at least the sampling distribution is.\n",
    "2. $ n \\ge 30 $\n",
    "3. The population standard deviation ($\\sigma$) is known.\n",
    "4. Data are randomly sampled.\n",
    "5. Data points are independent of each other.\n",
    "\n",
    "Since we are pretending to \"know nothing about the heights of people in our town\", we technically don't know if it is normally distributed (condition #1).\n",
    "\n",
    "Despite knowing the true population standard deviation, we are assuming we do not for this part of the exercise.  Thus, within the frame of this exercise, we are violating condition #3 by using the **z-distribution**.  In this case, it is more appropriate to use the **t-distribution**. \n",
    "\n",
    "Otherwise, the data were randomly sampled (#4), have no clear reason to be dependent on each other (#5), and are of size n=50 > 30 (#2).\n"
   ]
  },
  {
   "cell_type": "markdown",
   "metadata": {},
   "source": [
    "<hr>\n",
    "\n",
    "__Q17:__ Calculate the 95% confidence interval for the mean using the _t_ distribution. Is this wider or narrower than that based on the normal distribution above? If you're unsure, you may find this [resource](https://www.statisticshowto.datasciencecentral.com/probability-and-statistics/confidence-interval/) useful. For calculating the critical value, remember how you could calculate this for the normal distribution using norm.ppf().\n",
    "\n",
    "<hr style=\"height:1px;border-width:0\">"
   ]
  },
  {
   "cell_type": "markdown",
   "metadata": {},
   "source": [
    "__A:__"
   ]
  },
  {
   "cell_type": "markdown",
   "metadata": {},
   "source": [
    "<div style=\"font-size:16px; font-family:Courier New;\">\n",
    "\n",
    "The approach will be similar, but using $t^*$ instead of $z^*$ for the critical value.\n",
    "\n",
    "**1. Critical Value ($t^*$)**<br>\n",
    "In addition to $\\gamma$ or $\\alpha$, calculation of the critical value for a t-distribution requires an additional input &mdash; the degees of freedom (df):\n",
    "\n",
    "$$ t^* = - \\text{PPF}_t\\left(\\frac{\\alpha}{2},\\text{d.f.}\\right) $$\n",
    "\n",
    "where $\\text{d.f.} = n -1$\n",
    "\n",
    "NOTE: $n$ is the size of the **sample**, NOT the number of samples nor the population size (which is assumed to be unknown).\n",
    "\n",
    "Using ``scipy.stats.t.ppf()``, this evaluates to:"
   ]
  },
  {
   "cell_type": "code",
   "execution_count": 335,
   "metadata": {},
   "outputs": [
    {
     "name": "stdout",
     "output_type": "stream",
     "text": [
      "2.01\n"
     ]
    }
   ],
   "source": [
    "# Critical value t* for 95% CI:\n",
    "ts_95ci = - t.ppf( 0.05/2 , df = len(h50) - 1 )\n",
    "print(ts_95ci.round(2))"
   ]
  },
  {
   "cell_type": "markdown",
   "metadata": {},
   "source": [
    "<div style=\"font-size:16px; font-family:Courier New;\">\n",
    "    \n",
    "This is slightly greater than the $z^*$ of ~1.96 calculated earlier."
   ]
  },
  {
   "cell_type": "markdown",
   "metadata": {},
   "source": [
    "<div style=\"font-size:16px; font-family:Courier New;\">\n",
    "    \n",
    "<br>**2. Margin of Error (MoE)**\n",
    "\n",
    "Essentially, the only difference now is that we would be \"correct\" in using using $s$, since using a t-distribution implies you do not know $\\sigma$ in the first place:\n",
    "\n",
    "$$ \\text{MoE}_{\\gamma=0.95} = t^*_{\\gamma=0.95}\\left( \\frac{s}{\\sqrt{n}} \\right) $$"
   ]
  },
  {
   "cell_type": "code",
   "execution_count": 334,
   "metadata": {},
   "outputs": [
    {
     "name": "stdout",
     "output_type": "stream",
     "text": [
      "MoE(95% CI):\t1.1923\n",
      "\n"
     ]
    }
   ],
   "source": [
    "# Margin of error for 95% CI using t*:\n",
    "moe95t = ts_95ci * (h50std / np.sqrt(len(h50)))\n",
    "print(f\"MoE(95% CI):\\t{moe95t.round(4)}\\n\")"
   ]
  },
  {
   "cell_type": "markdown",
   "metadata": {},
   "source": [
    "<div style=\"font-size:16px; font-family:Courier New;\">\n",
    "    \n",
    "Given $t^* > z^*$ to a slight degree, this is unsuprisingly also slightly larger than ``moe95z`` = 1.1629 from earlier. "
   ]
  },
  {
   "cell_type": "markdown",
   "metadata": {},
   "source": [
    "**3. Confidence Interval**"
   ]
  },
  {
   "cell_type": "code",
   "execution_count": 247,
   "metadata": {},
   "outputs": [
    {
     "name": "stdout",
     "output_type": "stream",
     "text": [
      "[171.5892, 173.9738]\n"
     ]
    }
   ],
   "source": [
    "# 95% CI using t*:\n",
    "ci95t = [h50avg - moe95t, h50avg + moe95t]\n",
    "print(list(np.array(ci95t).round(4)))"
   ]
  },
  {
   "cell_type": "markdown",
   "metadata": {},
   "source": [
    "This is slightly wider than the previous confidence interval. This reflects the greater uncertainty given that we are estimating population parameters from a sample.\n",
    "\n",
    "<hr>"
   ]
  },
  {
   "cell_type": "markdown",
   "metadata": {},
   "source": [
    "## 4. Learning outcomes"
   ]
  },
  {
   "cell_type": "markdown",
   "metadata": {},
   "source": [
    "Having completed this project notebook, you now have hands-on experience:\n",
    "* sampling and calculating probabilities from a normal distribution\n",
    "* identifying the correct way to estimate the standard deviation of a population (the population parameter) from a sample\n",
    "* with sampling distribution and now know how the Central Limit Theorem applies\n",
    "* with how to calculate critical values and confidence intervals"
   ]
  }
 ],
 "metadata": {
  "kernelspec": {
   "display_name": "Python 3 (ipykernel)",
   "language": "python",
   "name": "python3"
  },
  "language_info": {
   "codemirror_mode": {
    "name": "ipython",
    "version": 3
   },
   "file_extension": ".py",
   "mimetype": "text/x-python",
   "name": "python",
   "nbconvert_exporter": "python",
   "pygments_lexer": "ipython3",
   "version": "3.12.7"
  }
 },
 "nbformat": 4,
 "nbformat_minor": 4
}
