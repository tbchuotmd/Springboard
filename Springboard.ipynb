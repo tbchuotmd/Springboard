{
 "cells": [
  {
   "cell_type": "code",
   "execution_count": null,
   "id": "31bb3cd9-d9fd-41f8-8b9f-2b1293bacdff",
   "metadata": {},
   "outputs": [],
   "source": [
    "# 3.2 -- LISTS --"
   ]
  },
  {
   "cell_type": "code",
   "execution_count": 56,
   "id": "6d277449-e29e-4272-9f42-1b66d8fd7637",
   "metadata": {},
   "outputs": [
    {
     "name": "stdout",
     "output_type": "stream",
     "text": [
      "[3, 10, -1]\n"
     ]
    }
   ],
   "source": [
    "a = [3,10,-1] # define list with values 3, 10 and -1\n",
    "\n",
    "print(a)"
   ]
  },
  {
   "cell_type": "code",
   "execution_count": 57,
   "id": "88db9beb-a74e-47f1-8a15-2c68ff793af6",
   "metadata": {},
   "outputs": [
    {
     "name": "stdout",
     "output_type": "stream",
     "text": [
      "[3, 10, -1, 'hello']\n"
     ]
    }
   ],
   "source": [
    "a.append(\"hello\") #insert value \"hello\" at the end of the list\n",
    "\n",
    "print(a)"
   ]
  },
  {
   "cell_type": "code",
   "execution_count": 58,
   "id": "1e1a2e13-aab8-40aa-a736-8e95e83f8036",
   "metadata": {},
   "outputs": [
    {
     "name": "stdout",
     "output_type": "stream",
     "text": [
      "[3, 10, -1]\n"
     ]
    }
   ],
   "source": [
    "a.pop() # deletes the last item in the list\n",
    "\n",
    "print(a)"
   ]
  },
  {
   "cell_type": "code",
   "execution_count": 59,
   "id": "fc658504-75f8-4c9f-8c0a-6e00e1bead05",
   "metadata": {},
   "outputs": [
    {
     "name": "stdout",
     "output_type": "stream",
     "text": [
      "[4, 10, -1]\n"
     ]
    }
   ],
   "source": [
    "a[0] = 4 #reassigns the first item from 3 to 4\n",
    "\n",
    "print(a)"
   ]
  },
  {
   "cell_type": "code",
   "execution_count": 60,
   "id": "78c39eaa-e785-4897-9bfb-65b505d0b3bf",
   "metadata": {},
   "outputs": [
    {
     "name": "stdout",
     "output_type": "stream",
     "text": [
      "['new first item', 4, 10, -1]\n"
     ]
    }
   ],
   "source": [
    "a.insert(0,\"new first item\") #insert string value at index 0\n",
    "\n",
    "print(a)"
   ]
  },
  {
   "cell_type": "code",
   "execution_count": 61,
   "id": "4425877a-705e-4013-83df-554bf04f0b3f",
   "metadata": {},
   "outputs": [
    {
     "name": "stdout",
     "output_type": "stream",
     "text": [
      "[4, 10, -1]\n"
     ]
    }
   ],
   "source": [
    "# removing items using .remove() string method\n",
    "a.remove(a[0])\n",
    "\n",
    "print(a)"
   ]
  },
  {
   "cell_type": "code",
   "execution_count": 62,
   "id": "4a538fc4-c1e8-4520-92af-ea8e65ddbc3c",
   "metadata": {},
   "outputs": [
    {
     "name": "stdout",
     "output_type": "stream",
     "text": [
      "[10, -1]\n"
     ]
    }
   ],
   "source": [
    "# removing items using del keyword\n",
    "del a[0]\n",
    "\n",
    "print(a)"
   ]
  },
  {
   "cell_type": "code",
   "execution_count": 54,
   "id": "9c623746-c1d1-4874-ad33-2fdcb3245902",
   "metadata": {},
   "outputs": [],
   "source": [
    "a.insert(10,2) # specifying an index out of range - python automatically gives it a lower index?\n",
    "\n",
    "#print(a[10])\n",
    "#print(a[-1])"
   ]
  },
  {
   "cell_type": "code",
   "execution_count": 44,
   "id": "f34142c3-e12c-483f-b74d-cd33018ec4c2",
   "metadata": {},
   "outputs": [
    {
     "name": "stdout",
     "output_type": "stream",
     "text": [
      "['orange', 'orange', 'orange']\n"
     ]
    }
   ],
   "source": [
    "# Since assigning a = b actually assigns b to whatever value a was most RECENTLY assigned to\n",
    "# you can't swap items in a list using simple reassignment, as seen below:\n",
    "\n",
    "b = [\"banana\",\"apple\",\"orange\"]\n",
    "\n",
    "b[0]=b[2] # now b[0] = \"orange\"\n",
    "b[1]=b[0] # since b[0] most recently assigned to \"orange\", then b[1] will also be assigned to that\n",
    "b[2]=b[1] # same thing happens here\n",
    "\n",
    "\n",
    "# result is they all get the original value of b[2] instead of swapping values:\n",
    "print(b)"
   ]
  },
  {
   "cell_type": "code",
   "execution_count": 45,
   "id": "858731ca-eb71-4a7f-bf6d-66c0ca41fb04",
   "metadata": {},
   "outputs": [
    {
     "name": "stdout",
     "output_type": "stream",
     "text": [
      "['orange', 'banana', 'apple']\n"
     ]
    }
   ],
   "source": [
    "# One way of swapping values requires a temporary placeholder for one of the variables:\n",
    "\n",
    "b = [\"banana\",\"apple\",\"orange\"]\n",
    "\n",
    "temp_b0 = b[0]\n",
    "b[0]=b[2]\n",
    "b[2]=b[1]\n",
    "b[1] = temp_b0\n",
    "\n",
    "print(b)\n"
   ]
  },
  {
   "cell_type": "code",
   "execution_count": 47,
   "id": "209873d7-bcf2-4a20-8e3d-857ccdb753a5",
   "metadata": {},
   "outputs": [
    {
     "name": "stdout",
     "output_type": "stream",
     "text": [
      "['orange', 'banana', 'apple']\n"
     ]
    }
   ],
   "source": [
    "# Another way of swapping values is something like unpacking?\n",
    "\n",
    "b = [\"banana\",\"apple\",\"orange\"]\n",
    "\n",
    "b[0],b[1],b[2] = b[2],b[0],b[1]\n",
    "\n",
    "print(b)"
   ]
  },
  {
   "cell_type": "code",
   "execution_count": 63,
   "id": "c79cf328-55b7-4924-a575-20716ac18836",
   "metadata": {},
   "outputs": [],
   "source": [
    "# -- FUNCTIONS & PACKAGES --"
   ]
  },
  {
   "cell_type": "code",
   "execution_count": null,
   "id": "41f17695-7f6d-4194-b7d0-9c36960bc424",
   "metadata": {},
   "outputs": [],
   "source": []
  }
 ],
 "metadata": {
  "kernelspec": {
   "display_name": "Python 3 (ipykernel)",
   "language": "python",
   "name": "python3"
  },
  "language_info": {
   "codemirror_mode": {
    "name": "ipython",
    "version": 3
   },
   "file_extension": ".py",
   "mimetype": "text/x-python",
   "name": "python",
   "nbconvert_exporter": "python",
   "pygments_lexer": "ipython3",
   "version": "3.12.7"
  }
 },
 "nbformat": 4,
 "nbformat_minor": 5
}
